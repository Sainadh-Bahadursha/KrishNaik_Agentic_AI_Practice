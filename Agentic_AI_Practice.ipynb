{
 "cells": [
  {
   "cell_type": "markdown",
   "id": "7e93ba2a",
   "metadata": {},
   "source": [
    "# Pydantic"
   ]
  },
  {
   "cell_type": "markdown",
   "id": "e9ea31f5",
   "metadata": {},
   "source": [
    "## data classes"
   ]
  },
  {
   "cell_type": "code",
   "execution_count": 1,
   "id": "ac357e9d",
   "metadata": {},
   "outputs": [],
   "source": [
    "from dataclasses import dataclass\n",
    "\n",
    "@dataclass\n",
    "class Person():\n",
    "    name:str\n",
    "    age:int\n",
    "    city:str"
   ]
  },
  {
   "cell_type": "code",
   "execution_count": 2,
   "id": "d9286c21",
   "metadata": {},
   "outputs": [
    {
     "name": "stdout",
     "output_type": "stream",
     "text": [
      "Person(name='Krish', age=35, city='Bangalore')\n"
     ]
    }
   ],
   "source": [
    "person=Person(name=\"Krish\",age=35,city=\"Bangalore\")\n",
    "print(person)"
   ]
  },
  {
   "cell_type": "code",
   "execution_count": 3,
   "id": "8c41bb6d",
   "metadata": {},
   "outputs": [
    {
     "name": "stdout",
     "output_type": "stream",
     "text": [
      "Person(name='Krish', age=35, city=35)\n"
     ]
    }
   ],
   "source": [
    "person=Person(name=\"Krish\",age=35,city=35)\n",
    "print(person)"
   ]
  },
  {
   "cell_type": "markdown",
   "id": "94dc1864",
   "metadata": {},
   "source": [
    "Strict type checking was not performed by \"dataclasses\""
   ]
  },
  {
   "cell_type": "markdown",
   "id": "e4363d82",
   "metadata": {},
   "source": [
    "## Pydantic"
   ]
  },
  {
   "cell_type": "code",
   "execution_count": 4,
   "id": "d3e31062",
   "metadata": {},
   "outputs": [],
   "source": [
    "from pydantic import BaseModel"
   ]
  },
  {
   "cell_type": "code",
   "execution_count": 5,
   "id": "6e9c229a",
   "metadata": {},
   "outputs": [
    {
     "name": "stdout",
     "output_type": "stream",
     "text": [
      "name='Krish' age=35 city='Bangalore'\n"
     ]
    }
   ],
   "source": [
    "class Person1(BaseModel):\n",
    "    name:str\n",
    "    age:int\n",
    "    city:str\n",
    "\n",
    "person=Person1(name=\"Krish\",age=35,city=\"Bangalore\")\n",
    "print(person)"
   ]
  },
  {
   "cell_type": "code",
   "execution_count": null,
   "id": "d4a496e9",
   "metadata": {},
   "outputs": [
    {
     "ename": "ValidationError",
     "evalue": "1 validation error for Person1\ncity\n  Input should be a valid string [type=string_type, input_value=35, input_type=int]\n    For further information visit https://errors.pydantic.dev/2.11/v/string_type",
     "output_type": "error",
     "traceback": [
      "\u001b[31m---------------------------------------------------------------------------\u001b[39m",
      "\u001b[31mValidationError\u001b[39m                           Traceback (most recent call last)",
      "\u001b[36mCell\u001b[39m\u001b[36m \u001b[39m\u001b[32mIn[6]\u001b[39m\u001b[32m, line 1\u001b[39m\n\u001b[32m----> \u001b[39m\u001b[32m1\u001b[39m person1=\u001b[43mPerson1\u001b[49m\u001b[43m(\u001b[49m\u001b[43mname\u001b[49m\u001b[43m=\u001b[49m\u001b[33;43m\"\u001b[39;49m\u001b[33;43mKrish\u001b[39;49m\u001b[33;43m\"\u001b[39;49m\u001b[43m,\u001b[49m\u001b[43mage\u001b[49m\u001b[43m=\u001b[49m\u001b[32;43m35\u001b[39;49m\u001b[43m,\u001b[49m\u001b[43mcity\u001b[49m\u001b[43m=\u001b[49m\u001b[32;43m35\u001b[39;49m\u001b[43m)\u001b[49m\n\u001b[32m      2\u001b[39m \u001b[38;5;28mprint\u001b[39m(person1)\n",
      "\u001b[36mFile \u001b[39m\u001b[32mc:\\Users\\saina\\.conda\\envs\\agentic_2_base\\Lib\\site-packages\\pydantic\\main.py:253\u001b[39m, in \u001b[36mBaseModel.__init__\u001b[39m\u001b[34m(self, **data)\u001b[39m\n\u001b[32m    251\u001b[39m \u001b[38;5;66;03m# `__tracebackhide__` tells pytest and some other tools to omit this function from tracebacks\u001b[39;00m\n\u001b[32m    252\u001b[39m __tracebackhide__ = \u001b[38;5;28;01mTrue\u001b[39;00m\n\u001b[32m--> \u001b[39m\u001b[32m253\u001b[39m validated_self = \u001b[38;5;28;43mself\u001b[39;49m\u001b[43m.\u001b[49m\u001b[43m__pydantic_validator__\u001b[49m\u001b[43m.\u001b[49m\u001b[43mvalidate_python\u001b[49m\u001b[43m(\u001b[49m\u001b[43mdata\u001b[49m\u001b[43m,\u001b[49m\u001b[43m \u001b[49m\u001b[43mself_instance\u001b[49m\u001b[43m=\u001b[49m\u001b[38;5;28;43mself\u001b[39;49m\u001b[43m)\u001b[49m\n\u001b[32m    254\u001b[39m \u001b[38;5;28;01mif\u001b[39;00m \u001b[38;5;28mself\u001b[39m \u001b[38;5;129;01mis\u001b[39;00m \u001b[38;5;129;01mnot\u001b[39;00m validated_self:\n\u001b[32m    255\u001b[39m     warnings.warn(\n\u001b[32m    256\u001b[39m         \u001b[33m'\u001b[39m\u001b[33mA custom validator is returning a value other than `self`.\u001b[39m\u001b[38;5;130;01m\\n\u001b[39;00m\u001b[33m'\u001b[39m\n\u001b[32m    257\u001b[39m         \u001b[33m\"\u001b[39m\u001b[33mReturning anything other than `self` from a top level model validator isn\u001b[39m\u001b[33m'\u001b[39m\u001b[33mt supported when validating via `__init__`.\u001b[39m\u001b[38;5;130;01m\\n\u001b[39;00m\u001b[33m\"\u001b[39m\n\u001b[32m    258\u001b[39m         \u001b[33m'\u001b[39m\u001b[33mSee the `model_validator` docs (https://docs.pydantic.dev/latest/concepts/validators/#model-validators) for more details.\u001b[39m\u001b[33m'\u001b[39m,\n\u001b[32m    259\u001b[39m         stacklevel=\u001b[32m2\u001b[39m,\n\u001b[32m    260\u001b[39m     )\n",
      "\u001b[31mValidationError\u001b[39m: 1 validation error for Person1\ncity\n  Input should be a valid string [type=string_type, input_value=35, input_type=int]\n    For further information visit https://errors.pydantic.dev/2.11/v/string_type"
     ]
    }
   ],
   "source": [
    "# person1=Person1(name=\"Krish\",age=35,city=35)\n",
    "# print(person1)"
   ]
  },
  {
   "cell_type": "markdown",
   "id": "6161c2e0",
   "metadata": {},
   "source": [
    "---------------------------------------------------------------------------\n",
    "ValidationError                           Traceback (most recent call last)\n",
    "Cell In[6], line 1\n",
    "----> 1 person1=Person1(name=\"Krish\",age=35,city=35)\n",
    "      2 print(person1)\n",
    "\n",
    "File c:\\Users\\saina\\.conda\\envs\\agentic_2_base\\Lib\\site-packages\\pydantic\\main.py:253, in BaseModel.__init__(self, **data)\n",
    "    251 # `__tracebackhide__` tells pytest and some other tools to omit this function from tracebacks\n",
    "    252 __tracebackhide__ = True\n",
    "--> 253 validated_self = self.__pydantic_validator__.validate_python(data, self_instance=self)\n",
    "    254 if self is not validated_self:\n",
    "    255     warnings.warn(\n",
    "    256         'A custom validator is returning a value other than `self`.\\n'\n",
    "    257         \"Returning anything other than `self` from a top level model validator isn't supported when validating via `__init__`.\\n\"\n",
    "    258         'See the `model_validator` docs (https://docs.pydantic.dev/latest/concepts/validators/#model-validators) for more details.',\n",
    "    259         stacklevel=2,\n",
    "    260     )\n",
    "\n",
    "ValidationError: 1 validation error for Person1\n",
    "city\n",
    "  Input should be a valid string [type=string_type, input_value=35, input_type=int]\n",
    "    For further information visit https://errors.pydantic.dev/2.11/v/string_type"
   ]
  },
  {
   "cell_type": "markdown",
   "id": "897724d2",
   "metadata": {},
   "source": [
    "pydantic does strict type checking"
   ]
  },
  {
   "cell_type": "code",
   "execution_count": 7,
   "id": "2c2fbecd",
   "metadata": {},
   "outputs": [
    {
     "name": "stdout",
     "output_type": "stream",
     "text": [
      "name='Krish' age=35 city='35'\n"
     ]
    }
   ],
   "source": [
    "person2=Person1(name=\"Krish\",age=35,city=\"35\")\n",
    "print(person2)"
   ]
  },
  {
   "cell_type": "markdown",
   "id": "d1502411",
   "metadata": {},
   "source": [
    "As \"35\" is string, Pydantic accepted 35 into city"
   ]
  },
  {
   "cell_type": "markdown",
   "id": "c6f7c749",
   "metadata": {},
   "source": [
    "## Model with Optional Fields"
   ]
  },
  {
   "cell_type": "code",
   "execution_count": 8,
   "id": "3f4cc801",
   "metadata": {},
   "outputs": [],
   "source": [
    "from typing import Optional\n",
    "class Employee(BaseModel):\n",
    "    id:int\n",
    "    name:str\n",
    "    department:str\n",
    "    salary:Optional[float] = None #Optional with default value\n",
    "    is_active:Optional[bool] = True #Optional with default value"
   ]
  },
  {
   "cell_type": "code",
   "execution_count": 9,
   "id": "62307795",
   "metadata": {},
   "outputs": [
    {
     "name": "stdout",
     "output_type": "stream",
     "text": [
      "id=1 name='John' department='CS' salary=None is_active=True\n"
     ]
    }
   ],
   "source": [
    "emp1=Employee(id=1,name=\"John\",department=\"CS\")\n",
    "print(emp1)"
   ]
  },
  {
   "cell_type": "markdown",
   "id": "dceff0c7",
   "metadata": {},
   "source": [
    "Default values are taken in above instance"
   ]
  },
  {
   "cell_type": "code",
   "execution_count": 10,
   "id": "06904437",
   "metadata": {},
   "outputs": [
    {
     "name": "stdout",
     "output_type": "stream",
     "text": [
      "id=2 name='Krish' department='CS' salary=30000.0 is_active=True\n"
     ]
    }
   ],
   "source": [
    "emp2=Employee(id=2,name=\"Krish\",department=\"CS\",salary=\"30000\")\n",
    "print(emp2)"
   ]
  },
  {
   "cell_type": "markdown",
   "id": "86970e66",
   "metadata": {},
   "source": [
    "feasible type casting is able to done by pydantic"
   ]
  },
  {
   "cell_type": "markdown",
   "id": "dbb36748",
   "metadata": {},
   "source": [
    "Definition:\n",
    "- Optional[type]: Indicates the field can be None\n",
    "\n",
    "- Default value (= None or = True): Makes the field optional\n",
    "\n",
    "- Required fields must still be provided\n",
    "\n",
    "- Pydantic validates types even for optional fields when values are provided"
   ]
  },
  {
   "cell_type": "code",
   "execution_count": 11,
   "id": "e42ef9d3",
   "metadata": {},
   "outputs": [
    {
     "name": "stdout",
     "output_type": "stream",
     "text": [
      "id=2 name='Krish' department='CS' salary=30000.0 is_active=True\n"
     ]
    }
   ],
   "source": [
    "emp3=Employee(id=2,name=\"Krish\",department=\"CS\",salary=\"30000\",is_active=1)\n",
    "print(emp3)"
   ]
  },
  {
   "cell_type": "code",
   "execution_count": 12,
   "id": "c28742eb",
   "metadata": {},
   "outputs": [],
   "source": [
    "from typing import List\n",
    "\n",
    "class Classroom(BaseModel):\n",
    "    room_number:str\n",
    "    students: List[str] #List of strings\n",
    "    capacity:int"
   ]
  },
  {
   "cell_type": "markdown",
   "id": "f0bfe0f2",
   "metadata": {},
   "source": [
    "we can give data structures like list in data type of variables in pydantic"
   ]
  },
  {
   "cell_type": "code",
   "execution_count": 13,
   "id": "47b2844e",
   "metadata": {},
   "outputs": [
    {
     "name": "stdout",
     "output_type": "stream",
     "text": [
      "room_number='A101' students=['Alice', 'Bob', 'Charlie'] capacity=30\n"
     ]
    }
   ],
   "source": [
    "# Create a classroom\n",
    "classroom = Classroom(\n",
    "    room_number=\"A101\",\n",
    "    students=(\"Alice\", \"Bob\", \"Charlie\"),\n",
    "    capacity=30\n",
    ")\n",
    "print(classroom)"
   ]
  },
  {
   "cell_type": "markdown",
   "id": "27236920",
   "metadata": {},
   "source": [
    "tuple converted to list by type casting."
   ]
  },
  {
   "cell_type": "code",
   "execution_count": null,
   "id": "334fa327",
   "metadata": {},
   "outputs": [],
   "source": [
    "list((\"Alice\", \"Bob\", \"Charlie\"))"
   ]
  },
  {
   "cell_type": "code",
   "execution_count": null,
   "id": "3ed660c0",
   "metadata": {},
   "outputs": [
    {
     "ename": "ValidationError",
     "evalue": "1 validation error for Classroom\nstudents.1\n  Input should be a valid string [type=string_type, input_value=123, input_type=int]\n    For further information visit https://errors.pydantic.dev/2.11/v/string_type",
     "output_type": "error",
     "traceback": [
      "\u001b[31m---------------------------------------------------------------------------\u001b[39m",
      "\u001b[31mValidationError\u001b[39m                           Traceback (most recent call last)",
      "\u001b[36mCell\u001b[39m\u001b[36m \u001b[39m\u001b[32mIn[14]\u001b[39m\u001b[32m, line 2\u001b[39m\n\u001b[32m      1\u001b[39m \u001b[38;5;66;03m# Create a classroom\u001b[39;00m\n\u001b[32m----> \u001b[39m\u001b[32m2\u001b[39m classroom1 = \u001b[43mClassroom\u001b[49m\u001b[43m(\u001b[49m\n\u001b[32m      3\u001b[39m \u001b[43m    \u001b[49m\u001b[43mroom_number\u001b[49m\u001b[43m=\u001b[49m\u001b[33;43m\"\u001b[39;49m\u001b[33;43mA101\u001b[39;49m\u001b[33;43m\"\u001b[39;49m\u001b[43m,\u001b[49m\n\u001b[32m      4\u001b[39m \u001b[43m    \u001b[49m\u001b[43mstudents\u001b[49m\u001b[43m=\u001b[49m\u001b[43m(\u001b[49m\u001b[33;43m\"\u001b[39;49m\u001b[33;43mAlice\u001b[39;49m\u001b[33;43m\"\u001b[39;49m\u001b[43m,\u001b[49m\u001b[43m \u001b[49m\u001b[32;43m123\u001b[39;49m\u001b[43m,\u001b[49m\u001b[43m \u001b[49m\u001b[33;43m\"\u001b[39;49m\u001b[33;43mCharlie\u001b[39;49m\u001b[33;43m\"\u001b[39;49m\u001b[43m)\u001b[49m\u001b[43m,\u001b[49m\n\u001b[32m      5\u001b[39m \u001b[43m    \u001b[49m\u001b[43mcapacity\u001b[49m\u001b[43m=\u001b[49m\u001b[32;43m30\u001b[39;49m\n\u001b[32m      6\u001b[39m \u001b[43m)\u001b[49m\n\u001b[32m      7\u001b[39m \u001b[38;5;28mprint\u001b[39m(classroom1)\n",
      "\u001b[36mFile \u001b[39m\u001b[32mc:\\Users\\saina\\.conda\\envs\\agentic_2_base\\Lib\\site-packages\\pydantic\\main.py:253\u001b[39m, in \u001b[36mBaseModel.__init__\u001b[39m\u001b[34m(self, **data)\u001b[39m\n\u001b[32m    251\u001b[39m \u001b[38;5;66;03m# `__tracebackhide__` tells pytest and some other tools to omit this function from tracebacks\u001b[39;00m\n\u001b[32m    252\u001b[39m __tracebackhide__ = \u001b[38;5;28;01mTrue\u001b[39;00m\n\u001b[32m--> \u001b[39m\u001b[32m253\u001b[39m validated_self = \u001b[38;5;28;43mself\u001b[39;49m\u001b[43m.\u001b[49m\u001b[43m__pydantic_validator__\u001b[49m\u001b[43m.\u001b[49m\u001b[43mvalidate_python\u001b[49m\u001b[43m(\u001b[49m\u001b[43mdata\u001b[49m\u001b[43m,\u001b[49m\u001b[43m \u001b[49m\u001b[43mself_instance\u001b[49m\u001b[43m=\u001b[49m\u001b[38;5;28;43mself\u001b[39;49m\u001b[43m)\u001b[49m\n\u001b[32m    254\u001b[39m \u001b[38;5;28;01mif\u001b[39;00m \u001b[38;5;28mself\u001b[39m \u001b[38;5;129;01mis\u001b[39;00m \u001b[38;5;129;01mnot\u001b[39;00m validated_self:\n\u001b[32m    255\u001b[39m     warnings.warn(\n\u001b[32m    256\u001b[39m         \u001b[33m'\u001b[39m\u001b[33mA custom validator is returning a value other than `self`.\u001b[39m\u001b[38;5;130;01m\\n\u001b[39;00m\u001b[33m'\u001b[39m\n\u001b[32m    257\u001b[39m         \u001b[33m\"\u001b[39m\u001b[33mReturning anything other than `self` from a top level model validator isn\u001b[39m\u001b[33m'\u001b[39m\u001b[33mt supported when validating via `__init__`.\u001b[39m\u001b[38;5;130;01m\\n\u001b[39;00m\u001b[33m\"\u001b[39m\n\u001b[32m    258\u001b[39m         \u001b[33m'\u001b[39m\u001b[33mSee the `model_validator` docs (https://docs.pydantic.dev/latest/concepts/validators/#model-validators) for more details.\u001b[39m\u001b[33m'\u001b[39m,\n\u001b[32m    259\u001b[39m         stacklevel=\u001b[32m2\u001b[39m,\n\u001b[32m    260\u001b[39m     )\n",
      "\u001b[31mValidationError\u001b[39m: 1 validation error for Classroom\nstudents.1\n  Input should be a valid string [type=string_type, input_value=123, input_type=int]\n    For further information visit https://errors.pydantic.dev/2.11/v/string_type"
     ]
    }
   ],
   "source": [
    "# # Create a classroom\n",
    "# classroom1 = Classroom(\n",
    "#     room_number=\"A101\",\n",
    "#     students=(\"Alice\", 123, \"Charlie\"),\n",
    "#     capacity=30\n",
    "# )\n",
    "# print(classroom1)"
   ]
  },
  {
   "cell_type": "markdown",
   "id": "2d505a4f",
   "metadata": {},
   "source": [
    "---------------------------------------------------------------------------\n",
    "ValidationError                           Traceback (most recent call last)\n",
    "Cell In[14], line 2\n",
    "      1 # Create a classroom\n",
    "----> 2 classroom1 = Classroom(\n",
    "      3     room_number=\"A101\",\n",
    "      4     students=(\"Alice\", 123, \"Charlie\"),\n",
    "      5     capacity=30\n",
    "      6 )\n",
    "      7 print(classroom1)\n",
    "\n",
    "File c:\\Users\\saina\\.conda\\envs\\agentic_2_base\\Lib\\site-packages\\pydantic\\main.py:253, in BaseModel.__init__(self, **data)\n",
    "    251 # `__tracebackhide__` tells pytest and some other tools to omit this function from tracebacks\n",
    "    252 __tracebackhide__ = True\n",
    "--> 253 validated_self = self.__pydantic_validator__.validate_python(data, self_instance=self)\n",
    "    254 if self is not validated_self:\n",
    "    255     warnings.warn(\n",
    "    256         'A custom validator is returning a value other than `self`.\\n'\n",
    "    257         \"Returning anything other than `self` from a top level model validator isn't supported when validating via `__init__`.\\n\"\n",
    "    258         'See the `model_validator` docs (https://docs.pydantic.dev/latest/concepts/validators/#model-validators) for more details.',\n",
    "    259         stacklevel=2,\n",
    "    260     )\n",
    "\n",
    "ValidationError: 1 validation error for Classroom\n",
    "students.1\n",
    "  Input should be a valid string [type=string_type, input_value=123, input_type=int]\n",
    "    For further information visit https://errors.pydantic.dev/2.11/v/string_type"
   ]
  },
  {
   "cell_type": "markdown",
   "id": "4cb00db3",
   "metadata": {},
   "source": [
    "list of strings only are accepted. So validation error"
   ]
  },
  {
   "cell_type": "code",
   "execution_count": 15,
   "id": "bc433632",
   "metadata": {},
   "outputs": [
    {
     "name": "stdout",
     "output_type": "stream",
     "text": [
      "1 validation error for Classroom\n",
      "students.1\n",
      "  Input should be a valid string [type=string_type, input_value=123, input_type=int]\n",
      "    For further information visit https://errors.pydantic.dev/2.11/v/string_type\n"
     ]
    }
   ],
   "source": [
    "try:\n",
    "    invalid_val=Classroom(room_number=\"A1\",students=[\"Krish\",123],capacity=30)\n",
    "\n",
    "except Exception as e:\n",
    "    print(e)"
   ]
  },
  {
   "cell_type": "markdown",
   "id": "b4849c06",
   "metadata": {},
   "source": [
    "use try except block to print the concise error and does not stop the execution of notebook"
   ]
  },
  {
   "cell_type": "markdown",
   "id": "8d212b50",
   "metadata": {},
   "source": [
    "## Model with Nested Models"
   ]
  },
  {
   "cell_type": "code",
   "execution_count": 16,
   "id": "6ebf38c2",
   "metadata": {},
   "outputs": [],
   "source": [
    "from pydantic import BaseModel\n",
    "\n",
    "class Address(BaseModel):\n",
    "    street:str\n",
    "    city:str\n",
    "    zip_code:str\n",
    "\n",
    "class Customer(BaseModel):\n",
    "    customer_id:int\n",
    "    name:str\n",
    "    address:Address  ## Nested Model"
   ]
  },
  {
   "cell_type": "code",
   "execution_count": 17,
   "id": "9d577d07",
   "metadata": {},
   "outputs": [
    {
     "name": "stdout",
     "output_type": "stream",
     "text": [
      "customer_id=1 name='Krish' address=Address(street='Main street', city='Boston', zip_code='02108')\n"
     ]
    }
   ],
   "source": [
    "customer=Customer(customer_id=1,name=\"Krish\",\n",
    "                  address={\"street\":\"Main street\",\"city\":\"Boston\",\"zip_code\":\"02108\"})\n",
    "\n",
    "print(customer)"
   ]
  },
  {
   "cell_type": "markdown",
   "id": "ccc2e83d",
   "metadata": {},
   "source": [
    "In nested model, dictionary should be used while instantiating."
   ]
  },
  {
   "cell_type": "code",
   "execution_count": null,
   "id": "9a7beffe",
   "metadata": {},
   "outputs": [
    {
     "ename": "ValidationError",
     "evalue": "1 validation error for Customer\naddress.city\n  Input should be a valid string [type=string_type, input_value=123, input_type=int]\n    For further information visit https://errors.pydantic.dev/2.11/v/string_type",
     "output_type": "error",
     "traceback": [
      "\u001b[31m---------------------------------------------------------------------------\u001b[39m",
      "\u001b[31mValidationError\u001b[39m                           Traceback (most recent call last)",
      "\u001b[36mCell\u001b[39m\u001b[36m \u001b[39m\u001b[32mIn[18]\u001b[39m\u001b[32m, line 1\u001b[39m\n\u001b[32m----> \u001b[39m\u001b[32m1\u001b[39m customer=\u001b[43mCustomer\u001b[49m\u001b[43m(\u001b[49m\u001b[43mcustomer_id\u001b[49m\u001b[43m=\u001b[49m\u001b[32;43m1\u001b[39;49m\u001b[43m,\u001b[49m\u001b[43mname\u001b[49m\u001b[43m=\u001b[49m\u001b[33;43m\"\u001b[39;49m\u001b[33;43mKrish\u001b[39;49m\u001b[33;43m\"\u001b[39;49m\u001b[43m,\u001b[49m\n\u001b[32m      2\u001b[39m \u001b[43m                  \u001b[49m\u001b[43maddress\u001b[49m\u001b[43m=\u001b[49m\u001b[43m{\u001b[49m\u001b[33;43m\"\u001b[39;49m\u001b[33;43mstreet\u001b[39;49m\u001b[33;43m\"\u001b[39;49m\u001b[43m:\u001b[49m\u001b[33;43m\"\u001b[39;49m\u001b[33;43mMain street\u001b[39;49m\u001b[33;43m\"\u001b[39;49m\u001b[43m,\u001b[49m\u001b[33;43m\"\u001b[39;49m\u001b[33;43mcity\u001b[39;49m\u001b[33;43m\"\u001b[39;49m\u001b[43m:\u001b[49m\u001b[32;43m123\u001b[39;49m\u001b[43m,\u001b[49m\u001b[33;43m\"\u001b[39;49m\u001b[33;43mzip_code\u001b[39;49m\u001b[33;43m\"\u001b[39;49m\u001b[43m:\u001b[49m\u001b[33;43m\"\u001b[39;49m\u001b[33;43m02108\u001b[39;49m\u001b[33;43m\"\u001b[39;49m\u001b[43m}\u001b[49m\u001b[43m)\u001b[49m\n\u001b[32m      4\u001b[39m \u001b[38;5;28mprint\u001b[39m(customer)\n",
      "\u001b[36mFile \u001b[39m\u001b[32mc:\\Users\\saina\\.conda\\envs\\agentic_2_base\\Lib\\site-packages\\pydantic\\main.py:253\u001b[39m, in \u001b[36mBaseModel.__init__\u001b[39m\u001b[34m(self, **data)\u001b[39m\n\u001b[32m    251\u001b[39m \u001b[38;5;66;03m# `__tracebackhide__` tells pytest and some other tools to omit this function from tracebacks\u001b[39;00m\n\u001b[32m    252\u001b[39m __tracebackhide__ = \u001b[38;5;28;01mTrue\u001b[39;00m\n\u001b[32m--> \u001b[39m\u001b[32m253\u001b[39m validated_self = \u001b[38;5;28;43mself\u001b[39;49m\u001b[43m.\u001b[49m\u001b[43m__pydantic_validator__\u001b[49m\u001b[43m.\u001b[49m\u001b[43mvalidate_python\u001b[49m\u001b[43m(\u001b[49m\u001b[43mdata\u001b[49m\u001b[43m,\u001b[49m\u001b[43m \u001b[49m\u001b[43mself_instance\u001b[49m\u001b[43m=\u001b[49m\u001b[38;5;28;43mself\u001b[39;49m\u001b[43m)\u001b[49m\n\u001b[32m    254\u001b[39m \u001b[38;5;28;01mif\u001b[39;00m \u001b[38;5;28mself\u001b[39m \u001b[38;5;129;01mis\u001b[39;00m \u001b[38;5;129;01mnot\u001b[39;00m validated_self:\n\u001b[32m    255\u001b[39m     warnings.warn(\n\u001b[32m    256\u001b[39m         \u001b[33m'\u001b[39m\u001b[33mA custom validator is returning a value other than `self`.\u001b[39m\u001b[38;5;130;01m\\n\u001b[39;00m\u001b[33m'\u001b[39m\n\u001b[32m    257\u001b[39m         \u001b[33m\"\u001b[39m\u001b[33mReturning anything other than `self` from a top level model validator isn\u001b[39m\u001b[33m'\u001b[39m\u001b[33mt supported when validating via `__init__`.\u001b[39m\u001b[38;5;130;01m\\n\u001b[39;00m\u001b[33m\"\u001b[39m\n\u001b[32m    258\u001b[39m         \u001b[33m'\u001b[39m\u001b[33mSee the `model_validator` docs (https://docs.pydantic.dev/latest/concepts/validators/#model-validators) for more details.\u001b[39m\u001b[33m'\u001b[39m,\n\u001b[32m    259\u001b[39m         stacklevel=\u001b[32m2\u001b[39m,\n\u001b[32m    260\u001b[39m     )\n",
      "\u001b[31mValidationError\u001b[39m: 1 validation error for Customer\naddress.city\n  Input should be a valid string [type=string_type, input_value=123, input_type=int]\n    For further information visit https://errors.pydantic.dev/2.11/v/string_type"
     ]
    }
   ],
   "source": [
    "# customer=Customer(customer_id=1,name=\"Krish\",\n",
    "#                   address={\"street\":\"Main street\",\"city\":123,\"zip_code\":\"02108\"})\n",
    "\n",
    "# print(customer)"
   ]
  },
  {
   "cell_type": "markdown",
   "id": "c513f6c2",
   "metadata": {},
   "source": [
    "---------------------------------------------------------------------------\n",
    "ValidationError                           Traceback (most recent call last)\n",
    "Cell In[18], line 1\n",
    "----> 1 customer=Customer(customer_id=1,name=\"Krish\",\n",
    "      2                   address={\"street\":\"Main street\",\"city\":123,\"zip_code\":\"02108\"})\n",
    "      4 print(customer)\n",
    "\n",
    "File c:\\Users\\saina\\.conda\\envs\\agentic_2_base\\Lib\\site-packages\\pydantic\\main.py:253, in BaseModel.__init__(self, **data)\n",
    "    251 # `__tracebackhide__` tells pytest and some other tools to omit this function from tracebacks\n",
    "    252 __tracebackhide__ = True\n",
    "--> 253 validated_self = self.__pydantic_validator__.validate_python(data, self_instance=self)\n",
    "    254 if self is not validated_self:\n",
    "    255     warnings.warn(\n",
    "    256         'A custom validator is returning a value other than `self`.\\n'\n",
    "    257         \"Returning anything other than `self` from a top level model validator isn't supported when validating via `__init__`.\\n\"\n",
    "    258         'See the `model_validator` docs (https://docs.pydantic.dev/latest/concepts/validators/#model-validators) for more details.',\n",
    "    259         stacklevel=2,\n",
    "    260     )\n",
    "\n",
    "ValidationError: 1 validation error for Customer\n",
    "address.city\n",
    "  Input should be a valid string [type=string_type, input_value=123, input_type=int]\n",
    "    For further information visit https://errors.pydantic.dev/2.11/v/string_type"
   ]
  },
  {
   "cell_type": "markdown",
   "id": "57e06cdd",
   "metadata": {},
   "source": [
    "## Pydantic Fields: Customization and Constraints"
   ]
  },
  {
   "cell_type": "markdown",
   "id": "e0215881",
   "metadata": {},
   "source": [
    "\n",
    "The Field function in Pydantic enhances model fields beyond basic type hints by allowing you to specify validation rules, default values, aliases, and more. Here's a comprehensive tutorial with examples."
   ]
  },
  {
   "cell_type": "code",
   "execution_count": 19,
   "id": "b4751b14",
   "metadata": {},
   "outputs": [],
   "source": [
    "from pydantic import BaseModel,Field\n",
    "\n",
    "class Item(BaseModel):\n",
    "    name:str=Field(min_length=2,max_length=50)\n",
    "    price:float=Field(gt=0,le=10000)  ## greater than 0 and less than or equal to 1000\n",
    "    quantity:int=Field(ge=0)"
   ]
  },
  {
   "cell_type": "code",
   "execution_count": null,
   "id": "d2bdad33",
   "metadata": {},
   "outputs": [
    {
     "ename": "ValidationError",
     "evalue": "1 validation error for Item\nprice\n  Input should be less than or equal to 10000 [type=less_than_equal, input_value=100000, input_type=int]\n    For further information visit https://errors.pydantic.dev/2.11/v/less_than_equal",
     "output_type": "error",
     "traceback": [
      "\u001b[31m---------------------------------------------------------------------------\u001b[39m",
      "\u001b[31mValidationError\u001b[39m                           Traceback (most recent call last)",
      "\u001b[36mCell\u001b[39m\u001b[36m \u001b[39m\u001b[32mIn[20]\u001b[39m\u001b[32m, line 1\u001b[39m\n\u001b[32m----> \u001b[39m\u001b[32m1\u001b[39m item=\u001b[43mItem\u001b[49m\u001b[43m(\u001b[49m\u001b[43mname\u001b[49m\u001b[43m=\u001b[49m\u001b[33;43m\"\u001b[39;49m\u001b[33;43mBook\u001b[39;49m\u001b[33;43m\"\u001b[39;49m\u001b[43m,\u001b[49m\u001b[43m \u001b[49m\u001b[43mprice\u001b[49m\u001b[43m=\u001b[49m\u001b[32;43m100000\u001b[39;49m\u001b[43m,\u001b[49m\u001b[43mquantity\u001b[49m\u001b[43m=\u001b[49m\u001b[32;43m10\u001b[39;49m\u001b[43m)\u001b[49m\n\u001b[32m      2\u001b[39m \u001b[38;5;28mprint\u001b[39m(item)\n",
      "\u001b[36mFile \u001b[39m\u001b[32mc:\\Users\\saina\\.conda\\envs\\agentic_2_base\\Lib\\site-packages\\pydantic\\main.py:253\u001b[39m, in \u001b[36mBaseModel.__init__\u001b[39m\u001b[34m(self, **data)\u001b[39m\n\u001b[32m    251\u001b[39m \u001b[38;5;66;03m# `__tracebackhide__` tells pytest and some other tools to omit this function from tracebacks\u001b[39;00m\n\u001b[32m    252\u001b[39m __tracebackhide__ = \u001b[38;5;28;01mTrue\u001b[39;00m\n\u001b[32m--> \u001b[39m\u001b[32m253\u001b[39m validated_self = \u001b[38;5;28;43mself\u001b[39;49m\u001b[43m.\u001b[49m\u001b[43m__pydantic_validator__\u001b[49m\u001b[43m.\u001b[49m\u001b[43mvalidate_python\u001b[49m\u001b[43m(\u001b[49m\u001b[43mdata\u001b[49m\u001b[43m,\u001b[49m\u001b[43m \u001b[49m\u001b[43mself_instance\u001b[49m\u001b[43m=\u001b[49m\u001b[38;5;28;43mself\u001b[39;49m\u001b[43m)\u001b[49m\n\u001b[32m    254\u001b[39m \u001b[38;5;28;01mif\u001b[39;00m \u001b[38;5;28mself\u001b[39m \u001b[38;5;129;01mis\u001b[39;00m \u001b[38;5;129;01mnot\u001b[39;00m validated_self:\n\u001b[32m    255\u001b[39m     warnings.warn(\n\u001b[32m    256\u001b[39m         \u001b[33m'\u001b[39m\u001b[33mA custom validator is returning a value other than `self`.\u001b[39m\u001b[38;5;130;01m\\n\u001b[39;00m\u001b[33m'\u001b[39m\n\u001b[32m    257\u001b[39m         \u001b[33m\"\u001b[39m\u001b[33mReturning anything other than `self` from a top level model validator isn\u001b[39m\u001b[33m'\u001b[39m\u001b[33mt supported when validating via `__init__`.\u001b[39m\u001b[38;5;130;01m\\n\u001b[39;00m\u001b[33m\"\u001b[39m\n\u001b[32m    258\u001b[39m         \u001b[33m'\u001b[39m\u001b[33mSee the `model_validator` docs (https://docs.pydantic.dev/latest/concepts/validators/#model-validators) for more details.\u001b[39m\u001b[33m'\u001b[39m,\n\u001b[32m    259\u001b[39m         stacklevel=\u001b[32m2\u001b[39m,\n\u001b[32m    260\u001b[39m     )\n",
      "\u001b[31mValidationError\u001b[39m: 1 validation error for Item\nprice\n  Input should be less than or equal to 10000 [type=less_than_equal, input_value=100000, input_type=int]\n    For further information visit https://errors.pydantic.dev/2.11/v/less_than_equal"
     ]
    }
   ],
   "source": [
    "# item=Item(name=\"Book\", price=100000,quantity=10)\n",
    "# print(item)"
   ]
  },
  {
   "cell_type": "markdown",
   "id": "aed53c7f",
   "metadata": {},
   "source": [
    "---------------------------------------------------------------------------\n",
    "ValidationError                           Traceback (most recent call last)\n",
    "Cell In[20], line 1\n",
    "----> 1 item=Item(name=\"Book\", price=100000,quantity=10)\n",
    "      2 print(item)\n",
    "\n",
    "File c:\\Users\\saina\\.conda\\envs\\agentic_2_base\\Lib\\site-packages\\pydantic\\main.py:253, in BaseModel.__init__(self, **data)\n",
    "    251 # `__tracebackhide__` tells pytest and some other tools to omit this function from tracebacks\n",
    "    252 __tracebackhide__ = True\n",
    "--> 253 validated_self = self.__pydantic_validator__.validate_python(data, self_instance=self)\n",
    "    254 if self is not validated_self:\n",
    "    255     warnings.warn(\n",
    "    256         'A custom validator is returning a value other than `self`.\\n'\n",
    "    257         \"Returning anything other than `self` from a top level model validator isn't supported when validating via `__init__`.\\n\"\n",
    "    258         'See the `model_validator` docs (https://docs.pydantic.dev/latest/concepts/validators/#model-validators) for more details.',\n",
    "    259         stacklevel=2,\n",
    "    260     )\n",
    "\n",
    "ValidationError: 1 validation error for Item\n",
    "price\n",
    "  Input should be less than or equal to 10000 [type=less_than_equal, input_value=100000, input_type=int]\n",
    "    For further information visit https://errors.pydantic.dev/2.11/v/less_than_equal"
   ]
  },
  {
   "cell_type": "markdown",
   "id": "d22883b5",
   "metadata": {},
   "source": [
    "field is used for condition based input data validation"
   ]
  },
  {
   "cell_type": "code",
   "execution_count": 26,
   "id": "e39c5101",
   "metadata": {},
   "outputs": [],
   "source": [
    "class User(BaseModel):\n",
    "    username:str=Field(description=\"Unique username for the user\")\n",
    "    age:int=Field(default=18,description=\"User age default to 18 \")\n",
    "    email:str= Field(default_factory=lambda: \"user@example.com\",description=\"Default email address\")"
   ]
  },
  {
   "cell_type": "code",
   "execution_count": 27,
   "id": "eda3226b",
   "metadata": {},
   "outputs": [
    {
     "name": "stdout",
     "output_type": "stream",
     "text": [
      "username='alice' age=18 email='user@example.com'\n"
     ]
    }
   ],
   "source": [
    "# Examples\n",
    "user1 = User(username=\"alice\")\n",
    "print(user1)"
   ]
  },
  {
   "cell_type": "markdown",
   "id": "871aa907",
   "metadata": {},
   "source": [
    "default factory is dynamic way of creating the default values, Can use datetime now in it."
   ]
  },
  {
   "cell_type": "markdown",
   "id": "3ae61672",
   "metadata": {},
   "source": [
    "## Schema from pydantic"
   ]
  },
  {
   "cell_type": "code",
   "execution_count": 28,
   "id": "a3ca49a5",
   "metadata": {},
   "outputs": [
    {
     "data": {
      "text/plain": [
       "{'properties': {'username': {'description': 'Unique username for the user',\n",
       "   'title': 'Username',\n",
       "   'type': 'string'},\n",
       "  'age': {'default': 18,\n",
       "   'description': 'User age default to 18 ',\n",
       "   'title': 'Age',\n",
       "   'type': 'integer'},\n",
       "  'email': {'description': 'Default email address',\n",
       "   'title': 'Email',\n",
       "   'type': 'string'}},\n",
       " 'required': ['username'],\n",
       " 'title': 'User',\n",
       " 'type': 'object'}"
      ]
     },
     "execution_count": 28,
     "metadata": {},
     "output_type": "execute_result"
    }
   ],
   "source": [
    "User.model_json_schema()"
   ]
  },
  {
   "cell_type": "markdown",
   "id": "c503b631",
   "metadata": {},
   "source": [
    "## What is Serialisation in pydantic"
   ]
  },
  {
   "cell_type": "markdown",
   "id": "d9b5fe14",
   "metadata": {},
   "source": [
    "In **Pydantic**, **serialization** refers to **converting a Pydantic model (Python object) into a data format that can be easily stored or transferred**, such as **JSON, dictionaries, or strings**.\n",
    "\n",
    "### ✅ In simpler terms:\n",
    "\n",
    "**Serialization = Model → JSON or dict**\n",
    "\n",
    "---\n",
    "\n",
    "### 🔧 Common Use-Cases for Serialization:\n",
    "\n",
    "* Sending data over an API (JSON format)\n",
    "* Saving model data to a file or database\n",
    "* Logging structured data\n",
    "\n",
    "---\n",
    "\n",
    "### 🧠 How it works in Pydantic:\n",
    "\n",
    "Suppose you have a model:\n",
    "\n",
    "```python\n",
    "from pydantic import BaseModel\n",
    "\n",
    "class User(BaseModel):\n",
    "    id: int\n",
    "    name: str\n",
    "    email: str\n",
    "```\n",
    "\n",
    "#### ➤ `dict()` — serialize to Python dictionary:\n",
    "\n",
    "```python\n",
    "user = User(id=1, name=\"Alice\", email=\"alice@example.com\")\n",
    "user_dict = user.dict()\n",
    "print(user_dict)\n",
    "```\n",
    "\n",
    "Output:\n",
    "\n",
    "```python\n",
    "{'id': 1, 'name': 'Alice', 'email': 'alice@example.com'}\n",
    "```\n",
    "\n",
    "#### ➤ `json()` — serialize to JSON string:\n",
    "\n",
    "```python\n",
    "user_json = user.json()\n",
    "print(user_json)\n",
    "```\n",
    "\n",
    "Output:\n",
    "\n",
    "```json\n",
    "{\"id\": 1, \"name\": \"Alice\", \"email\": \"alice@example.com\"}\n",
    "```\n",
    "\n",
    "---\n",
    "\n",
    "### 🔄 Related Term: **Deserialization**\n",
    "\n",
    "The reverse — converting from JSON or dict back to a Pydantic model:\n",
    "\n",
    "```python\n",
    "user_data = {'id': 1, 'name': 'Alice', 'email': 'alice@example.com'}\n",
    "user = User(**user_data)\n",
    "```\n",
    "\n",
    "---\n",
    "\n",
    "### 💡 Bonus: Custom Serialization\n",
    "\n",
    "You can customize serialization using:\n",
    "\n",
    "* `Config` class with `json_encoders`\n",
    "* `model.dict(include=..., exclude=...)` to include/exclude fields\n",
    "* Aliases and field customization with `Field(..., alias=...)`\n",
    "\n",
    "---\n",
    "\n",
    "Let me know if you'd like to see examples with nested models, custom field names, or datetime handling!\n"
   ]
  },
  {
   "cell_type": "markdown",
   "id": "9c79bfdc",
   "metadata": {},
   "source": [
    "## Pydantic Crash course by CampusX\n",
    "`https://github.com/campusx-official/pydantic-crash-course`"
   ]
  },
  {
   "cell_type": "markdown",
   "id": "95cb2d6d",
   "metadata": {},
   "source": [
    "## Extra"
   ]
  },
  {
   "cell_type": "markdown",
   "id": "1a64c35e",
   "metadata": {},
   "source": [
    "class Item(BaseModel):\n",
    "    id: str \n",
    "    email: str \n",
    "\n",
    "\n",
    "Is it possible to use id as a part in default factory of email? such that email default values is like id+\"@gmail.com\""
   ]
  },
  {
   "cell_type": "markdown",
   "id": "f59592eb",
   "metadata": {},
   "source": [
    "✅ **Yes, it’s possible** — but **not directly inside `Field(default_factory=...)`** because at the time `default_factory` runs, **other fields like `id` may not be initialized yet**.\n",
    "\n",
    "However, Pydantic provides a clean way to do this using a **`model_post_init`** method in **Pydantic v2**, or a **`@root_validator`** in **Pydantic v1**.\n",
    "\n",
    "---\n",
    "\n",
    "### ✅ Pydantic v2: Use `model_post_init`\n",
    "\n",
    "```python\n",
    "from pydantic import BaseModel, Field\n",
    "from uuid import uuid4\n",
    "\n",
    "class Item(BaseModel):\n",
    "    id: str = Field(default_factory=lambda: str(uuid4()))\n",
    "    email: str | None = None\n",
    "\n",
    "    def model_post_init(self, __context):\n",
    "        if self.email is None:\n",
    "            self.email = f\"{self.id}@gmail.com\"\n",
    "```\n",
    "\n",
    "---\n",
    "\n",
    "### ✅ Pydantic v1: Use `@root_validator`\n",
    "\n",
    "```python\n",
    "from pydantic import BaseModel, Field, root_validator\n",
    "from uuid import uuid4\n",
    "\n",
    "class Item(BaseModel):\n",
    "    id: str = Field(default_factory=lambda: str(uuid4()))\n",
    "    email: str | None = None\n",
    "\n",
    "    @root_validator(pre=False)\n",
    "    def set_email(cls, values):\n",
    "        if values.get('email') is None:\n",
    "            values['email'] = f\"{values['id']}@gmail.com\"\n",
    "        return values\n",
    "```\n",
    "\n",
    "---\n",
    "\n",
    "### 🧪 Example usage:\n",
    "\n",
    "```python\n",
    "item = Item()\n",
    "print(item.id)      # e.g., \"8d3e8d72-1f75-43a4-9e1e-7b9e457dca8a\"\n",
    "print(item.email)   # e.g., \"8d3e8d72-1f75-43a4-9e1e-7b9e457dca8a@gmail.com\"\n",
    "```\n",
    "\n",
    "---\n",
    "\n",
    "### 🧠 Why `Field(default_factory=...)` won't work here?\n",
    "\n",
    "Because it doesn't **know about other fields** during execution — it just calls the function when no value is passed.\n",
    "\n",
    "So for **dependent default values**, always use:\n",
    "\n",
    "* `model_post_init` (Pydantic v2)\n",
    "* `root_validator` (Pydantic v1)\n",
    "\n",
    "---\n",
    "\n",
    "Let me know your Pydantic version if you need a custom solution for your codebase!\n"
   ]
  },
  {
   "cell_type": "markdown",
   "id": "4e37a4a5",
   "metadata": {},
   "source": [
    "## Difference between Field and field_validator"
   ]
  },
  {
   "cell_type": "markdown",
   "id": "fd86175f",
   "metadata": {},
   "source": [
    "Great question! `Field` and `field_validator` in **Pydantic** serve **very different purposes**, though they both help you control and validate data.\n",
    "\n",
    "---\n",
    "\n",
    "### 🆚 `Field` vs `field_validator` — Core Differences\n",
    "\n",
    "| Feature                       | `Field(...)`                                                                       | `@field_validator(...)`                                      |\n",
    "| ----------------------------- | ---------------------------------------------------------------------------------- | ------------------------------------------------------------ |\n",
    "| **Purpose**                   | Declare **defaults**, **metadata**, and **constraints**                            | Implement **custom logic** to validate or transform          |\n",
    "| **Used for**                  | - Default values<br>- Descriptions<br>- Ranges (gt, lt)<br>- Aliases<br>- UI hints | - Conditional rules<br>- Data formatting<br>- Complex checks |\n",
    "| **When it runs**              | During model schema parsing                                                        | During/after field value assignment (based on `mode`)        |\n",
    "| **Declarative or imperative** | Declarative (like saying \"must be > 0\")                                            | Imperative (like writing Python logic)                       |\n",
    "| **Return required?**          | ❌ No return value needed                                                           | ✅ Must return the (possibly modified) value or raise error   |\n",
    "\n",
    "---\n",
    "\n",
    "### 🔹 `Field(...)` – For Defaults, Constraints, and Metadata\n",
    "\n",
    "```python\n",
    "from pydantic import BaseModel, Field\n",
    "\n",
    "class User(BaseModel):\n",
    "    age: int = Field(..., gt=0, lt=100, description=\"Age must be between 1 and 99\")\n",
    "    name: str = Field(default=\"Anonymous\", max_length=20)\n",
    "```\n",
    "\n",
    "✔️ It adds:\n",
    "\n",
    "* Validation rules (e.g., `gt`, `lt`, `max_length`)\n",
    "* Default values (`default`, `default_factory`)\n",
    "* Schema metadata (`description`, `title`, `example`)\n",
    "\n",
    "---\n",
    "\n",
    "### 🔹 `@field_validator(...)` – For Custom Validation Logic\n",
    "\n",
    "```python\n",
    "from pydantic import BaseModel, Field, field_validator\n",
    "\n",
    "class User(BaseModel):\n",
    "    name: str\n",
    "    email: str\n",
    "\n",
    "    @field_validator('email')\n",
    "    @classmethod\n",
    "    def check_email(cls, v):\n",
    "        if not v.endswith('@gmail.com'):\n",
    "            raise ValueError(\"Email must be a gmail.com address\")\n",
    "        return v\n",
    "```\n",
    "\n",
    "✔️ It allows:\n",
    "\n",
    "* Any Python logic\n",
    "* Value transformation (like `.upper()`, formatting)\n",
    "* Cross-field or deep validation (via `@model_validator` or `@root_validator`)\n",
    "\n",
    "---\n",
    "\n",
    "### 🧪 Example with Both\n",
    "\n",
    "```python\n",
    "from pydantic import BaseModel, Field, field_validator\n",
    "\n",
    "class Product(BaseModel):\n",
    "    name: str\n",
    "    price: float = Field(gt=0, description=\"Price must be positive\")\n",
    "\n",
    "    @field_validator('name')\n",
    "    @classmethod\n",
    "    def strip_name(cls, value):\n",
    "        return value.strip().title()\n",
    "```\n",
    "\n",
    "* `Field(gt=0)` ensures `price > 0`\n",
    "* `@field_validator` formats `name` before storing\n",
    "\n",
    "---\n",
    "\n",
    "### ✅ Summary\n",
    "\n",
    "| Aspect                                 | `Field`                         | `@field_validator` |\n",
    "| -------------------------------------- | ------------------------------- | ------------------ |\n",
    "| Controls defaults?                     | ✅ Yes                           | ❌ No               |\n",
    "| Adds metadata for OpenAPI/docs?        | ✅ Yes                           | ❌ No               |\n",
    "| Applies static validation constraints? | ✅ Yes (like `gt`, `max_length`) | ✅ If custom logic  |\n",
    "| Good for dynamic validation?           | ❌                               | ✅ Yes              |\n",
    "| Required to return value?              | ❌                               | ✅ Yes              |\n",
    "| Runs on model creation?                | ✅                               | ✅                  |\n",
    "\n",
    "---\n",
    "\n",
    "Let me know if you want to explore how to **combine both** or use them in **Pydantic v2 with Annotated types**.\n"
   ]
  },
  {
   "cell_type": "markdown",
   "id": "b2576d67",
   "metadata": {},
   "source": [
    "## Difference between field validator and model validator from pydantic? and any other validators present in it"
   ]
  },
  {
   "cell_type": "markdown",
   "id": "e634e774",
   "metadata": {},
   "source": [
    "Excellent question, Sainadh! Let’s break down the difference between **`field_validator`**, **`model_validator`**, and other available **validators in Pydantic v2**, along with when and why to use each.\n",
    "\n",
    "---\n",
    "\n",
    "### ✅ 1. `field_validator` – Validate or transform a **single field**\n",
    "\n",
    "#### 🔹 Purpose:\n",
    "\n",
    "Used to validate or transform the value of **one specific field** (before or after parsing).\n",
    "\n",
    "#### 🔹 Syntax:\n",
    "\n",
    "```python\n",
    "@field_validator('field_name', mode='before' or 'after')\n",
    "@classmethod\n",
    "def validator_name(cls, value): ...\n",
    "```\n",
    "\n",
    "#### 🔹 When to use:\n",
    "\n",
    "* Format or clean field values (`.strip()`, `.upper()`)\n",
    "* Enforce field-specific rules (e.g., `email must end with @gmail.com`)\n",
    "* Normalize types (e.g., convert strings to int)\n",
    "\n",
    "#### 🔹 Example:\n",
    "\n",
    "```python\n",
    "from pydantic import BaseModel, field_validator\n",
    "\n",
    "class User(BaseModel):\n",
    "    name: str\n",
    "\n",
    "    @field_validator('name')\n",
    "    @classmethod\n",
    "    def validate_name(cls, v):\n",
    "        return v.title()\n",
    "```\n",
    "\n",
    "---\n",
    "\n",
    "### ✅ 2. `model_validator` – Validate across **the entire model**\n",
    "\n",
    "#### 🔹 Purpose:\n",
    "\n",
    "Used to validate the model as a whole — **after all fields are parsed**, and useful when validation **depends on multiple fields**.\n",
    "\n",
    "#### 🔹 Syntax:\n",
    "\n",
    "```python\n",
    "@model_validator(mode='before' or 'after')\n",
    "@classmethod\n",
    "def validate_model(cls, data): ...\n",
    "```\n",
    "\n",
    "#### 🔹 When to use:\n",
    "\n",
    "* Validate relationships between fields (e.g., `start_date < end_date`)\n",
    "* Conditionally require a field (`if x is True, y must be provided`)\n",
    "* Post-process entire object\n",
    "\n",
    "#### 🔹 Example:\n",
    "\n",
    "```python\n",
    "from pydantic import BaseModel, model_validator\n",
    "\n",
    "class Booking(BaseModel):\n",
    "    start: int\n",
    "    end: int\n",
    "\n",
    "    @model_validator(mode='after')\n",
    "    @classmethod\n",
    "    def check_duration(cls, model):\n",
    "        if model.end <= model.start:\n",
    "            raise ValueError('End must be after start')\n",
    "        return model\n",
    "```\n",
    "\n",
    "---\n",
    "\n",
    "### ✅ Other Validators in Pydantic v2\n",
    "\n",
    "| Validator                            | Purpose                                                           |\n",
    "| ------------------------------------ | ----------------------------------------------------------------- |\n",
    "| `@field_validator`                   | Validate or transform **one field**                               |\n",
    "| `@model_validator`                   | Validate the **entire model** (cross-field logic)                 |\n",
    "| `@field_serializer`                  | Custom **serialization logic** for a field                        |\n",
    "| `@model_serializer`                  | Custom **serialization** for the entire model                     |\n",
    "| `@computed_field`                    | Define **derived read-only fields**                               |\n",
    "| `@root_validator` (deprecated in v2) | Old way to validate models in v1 (replaced by `@model_validator`) |\n",
    "\n",
    "---\n",
    "\n",
    "### 🧠 Summary Table\n",
    "\n",
    "| Feature                      | `field_validator`   | `model_validator`              |\n",
    "| ---------------------------- | ------------------- | ------------------------------ |\n",
    "| Validates one field?         | ✅ Yes               | ❌                              |\n",
    "| Uses multiple fields?        | ❌                   | ✅ Yes                          |\n",
    "| Transform values?            | ✅ Yes               | ✅ Yes                          |\n",
    "| Before parsing?              | ✅ (`mode='before'`) | ✅ (`mode='before'`)            |\n",
    "| After parsing?               | ✅ (`mode='after'`)  | ✅ (`mode='after'`)             |\n",
    "| Replaces `@validator` in v1? | ✅ Yes               | ✅ (replaces `@root_validator`) |\n",
    "\n",
    "---\n",
    "\n",
    "### 🚨 Notes:\n",
    "\n",
    "* Use `mode='before'` to validate **raw input** (before parsing/coercion).\n",
    "* Use `mode='after'` to validate **parsed values** (after type enforcement).\n",
    "* You must return the value (`field_validator`) or model (`model_validator`).\n",
    "\n",
    "---\n",
    "\n",
    "Let me know if you want:\n",
    "\n",
    "* A cheatsheet of **all decorators in Pydantic v2**\n",
    "* Examples of combining `Annotated` with `Field` and `field_validator`\n",
    "* How these work with **FastAPI** or **custom error messages**\n"
   ]
  },
  {
   "cell_type": "markdown",
   "id": "2eb261e0",
   "metadata": {},
   "source": [
    "## What is computed field?"
   ]
  },
  {
   "cell_type": "markdown",
   "id": "8ceb4570",
   "metadata": {},
   "source": [
    "Great choice, Sainadh! In **Pydantic v2**, a `@computed_field` is used to **define a read-only, derived field** — one that **is not passed during model creation**, but is **computed from other fields**.\n",
    "\n",
    "---\n",
    "\n",
    "### 🔹 What is a `@computed_field`?\n",
    "\n",
    "It’s like a **property** that gets **included in `.model_dump()` and `.json()`**, and can even show up in OpenAPI docs (if used with FastAPI).\n",
    "\n",
    "---\n",
    "\n",
    "### ✅ Use Case\n",
    "\n",
    "* Calculate `full_name` from `first_name + last_name`\n",
    "* Compute `total_price = quantity * unit_price`\n",
    "* Convert `datetime` into a `formatted_str`\n",
    "\n",
    "---\n",
    "\n",
    "### ✅ Syntax\n",
    "\n",
    "```python\n",
    "from pydantic import BaseModel, computed_field\n",
    "\n",
    "class Model(BaseModel):\n",
    "    ...\n",
    "\n",
    "    @computed_field\n",
    "    @property\n",
    "    def field_name(self) -> ReturnType:\n",
    "        return ...\n",
    "```\n",
    "\n",
    "> You must annotate the return type. Otherwise, Pydantic will raise an error.\n",
    "\n",
    "---\n",
    "\n",
    "### 🧪 Example: Full Name from First & Last\n",
    "\n",
    "```python\n",
    "from pydantic import BaseModel, computed_field\n",
    "\n",
    "class Person(BaseModel):\n",
    "    first_name: str\n",
    "    last_name: str\n",
    "\n",
    "    @computed_field\n",
    "    @property\n",
    "    def full_name(self) -> str:\n",
    "        return f\"{self.first_name} {self.last_name}\"\n",
    "```\n",
    "\n",
    "#### Usage:\n",
    "\n",
    "```python\n",
    "p = Person(first_name=\"Sainadh\", last_name=\"Bahadursha\")\n",
    "print(p.full_name)  # Sainadh Bahadursha\n",
    "print(p.model_dump())  # includes full_name!\n",
    "```\n",
    "\n",
    "---\n",
    "\n",
    "### 🧪 Example: Total Cost\n",
    "\n",
    "```python\n",
    "class Item(BaseModel):\n",
    "    name: str\n",
    "    unit_price: float\n",
    "    quantity: int\n",
    "\n",
    "    @computed_field\n",
    "    @property\n",
    "    def total(self) -> float:\n",
    "        return self.unit_price * self.quantity\n",
    "```\n",
    "\n",
    "---\n",
    "\n",
    "### 🧠 Key Rules\n",
    "\n",
    "| Rule                       | Explanation                            |\n",
    "| -------------------------- | -------------------------------------- |\n",
    "| Must return annotated type | Required: `-> str`, `-> float`, etc.   |\n",
    "| Must be a `@property`      | It's always accessed like an attribute |\n",
    "| Included in `model_dump()` | Even though it’s not part of input     |\n",
    "| Read-only                  | Cannot be passed during model creation |\n",
    "\n",
    "---\n",
    "\n",
    "### ⚠️ Cannot assign it!\n",
    "\n",
    "```python\n",
    "p = Person(first_name=\"Sainadh\", last_name=\"Bahadursha\", full_name=\"Wrong\")  # ❌ Error\n",
    "```\n",
    "\n",
    "It’s **computed only**, not assignable.\n",
    "\n",
    "---\n",
    "\n",
    "### ✅ Summary\n",
    "\n",
    "| Feature                      | `@computed_field` |\n",
    "| ---------------------------- | ----------------- |\n",
    "| Read-only field?             | ✅ Yes             |\n",
    "| Included in `.model_dump()`? | ✅ Yes             |\n",
    "| Accept user input?           | ❌ No              |\n",
    "| Used for?                    | Derived fields    |\n",
    "| Pydantic v2 only?            | ✅ Yes (new in v2) |\n",
    "\n",
    "---\n",
    "\n",
    "Let me know if you want examples of `computed_field` used with `datetime`, nested models, or how to make it show in **FastAPI** Swagger docs!\n"
   ]
  },
  {
   "cell_type": "markdown",
   "id": "4f9cfef5",
   "metadata": {},
   "source": [
    "# Lang Chain Basics"
   ]
  },
  {
   "cell_type": "markdown",
   "id": "1e73ccd6",
   "metadata": {},
   "source": [
    "## Loading the environment variables"
   ]
  },
  {
   "cell_type": "code",
   "execution_count": 2,
   "id": "e31b600f",
   "metadata": {},
   "outputs": [
    {
     "data": {
      "text/plain": [
       "True"
      ]
     },
     "execution_count": 2,
     "metadata": {},
     "output_type": "execute_result"
    }
   ],
   "source": [
    "import os\n",
    "from dotenv import load_dotenv\n",
    "load_dotenv()"
   ]
  },
  {
   "cell_type": "code",
   "execution_count": 3,
   "id": "3359433f",
   "metadata": {},
   "outputs": [
    {
     "data": {
      "text/plain": [
       "'Agentic2.0'"
      ]
     },
     "execution_count": 3,
     "metadata": {},
     "output_type": "execute_result"
    }
   ],
   "source": [
    "os.getenv(\"LANGCHAIN_PROJECT\")"
   ]
  },
  {
   "cell_type": "code",
   "execution_count": 5,
   "id": "b73c1667",
   "metadata": {},
   "outputs": [],
   "source": [
    "os.environ[\"OPENAI_API_KEY\"]=os.getenv(\"OPENAI_API_KEY\")\n",
    "os.environ[\"GROQ_API_KEY\"]=os.getenv(\"GROQ_API_KEY\")\n",
    "\n",
    "## Langsmith Tracking And Tracing\n",
    "os.environ[\"LANGCHAIN_API_KEY\"]=os.getenv(\"LANGCHAIN_API_KEY\")\n",
    "os.environ[\"LANGCHAIN_PROJECT\"]=os.getenv(\"LANGCHAIN_PROJECT\")\n",
    "os.environ[\"LANGCHAIN_TRACING_V2\"]=os.getenv(\"LANGCHAIN_TRACING_V2\")"
   ]
  },
  {
   "cell_type": "markdown",
   "id": "1b2e5aa7",
   "metadata": {},
   "source": [
    "## Langchain chatopenai"
   ]
  },
  {
   "cell_type": "code",
   "execution_count": 6,
   "id": "ddf63686",
   "metadata": {},
   "outputs": [
    {
     "name": "stdout",
     "output_type": "stream",
     "text": [
      "client=<openai.resources.chat.completions.completions.Completions object at 0x0000029D73ED08D0> async_client=<openai.resources.chat.completions.completions.AsyncCompletions object at 0x0000029D7536CF90> root_client=<openai.OpenAI object at 0x0000029D72DBBB90> root_async_client=<openai.AsyncOpenAI object at 0x0000029D74F3A290> model_name='o1-mini' temperature=1.0 model_kwargs={} openai_api_key=SecretStr('**********')\n"
     ]
    }
   ],
   "source": [
    "from langchain_openai import ChatOpenAI\n",
    "\n",
    "llm=ChatOpenAI(model=\"o1-mini\")\n",
    "print(llm)"
   ]
  },
  {
   "cell_type": "markdown",
   "id": "ef74fd32",
   "metadata": {},
   "source": [
    "langchain chatopenai automatically extract openai_api_key from environment variables"
   ]
  },
  {
   "cell_type": "code",
   "execution_count": 7,
   "id": "57aaecbb",
   "metadata": {},
   "outputs": [
    {
     "name": "stdout",
     "output_type": "stream",
     "text": [
      "content='**Agentic AI** refers to artificial intelligence systems designed to act as autonomous agents capable of perceiving their environment, making decisions, and executing actions to achieve specific goals. The term \"agentic\" emphasizes characteristics such as autonomy, proactivity, and the ability to take initiative, distinguishing these AI systems from more passive or reactive forms of artificial intelligence.\\n\\n### Key Characteristics of Agentic AI\\n\\n1. **Autonomy**: Agentic AI systems operate independently without continuous human intervention. They can make decisions based on their programming and learned experiences.\\n\\n2. **Goal-Directed Behavior**: These AI agents are designed to achieve specific objectives. They can set sub-goals, plan actions, and adjust strategies as needed to accomplish their primary goals.\\n\\n3. **Perception and Environment Interaction**: Agentic AI can perceive its environment through sensors or data inputs and interact with it effectively. This interaction enables the AI to gather information, assess situations, and respond appropriately.\\n\\n4. **Learning and Adaptation**: Many agentic AI systems incorporate machine learning algorithms allowing them to learn from experiences, adapt to new situations, and improve their performance over time.\\n\\n5. **Decision-Making Capabilities**: These AI agents can evaluate options, weigh potential outcomes, and choose actions that align best with their objectives.\\n\\n### Examples of Agentic AI\\n\\n- **Autonomous Vehicles**: Self-driving cars are a prime example of agentic AI. They navigate roads, make real-time decisions based on traffic conditions, and respond to dynamic environments to transport passengers safely.\\n\\n- **Robotics**: Industrial robots in manufacturing settings operate autonomously to perform tasks such as assembly, welding, and packaging, adjusting their actions based on real-time feedback.\\n\\n- **Virtual Assistants and Chatbots**: Advanced virtual assistants can manage schedules, initiate tasks, and engage in complex interactions with users, demonstrating a level of agency in handling various requests.\\n\\n- **Intelligent Personal Assistants**: AI systems that manage emails, set reminders, and optimize daily routines by making proactive decisions to enhance user productivity.\\n\\n### Applications of Agentic AI\\n\\n1. **Healthcare**: AI agents can monitor patient vitals, manage treatment plans, and even perform preliminary diagnostics, acting proactively to improve patient outcomes.\\n\\n2. **Finance**: Autonomous trading systems analyze market data in real-time, make investment decisions, and execute trades with minimal human oversight.\\n\\n3. **Smart Homes and IoT**: AI agents manage home environments by controlling lighting, heating, security systems, and appliances based on user preferences and behaviors.\\n\\n4. **Customer Service**: Advanced chatbots and virtual agents handle customer inquiries, resolve issues, and provide personalized support without human intervention.\\n\\n### Ethical and Societal Considerations\\n\\nWhile agentic AI offers numerous benefits, it also raises several ethical and societal concerns:\\n\\n- **Accountability**: Determining responsibility for the actions of autonomous AI agents can be challenging, especially in scenarios where decisions lead to unintended consequences.\\n\\n- **Bias and Fairness**: AI agents can inherit biases present in their training data or algorithms, leading to unfair or discriminatory outcomes.\\n\\n- **Privacy**: Autonomous agents often require access to vast amounts of data, raising concerns about data privacy and security.\\n\\n- **Job Displacement**: Increased automation through agentic AI may lead to displacement of jobs, necessitating strategies for workforce transition and reskilling.\\n\\n- **Control and Autonomy**: Ensuring that AI agents remain aligned with human values and objectives is critical to prevent scenarios where AI actions diverge from intended goals.\\n\\n### Future Directions\\n\\nThe development of agentic AI is advancing toward more sophisticated and capable systems. Future trends include:\\n\\n- **Enhanced Learning Capabilities**: Incorporating more advanced machine learning techniques to improve adaptability and decision-making.\\n\\n- **Better Human-AI Collaboration**: Designing AI agents that can effectively collaborate with humans, augmenting human capabilities rather than replacing them.\\n\\n- **Robust Ethical Frameworks**: Developing comprehensive ethical guidelines and regulations to govern the deployment and behavior of agentic AI systems.\\n\\n- **Explainability and Transparency**: Ensuring that AI agents can provide understandable explanations for their actions to foster trust and accountability.\\n\\n### Conclusion\\n\\nAgentic AI represents a significant advancement in artificial intelligence, enabling systems to act with a degree of autonomy and purposefulness that can transform various industries and aspects of daily life. While the potential benefits are substantial, it is essential to address the accompanying ethical, societal, and technical challenges to ensure that agentic AI contributes positively to society.' additional_kwargs={'refusal': None} response_metadata={'token_usage': {'completion_tokens': 983, 'prompt_tokens': 13, 'total_tokens': 996, 'completion_tokens_details': {'accepted_prediction_tokens': 0, 'audio_tokens': 0, 'reasoning_tokens': 64, 'rejected_prediction_tokens': 0}, 'prompt_tokens_details': {'audio_tokens': 0, 'cached_tokens': 0}}, 'model_name': 'o1-mini-2024-09-12', 'system_fingerprint': 'fp_3da8b0b088', 'id': 'chatcmpl-BhG5VSBveTcxG47pk9Se36yGPkKfr', 'service_tier': 'default', 'finish_reason': 'stop', 'logprobs': None} id='run--8b04a864-56c3-48af-9d3c-ccd7811651c2-0' usage_metadata={'input_tokens': 13, 'output_tokens': 983, 'total_tokens': 996, 'input_token_details': {'audio': 0, 'cache_read': 0}, 'output_token_details': {'audio': 0, 'reasoning': 64}}\n"
     ]
    }
   ],
   "source": [
    "result=llm.invoke(\"What is Agentic AI\")\n",
    "print(result)"
   ]
  },
  {
   "cell_type": "code",
   "execution_count": 8,
   "id": "aaa5c11a",
   "metadata": {},
   "outputs": [
    {
     "name": "stdout",
     "output_type": "stream",
     "text": [
      "**Agentic AI** refers to artificial intelligence systems designed to act as autonomous agents capable of perceiving their environment, making decisions, and executing actions to achieve specific goals. The term \"agentic\" emphasizes characteristics such as autonomy, proactivity, and the ability to take initiative, distinguishing these AI systems from more passive or reactive forms of artificial intelligence.\n",
      "\n",
      "### Key Characteristics of Agentic AI\n",
      "\n",
      "1. **Autonomy**: Agentic AI systems operate independently without continuous human intervention. They can make decisions based on their programming and learned experiences.\n",
      "\n",
      "2. **Goal-Directed Behavior**: These AI agents are designed to achieve specific objectives. They can set sub-goals, plan actions, and adjust strategies as needed to accomplish their primary goals.\n",
      "\n",
      "3. **Perception and Environment Interaction**: Agentic AI can perceive its environment through sensors or data inputs and interact with it effectively. This interaction enables the AI to gather information, assess situations, and respond appropriately.\n",
      "\n",
      "4. **Learning and Adaptation**: Many agentic AI systems incorporate machine learning algorithms allowing them to learn from experiences, adapt to new situations, and improve their performance over time.\n",
      "\n",
      "5. **Decision-Making Capabilities**: These AI agents can evaluate options, weigh potential outcomes, and choose actions that align best with their objectives.\n",
      "\n",
      "### Examples of Agentic AI\n",
      "\n",
      "- **Autonomous Vehicles**: Self-driving cars are a prime example of agentic AI. They navigate roads, make real-time decisions based on traffic conditions, and respond to dynamic environments to transport passengers safely.\n",
      "\n",
      "- **Robotics**: Industrial robots in manufacturing settings operate autonomously to perform tasks such as assembly, welding, and packaging, adjusting their actions based on real-time feedback.\n",
      "\n",
      "- **Virtual Assistants and Chatbots**: Advanced virtual assistants can manage schedules, initiate tasks, and engage in complex interactions with users, demonstrating a level of agency in handling various requests.\n",
      "\n",
      "- **Intelligent Personal Assistants**: AI systems that manage emails, set reminders, and optimize daily routines by making proactive decisions to enhance user productivity.\n",
      "\n",
      "### Applications of Agentic AI\n",
      "\n",
      "1. **Healthcare**: AI agents can monitor patient vitals, manage treatment plans, and even perform preliminary diagnostics, acting proactively to improve patient outcomes.\n",
      "\n",
      "2. **Finance**: Autonomous trading systems analyze market data in real-time, make investment decisions, and execute trades with minimal human oversight.\n",
      "\n",
      "3. **Smart Homes and IoT**: AI agents manage home environments by controlling lighting, heating, security systems, and appliances based on user preferences and behaviors.\n",
      "\n",
      "4. **Customer Service**: Advanced chatbots and virtual agents handle customer inquiries, resolve issues, and provide personalized support without human intervention.\n",
      "\n",
      "### Ethical and Societal Considerations\n",
      "\n",
      "While agentic AI offers numerous benefits, it also raises several ethical and societal concerns:\n",
      "\n",
      "- **Accountability**: Determining responsibility for the actions of autonomous AI agents can be challenging, especially in scenarios where decisions lead to unintended consequences.\n",
      "\n",
      "- **Bias and Fairness**: AI agents can inherit biases present in their training data or algorithms, leading to unfair or discriminatory outcomes.\n",
      "\n",
      "- **Privacy**: Autonomous agents often require access to vast amounts of data, raising concerns about data privacy and security.\n",
      "\n",
      "- **Job Displacement**: Increased automation through agentic AI may lead to displacement of jobs, necessitating strategies for workforce transition and reskilling.\n",
      "\n",
      "- **Control and Autonomy**: Ensuring that AI agents remain aligned with human values and objectives is critical to prevent scenarios where AI actions diverge from intended goals.\n",
      "\n",
      "### Future Directions\n",
      "\n",
      "The development of agentic AI is advancing toward more sophisticated and capable systems. Future trends include:\n",
      "\n",
      "- **Enhanced Learning Capabilities**: Incorporating more advanced machine learning techniques to improve adaptability and decision-making.\n",
      "\n",
      "- **Better Human-AI Collaboration**: Designing AI agents that can effectively collaborate with humans, augmenting human capabilities rather than replacing them.\n",
      "\n",
      "- **Robust Ethical Frameworks**: Developing comprehensive ethical guidelines and regulations to govern the deployment and behavior of agentic AI systems.\n",
      "\n",
      "- **Explainability and Transparency**: Ensuring that AI agents can provide understandable explanations for their actions to foster trust and accountability.\n",
      "\n",
      "### Conclusion\n",
      "\n",
      "Agentic AI represents a significant advancement in artificial intelligence, enabling systems to act with a degree of autonomy and purposefulness that can transform various industries and aspects of daily life. While the potential benefits are substantial, it is essential to address the accompanying ethical, societal, and technical challenges to ensure that agentic AI contributes positively to society.\n"
     ]
    }
   ],
   "source": [
    "print(result.content)"
   ]
  },
  {
   "cell_type": "markdown",
   "id": "0aeac7de",
   "metadata": {},
   "source": [
    "## Lang chain chat groq"
   ]
  },
  {
   "cell_type": "code",
   "execution_count": 10,
   "id": "1d01db12",
   "metadata": {},
   "outputs": [
    {
     "data": {
      "text/plain": [
       "AIMessage(content='\\n<think>\\nOkay, the user introduced themselves as Sainadh. I should respond politely and maybe ask how I can assist them. Let me keep it friendly and open-ended so they feel comfortable to ask anything they need help with.\\n\\nHmm, should I use an emoji? Maybe a smiley to keep it friendly. Also, make sure the tone is welcoming. I need to make sure the response is concise but inviting. Alright, that should work.\\n</think>\\n\\nHello Sainadh! 😊 How can I assist you today? Feel free to ask anything!', additional_kwargs={}, response_metadata={'token_usage': {'completion_tokens': 111, 'prompt_tokens': 17, 'total_tokens': 128, 'completion_time': 0.269894638, 'prompt_time': 0.003155706, 'queue_time': 0.33128514200000003, 'total_time': 0.273050344}, 'model_name': 'qwen-qwq-32b', 'system_fingerprint': 'fp_512a3da6bb', 'finish_reason': 'stop', 'logprobs': None}, id='run--099a3401-fa3e-4327-8783-d0a37d238403-0', usage_metadata={'input_tokens': 17, 'output_tokens': 111, 'total_tokens': 128})"
      ]
     },
     "execution_count": 10,
     "metadata": {},
     "output_type": "execute_result"
    }
   ],
   "source": [
    "from langchain_groq import ChatGroq\n",
    "model=ChatGroq(model=\"qwen-qwq-32b\")\n",
    "model.invoke(\"Hi My name is Sainadh\")"
   ]
  },
  {
   "cell_type": "markdown",
   "id": "d0c4de7e",
   "metadata": {},
   "source": [
    "> qwen-qwq-32b\n",
    "\n",
    "Here’s a detailed overview of **QwQ‑32B** — a powerful reasoning-oriented large language model:\n",
    "\n",
    "---\n",
    "\n",
    "### 🧠 What is QwQ‑32B?\n",
    "\n",
    "* **Reasoning-specialized model**: Part of Alibaba Cloud's Qwen family, QwQ‑32B is specifically designed for deep analytical reasoning, surpassing general instruction-tuned models on complex, multi-step tasks ([medium.com][1]).\n",
    "* **Size and architecture**:\n",
    "\n",
    "  * \\~32.5 B total parameters (\\~31 B non-embedding)\n",
    "  * 64 Transformer layers\n",
    "  * 40 Q / 8 KV attention heads\n",
    "  * Supports ultra-long context: up to 131,072 tokens ([huggingface.co][2]).\n",
    "\n",
    "---\n",
    "\n",
    "### ⚙️ Capabilities\n",
    "\n",
    "* **Advanced reasoning**: Strong in math, coding, and challenging problem-solving—achieves top-tier results on benchmarks like AIME24, BFCL, LiveBench, competing closely with models up to 20× larger (e.g., DeepSeek‑R1 of 671 B params) ([datacamp.com][3]).\n",
    "* **Tool-use and function calling**: Built to interact with external tools and manage agentic workflows—outperforming models like o1‑mini in the Berkeley Function Calling leaderboard ([groq.com][4]).\n",
    "* **Self-reflective reasoning (“chain-of-thought”)**: Internally uses RL to pause and reflect (“<think>…”) before producing answers, enhancing accuracy despite verbose outputs ([groq.com][4]).\n",
    "\n",
    "---\n",
    "\n",
    "### 🛠️ Training & Access\n",
    "\n",
    "* **Built by Alibaba Cloud's Qwen team**: Based on pre‑training Qwen 2.5‑32B, then RL‑finetuned for reasoning tasks using verifiers for math and code correctness ([qwenlm.github.io][5]).\n",
    "* **Open-source**: Released under the Apache 2.0 license, available via Hugging Face and ModelScope, and accessible through Qwen Chat ([alibabacloud.com][6]).\n",
    "* **Deployment support**: Available on platforms like Groq Cloud and SambaNova, offering high-speed inference (e.g., \\~400 tokens/sec at competitive pricing) ([groq.com][4]).\n",
    "\n",
    "---\n",
    "\n",
    "### 🌐 Who built it?\n",
    "\n",
    "* **Developer**: **Alibaba Cloud** (Qwen team)\n",
    "* **Part of**: The Qwen LLM family—a growing open-source series from Alibaba, with Qwen3 being the latest ([en.wikipedia.org][7], [arxiv.org][8]).\n",
    "\n",
    "---\n",
    "\n",
    "### 🔍 Summary Table\n",
    "\n",
    "| Feature            | Details                                                 |\n",
    "| ------------------ | ------------------------------------------------------- |\n",
    "| **Parameters**     | \\~32 B                                                  |\n",
    "| **Architecture**   | Transformer with RoPE, SwiGLU, RMSNorm, QKV bias        |\n",
    "| **Context window** | Up to 131K tokens                                       |\n",
    "| **Strengths**      | Reasoning, math, code, tool use                         |\n",
    "| **Benchmarks**     | Comparable to much larger models (DeepSeek-R1, o1-mini) |\n",
    "| **Access**         | Open-source (Apache 2.0); hosted on multiple platforms  |\n",
    "| **Built by**       | Alibaba Cloud’s Qwen team                               |\n",
    "\n",
    "---\n",
    "\n",
    "In essence, **QwQ‑32B** is a mid-sized, open-source reasoning powerhouse from Alibaba—delivering sophisticated analytical performance while remaining efficient and accessible.\n",
    "\n",
    "* [barrons.com](https://www.barrons.com/articles/alibaba-baba-stock-adr-price-qwen-deepseek-064f5fcc?utm_source=chatgpt.com)\n",
    "* [time.com](https://time.com/7265415/alibaba-model-ai-china-deepseek/?utm_source=chatgpt.com)\n",
    "* [reuters.com](https://www.reuters.com/technology/alibaba-shares-surge-after-it-unveils-reasoning-model-2025-03-06/?utm_source=chatgpt.com)\n",
    "\n",
    "[1]: https://medium.com/%40ferreradaniel/power-of-ai-reasoning-qwen-qwq-32b-revolutionizes-problem-solving-8c775607826f?utm_source=chatgpt.com \"Power of AI Reasoning: Qwen QwQ-32B Revolutionizes Problem ...\"\n",
    "[2]: https://huggingface.co/Qwen/QwQ-32B?utm_source=chatgpt.com \"Qwen/QwQ-32B - Hugging Face\"\n",
    "[3]: https://www.datacamp.com/blog/qwq-32b?utm_source=chatgpt.com \"QwQ-32B: Features, Access, DeepSeek-R1 Comparison & More\"\n",
    "[4]: https://groq.com/a-guide-to-reasoning-with-qwen-qwq-32b/?utm_source=chatgpt.com \"A Guide to Reasoning with Qwen QwQ 32B - Groq is Fast AI Inference\"\n",
    "[5]: https://qwenlm.github.io/blog/qwq-32b/?utm_source=chatgpt.com \"QwQ-32B: Embracing the Power of Reinforcement Learning - Qwen\"\n",
    "[6]: https://www.alibabacloud.com/blog/alibaba-cloud-unveils-qwq-32b-a-compact-reasoning-model-with-cutting-edge-performance_602039?utm_source=chatgpt.com \"Alibaba Cloud Unveils QwQ-32B: A Compact Reasoning Model with ...\"\n",
    "[7]: https://en.wikipedia.org/wiki/Qwen?utm_source=chatgpt.com \"Qwen\"\n",
    "[8]: https://arxiv.org/abs/2505.09388?utm_source=chatgpt.com \"Qwen3 Technical Report\"\n"
   ]
  },
  {
   "cell_type": "markdown",
   "id": "654e779b",
   "metadata": {},
   "source": [
    "## Langchain chat prompt template"
   ]
  },
  {
   "cell_type": "code",
   "execution_count": 11,
   "id": "68c53691",
   "metadata": {},
   "outputs": [
    {
     "data": {
      "text/plain": [
       "ChatPromptTemplate(input_variables=['input'], input_types={}, partial_variables={}, messages=[SystemMessagePromptTemplate(prompt=PromptTemplate(input_variables=[], input_types={}, partial_variables={}, template='You are an expert AI Engineer. Provide me answer based on the question'), additional_kwargs={}), HumanMessagePromptTemplate(prompt=PromptTemplate(input_variables=['input'], input_types={}, partial_variables={}, template='{input}'), additional_kwargs={})])"
      ]
     },
     "execution_count": 11,
     "metadata": {},
     "output_type": "execute_result"
    }
   ],
   "source": [
    "### Prompt Engineering\n",
    "from langchain_core.prompts import ChatPromptTemplate\n",
    "\n",
    "prompt=ChatPromptTemplate.from_messages(\n",
    "    [\n",
    "        (\"system\",\"You are an expert AI Engineer. Provide me answer based on the question\"),\n",
    "        (\"user\",\"{input}\")\n",
    "    ]\n",
    ")\n",
    "prompt"
   ]
  },
  {
   "cell_type": "code",
   "execution_count": 12,
   "id": "26c6411d",
   "metadata": {},
   "outputs": [
    {
     "data": {
      "text/plain": [
       "ChatGroq(client=<groq.resources.chat.completions.Completions object at 0x0000029D7CF682D0>, async_client=<groq.resources.chat.completions.AsyncCompletions object at 0x0000029D7CF68E10>, model_name='gemma2-9b-it', model_kwargs={}, groq_api_key=SecretStr('**********'))"
      ]
     },
     "execution_count": 12,
     "metadata": {},
     "output_type": "execute_result"
    }
   ],
   "source": [
    "from langchain_groq import ChatGroq\n",
    "model=ChatGroq(model=\"gemma2-9b-it\")\n",
    "model"
   ]
  },
  {
   "cell_type": "markdown",
   "id": "91b39c1e",
   "metadata": {},
   "source": [
    "> gemma2-9b-it\n",
    "\n",
    "**Gemma 2 9B‑IT** is the instruction-tuned, text-generation-focused variant of Google’s open-source Gemma 2 model series. Here's a breakdown of what makes it special:\n",
    "\n",
    "---\n",
    "\n",
    "### 🧠 What is Gemma 2 9B-IT?\n",
    "\n",
    "* **Text-to-text, decoder‑only LLM**: Based on the same research and architecture as Google's Gemini models and fine-tuned for instruction-following tasks like chat, summarization, code generation, reasoning, and more ([huggingface.co][1]).\n",
    "* **Mid-sized (\\~9 billion parameters)**: Offers a strong balance between performance and computational efficiency — outperforming models like Llama 3 8B in its category ([blog.google][2]).\n",
    "* **Core design improvements**: Utilizes advanced techniques like group-query attention, extra RMSNorm layers, and distillation from larger variants to boost performance and stability ([developers.googleblog.com][3]).\n",
    "* **Context window**: Typically supports around 8K tokens (as part of the Gemma 2 family), although future variants (Gemma 3) expand this ([docsbot.ai][4]).\n",
    "\n",
    "---\n",
    "\n",
    "### ⚙️ Capabilities & Usage\n",
    "\n",
    "* **Instruction-tuned** (“IT”): Specialized to follow user instructions, making it excellent for chatbots, content creation, Q\\&A, and language transformation.\n",
    "* **Versatile applications**: Works well for text generation (stories, essays), summarization, translation, basic code generation and reasoning, and more ([build.nvidia.com][5]).\n",
    "* **Developer-friendly**: Open weights under Google’s Gemma license, usable via Hugging Face, NVIDIA NIM containers, Ollama, OpenRouter, DeepInfra, etc. ([huggingface.co][1]).\n",
    "* **Hardware-friendly**: Efficient enough to run inference on GPUs (e.g., A100/H100 or even home hardware setups) and via on-device frameworks like Gemma.cpp or llama.cpp ([huggingface.co][6]).\n",
    "\n",
    "---\n",
    "\n",
    "### 🌐 Who built it?\n",
    "\n",
    "* **Developed by**: Google (Gemma Team / Google DeepMind), as part of the Gemma 2 model family ([huggingface.co][1]).\n",
    "* **Instruction-tuned variant**: The “IT” suffix indicates fine-tuning on conversational and instructional datasets to optimize behavior in chat and command-following scenarios.\n",
    "\n",
    "---\n",
    "\n",
    "### 🧪 Community Impressions\n",
    "\n",
    "On Reddit (r/LocalLLaMA), users praise its performance and personality:\n",
    "\n",
    "> “This is the best model I have ever run on my 3060 shit‑box… It’s the first model that genuinely felt better than GPT‑3.5.” ([developers.googleblog.com][7], [reddit.com][8])\n",
    "\n",
    "They highlight its friendly tone, multilingual capabilities, and strong suitability for roleplay — albeit with occasional factual inaccuracies ([reddit.com][8]).\n",
    "\n",
    "---\n",
    "\n",
    "### 📋 Quick Overview\n",
    "\n",
    "| Feature            | Details                                                                               |\n",
    "| ------------------ | ------------------------------------------------------------------------------------- |\n",
    "| **Params**         | \\~9 billion                                                                           |\n",
    "| **Architecture**   | Gemma 2 backbone; instruction‑tuned                                                   |\n",
    "| **Context window** | \\~8K tokens                                                                           |\n",
    "| **Strengths**      | Efficient inference, instruction-following, multilingual writing, creative generation |\n",
    "| **Usage**          | Chatbots, summarization, code, general text                                           |\n",
    "| **Access**         | Open-source on Hugging Face, NVIDIA NIM, Ollama, DeepInfra, etc.                      |\n",
    "| **Developer**      | Google / DeepMind Gemma Team                                                          |\n",
    "\n",
    "---\n",
    "\n",
    "**In summary:**\n",
    "Gemma 2 9B‑IT is a highly capable, efficient, instruction‑tuned language model from Google. It's optimized for chat and content generation tasks within a practical 9B parameter size, offering open access for developers and strong performance relative to similarly sized models.\n",
    "\n",
    "Feel free to ask if you want usage examples, benchmarks, or deployment pointers!\n",
    "\n",
    "[1]: https://huggingface.co/google/gemma-2-9b-it?utm_source=chatgpt.com \"google/gemma-2-9b-it - Hugging Face\"\n",
    "[2]: https://blog.google/technology/developers/google-gemma-2/?utm_source=chatgpt.com \"Gemma 2 is now available to researchers and developers\"\n",
    "[3]: https://developers.googleblog.com/gemma-explained-new-in-gemma-2?utm_source=chatgpt.com \"Gemma explained: What's new in Gemma 2 - Google Developers Blog\"\n",
    "[4]: https://docsbot.ai/models/gemma-2-9b?utm_source=chatgpt.com \"Google's Gemma 2 9B - AI Model Details - DocsBot AI\"\n",
    "[5]: https://build.nvidia.com/google/gemma-2-9b-it/modelcard?utm_source=chatgpt.com \"gemma-2-9b-it Model by Google | NVIDIA NIM\"\n",
    "[6]: https://huggingface.co/INSAIT-Institute/BgGPT-Gemma-2-9B-IT-v1.0?utm_source=chatgpt.com \"INSAIT-Institute/BgGPT-Gemma-2-9B-IT-v1.0 - Hugging Face\"\n",
    "[7]: https://developers.googleblog.com/en/gemma-explained-overview-gemma-model-family-architectures/?utm_source=chatgpt.com \"Gemma explained: An overview of Gemma model family architectures\"\n",
    "[8]: https://www.reddit.com/r/LocalLLaMA/comments/1drxhlh/gemma_2_9b_appreciation_post/?utm_source=chatgpt.com \"Gemma 2 9b appreciation post : r/LocalLLaMA - Reddit\"\n",
    " "
   ]
  },
  {
   "cell_type": "markdown",
   "id": "ffefe77e",
   "metadata": {},
   "source": [
    "## chaining"
   ]
  },
  {
   "cell_type": "code",
   "execution_count": 13,
   "id": "81c90369",
   "metadata": {},
   "outputs": [
    {
     "data": {
      "text/plain": [
       "ChatPromptTemplate(input_variables=['input'], input_types={}, partial_variables={}, messages=[SystemMessagePromptTemplate(prompt=PromptTemplate(input_variables=[], input_types={}, partial_variables={}, template='You are an expert AI Engineer. Provide me answer based on the question'), additional_kwargs={}), HumanMessagePromptTemplate(prompt=PromptTemplate(input_variables=['input'], input_types={}, partial_variables={}, template='{input}'), additional_kwargs={})])\n",
       "| ChatGroq(client=<groq.resources.chat.completions.Completions object at 0x0000029D7CF682D0>, async_client=<groq.resources.chat.completions.AsyncCompletions object at 0x0000029D7CF68E10>, model_name='gemma2-9b-it', model_kwargs={}, groq_api_key=SecretStr('**********'))"
      ]
     },
     "execution_count": 13,
     "metadata": {},
     "output_type": "execute_result"
    }
   ],
   "source": [
    "chain=prompt|model\n",
    "chain"
   ]
  },
  {
   "cell_type": "code",
   "execution_count": 14,
   "id": "31f1a0d2",
   "metadata": {},
   "outputs": [
    {
     "name": "stdout",
     "output_type": "stream",
     "text": [
      "As an AI engineer, I'm familiar with Langsmith! \n",
      "\n",
      "Langsmith is an open-source platform designed to simplify the development and deployment of large language models (LLMs). Think of it as a toolbox specifically built for working with powerful AI like me. \n",
      "\n",
      "Here are some key things to know about Langsmith:\n",
      "\n",
      "**What it does:**\n",
      "\n",
      "* **Fine-tuning:** Langsmith makes it easier to customize pre-trained LLMs for specific tasks. Imagine taking a general-purpose language model and training it to excel at summarizing medical documents, writing different kinds of creative content, or answering questions about a particular subject. \n",
      "* **Evaluation:** It provides tools to assess the performance of your fine-tuned models. This helps you understand how well your model is doing and identify areas for improvement.\n",
      "* **Deployment:** Langsmith streamlines the process of putting your trained models into action. It can help you create APIs or integrate your models into existing applications.\n",
      "\n",
      "**Why it's useful:**\n",
      "\n",
      "* **Accessibility:**  Langsmith lowers the barrier to entry for working with LLMs. It doesn't require extensive machine learning expertise to get started.\n",
      "* **Efficiency:** It automates many of the tedious tasks involved in LLM development, saving you time and effort.\n",
      "* **Collaboration:** As an open-source platform, Langsmith encourages community contributions and knowledge sharing.\n",
      "\n",
      "**Who uses it:**\n",
      "\n",
      "* **Researchers:**  Langsmith can be used to experiment with new LLM architectures and training techniques.\n",
      "* **Developers:** It's a valuable tool for building AI-powered applications.\n",
      "* **Anyone interested in exploring the potential of LLMs:**  Even if you don't have a deep technical background, Langsmith can be a fun and educational way to learn about this exciting field.\n",
      "\n",
      "\n",
      "Let me know if you have any more questions about Langsmith or LLMs in general!\n",
      "\n"
     ]
    }
   ],
   "source": [
    "response=chain.invoke({\"input\":\"Can you tell me something about Langsmith\"})\n",
    "print(response.content)"
   ]
  },
  {
   "cell_type": "markdown",
   "id": "f9cd689a",
   "metadata": {},
   "source": [
    "## Langchain Output Parser"
   ]
  },
  {
   "cell_type": "markdown",
   "id": "f0fb5ec8",
   "metadata": {},
   "source": [
    "### StrOutputParser"
   ]
  },
  {
   "cell_type": "code",
   "execution_count": 15,
   "id": "d0c91736",
   "metadata": {},
   "outputs": [
    {
     "name": "stdout",
     "output_type": "stream",
     "text": [
      "As an AI engineer, I'm happy to tell you about Langsmith!  \n",
      "\n",
      "Langsmith is an open-source tool developed by AssemblyAI that simplifies the process of fine-tuning large language models (LLMs) for specific tasks.  Essentially, it acts as a user-friendly interface and framework for customizing powerful LLMs like GPT-3 and making them more effective for your particular needs. \n",
      "\n",
      "Here's a breakdown of Langsmith's key features and benefits:\n",
      "\n",
      "**Key Features:**\n",
      "\n",
      "* **Simplified Fine-Tuning:** Langsmith streamlines the fine-tuning process, making it accessible to a wider range of users, even those without extensive machine learning expertise.\n",
      "* **Pythonic API:** It provides a Python-based API that's intuitive and easy to integrate into existing workflows.\n",
      "* **Data Management:** Langsmith helps you manage your training data effectively, including splitting it, cleaning it, and formatting it for fine-tuning.\n",
      "* **Experiment Tracking:** It allows you to track your fine-tuning experiments, compare different models and parameters, and easily reproduce your best results.\n",
      "* **Model Deployment:** Langsmith aids in deploying your fine-tuned models for real-world applications.\n",
      "\n",
      "**Benefits:**\n",
      "\n",
      "* **Improved Performance:** Fine-tuning LLMs on your specific data can significantly enhance their accuracy and performance for your target tasks.\n",
      "* **Customization:** You can tailor LLMs to your unique domain or use case, achieving better results than using a generic pre-trained model.\n",
      "* **Cost-Effectiveness:** By fine-tuning existing models instead of training new ones from scratch, you can save on computational resources and time.\n",
      "* **Accessibility:** Langsmith lowers the barrier to entry for using LLMs, enabling more people to leverage their power.\n",
      "\n",
      "**Use Cases:**\n",
      "\n",
      "Langsmith is versatile and can be used for various applications, including:\n",
      "\n",
      "* **Chatbots:** Fine-tune LLMs to create more conversational and context-aware chatbots.\n",
      "* **Text Summarization:** Improve the accuracy and quality of text summarization tasks.\n",
      "* **Code Generation:** Train LLMs to generate code in specific programming languages.\n",
      "* **Question Answering:** Enhance the performance of question-answering systems.\n",
      "* **Sentiment Analysis:** Fine-tune LLMs for more accurate sentiment analysis in text.\n",
      "\n",
      "\n",
      "\n",
      "Let me know if you have any more questions about Langsmith or want to delve deeper into specific aspects!\n",
      "\n"
     ]
    }
   ],
   "source": [
    "### OutputParser\n",
    "from langchain_core.output_parsers import StrOutputParser\n",
    "\n",
    "output_parser=StrOutputParser()\n",
    "\n",
    "chain=prompt|model|output_parser\n",
    "\n",
    "response=chain.invoke({\"input\":\"Can you tell me about Langsmith\"})\n",
    "print(response)"
   ]
  },
  {
   "cell_type": "markdown",
   "id": "6f184ba5",
   "metadata": {},
   "source": [
    "### JsonOutputParser"
   ]
  },
  {
   "cell_type": "code",
   "execution_count": 19,
   "id": "c4659204",
   "metadata": {},
   "outputs": [
    {
     "data": {
      "text/plain": [
       "'Return a JSON object.'"
      ]
     },
     "execution_count": 19,
     "metadata": {},
     "output_type": "execute_result"
    }
   ],
   "source": [
    "from langchain_core.output_parsers import JsonOutputParser\n",
    "\n",
    "output_parser=JsonOutputParser()\n",
    "output_parser.get_format_instructions()"
   ]
  },
  {
   "cell_type": "code",
   "execution_count": 20,
   "id": "f28edc9f",
   "metadata": {},
   "outputs": [],
   "source": [
    "### OutputParser\n",
    "from langchain_core.output_parsers import JsonOutputParser\n",
    "from langchain_core.prompts import PromptTemplate\n",
    "\n",
    "output_parser=JsonOutputParser()\n",
    "\n",
    "prompt=PromptTemplate(\n",
    "    template=\"Answer the user query \\n {format_instruction}\\n {query}\\n \",\n",
    "    input_variables=[\"query\"],\n",
    "    partial_variables={\"format_instruction\":output_parser.get_format_instructions()},\n",
    ")"
   ]
  },
  {
   "cell_type": "code",
   "execution_count": 21,
   "id": "24008f28",
   "metadata": {},
   "outputs": [
    {
     "data": {
      "text/plain": [
       "PromptTemplate(input_variables=['query'], input_types={}, partial_variables={'format_instruction': 'Return a JSON object.'}, template='Answer the user query \\n {format_instruction}\\n {query}\\n ')"
      ]
     },
     "execution_count": 21,
     "metadata": {},
     "output_type": "execute_result"
    }
   ],
   "source": [
    "prompt\n"
   ]
  },
  {
   "cell_type": "code",
   "execution_count": 22,
   "id": "42281dad",
   "metadata": {},
   "outputs": [
    {
     "name": "stdout",
     "output_type": "stream",
     "text": [
      "{'name': 'Langsmith', 'description': 'Langsmith is an open-source platform for building and deploying large language models (LLMs). It provides a modular and scalable architecture that allows developers to easily customize and experiment with different LLM components.', 'key_features': ['Modular and extensible design', 'Support for various LLM architectures', 'Easy deployment and management', 'Open-source and community-driven', 'Integration with popular machine learning frameworks'], 'website': 'https://github.com/langs-platform/langs'}\n"
     ]
    }
   ],
   "source": [
    "chain=prompt|model|output_parser\n",
    "response=chain.invoke({\"query\":\"Can you tell me about Langsmith?\"})\n",
    "print(response)"
   ]
  },
  {
   "cell_type": "code",
   "execution_count": 26,
   "id": "55498157",
   "metadata": {},
   "outputs": [
    {
     "name": "stdout",
     "output_type": "stream",
     "text": [
      "('Langsmith is an open-source platform for building and deploying large '\n",
      " 'language models (LLMs). It provides a modular and scalable architecture that '\n",
      " 'allows developers to easily customize and experiment with different LLM '\n",
      " 'components.')\n"
     ]
    }
   ],
   "source": [
    "from pprint import pprint\n",
    "pprint(response['description'])"
   ]
  },
  {
   "cell_type": "code",
   "execution_count": 27,
   "id": "377712a4",
   "metadata": {},
   "outputs": [
    {
     "data": {
      "text/plain": [
       "ChatPromptTemplate(input_variables=['input'], input_types={}, partial_variables={}, messages=[SystemMessagePromptTemplate(prompt=PromptTemplate(input_variables=[], input_types={}, partial_variables={}, template='You are an expert AI Engineer.Provide the response in json.Provide me answer based on the question'), additional_kwargs={}), HumanMessagePromptTemplate(prompt=PromptTemplate(input_variables=['input'], input_types={}, partial_variables={}, template='{input}'), additional_kwargs={})])"
      ]
     },
     "execution_count": 27,
     "metadata": {},
     "output_type": "execute_result"
    }
   ],
   "source": [
    "from langchain_core.prompts import ChatPromptTemplate\n",
    "\n",
    "prompt=ChatPromptTemplate.from_messages(\n",
    "    [\n",
    "        (\"system\",\"You are an expert AI Engineer.Provide the response in json.Provide me answer based on the question\"),\n",
    "        (\"user\",\"{input}\")\n",
    "    ]\n",
    ")\n",
    "prompt"
   ]
  },
  {
   "cell_type": "code",
   "execution_count": 28,
   "id": "7611d5c6",
   "metadata": {},
   "outputs": [
    {
     "name": "stdout",
     "output_type": "stream",
     "text": [
      "{'response': 'Langsmith is an open-source framework developed by the Hugging Face community for fine-tuning large language models (LLMs). \\n\\n  **Key Features:**\\n\\n  * **Simplified Fine-Tuning:** Langsmith makes it easier to fine-tune LLMs by providing a user-friendly interface and streamlined workflows.\\n\\n  * **Model Management:** It offers tools for managing and versioning your fine-tuned models.\\n\\n  * **Dataset Integration:** Langsmith supports various data formats and integrates with popular datasets.\\n\\n  * **Experiment Tracking:** It allows you to track your fine-tuning experiments and compare results.\\n\\n  * **Community-Driven:** As an open-source project, Langsmith benefits from the contributions and support of a large community of developers.\\n\\n  **Benefits:**\\n\\n  * **Accessibility:** Makes fine-tuning LLMs accessible to a wider range of users.\\n  * **Efficiency:** Streamlines the fine-tuning process, saving time and resources.\\n  * **Customization:** Allows you to tailor LLMs to specific tasks and domains.\\n  * **Collaboration:** Fosters collaboration and knowledge sharing within the AI community.\\n\\n  **Use Cases:**\\n\\n  * **Text Generation:** Fine-tune LLMs for tasks like creative writing, summarization, and dialogue systems.\\n  * **Code Generation:** Train LLMs to generate code in different programming languages.\\n  * **Question Answering:**\\n\\n  Adapt LLMs to answer questions based on specific knowledge bases.\\n  * **Sentiment Analysis:** Fine-tune LLMs to classify text sentiment.\\n\\n  **Getting Started:**\\n\\n  Langsmith can be installed using pip. The Hugging Face website provides comprehensive documentation and tutorials to help you get started.'}\n"
     ]
    }
   ],
   "source": [
    "chain=prompt|model|output_parser\n",
    "response=chain.invoke({\"input\":\"Can you tell me about Langsmith?\"})\n",
    "print(response)"
   ]
  },
  {
   "cell_type": "code",
   "execution_count": 29,
   "id": "47cfd824",
   "metadata": {},
   "outputs": [
    {
     "name": "stdout",
     "output_type": "stream",
     "text": [
      "{'response': 'Langsmith is an open-source framework developed by the Hugging '\n",
      "             'Face community for fine-tuning large language models (LLMs). \\n'\n",
      "             '\\n'\n",
      "             '  **Key Features:**\\n'\n",
      "             '\\n'\n",
      "             '  * **Simplified Fine-Tuning:** Langsmith makes it easier to '\n",
      "             'fine-tune LLMs by providing a user-friendly interface and '\n",
      "             'streamlined workflows.\\n'\n",
      "             '\\n'\n",
      "             '  * **Model Management:** It offers tools for managing and '\n",
      "             'versioning your fine-tuned models.\\n'\n",
      "             '\\n'\n",
      "             '  * **Dataset Integration:** Langsmith supports various data '\n",
      "             'formats and integrates with popular datasets.\\n'\n",
      "             '\\n'\n",
      "             '  * **Experiment Tracking:** It allows you to track your '\n",
      "             'fine-tuning experiments and compare results.\\n'\n",
      "             '\\n'\n",
      "             '  * **Community-Driven:** As an open-source project, Langsmith '\n",
      "             'benefits from the contributions and support of a large community '\n",
      "             'of developers.\\n'\n",
      "             '\\n'\n",
      "             '  **Benefits:**\\n'\n",
      "             '\\n'\n",
      "             '  * **Accessibility:** Makes fine-tuning LLMs accessible to a '\n",
      "             'wider range of users.\\n'\n",
      "             '  * **Efficiency:** Streamlines the fine-tuning process, saving '\n",
      "             'time and resources.\\n'\n",
      "             '  * **Customization:** Allows you to tailor LLMs to specific '\n",
      "             'tasks and domains.\\n'\n",
      "             '  * **Collaboration:** Fosters collaboration and knowledge '\n",
      "             'sharing within the AI community.\\n'\n",
      "             '\\n'\n",
      "             '  **Use Cases:**\\n'\n",
      "             '\\n'\n",
      "             '  * **Text Generation:** Fine-tune LLMs for tasks like creative '\n",
      "             'writing, summarization, and dialogue systems.\\n'\n",
      "             '  * **Code Generation:** Train LLMs to generate code in '\n",
      "             'different programming languages.\\n'\n",
      "             '  * **Question Answering:**\\n'\n",
      "             '\\n'\n",
      "             '  Adapt LLMs to answer questions based on specific knowledge '\n",
      "             'bases.\\n'\n",
      "             '  * **Sentiment Analysis:** Fine-tune LLMs to classify text '\n",
      "             'sentiment.\\n'\n",
      "             '\\n'\n",
      "             '  **Getting Started:**\\n'\n",
      "             '\\n'\n",
      "             '  Langsmith can be installed using pip. The Hugging Face website '\n",
      "             'provides comprehensive documentation and tutorials to help you '\n",
      "             'get started.'}\n"
     ]
    }
   ],
   "source": [
    "pprint(response)"
   ]
  },
  {
   "cell_type": "markdown",
   "id": "144be5ba",
   "metadata": {},
   "source": [
    "### XML output parser"
   ]
  },
  {
   "cell_type": "code",
   "execution_count": 30,
   "id": "9c770ba5",
   "metadata": {},
   "outputs": [
    {
     "data": {
      "text/plain": [
       "ChatPromptTemplate(input_variables=['input'], input_types={}, partial_variables={}, messages=[SystemMessagePromptTemplate(prompt=PromptTemplate(input_variables=[], input_types={}, partial_variables={}, template='You are an expert AI Engineer.<response><answer>Your answer here</answer></response>.Provide me answer based on the question'), additional_kwargs={}), HumanMessagePromptTemplate(prompt=PromptTemplate(input_variables=['input'], input_types={}, partial_variables={}, template='{input}'), additional_kwargs={})])"
      ]
     },
     "execution_count": 30,
     "metadata": {},
     "output_type": "execute_result"
    }
   ],
   "source": [
    "### OutputParser\n",
    "from langchain_core.output_parsers import XMLOutputParser\n",
    "output_parser=XMLOutputParser()\n",
    "from langchain_core.prompts import ChatPromptTemplate\n",
    "\n",
    "prompt=ChatPromptTemplate.from_messages(\n",
    "    [\n",
    "        (\"system\",\"You are an expert AI Engineer.<response><answer>Your answer here</answer></response>.Provide me answer based on the question\"),\n",
    "        (\"user\",\"{input}\")\n",
    "    ]\n",
    ")\n",
    "prompt"
   ]
  },
  {
   "cell_type": "code",
   "execution_count": 31,
   "id": "6ff59004",
   "metadata": {},
   "outputs": [
    {
     "data": {
      "text/plain": [
       "PromptTemplate(input_variables=['query'], input_types={}, partial_variables={'format_instruction': 'The output should be formatted as a XML file.\\n1. Output should conform to the tags below.\\n2. If tags are not given, make them on your own.\\n3. Remember to always open and close all the tags.\\n\\nAs an example, for the tags [\"foo\", \"bar\", \"baz\"]:\\n1. String \"<foo>\\n   <bar>\\n      <baz></baz>\\n   </bar>\\n</foo>\" is a well-formatted instance of the schema.\\n2. String \"<foo>\\n   <bar>\\n   </foo>\" is a badly-formatted instance.\\n3. String \"<foo>\\n   <tag>\\n   </tag>\\n</foo>\" is a badly-formatted instance.\\n\\nHere are the output tags:\\n```\\nNone\\n```'}, template='Answer the user query \\n {format_instruction}\\n {query}\\n ')"
      ]
     },
     "execution_count": 31,
     "metadata": {},
     "output_type": "execute_result"
    }
   ],
   "source": [
    "### OutputParser\n",
    "from langchain_core.output_parsers import XMLOutputParser\n",
    "from langchain_core.prompts import PromptTemplate\n",
    "\n",
    "output_parser=XMLOutputParser()\n",
    "\n",
    "prompt=PromptTemplate(\n",
    "    template=\"Answer the user query \\n {format_instruction}\\n {query}\\n \",\n",
    "    input_variables=[\"query\"],\n",
    "    partial_variables={\"format_instruction\":output_parser.get_format_instructions()},\n",
    ")\n",
    "prompt"
   ]
  },
  {
   "cell_type": "code",
   "execution_count": 32,
   "id": "88d60a94",
   "metadata": {},
   "outputs": [
    {
     "name": "stdout",
     "output_type": "stream",
     "text": [
      "content='```xml\\n<response>\\n  <info>\\n    <name>Langsmith</name>\\n    <description>Langsmith is an open-weights platform for developing and deploying AI assistants.</description>\\n    <creator>It is created by the Gemma team at Google DeepMind.</creator>\\n    <features>\\n      <feature>Modular design allows for easy customization and extension.</feature>\\n      <feature>Focuses on responsible AI development with transparency and ethical considerations.</feature>\\n      <feature>Supports various AI models and allows users to fine-tune them for specific tasks.</feature>\\n    </features>\\n  </info>\\n</response>\\n```\\n' additional_kwargs={} response_metadata={'token_usage': {'completion_tokens': 144, 'prompt_tokens': 195, 'total_tokens': 339, 'completion_time': 0.261818182, 'prompt_time': 0.007734238, 'queue_time': 0.16343249199999998, 'total_time': 0.26955242}, 'model_name': 'gemma2-9b-it', 'system_fingerprint': 'fp_10c08bf97d', 'finish_reason': 'stop', 'logprobs': None} id='run--e4f61e62-2582-4ee9-91b7-b4fed69358f6-0' usage_metadata={'input_tokens': 195, 'output_tokens': 144, 'total_tokens': 339}\n"
     ]
    }
   ],
   "source": [
    "chain=prompt|model\n",
    "response=chain.invoke({\"query\":\"Can you tell me about Langsmith?\"})\n",
    "print(response)"
   ]
  },
  {
   "cell_type": "code",
   "execution_count": 34,
   "id": "34856aac",
   "metadata": {},
   "outputs": [
    {
     "name": "stdout",
     "output_type": "stream",
     "text": [
      "('```xml\\n'\n",
      " '<response>\\n'\n",
      " '  <info>\\n'\n",
      " '    <name>Langsmith</name>\\n'\n",
      " '    <description>Langsmith is an open-weights platform for developing and '\n",
      " 'deploying AI assistants.</description>\\n'\n",
      " '    <creator>It is created by the Gemma team at Google DeepMind.</creator>\\n'\n",
      " '    <features>\\n'\n",
      " '      <feature>Modular design allows for easy customization and '\n",
      " 'extension.</feature>\\n'\n",
      " '      <feature>Focuses on responsible AI development with transparency and '\n",
      " 'ethical considerations.</feature>\\n'\n",
      " '      <feature>Supports various AI models and allows users to fine-tune them '\n",
      " 'for specific tasks.</feature>\\n'\n",
      " '    </features>\\n'\n",
      " '  </info>\\n'\n",
      " '</response>\\n'\n",
      " '```\\n')\n"
     ]
    }
   ],
   "source": [
    "pprint(response.content)"
   ]
  },
  {
   "cell_type": "code",
   "execution_count": 35,
   "id": "f5776587",
   "metadata": {},
   "outputs": [
    {
     "name": "stdout",
     "output_type": "stream",
     "text": [
      "content='<response><answer>LangChain is an open-source framework designed to simplify the development of applications powered by large language models (LLMs). It provides a suite of tools and components that enable developers to build, chain, and manage LLM interactions in a modular and efficient way.</answer></response>\\n' additional_kwargs={} response_metadata={'token_usage': {'completion_tokens': 64, 'prompt_tokens': 39, 'total_tokens': 103, 'completion_time': 0.116363636, 'prompt_time': 0.003605134, 'queue_time': 0.258729756, 'total_time': 0.11996877}, 'model_name': 'gemma2-9b-it', 'system_fingerprint': 'fp_10c08bf97d', 'finish_reason': 'stop', 'logprobs': None} id='run--d8d73875-78f3-44c7-9ad1-59a5c10ccf21-0' usage_metadata={'input_tokens': 39, 'output_tokens': 64, 'total_tokens': 103}\n"
     ]
    }
   ],
   "source": [
    "##output parser\n",
    "#from langchain_core.output_parsers import XMLOutputParser\n",
    "from langchain.output_parsers.xml import XMLOutputParser\n",
    "\n",
    "# XML Output Parser\n",
    "output_parser = XMLOutputParser()\n",
    "\n",
    "# Prompt that instructs the model to return XML\n",
    "prompt = ChatPromptTemplate.from_messages([\n",
    "    (\"system\", \"You are a helpful assistant. Respond in this XML format: <response><answer>Your answer here</answer></response>\"),\n",
    "    (\"human\", \"{input}\")\n",
    "])\n",
    "\n",
    "# Build the chain\n",
    "chain = prompt | model\n",
    "\n",
    "# Run the chain\n",
    "#response = chain.invoke({\"input\": \"What is LangChain?\"})\n",
    "\n",
    "raw_output =chain.invoke({\"input\": \"What is LangChain?\"})\n",
    "\n",
    "# Print result\n",
    "print(raw_output)\n"
   ]
  },
  {
   "cell_type": "code",
   "execution_count": 36,
   "id": "b498c3bf",
   "metadata": {},
   "outputs": [
    {
     "data": {
      "text/plain": [
       "{'setup': \"Why couldn't the bicycle find its way home?\", 'punchline': 'Because it lost its bearings!'}"
      ]
     },
     "execution_count": 36,
     "metadata": {},
     "output_type": "execute_result"
    }
   ],
   "source": [
    "## With Pydantic\n",
    "from langchain_core.output_parsers import JsonOutputParser\n",
    "from langchain_core.prompts import PromptTemplate\n",
    "from langchain_openai import ChatOpenAI\n",
    "from pydantic import BaseModel, Field\n",
    "\n",
    "model = ChatOpenAI(temperature=0.7)\n",
    "\n",
    "\n",
    "# Define your desired data structure.\n",
    "class Joke(BaseModel):\n",
    "    setup: str = Field(description=\"question to set up a joke\")\n",
    "    punchline: str = Field(description=\"answer to resolve the joke\")\n",
    "\n",
    "\n",
    "# And a query intented to prompt a language model to populate the data structure.\n",
    "joke_query = \"Tell me a joke.\"\n",
    "\n",
    "# Set up a parser + inject instructions into the prompt template.\n",
    "parser = JsonOutputParser(pydantic_object=Joke)\n",
    "\n",
    "prompt = PromptTemplate(\n",
    "    template=\"Answer the user query.\\n{format_instructions}\\n{query}\\n\",\n",
    "    input_variables=[\"query\"],\n",
    "    partial_variables={\"format_instructions\": parser.get_format_instructions()},\n",
    ")\n",
    "\n",
    "chain = prompt | model | parser\n",
    "\n",
    "chain.invoke({\"query\": joke_query})"
   ]
  },
  {
   "cell_type": "code",
   "execution_count": 37,
   "id": "e2fe2a97",
   "metadata": {},
   "outputs": [
    {
     "data": {
      "text/plain": [
       "{'joke': \"Why couldn't the bicycle stand up by itself? Because it was two tired!\"}"
      ]
     },
     "execution_count": 37,
     "metadata": {},
     "output_type": "execute_result"
    }
   ],
   "source": [
    "### Without Pydantic\n",
    "joke_query = \"Tell me a joke .\"\n",
    "\n",
    "parser = JsonOutputParser()\n",
    "\n",
    "prompt = PromptTemplate(\n",
    "    template=\"Answer the user query.\\n{format_instructions}\\n{query}\\n\",\n",
    "    input_variables=[\"query\"],\n",
    "    partial_variables={\"format_instructions\": parser.get_format_instructions()},\n",
    ")\n",
    "chain = prompt | model | parser\n",
    "\n",
    "chain.invoke({\"query\": joke_query})"
   ]
  },
  {
   "cell_type": "markdown",
   "id": "32480023",
   "metadata": {},
   "source": [
    "pydantic is helpful in JSON output parser to get required format"
   ]
  },
  {
   "cell_type": "code",
   "execution_count": 38,
   "id": "19ba37c0",
   "metadata": {},
   "outputs": [
    {
     "name": "stdout",
     "output_type": "stream",
     "text": [
      "<movie>Big</movie>\n",
      "<movie>Forrest Gump</movie>\n",
      "<movie>Saving Private Ryan</movie>\n",
      "<movie>Cast Away</movie>\n",
      "<movie>The Green Mile</movie>\n",
      "<movie>Toy Story (voice of Woody)</movie>\n",
      "<movie>Apollo 13</movie>\n",
      "<movie>Philadelphia</movie>\n",
      "<movie>Sully</movie>\n",
      "<movie>Bridge of Spies</movie>\n"
     ]
    }
   ],
   "source": [
    "\n",
    "from langchain_core.output_parsers import XMLOutputParser\n",
    "from langchain_core.prompts import PromptTemplate\n",
    "\n",
    "\n",
    "actor_query = \"Generate the shortened filmography for Tom Hanks.\"\n",
    "\n",
    "output = model.invoke(\n",
    "    f\"\"\"{actor_query}\n",
    "Please enclose the movies in <movie></movie> tags\"\"\"\n",
    ")\n",
    "\n",
    "print(output.content)"
   ]
  },
  {
   "cell_type": "code",
   "execution_count": 39,
   "id": "87b25b20",
   "metadata": {},
   "outputs": [
    {
     "data": {
      "text/plain": [
       "Joke(setup=\"Why couldn't the bicycle stand up by itself?\", punchline='Because it was two tired!')"
      ]
     },
     "execution_count": 39,
     "metadata": {},
     "output_type": "execute_result"
    }
   ],
   "source": [
    "from langchain.output_parsers import YamlOutputParser\n",
    "from langchain_core.prompts import PromptTemplate\n",
    "from langchain_openai import ChatOpenAI\n",
    "from pydantic import BaseModel, Field\n",
    "\n",
    "\n",
    "# Define your desired data structure.\n",
    "class Joke(BaseModel):\n",
    "    setup: str = Field(description=\"question to set up a joke\")\n",
    "    punchline: str = Field(description=\"answer to resolve the joke\")\n",
    "\n",
    "\n",
    "model = ChatOpenAI(temperature=0.5)\n",
    "\n",
    "# And a query intented to prompt a language model to populate the data structure.\n",
    "joke_query = \"Tell me a joke.\"\n",
    "\n",
    "# Set up a parser + inject instructions into the prompt template.\n",
    "parser = YamlOutputParser(pydantic_object=Joke)\n",
    "\n",
    "prompt = PromptTemplate(\n",
    "    template=\"Answer the user query.\\n{format_instructions}\\n{query}\\n\",\n",
    "    input_variables=[\"query\"],\n",
    "    partial_variables={\"format_instructions\": parser.get_format_instructions()},\n",
    ")\n",
    "\n",
    "chain = prompt | model | parser\n",
    "\n",
    "chain.invoke({\"query\": joke_query})"
   ]
  },
  {
   "cell_type": "markdown",
   "id": "61bfb688",
   "metadata": {},
   "source": [
    "## Assigments: https://python.langchain.com/docs/how_to/#prompt-templates"
   ]
  },
  {
   "cell_type": "markdown",
   "id": "49a50b16",
   "metadata": {},
   "source": [
    "Here's a **comprehensive summary** of **all types of prompt templates in LangChain**, covering:\n",
    "\n",
    "* 📌 Classes from your **uploaded image**\n",
    "* 📌 Examples and use-cases\n",
    "* 📌 Concepts from the linked guides:\n",
    "\n",
    "  * Few-shot examples\n",
    "  * Chat format examples\n",
    "  * Partial prompts\n",
    "  * Prompt composition\n",
    "  * Multimodal prompts\n",
    "\n",
    "---\n",
    "\n",
    "#### 🧠 1. **BasePromptTemplate**\n",
    "\n",
    "* **Abstract base** class for all prompt templates.\n",
    "* Others like `PromptTemplate`, `ChatPromptTemplate` inherit from this.\n",
    "\n",
    "---\n",
    "\n",
    "#### 📄 2. **PromptTemplate**\n",
    "\n",
    "* For **simple string-based** prompts.\n",
    "\n",
    "```python\n",
    "from langchain_core.prompts import PromptTemplate\n",
    "template = PromptTemplate.from_template(\"Tell me a joke about {topic}\")\n",
    "print(template.format(topic=\"dogs\"))\n",
    "```\n",
    "\n",
    "---\n",
    "\n",
    "#### 🧵 3. **StringPromptTemplate**\n",
    "\n",
    "* Same as `PromptTemplate`, but explicitly focuses on templates with `.format()` method exposure.\n",
    "\n",
    "---\n",
    "\n",
    "#### 💬 4. **ChatPromptTemplate**\n",
    "\n",
    "* Structured prompt for chat models.\n",
    "\n",
    "```python\n",
    "from langchain_core.prompts import ChatPromptTemplate\n",
    "chat_prompt = ChatPromptTemplate.from_messages([\n",
    "    (\"system\", \"You are a helpful assistant.\"),\n",
    "    (\"user\", \"What is the capital of {country}?\")\n",
    "])\n",
    "chat_prompt.format(country=\"France\")\n",
    "```\n",
    "\n",
    "---\n",
    "\n",
    "#### 👤 5. **HumanMessagePromptTemplate**\n",
    "\n",
    "* Message from the **user** in chat.\n",
    "\n",
    "```python\n",
    "from langchain_core.prompts import HumanMessagePromptTemplate\n",
    "HumanMessagePromptTemplate.from_template(\"Translate {text} to Hindi.\")\n",
    "```\n",
    "\n",
    "---\n",
    "\n",
    "#### 🤖 6. **AIMessagePromptTemplate**\n",
    "\n",
    "* Message from the **assistant/AI** in a chat.\n",
    "\n",
    "```python\n",
    "from langchain_core.prompts import AIMessagePromptTemplate\n",
    "AIMessagePromptTemplate.from_template(\"Sure! Here is the translation.\")\n",
    "```\n",
    "\n",
    "---\n",
    "\n",
    "#### 🛠 7. **SystemMessagePromptTemplate**\n",
    "\n",
    "* System-level instruction in a chat.\n",
    "\n",
    "```python\n",
    "from langchain_core.prompts import SystemMessagePromptTemplate\n",
    "SystemMessagePromptTemplate.from_template(\"You are a scientific research assistant.\")\n",
    "```\n",
    "\n",
    "---\n",
    "\n",
    "#### 🔁 8. **ChatMessagePromptTemplate**\n",
    "\n",
    "* Generic chat message with role (human, AI, system, function).\n",
    "\n",
    "```python\n",
    "ChatMessagePromptTemplate.from_template(role=\"function\", template=\"Function name: {name}\")\n",
    "```\n",
    "\n",
    "---\n",
    "\n",
    "#### 🧱 9. **BaseChatPromptTemplate, BaseMessagePromptTemplate, BaseStringMessagePromptTemplate**\n",
    "\n",
    "* Abstract base classes. Used internally for inheritance and consistency across chat/message templates.\n",
    "\n",
    "---\n",
    "\n",
    "#### 🔄 10. **MessagesPlaceholder**\n",
    "\n",
    "* Used to inject a **list of existing messages** into a prompt dynamically.\n",
    "\n",
    "```python\n",
    "from langchain_core.prompts import MessagesPlaceholder\n",
    "MessagesPlaceholder(variable_name=\"chat_history\")\n",
    "```\n",
    "\n",
    "---\n",
    "\n",
    "#### ✨ 11. **FewShotPromptTemplate**\n",
    "\n",
    "* For **few-shot learning** in **string-based** prompts.\n",
    "\n",
    "```python\n",
    "from langchain_core.prompts import FewShotPromptTemplate, PromptTemplate\n",
    "example_prompt = PromptTemplate.from_template(\"Q: {question}\\nA: {answer}\")\n",
    "examples = [{\"question\": \"2+2\", \"answer\": \"4\"}, {\"question\": \"3+5\", \"answer\": \"8\"}]\n",
    "\n",
    "prompt = FewShotPromptTemplate(\n",
    "    examples=examples,\n",
    "    example_prompt=example_prompt,\n",
    "    suffix=\"Q: {input}\\nA:\",\n",
    "    input_variables=[\"input\"]\n",
    ")\n",
    "print(prompt.format(input=\"6+7\"))\n",
    "```\n",
    "\n",
    "---\n",
    "\n",
    "#### 💬✨ 12. **FewShotChatMessagePromptTemplate**\n",
    "\n",
    "* Few-shot for **chat-based prompts**.\n",
    "\n",
    "```python\n",
    "from langchain_core.prompts import FewShotChatMessagePromptTemplate, ChatPromptTemplate\n",
    "example_prompt = ChatPromptTemplate.from_messages([\n",
    "    (\"human\", \"{input}\"),\n",
    "    (\"ai\", \"{output}\")\n",
    "])\n",
    "examples = [{\"input\": \"Hi\", \"output\": \"Hello!\"}]\n",
    "\n",
    "fewshot = FewShotChatMessagePromptTemplate(\n",
    "    example_prompt=example_prompt,\n",
    "    examples=examples\n",
    ")\n",
    "final_prompt = ChatPromptTemplate.from_messages([\n",
    "    (\"system\", \"Be friendly.\"),\n",
    "    fewshot,\n",
    "    (\"human\", \"How are you?\")\n",
    "])\n",
    "print(final_prompt.format(input=\"How are you?\"))\n",
    "```\n",
    "\n",
    "---\n",
    "\n",
    "#### 🧩 13. **FewShotPromptWithTemplates**\n",
    "\n",
    "* A variant combining **few-shot logic** with multiple templates dynamically.\n",
    "* Used when templates are complex or structured.\n",
    "\n",
    "---\n",
    "\n",
    "#### 🎥 14. **ImagePromptTemplate**\n",
    "\n",
    "* For **multimodal models** (image + text).\n",
    "\n",
    "```python\n",
    "ChatPromptTemplate.from_messages([\n",
    "    (\"system\", \"Describe the image\"),\n",
    "    (\"user\", [{\"type\": \"image_url\", \"url\": \"{image_url}\"}])\n",
    "])\n",
    "```\n",
    "\n",
    "---\n",
    "\n",
    "#### 🔗 15. **PipelinePromptTemplate**\n",
    "\n",
    "* Combines multiple prompt templates in a **pipeline**.\n",
    "\n",
    "```python\n",
    "from langchain_core.prompts import PipelinePromptTemplate\n",
    "PipelinePromptTemplate(\n",
    "    final_prompt=PromptTemplate.from_template(\"Q: {question}\\nA:\"),\n",
    "    pipeline_prompts=[\n",
    "        (\"question\", PromptTemplate.from_template(\"Summarize: {text}\"))\n",
    "    ]\n",
    ")\n",
    "```\n",
    "\n",
    "---\n",
    "\n",
    "#### 🧱 16. **StructuredPrompt**\n",
    "\n",
    "* Represents structured formats, often used with output parsers or schemas.\n",
    "\n",
    "---\n",
    "\n",
    "### 🔁 Partial Prompts – \\[Docs Summary]\n",
    "\n",
    "* Fill some variables now, others later.\n",
    "* Great for **dynamic chaining** and **reuse**.\n",
    "\n",
    "---\n",
    "\n",
    "### 🔧 Prompt Composition – \\[Docs Summary]\n",
    "\n",
    "* Combine strings or message templates via `+` operator or `extend()`.\n",
    "* Encourages **modular prompt building**.\n",
    "\n",
    "---\n",
    "\n",
    "### 🖼 Multimodal Prompts – \\[Docs Summary]\n",
    "\n",
    "* Allow embedding **images, audio, PDFs** inside prompts.\n",
    "* Works only with **multimodal models** like GPT-4V or Gemini.\n",
    "\n",
    "---\n",
    "\n",
    "### ✅ Summary Table\n",
    "\n",
    "| Template                           | Input Style       | Best For                         |\n",
    "| ---------------------------------- | ----------------- | -------------------------------- |\n",
    "| `PromptTemplate`                   | String            | Simple instructions              |\n",
    "| `ChatPromptTemplate`               | Messages          | Chatbots or assistants           |\n",
    "| `FewShotPromptTemplate`            | String + Examples | Improve learning via demos       |\n",
    "| `FewShotChatMessagePromptTemplate` | Chat + Examples   | Chat-style examples              |\n",
    "| `MessagesPlaceholder`              | List Injection    | Adding existing message history  |\n",
    "| `ImagePromptTemplate`              | Media block       | Multimodal inputs (images/audio) |\n",
    "| `PipelinePromptTemplate`           | Modular pipeline  | Building chained prompts         |\n",
    "| `PartialPrompt`                    | Partial values    | Dynamic reuse                    |\n",
    "| `StructuredPrompt`                 | Structured output | Controlled formatting            |\n",
    "\n",
    "---\n",
    "\n",
    "Would you like a visual diagram (e.g. mindmap or table image) showing relationships and use cases for each class?\n"
   ]
  },
  {
   "cell_type": "markdown",
   "id": "e723f999",
   "metadata": {},
   "source": [
    "## Different types of Output parsers"
   ]
  },
  {
   "cell_type": "markdown",
   "id": "fe6359ea",
   "metadata": {},
   "source": [
    "Here’s a comprehensive overview of **all built‑in output parser types in LangChain**, with clear explanations, examples, and when to use each:\n",
    "\n",
    "---\n",
    "\n",
    "### 📦 Output Parser Types\n",
    "\n",
    "([python.langchain.com][1])\n",
    "\n",
    "#### 1. **StringOutputParser**\n",
    "\n",
    "* **Purpose**: Normalizes LLM or Chat output into a plain Python string.\n",
    "* **Example**:\n",
    "\n",
    "  ```python\n",
    "  from langchain_core.output_parsers import StringOutputParser\n",
    "  parser = StringOutputParser()\n",
    "  parser.parse(\"Hello, world!\")  # => \"Hello, world!\"\n",
    "  ```\n",
    "\n",
    "---\n",
    "\n",
    "#### 2. **JSON (JsonOutputParser or PydanticParser)**\n",
    "\n",
    "* **Purpose**: Extracts structured JSON using optional Pydantic validation.\n",
    "* **Example**:\n",
    "\n",
    "  ````python\n",
    "  from langchain_core.output_parsers import JsonOutputParser\n",
    "  from langchain_core.pydantic_v1 import BaseModel, Field\n",
    "\n",
    "  class Joke(BaseModel):\n",
    "      setup: str\n",
    "      punchline: str\n",
    "\n",
    "  parser = JsonOutputParser(pydantic_object=Joke)\n",
    "  instructions = parser.get_format_instructions()\n",
    "  # Include `instructions` in prompt...\n",
    "  result = parser.parse(response_text)\n",
    "  # => {'setup': \"...\", 'punchline': \"...\"}\n",
    "  ``` :contentReference[oaicite:4]{index=4}\n",
    "  ````\n",
    "\n",
    "---\n",
    "\n",
    "#### 3. **YAML OutputParser**\n",
    "\n",
    "* **Purpose**: Outputs validated structured data in YAML format using Pydantic.\n",
    "* Use `JsonOutputParser(..., mode=\"yaml\")` or `YAMLOutputParser`.\n",
    "\n",
    "---\n",
    "\n",
    "#### 4. **XML Parser**\n",
    "\n",
    "* **Purpose**: Parses XML-formatted strings into Python `dict`.\n",
    "* Use when dealing with XML-based tool formats. ([reddit.com][2], [python.langchain.com][1])\n",
    "\n",
    "---\n",
    "\n",
    "#### 5. **CSV Parser (CommaSeparatedListOutputParser)**\n",
    "\n",
    "* **Purpose**: Converts comma-separated LLM output into a `List[str]`.\n",
    "* **Example**:\n",
    "\n",
    "  ````python\n",
    "  from langchain.output_parsers import CommaSeparatedListOutputParser\n",
    "  parser = CommaSeparatedListOutputParser()\n",
    "  instructions = parser.get_format_instructions()\n",
    "  # Prompt: \"List fruits: …{instructions}\"\n",
    "  result = parser.parse(\"Apple, Banana, Cherry\")\n",
    "  # => [\"Apple\", \"Banana\", \"Cherry\"]\n",
    "  ``` :contentReference[oaicite:11]{index=11}\n",
    "  ````\n",
    "\n",
    "---\n",
    "\n",
    "#### 6. **EnumOutputParser**\n",
    "\n",
    "* **Purpose**: Ensures output matches one value from a given Python `Enum`.\n",
    "* Use when only specific categorical responses are valid. ([python.langchain.com][3])\n",
    "\n",
    "---\n",
    "\n",
    "#### 7. **DatetimeOutputParser**\n",
    "\n",
    "* **Purpose**: Parses output into a Python `datetime.datetime`.\n",
    "* **Example**:\n",
    "\n",
    "  ````python\n",
    "  from langchain.output_parsers import DatetimeOutputParser\n",
    "  parser = DatetimeOutputParser()\n",
    "  # Use parser.get_format_instructions() in prompt\n",
    "  parser.parse(\"1991-02-20 00:00:00\")\n",
    "  # => datetime.datetime(1991, 2, 20)\n",
    "  ``` :contentReference[oaicite:16]{index=16}\n",
    "  ````\n",
    "\n",
    "---\n",
    "\n",
    "#### 8. **PandasDataFrame Parser**\n",
    "\n",
    "* **Purpose**: Outputs structured tabular data as a pandas DataFrame.\n",
    "* Great for spreadsheet-style outputs. ([python.langchain.com][4], [python.langchain.com][1])\n",
    "\n",
    "---\n",
    "\n",
    "#### 9. **StructuredOutputParser**\n",
    "\n",
    "* **Purpose**: Generates `Dict[str, str]` with predefined keys only—lighter weight than JSON/YAML.\n",
    "* **Example**:\n",
    "\n",
    "  ````python\n",
    "  from langchain.output_parsers import StructuredOutputParser\n",
    "  parser = StructuredOutputParser.from_names_and_descriptions({\n",
    "      \"meaning\": \"detailed meaning of the expression\"\n",
    "  })\n",
    "  instructions = parser.get_format_instructions()\n",
    "  # Include in chat prompt...\n",
    "  parser.parse(response_text)\n",
    "  # => {\"meaning\": \"...\"}\n",
    "  ``` :contentReference[oaicite:21]{index=21}\n",
    "  ````\n",
    "\n",
    "---\n",
    "\n",
    "#### 10. **OutputFixingParser & RetryWithErrorParser**\n",
    "\n",
    "* **Purpose**: Wrap another parser; on failure, invoke the LLM to:\n",
    "\n",
    "  * *OutputFixingParser*: fix just the failed output.\n",
    "  * *RetryWithErrorParser*: retry with full context.\n",
    "* Useful for making parsing more robust. ([python.langchain.com][1])\n",
    "\n",
    "---\n",
    "\n",
    "#### 11. **OpenAIFunctions & OpenAITools Parsers**\n",
    "\n",
    "* **Purpose**: Use native OpenAI (or tools) function-calling protocol to get structured outputs.\n",
    "* **Example**:\n",
    "\n",
    "  ```python\n",
    "  from langchain.output_parsers import OpenAIFunctionsOutputParser\n",
    "  parser = OpenAIFunctionsOutputParser(functions=...)\n",
    "  # Use this with ChatOpenAI(..., functions=...)\n",
    "  ```\n",
    "* Recommended when using GPT models supporting function calls. ([python.langchain.com][4])\n",
    "\n",
    "---\n",
    "\n",
    "### 🧰 Custom Parsers\n",
    "\n",
    "* **BaseOutputParser** or **BaseGenerationOutputParser**: for complex or bespoke formats.\n",
    "* **Example**: Boolean parser converting `\"YES\"/\"NO\"` to `bool` ([python.langchain.com][3])\n",
    "\n",
    "---\n",
    "\n",
    "### ✅ Summary Table\n",
    "\n",
    "| Parser Type                | Output Type              | Use Case                                |\n",
    "| -------------------------- | ------------------------ | --------------------------------------- |\n",
    "| StringOutputParser         | `str`                    | Normalize raw outputs                   |\n",
    "| JsonOutputParser           | `dict` or Pydantic model | Structured JSON data                    |\n",
    "| YAMLOutputParser           | Pydantic model via YAML  | Human‑friendly structured data          |\n",
    "| XML Parser                 | `dict`                   | XML output parsing                      |\n",
    "| CSV Parser                 | `List[str]`              | CSV‑style lists                         |\n",
    "| EnumOutputParser           | Enum                     | Categorical single‑choice responses     |\n",
    "| DatetimeOutputParser       | `datetime.datetime`      | Date/time extraction                    |\n",
    "| PandasDataFrame Parser     | `pd.DataFrame` or `dict` | Tabular data analysis                   |\n",
    "| StructuredOutputParser     | `Dict[str, str]`         | Lightweight structured responses        |\n",
    "| OutputFixing/Retry Parsers | Wrapped another parser   | Enhanced parsing reliability            |\n",
    "| OpenAIFunctions/Tools      | JSON object              | Use native function‑calling support     |\n",
    "| Custom Parsers             | Any Python type          | Special formats and raw output handling |\n",
    "\n",
    "---\n",
    "\n",
    "### 🔗 Best Practices\n",
    "\n",
    "* Use **native function-call parsers** (OpenAIFunctions/OpenAITools) if available for guaranteed structured output.\n",
    "* Otherwise, choose **JSON/YAML** with Pydantic for robustness.\n",
    "* Use **CSV, Enum, Datetime** for simpler, common data types.\n",
    "* Add **Fixing/Retry wrappers** to handle parsing errors gracefully.\n",
    "* Create **custom parsers** when facing unique output formats.\n",
    "\n",
    "---\n",
    "\n",
    "Let me know if you'd like example chains showcasing these parsers in action!\n",
    "\n",
    "[1]: https://python.langchain.com/docs/concepts/output_parsers/?utm_source=chatgpt.com \"Output parsers | 🦜️🔗 LangChain\"\n",
    "[2]: https://www.reddit.com/r/LangChain/comments/1fdxh8o?utm_source=chatgpt.com \"PromptTemplate coupled to LLM parsing output\"\n",
    "[3]: https://python.langchain.com/v0.1/docs/modules/model_io/output_parsers/custom/?utm_source=chatgpt.com \"Custom Output Parsers | 🦜️🔗 LangChain\"\n",
    "[4]: https://python.langchain.com/v0.1/docs/modules/model_io/output_parsers/?utm_source=chatgpt.com \"Output Parsers | 🦜️🔗 LangChain\"\n"
   ]
  },
  {
   "cell_type": "markdown",
   "id": "955f6ed8",
   "metadata": {},
   "source": [
    "## Assignment\n",
    "Create a simple assistant that uses any LLM and should be pydantic, when we ask about any product it should give you two information product Name, product details tentative price in USD (integer). use chat Prompt Template.\n"
   ]
  },
  {
   "cell_type": "code",
   "execution_count": 43,
   "id": "fff6f3e5",
   "metadata": {},
   "outputs": [],
   "source": [
    "from langchain_groq import ChatGroq\n",
    "from langchain_core.prompts import ChatPromptTemplate\n",
    "from langchain_core.output_parsers import PydanticOutputParser\n",
    "from pydantic import BaseModel\n",
    "\n",
    "# Step 1: Define Pydantic schema for structured output\n",
    "class ProductInfo(BaseModel):\n",
    "    name: str\n",
    "    details: str\n",
    "    price_usd: int\n",
    "\n",
    "# Step 2: Initialize the parser\n",
    "parser = PydanticOutputParser(pydantic_object=ProductInfo)\n",
    "\n",
    "# Step 3: Define the prompt with format instructions\n",
    "prompt = ChatPromptTemplate.from_messages([\n",
    "    (\"system\", \"You are a helpful assistant that provides product information.\"),\n",
    "    (\"human\", \"Give information about the following product: {product_query}\\n{format_instructions}\")\n",
    "])\n",
    "formatted_prompt = prompt.partial(format_instructions=parser.get_format_instructions())\n",
    "\n",
    "# Step 4: Initialize the ChatGroq model\n",
    "llm = ChatGroq(model=\"gemma2-9b-it\")\n",
    "\n",
    "# Step 5: Chain everything together\n",
    "chain = formatted_prompt | llm | parser\n",
    "\n"
   ]
  },
  {
   "cell_type": "code",
   "execution_count": 44,
   "id": "577cbfff",
   "metadata": {},
   "outputs": [
    {
     "name": "stdout",
     "output_type": "stream",
     "text": [
      "\n",
      "--- Product Info ---\n",
      "Name       : HP Victus 16\n",
      "Details    : A gaming laptop featuring an AMD Ryzen processor, NVIDIA GeForce RTX graphics, and a 16.1-inch display.\n",
      "Price (USD): $900\n"
     ]
    }
   ],
   "source": [
    "query = input(\"Ask about a product: \")\n",
    "try:\n",
    "    response = chain.invoke({\"product_query\": query})\n",
    "    print(\"\\n--- Product Info ---\")\n",
    "    print(f\"Name       : {response.name}\")\n",
    "    print(f\"Details    : {response.details}\")\n",
    "    print(f\"Price (USD): ${response.price_usd}\")\n",
    "except Exception as e:\n",
    "    print(\"Error:\", e)"
   ]
  },
  {
   "cell_type": "code",
   "execution_count": null,
   "id": "61d36d43",
   "metadata": {},
   "outputs": [],
   "source": []
  }
 ],
 "metadata": {
  "kernelspec": {
   "display_name": "Python 3",
   "language": "python",
   "name": "python3"
  },
  "language_info": {
   "codemirror_mode": {
    "name": "ipython",
    "version": 3
   },
   "file_extension": ".py",
   "mimetype": "text/x-python",
   "name": "python",
   "nbconvert_exporter": "python",
   "pygments_lexer": "ipython3",
   "version": "3.11.11"
  }
 },
 "nbformat": 4,
 "nbformat_minor": 5
}
