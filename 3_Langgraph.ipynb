{
  "cells": [
    {
      "cell_type": "markdown",
      "id": "o7F9oe3WJuXp",
      "metadata": {
        "id": "o7F9oe3WJuXp"
      },
      "source": [
        "# Lang Graph"
      ]
    },
    {
      "cell_type": "markdown",
      "id": "f6454e5e",
      "metadata": {
        "id": "f6454e5e"
      },
      "source": [
        "## Tools"
      ]
    },
    {
      "cell_type": "markdown",
      "id": "582fbea0",
      "metadata": {
        "id": "582fbea0"
      },
      "source": [
        "### Wikipedia API Wrapper Tool (Summary from wikipedia)"
      ]
    },
    {
      "cell_type": "code",
      "execution_count": null,
      "id": "09df7eeb",
      "metadata": {
        "id": "09df7eeb"
      },
      "outputs": [],
      "source": [
        "from langchain_community.tools import WikipediaQueryRun"
      ]
    },
    {
      "cell_type": "code",
      "execution_count": null,
      "id": "27350042",
      "metadata": {
        "id": "27350042"
      },
      "outputs": [],
      "source": [
        "from langchain_community.utilities import WikipediaAPIWrapper"
      ]
    },
    {
      "cell_type": "code",
      "execution_count": null,
      "id": "349ce79b",
      "metadata": {
        "id": "349ce79b"
      },
      "outputs": [],
      "source": [
        "api_wrapper=WikipediaAPIWrapper(top_k_results=5,doc_content_chars_max= 500)"
      ]
    },
    {
      "cell_type": "code",
      "execution_count": null,
      "id": "fde85dee",
      "metadata": {
        "id": "fde85dee"
      },
      "outputs": [],
      "source": [
        "wiki_tool=WikipediaQueryRun(api_wrapper=api_wrapper)"
      ]
    },
    {
      "cell_type": "code",
      "execution_count": null,
      "id": "98b780a7",
      "metadata": {
        "id": "98b780a7",
        "outputId": "47a97f50-8dd2-4160-f4df-6e2266c3966d"
      },
      "outputs": [
        {
          "data": {
            "text/plain": [
              "'wikipedia'"
            ]
          },
          "execution_count": 30,
          "metadata": {},
          "output_type": "execute_result"
        }
      ],
      "source": [
        "wiki_tool.name"
      ]
    },
    {
      "cell_type": "code",
      "execution_count": null,
      "id": "9845643a",
      "metadata": {
        "id": "9845643a",
        "outputId": "58596aef-ddd7-4cbc-8235-be789a90c934"
      },
      "outputs": [
        {
          "data": {
            "text/plain": [
              "'A wrapper around Wikipedia. Useful for when you need to answer general questions about people, places, companies, facts, historical events, or other subjects. Input should be a search query.'"
            ]
          },
          "execution_count": 31,
          "metadata": {},
          "output_type": "execute_result"
        }
      ],
      "source": [
        "wiki_tool.description"
      ]
    },
    {
      "cell_type": "code",
      "execution_count": null,
      "id": "e0376b73",
      "metadata": {
        "id": "e0376b73",
        "outputId": "97d249c9-27e6-4b81-c186-b568069dc4a1"
      },
      "outputs": [
        {
          "data": {
            "text/plain": [
              "{'query': {'description': 'query to look up on wikipedia',\n",
              "  'title': 'Query',\n",
              "  'type': 'string'}}"
            ]
          },
          "execution_count": 32,
          "metadata": {},
          "output_type": "execute_result"
        }
      ],
      "source": [
        "wiki_tool.args"
      ]
    },
    {
      "cell_type": "code",
      "execution_count": null,
      "id": "1e4a274f",
      "metadata": {
        "id": "1e4a274f",
        "outputId": "c5df7a65-a078-4f4c-b04f-382bcb0b82df"
      },
      "outputs": [
        {
          "data": {
            "text/plain": [
              "\"Page: Elon Musk\\nSummary: Elon Reeve Musk ( EE-lon; born June 28, 1971) is a businessman. He is known for his leadership of Tesla, SpaceX, X (formerly Twitter), and the Department of Government Efficiency (DOGE). Musk has been considered the wealthiest person in the world since 2021; as of May 2025, Forbes estimates his net worth to be US$424.7 billion. \\nBorn to a wealthy family in Pretoria, South Africa, Musk emigrated in 1989 to Canada. He received bachelor's degrees from the University of Penn\""
            ]
          },
          "execution_count": 33,
          "metadata": {},
          "output_type": "execute_result"
        }
      ],
      "source": [
        "wiki_tool.run({\"query\":\"elon musk\"})"
      ]
    },
    {
      "cell_type": "code",
      "execution_count": null,
      "id": "740fa568",
      "metadata": {
        "id": "740fa568",
        "outputId": "5bd6bcf1-b81e-433e-cc63-0656ff181f29"
      },
      "outputs": [
        {
          "name": "stderr",
          "output_type": "stream",
          "text": [
            "c:\\Users\\saina\\.conda\\envs\\agentic_2_base\\Lib\\site-packages\\wikipedia\\wikipedia.py:389: GuessedAtParserWarning: No parser was explicitly specified, so I'm using the best available HTML parser for this system (\"lxml\"). This usually isn't a problem, but if you run this code on another system, or in a different virtual environment, it may use a different parser and behave differently.\n",
            "\n",
            "The code that caused this warning is on line 389 of the file c:\\Users\\saina\\.conda\\envs\\agentic_2_base\\Lib\\site-packages\\wikipedia\\wikipedia.py. To get rid of this warning, pass the additional argument 'features=\"lxml\"' to the BeautifulSoup constructor.\n",
            "\n",
            "  lis = BeautifulSoup(html).find_all('li')\n"
          ]
        },
        {
          "data": {
            "text/plain": [
              "\"Page: Royal Challengers Bengaluru\\nSummary: The Royal Challengers Bengaluru, formerly Royal Challengers Bangalore, also known as RCB, are a professional Twenty20 cricket team based in Bengaluru, Karnataka, that competes in the Indian Premier League (IPL). Founded in 2008 by United Spirits, the team's home ground is M. Chinnaswamy Stadium. They won their first title in 2025. The team finished as the runners-up on three occasions: in 2009, 2011, and 2016. They have also qualified for the playoffs i\""
            ]
          },
          "execution_count": 34,
          "metadata": {},
          "output_type": "execute_result"
        }
      ],
      "source": [
        "wiki_tool.run(\"RCB\")"
      ]
    },
    {
      "cell_type": "markdown",
      "id": "8500a32a",
      "metadata": {
        "id": "8500a32a"
      },
      "source": [
        "### Youtube Search Tool"
      ]
    },
    {
      "cell_type": "code",
      "execution_count": null,
      "id": "a4018c56",
      "metadata": {
        "id": "a4018c56"
      },
      "outputs": [],
      "source": [
        "from langchain_community.tools import YouTubeSearchTool"
      ]
    },
    {
      "cell_type": "code",
      "execution_count": null,
      "id": "098d336c",
      "metadata": {
        "id": "098d336c"
      },
      "outputs": [],
      "source": [
        "tool=YouTubeSearchTool()"
      ]
    },
    {
      "cell_type": "code",
      "execution_count": null,
      "id": "5750f96f",
      "metadata": {
        "id": "5750f96f",
        "outputId": "97210823-5815-43d1-bb6f-c38cd4ca2fc5"
      },
      "outputs": [
        {
          "data": {
            "text/plain": [
              "'youtube_search'"
            ]
          },
          "execution_count": 37,
          "metadata": {},
          "output_type": "execute_result"
        }
      ],
      "source": [
        "tool.name"
      ]
    },
    {
      "cell_type": "code",
      "execution_count": null,
      "id": "f2d2e6ea",
      "metadata": {
        "id": "f2d2e6ea",
        "outputId": "f17e3c17-084d-4a17-edac-403b8bc30517"
      },
      "outputs": [
        {
          "data": {
            "text/plain": [
              "'search for youtube videos associated with a person. the input to this tool should be a comma separated list, the first part contains a person name and the second a number that is the maximum number of video results to return aka num_results. the second part is optional'"
            ]
          },
          "execution_count": 38,
          "metadata": {},
          "output_type": "execute_result"
        }
      ],
      "source": [
        "tool.description"
      ]
    },
    {
      "cell_type": "code",
      "execution_count": null,
      "id": "9dcb154b",
      "metadata": {
        "id": "9dcb154b",
        "outputId": "bc3614eb-e429-414a-e9c0-414978741564"
      },
      "outputs": [
        {
          "data": {
            "text/plain": [
              "\"['https://www.youtube.com/watch?v=Jj1-zb38Yfw&pp=ygUKQWdlbnRpYyBBSQ%3D%3D', 'https://www.youtube.com/watch?v=15_pppse4fY&pp=ygUKQWdlbnRpYyBBSQ%3D%3D']\""
            ]
          },
          "execution_count": 40,
          "metadata": {},
          "output_type": "execute_result"
        }
      ],
      "source": [
        "tool.run(\"Agentic AI\")"
      ]
    },
    {
      "cell_type": "markdown",
      "id": "c2814b8c",
      "metadata": {
        "id": "c2814b8c"
      },
      "source": [
        "### Tavily Search Tool"
      ]
    },
    {
      "cell_type": "code",
      "execution_count": null,
      "id": "d3a9b887",
      "metadata": {
        "id": "d3a9b887"
      },
      "outputs": [],
      "source": [
        "from langchain_community.tools.tavily_search import TavilySearchResults"
      ]
    },
    {
      "cell_type": "code",
      "execution_count": null,
      "id": "b98b226a",
      "metadata": {
        "id": "b98b226a"
      },
      "outputs": [],
      "source": [
        "import os\n",
        "TAVILY_API_KEY=os.getenv(\"TAVILY_API_KEY\")"
      ]
    },
    {
      "cell_type": "code",
      "execution_count": null,
      "id": "a9cf56f1",
      "metadata": {
        "id": "a9cf56f1"
      },
      "outputs": [],
      "source": [
        "tool=TavilySearchResults(tavily_api_key=TAVILY_API_KEY)"
      ]
    },
    {
      "cell_type": "code",
      "execution_count": null,
      "id": "503163b0",
      "metadata": {
        "id": "503163b0",
        "outputId": "fdf900d7-18ee-40ac-d312-efb5eaaa67b8"
      },
      "outputs": [
        {
          "data": {
            "text/plain": [
              "[{'title': 'Chinnaswamy Stadium Stampede: What triggered the deadly chaos ...',\n",
              "  'url': 'https://m.economictimes.com/news/bengaluru-news/chinnaswamy-stadium-stampede-what-triggered-the-chaos-that-turned-deadly-in-rcbs-victory-celebration/articleshow/121624517.cms',\n",
              "  'content': \"![Image 3](https://img.etimg.com/thumb/msid-121625936,width-300,height-225,imgsize-121910,resizemode-75/.jpg)\\n\\nRCB's IPL victory celebrations turn tragic: Stampede in Bengaluru; 11 dead, 33 injured\\n\\nThe celebrations after RCB took a heart-breaking turn when a deadly [stampede](https://m.economictimes.com/topic/stampede) near the M Chinnaswamy Stadium killed over 11 fans dead and nearly 33 others injured. [...] Karnataka chief minister Siddaramaiah on Wednesday said the state government was deeply saddened by the stampede that claimed 11 lives and left 33 injured during Royal Challengers Bengaluru’s IPL victory celebrations at Chinnaswamy Stadium.\\n\\n“This tragedy should not have happened. The government expresses deep sorrow. Most of the deceased are youth,” Siddaramaiah said at a press conference in Bengaluru, flanked by deputy CM DK Shivakumar and home minister G Parameshwara. [...] Anticipating massive crowds, the Karnataka government had earlier cancelled an open bus victory parade from Vidhana Soudha to Chinnaswamy Stadium, citing security concerns, a warning that proved prescient.\\n\\nIn Video: [RCB's IPL victory celebrations turn tragic: Stampede in Bengaluru; 11 dead, 33 injured](https://m.economictimes.com/news/india/rcbs-ipl-victory-celebrations-turn-tragic-stampede-in-bengaluru-at-least-7-dead-over-50-injured/videoshow/121625936.cms)\",\n",
              "  'score': 0.83710164},\n",
              " {'title': \"Several Killed as RCB's Victory Celebration Turns Deadly - YouTube\",\n",
              "  'url': 'https://www.youtube.com/watch?v=gz8chxY7elU',\n",
              "  'content': \"At least 11 people were killed and 30 injured in a stampede outside the Chinnaswamy cricket stadium in Bengaluru. The incident happened during the Royal Challengers' victory celebrations after their first IPL triumph in 18 years. Did the state government underestimate the rush? Were crowd control measures not in place? Palki Sharma tells you.\\n\\n--- [...] It was supposed to be a day of pure joy, of celebration and pride. Instead, Bengaluru is in shock today. I'm sure you've seen the news and the pictures. Bengaluru was all decked up for a massive celebration today. Their IPL team had finally won the tournament. The Royal Challengers beat Punjab Kings yesterday. It was their first IPL trophy in 18 years. Now the RCB fans are a very passionate lot. Plus they've been waiting for a win since 2008. So they packed the streets of Bengaluru in [...] soon the fan frenzy turned fatal. The exact details are not clear yet but reports say the rush led to a stampede. At least 11 people were killed, including children, and more than 30 were injured. Like I said, the exact sequence of events is unclear, but these pictures give you an idea. Uh you can see fans climbing up fences and trees. In some places, the police pushed back with force. We will show you the pictures, but as always, viewer discretion is advised. [Applause] [Music] [Applause] Such\",\n",
              "  'score': 0.83290404},\n",
              " {'title': \"RCB's victory celebration turns fatal; 11 fans dead in Bengaluru ...\",\n",
              "  'url': 'https://www.youtube.com/watch?v=V33zuNSRK14',\n",
              "  'content': '# RCB’s victory celebration turns fatal; 11 fans dead in Bengaluru stampede\\n## The New Indian Express\\n330000 subscribers\\n289 likes\\n\\n### Description\\n65731 views\\nPosted: 4 Jun 2025\\n#stampede #rcb #bengaluru #chinnaswamystadium \\n\\nThe victory celebrations of Royal Challengers Bengaluru fans turned tragic as more than 11 people including a woman and a boy died in a stampede outside the Chinnaswamy Stadium on Wednesday afternoon. \\n\\nAlso read: https://tinyurl.com/3pksymbs [...] For more videos: http://www.newindianexpress.com/videos\\nFor all the important news: http://www.newindianexpress.com/\\n\\n116 comments\\n### Transcript:',\n",
              "  'score': 0.826278},\n",
              " {'title': 'RCB victory parade stampede updates: Bengaluru city chief B ...',\n",
              "  'url': 'https://www.thehindu.com/news/national/rcb-ipl-victory-parade-stampede-death-toll-virat-kohli-chinnaswamy-stadium-live/article69656707.ece',\n",
              "  'content': 'Sachin Tendulkar has offered his condolences on the loss of 11 lives in a stampede outside Bengaluru’s Chinnaswamy Stadium during RCB’s IPL victory celebrations, describing the incident as “beyond tragic”.\\n\\nOn the day the stampede broke out in Bengaluru while celebrating the victory of Royal Challengers Bengaluru (RCB) in the IPL final, killing 11 and leaving scores injured, the Namma Metro witnessed unprecedented footfall. [...] A stampede that broke out near the Chinnaswamy stadium in Bengaluru, after fans gathered to celebrate Royal Challengers Bengaluru’s IPL win, led to the [deaths of 11 persons and injuries to 33](https://www.thehindu.com/news/cities/bangalore/rcb-ipl-victory-celebrations-stampede-bengaluru-death-toll/article69656538.ece) on Wednesday (June 4, 2025). The tragedy unfolded near the gates of the stadium, where over 2 lakh fans had gathered to mark RCB’s historic first title win in 18 years. [...] In a post on X, Mr. Bommai said following the Royal Challengers Bangalore (RCB) team lifting the IPL trophy, the state government hastily organised a victory celebration event without proper planning, leading to a tragic stampede that claimed the lives of more than ten innocent people. Organising two events in a hurry without any prior preparation and allowing an overwhelming number of people to attend both clearly demonstrates the government’s complete negligence and irresponsibility.',\n",
              "  'score': 0.82492816},\n",
              " {'title': 'RCB Victory Parade Highlights: RCB celebration marred by ...',\n",
              "  'url': 'https://www.hindustantimes.com/cricket/rcb-victory-parade-live-updates-royal-challengers-bengaluru-trophy-bus-parade-ipl-2025-winner-virat-kohli-101749020508285.html',\n",
              "  'content': 'RCB Victory Parade Highlights: The RCB celebration was marred by a stampede as 10 were killed while several had to be hospitalised.',\n",
              "  'score': 0.8127637}]"
            ]
          },
          "execution_count": 49,
          "metadata": {},
          "output_type": "execute_result"
        }
      ],
      "source": [
        "tool.invoke({\"query\":\"what happend in RCB victory celebration?\"})"
      ]
    },
    {
      "cell_type": "markdown",
      "id": "4f1f2463",
      "metadata": {
        "id": "4f1f2463"
      },
      "source": [
        "### Custom tool"
      ]
    },
    {
      "cell_type": "code",
      "execution_count": null,
      "id": "fc844561",
      "metadata": {
        "id": "fc844561"
      },
      "outputs": [],
      "source": [
        "def multiply(a:int,b:int)->int:\n",
        "    return a*b"
      ]
    },
    {
      "cell_type": "code",
      "execution_count": null,
      "id": "7f37c964",
      "metadata": {
        "id": "7f37c964",
        "outputId": "a03c4208-06a7-48f0-beec-4f0f98e40d80"
      },
      "outputs": [
        {
          "data": {
            "text/plain": [
              "200"
            ]
          },
          "execution_count": 51,
          "metadata": {},
          "output_type": "execute_result"
        }
      ],
      "source": [
        "multiply(10,20)"
      ]
    },
    {
      "cell_type": "code",
      "execution_count": null,
      "id": "39fe75c0",
      "metadata": {
        "id": "39fe75c0",
        "outputId": "8a8767ab-4654-462a-c441-058752976154"
      },
      "outputs": [
        {
          "ename": "AttributeError",
          "evalue": "'function' object has no attribute 'run'",
          "output_type": "error",
          "traceback": [
            "\u001b[31m---------------------------------------------------------------------------\u001b[39m",
            "\u001b[31mAttributeError\u001b[39m                            Traceback (most recent call last)",
            "\u001b[36mCell\u001b[39m\u001b[36m \u001b[39m\u001b[32mIn[52]\u001b[39m\u001b[32m, line 1\u001b[39m\n\u001b[32m----> \u001b[39m\u001b[32m1\u001b[39m \u001b[43mmultiply\u001b[49m\u001b[43m.\u001b[49m\u001b[43mrun\u001b[49m(\u001b[32m10\u001b[39m,\u001b[32m20\u001b[39m)\n",
            "\u001b[31mAttributeError\u001b[39m: 'function' object has no attribute 'run'"
          ]
        }
      ],
      "source": [
        "# multiply.run(10,20)"
      ]
    },
    {
      "cell_type": "markdown",
      "id": "6a8da091",
      "metadata": {
        "id": "6a8da091"
      },
      "source": [
        "---------------------------------------------------------------------------\n",
        "AttributeError                            Traceback (most recent call last)\n",
        "Cell In[52], line 1\n",
        "----> 1 multiply.run(10,20)\n",
        "\n",
        "AttributeError: 'function' object has no attribute 'run'"
      ]
    },
    {
      "cell_type": "code",
      "execution_count": null,
      "id": "480b255d",
      "metadata": {
        "id": "480b255d",
        "outputId": "f1fa9034-1d50-4612-a949-462875a744cf"
      },
      "outputs": [
        {
          "ename": "AttributeError",
          "evalue": "'function' object has no attribute 'invoke'",
          "output_type": "error",
          "traceback": [
            "\u001b[31m---------------------------------------------------------------------------\u001b[39m",
            "\u001b[31mAttributeError\u001b[39m                            Traceback (most recent call last)",
            "\u001b[36mCell\u001b[39m\u001b[36m \u001b[39m\u001b[32mIn[53]\u001b[39m\u001b[32m, line 1\u001b[39m\n\u001b[32m----> \u001b[39m\u001b[32m1\u001b[39m \u001b[43mmultiply\u001b[49m\u001b[43m.\u001b[49m\u001b[43minvoke\u001b[49m(\u001b[32m10\u001b[39m,\u001b[32m20\u001b[39m)\n",
            "\u001b[31mAttributeError\u001b[39m: 'function' object has no attribute 'invoke'"
          ]
        }
      ],
      "source": [
        "# multiply.invoke(10,20)"
      ]
    },
    {
      "cell_type": "markdown",
      "id": "3b0ff8c1",
      "metadata": {
        "id": "3b0ff8c1"
      },
      "source": [
        "---------------------------------------------------------------------------\n",
        "AttributeError                            Traceback (most recent call last)\n",
        "Cell In[53], line 1\n",
        "----> 1 multiply.invoke(10,20)\n",
        "\n",
        "AttributeError: 'function' object has no attribute 'invoke'"
      ]
    },
    {
      "cell_type": "code",
      "execution_count": null,
      "id": "2c3b4b97",
      "metadata": {
        "id": "2c3b4b97"
      },
      "outputs": [],
      "source": [
        "from langchain.agents import tool\n",
        "@tool\n",
        "def multiply(a:int,b:int)->int:\n",
        "    '''this tool is for the multiplication'''\n",
        "    return a*b"
      ]
    },
    {
      "cell_type": "code",
      "execution_count": null,
      "id": "4bd8cbf7",
      "metadata": {
        "id": "4bd8cbf7",
        "outputId": "4b1f0a31-6d04-480e-a189-03b8dccc7038"
      },
      "outputs": [
        {
          "data": {
            "text/plain": [
              "200"
            ]
          },
          "execution_count": 55,
          "metadata": {},
          "output_type": "execute_result"
        }
      ],
      "source": [
        "multiply.invoke({\"a\":10,\"b\":20})"
      ]
    },
    {
      "cell_type": "code",
      "execution_count": null,
      "id": "888d6268",
      "metadata": {
        "id": "888d6268",
        "outputId": "0a346cf1-97e9-434e-a961-3527af1184f1"
      },
      "outputs": [
        {
          "data": {
            "text/plain": [
              "'multiply'"
            ]
          },
          "execution_count": 56,
          "metadata": {},
          "output_type": "execute_result"
        }
      ],
      "source": [
        "multiply.name"
      ]
    },
    {
      "cell_type": "code",
      "execution_count": null,
      "id": "420df80b",
      "metadata": {
        "id": "420df80b",
        "outputId": "9380cbc6-e834-45d8-bba7-d84ba349bfea"
      },
      "outputs": [
        {
          "data": {
            "text/plain": [
              "'this tool is for the multiplication'"
            ]
          },
          "execution_count": 57,
          "metadata": {},
          "output_type": "execute_result"
        }
      ],
      "source": [
        "multiply.description"
      ]
    },
    {
      "cell_type": "code",
      "execution_count": null,
      "id": "365e78d7",
      "metadata": {
        "id": "365e78d7",
        "outputId": "1076e637-614f-4907-df66-c1789e10e940"
      },
      "outputs": [
        {
          "data": {
            "text/plain": [
              "{'a': {'title': 'A', 'type': 'integer'},\n",
              " 'b': {'title': 'B', 'type': 'integer'}}"
            ]
          },
          "execution_count": 58,
          "metadata": {},
          "output_type": "execute_result"
        }
      ],
      "source": [
        "multiply.args"
      ]
    },
    {
      "cell_type": "code",
      "execution_count": null,
      "id": "5941e644",
      "metadata": {
        "id": "5941e644"
      },
      "outputs": [],
      "source": [
        "def get_word_length(word:str)->int:\n",
        "    return len(word)"
      ]
    },
    {
      "cell_type": "code",
      "execution_count": null,
      "id": "d56fafdd",
      "metadata": {
        "id": "d56fafdd",
        "outputId": "1566e601-3088-4312-d3db-c395a7facd75"
      },
      "outputs": [
        {
          "data": {
            "text/plain": [
              "18"
            ]
          },
          "execution_count": 61,
          "metadata": {},
          "output_type": "execute_result"
        }
      ],
      "source": [
        "get_word_length(\"Sainadh bahadursha\")"
      ]
    },
    {
      "cell_type": "code",
      "execution_count": null,
      "id": "b176fc8a",
      "metadata": {
        "id": "b176fc8a",
        "outputId": "5d80649d-6e89-4189-f913-e1640286aa9a"
      },
      "outputs": [
        {
          "data": {
            "text/plain": [
              "13"
            ]
          },
          "execution_count": 62,
          "metadata": {},
          "output_type": "execute_result"
        }
      ],
      "source": [
        "get_word_length(\"narendra modi\")"
      ]
    },
    {
      "cell_type": "code",
      "execution_count": null,
      "id": "c1cfb06e",
      "metadata": {
        "id": "c1cfb06e"
      },
      "outputs": [],
      "source": [
        "@tool\n",
        "def get_word_length(word:str)->int:\n",
        "    \"\"\"this function is calculating a length of the word\"\"\"\n",
        "    return len(word)"
      ]
    },
    {
      "cell_type": "code",
      "execution_count": null,
      "id": "efd94c98",
      "metadata": {
        "id": "efd94c98",
        "outputId": "54bbff7d-bfed-47f5-b1d6-6c9e7222449f"
      },
      "outputs": [
        {
          "data": {
            "text/plain": [
              "'get_word_length'"
            ]
          },
          "execution_count": 64,
          "metadata": {},
          "output_type": "execute_result"
        }
      ],
      "source": [
        "get_word_length.name"
      ]
    },
    {
      "cell_type": "code",
      "execution_count": null,
      "id": "d7a4cc82",
      "metadata": {
        "id": "d7a4cc82",
        "outputId": "ee26eba5-b4c2-48b2-8182-e9c6e7a9c9f7"
      },
      "outputs": [
        {
          "data": {
            "text/plain": [
              "'this function is calculating a length of the word'"
            ]
          },
          "execution_count": 67,
          "metadata": {},
          "output_type": "execute_result"
        }
      ],
      "source": [
        "get_word_length.description"
      ]
    },
    {
      "cell_type": "code",
      "execution_count": null,
      "id": "5bd42de8",
      "metadata": {
        "id": "5bd42de8",
        "outputId": "acc39742-b57a-4335-beba-f2cf0841ee47"
      },
      "outputs": [
        {
          "data": {
            "text/plain": [
              "{'word': {'title': 'Word', 'type': 'string'}}"
            ]
          },
          "execution_count": 68,
          "metadata": {},
          "output_type": "execute_result"
        }
      ],
      "source": [
        "get_word_length.args"
      ]
    },
    {
      "cell_type": "code",
      "execution_count": null,
      "id": "88d450b3",
      "metadata": {
        "id": "88d450b3",
        "outputId": "bdb847dd-6916-439b-f5f6-54953f829c24"
      },
      "outputs": [
        {
          "name": "stderr",
          "output_type": "stream",
          "text": [
            "C:\\Users\\saina\\AppData\\Local\\Temp\\ipykernel_1676\\1704822211.py:1: LangChainDeprecationWarning: The method `BaseTool.__call__` was deprecated in langchain-core 0.1.47 and will be removed in 1.0. Use :meth:`~invoke` instead.\n",
            "  get_word_length(\"sainadh\")\n"
          ]
        },
        {
          "data": {
            "text/plain": [
              "7"
            ]
          },
          "execution_count": 69,
          "metadata": {},
          "output_type": "execute_result"
        }
      ],
      "source": [
        "get_word_length(\"sainadh\")"
      ]
    },
    {
      "cell_type": "code",
      "execution_count": null,
      "id": "784c9efc",
      "metadata": {
        "id": "784c9efc",
        "outputId": "42124ab2-c1f1-4778-8d47-e8e267e47845"
      },
      "outputs": [
        {
          "data": {
            "text/plain": [
              "7"
            ]
          },
          "execution_count": 70,
          "metadata": {},
          "output_type": "execute_result"
        }
      ],
      "source": [
        "get_word_length.invoke(\"sainadh\")"
      ]
    },
    {
      "cell_type": "markdown",
      "id": "8ae74a74",
      "metadata": {
        "id": "8ae74a74"
      },
      "source": [
        "### Gmail tool"
      ]
    },
    {
      "cell_type": "code",
      "execution_count": null,
      "id": "02d0863e",
      "metadata": {
        "id": "02d0863e"
      },
      "outputs": [],
      "source": [
        "# @tool\n",
        "# def call_gmail_api(args):\n",
        "#     \"\"\"this is my gmail api calling funtion\"\"\"\n",
        "#     pass"
      ]
    },
    {
      "cell_type": "code",
      "execution_count": null,
      "id": "71b335ff",
      "metadata": {
        "id": "71b335ff"
      },
      "outputs": [],
      "source": [
        "from langchain.agents import tool\n",
        "import os\n",
        "import base64\n",
        "from email import message_from_bytes\n",
        "from google.auth.transport.requests import Request\n",
        "from google.oauth2.credentials import Credentials\n",
        "from google_auth_oauthlib.flow import InstalledAppFlow\n",
        "from googleapiclient.discovery import build\n",
        "\n",
        "SCOPES = ['https://www.googleapis.com/auth/gmail.readonly']\n",
        "from langchain.tools import tool\n",
        "from pydantic import BaseModel, Field\n",
        "\n",
        "class GmailArgs(BaseModel):\n",
        "    max_results: int = Field(..., description=\"Number of unread emails to fetch\")\n",
        "\n",
        "@tool\n",
        "def call_gmail_api(args: GmailArgs) -> str:\n",
        "    \"\"\"\n",
        "    Reads unread emails from Gmail inbox using Gmail API.\n",
        "    Args:\n",
        "        max_results (int): Maximum number of unread emails to fetch. Default is 5.\n",
        "    Returns:\n",
        "        A string summary of unread emails.\n",
        "    \"\"\"\n",
        "    max_results = args.max_results\n",
        "\n",
        "    try:\n",
        "        creds = None\n",
        "        if os.path.exists('token.json'):\n",
        "            creds = Credentials.from_authorized_user_file('token.json', SCOPES)\n",
        "        if not creds or not creds.valid:\n",
        "            if creds and creds.expired and creds.refresh_token:\n",
        "                creds.refresh(Request())\n",
        "            else:\n",
        "                flow = InstalledAppFlow.from_client_secrets_file('credentials.json', SCOPES)\n",
        "                creds = flow.run_local_server(port=0)\n",
        "            with open('token.json', 'w') as token:\n",
        "                token.write(creds.to_json())\n",
        "\n",
        "        service = build('gmail', 'v1', credentials=creds)\n",
        "        results = service.users().messages().list(userId='me', labelIds=['INBOX', 'UNREAD'], maxResults=max_results).execute()\n",
        "        messages = results.get('messages', [])\n",
        "\n",
        "        if not messages:\n",
        "            return \"No unread emails found.\"\n",
        "\n",
        "        summaries = []\n",
        "        for msg in messages:\n",
        "            msg_data = service.users().messages().get(userId='me', id=msg['id']).execute()\n",
        "            headers = msg_data['payload']['headers']\n",
        "            subject = next((h['value'] for h in headers if h['name'] == 'Subject'), '(No Subject)')\n",
        "            sender = next((h['value'] for h in headers if h['name'] == 'From'), '(Unknown Sender)')\n",
        "            snippet = msg_data.get('snippet', '')\n",
        "            summaries.append(f\"From: {sender}\\nSubject: {subject}\\nSnippet: {snippet}\")\n",
        "\n",
        "        return \"\\n\\n\".join(summaries)\n",
        "\n",
        "    except Exception as e:\n",
        "        return f\"Error accessing Gmail API: {e}\"\n",
        "\n",
        "# @tool\n",
        "# def call_gmail_api(max_results: int = 5) -> str:\n",
        "#     \"\"\"\n",
        "#     Reads unread emails from Gmail inbox using Gmail API.\n",
        "#     Args:\n",
        "#         max_results (int): Maximum number of unread emails to fetch. Default is 5.\n",
        "#     Returns:\n",
        "#         A string summary of unread emails.\n",
        "#     \"\"\"\n",
        "#     try:\n",
        "#         creds = None\n",
        "#         if os.path.exists('token.json'):\n",
        "#             creds = Credentials.from_authorized_user_file('token.json', SCOPES)\n",
        "#         if not creds or not creds.valid:\n",
        "#             if creds and creds.expired and creds.refresh_token:\n",
        "#                 creds.refresh(Request())\n",
        "#             else:\n",
        "#                 flow = InstalledAppFlow.from_client_secrets_file('credentials.json', SCOPES)\n",
        "#                 creds = flow.run_local_server(port=0)\n",
        "#             with open('token.json', 'w') as token:\n",
        "#                 token.write(creds.to_json())\n",
        "\n",
        "#         service = build('gmail', 'v1', credentials=creds)\n",
        "#         results = service.users().messages().list(userId='me', labelIds=['INBOX', 'UNREAD'], maxResults=max_results).execute()\n",
        "#         messages = results.get('messages', [])\n",
        "\n",
        "#         if not messages:\n",
        "#             return \"No unread emails found.\"\n",
        "\n",
        "#         summaries = []\n",
        "#         for msg in messages:\n",
        "#             msg_data = service.users().messages().get(userId='me', id=msg['id']).execute()\n",
        "#             headers = msg_data['payload']['headers']\n",
        "#             subject = next((h['value'] for h in headers if h['name'] == 'Subject'), '(No Subject)')\n",
        "#             sender = next((h['value'] for h in headers if h['name'] == 'From'), '(Unknown Sender)')\n",
        "#             snippet = msg_data.get('snippet', '')\n",
        "#             summaries.append(f\"From: {sender}\\nSubject: {subject}\\nSnippet: {snippet}\")\n",
        "\n",
        "#         return \"\\n\\n\".join(summaries)\n",
        "\n",
        "#     except Exception as e:\n",
        "#         return f\"Error accessing Gmail API: {e}\"\n",
        "\n"
      ]
    },
    {
      "cell_type": "code",
      "execution_count": null,
      "id": "6eee951c",
      "metadata": {
        "id": "6eee951c",
        "outputId": "f89f26fd-0835-4a7f-d7ec-3de2f111481a"
      },
      "outputs": [
        {
          "name": "stdout",
          "output_type": "stream",
          "text": [
            "\n",
            "\n",
            "\u001b[1m> Entering new AgentExecutor chain...\u001b[0m\n",
            "\u001b[32;1m\u001b[1;3mI should use the call_gmail_api function to fetch my unread emails.\n",
            "Action: call_gmail_api\n",
            "Action Input: max_results=3\u001b[0m"
          ]
        },
        {
          "ename": "ValidationError",
          "evalue": "1 validation error for call_gmail_api\nv__args\n  Input should be a valid list [type=list_type, input_value='max_results=3', input_type=str]\n    For further information visit https://errors.pydantic.dev/2.11/v/list_type",
          "output_type": "error",
          "traceback": [
            "\u001b[31m---------------------------------------------------------------------------\u001b[39m",
            "\u001b[31mValidationError\u001b[39m                           Traceback (most recent call last)",
            "\u001b[36mCell\u001b[39m\u001b[36m \u001b[39m\u001b[32mIn[74]\u001b[39m\u001b[32m, line 35\u001b[39m\n\u001b[32m     27\u001b[39m agent = initialize_agent(\n\u001b[32m     28\u001b[39m     tools=tools,\n\u001b[32m     29\u001b[39m     llm=llm,\n\u001b[32m     30\u001b[39m     agent_type=AgentType.OPENAI_FUNCTIONS,  \u001b[38;5;66;03m# Requires structured input\u001b[39;00m\n\u001b[32m     31\u001b[39m     verbose=\u001b[38;5;28;01mTrue\u001b[39;00m,\n\u001b[32m     32\u001b[39m )\n\u001b[32m     34\u001b[39m \u001b[38;5;66;03m# Test\u001b[39;00m\n\u001b[32m---> \u001b[39m\u001b[32m35\u001b[39m response = \u001b[43magent\u001b[49m\u001b[43m.\u001b[49m\u001b[43mrun\u001b[49m\u001b[43m(\u001b[49m\u001b[33;43m\"\u001b[39;49m\u001b[33;43mGet my last 3 unread emails.\u001b[39;49m\u001b[33;43m\"\u001b[39;49m\u001b[43m)\u001b[49m\n\u001b[32m     36\u001b[39m \u001b[38;5;28mprint\u001b[39m(response)\n",
            "\u001b[36mFile \u001b[39m\u001b[32mc:\\Users\\saina\\.conda\\envs\\agentic_2_base\\Lib\\site-packages\\langchain_core\\_api\\deprecation.py:191\u001b[39m, in \u001b[36mdeprecated.<locals>.deprecate.<locals>.warning_emitting_wrapper\u001b[39m\u001b[34m(*args, **kwargs)\u001b[39m\n\u001b[32m    189\u001b[39m     warned = \u001b[38;5;28;01mTrue\u001b[39;00m\n\u001b[32m    190\u001b[39m     emit_warning()\n\u001b[32m--> \u001b[39m\u001b[32m191\u001b[39m \u001b[38;5;28;01mreturn\u001b[39;00m \u001b[43mwrapped\u001b[49m\u001b[43m(\u001b[49m\u001b[43m*\u001b[49m\u001b[43margs\u001b[49m\u001b[43m,\u001b[49m\u001b[43m \u001b[49m\u001b[43m*\u001b[49m\u001b[43m*\u001b[49m\u001b[43mkwargs\u001b[49m\u001b[43m)\u001b[49m\n",
            "\u001b[36mFile \u001b[39m\u001b[32mc:\\Users\\saina\\.conda\\envs\\agentic_2_base\\Lib\\site-packages\\langchain\\chains\\base.py:603\u001b[39m, in \u001b[36mChain.run\u001b[39m\u001b[34m(self, callbacks, tags, metadata, *args, **kwargs)\u001b[39m\n\u001b[32m    601\u001b[39m     \u001b[38;5;28;01mif\u001b[39;00m \u001b[38;5;28mlen\u001b[39m(args) != \u001b[32m1\u001b[39m:\n\u001b[32m    602\u001b[39m         \u001b[38;5;28;01mraise\u001b[39;00m \u001b[38;5;167;01mValueError\u001b[39;00m(\u001b[33m\"\u001b[39m\u001b[33m`run` supports only one positional argument.\u001b[39m\u001b[33m\"\u001b[39m)\n\u001b[32m--> \u001b[39m\u001b[32m603\u001b[39m     \u001b[38;5;28;01mreturn\u001b[39;00m \u001b[38;5;28;43mself\u001b[39;49m\u001b[43m(\u001b[49m\u001b[43margs\u001b[49m\u001b[43m[\u001b[49m\u001b[32;43m0\u001b[39;49m\u001b[43m]\u001b[49m\u001b[43m,\u001b[49m\u001b[43m \u001b[49m\u001b[43mcallbacks\u001b[49m\u001b[43m=\u001b[49m\u001b[43mcallbacks\u001b[49m\u001b[43m,\u001b[49m\u001b[43m \u001b[49m\u001b[43mtags\u001b[49m\u001b[43m=\u001b[49m\u001b[43mtags\u001b[49m\u001b[43m,\u001b[49m\u001b[43m \u001b[49m\u001b[43mmetadata\u001b[49m\u001b[43m=\u001b[49m\u001b[43mmetadata\u001b[49m\u001b[43m)\u001b[49m[\n\u001b[32m    604\u001b[39m         _output_key\n\u001b[32m    605\u001b[39m     ]\n\u001b[32m    607\u001b[39m \u001b[38;5;28;01mif\u001b[39;00m kwargs \u001b[38;5;129;01mand\u001b[39;00m \u001b[38;5;129;01mnot\u001b[39;00m args:\n\u001b[32m    608\u001b[39m     \u001b[38;5;28;01mreturn\u001b[39;00m \u001b[38;5;28mself\u001b[39m(kwargs, callbacks=callbacks, tags=tags, metadata=metadata)[\n\u001b[32m    609\u001b[39m         _output_key\n\u001b[32m    610\u001b[39m     ]\n",
            "\u001b[36mFile \u001b[39m\u001b[32mc:\\Users\\saina\\.conda\\envs\\agentic_2_base\\Lib\\site-packages\\langchain_core\\_api\\deprecation.py:191\u001b[39m, in \u001b[36mdeprecated.<locals>.deprecate.<locals>.warning_emitting_wrapper\u001b[39m\u001b[34m(*args, **kwargs)\u001b[39m\n\u001b[32m    189\u001b[39m     warned = \u001b[38;5;28;01mTrue\u001b[39;00m\n\u001b[32m    190\u001b[39m     emit_warning()\n\u001b[32m--> \u001b[39m\u001b[32m191\u001b[39m \u001b[38;5;28;01mreturn\u001b[39;00m \u001b[43mwrapped\u001b[49m\u001b[43m(\u001b[49m\u001b[43m*\u001b[49m\u001b[43margs\u001b[49m\u001b[43m,\u001b[49m\u001b[43m \u001b[49m\u001b[43m*\u001b[49m\u001b[43m*\u001b[49m\u001b[43mkwargs\u001b[49m\u001b[43m)\u001b[49m\n",
            "\u001b[36mFile \u001b[39m\u001b[32mc:\\Users\\saina\\.conda\\envs\\agentic_2_base\\Lib\\site-packages\\langchain\\chains\\base.py:386\u001b[39m, in \u001b[36mChain.__call__\u001b[39m\u001b[34m(self, inputs, return_only_outputs, callbacks, tags, metadata, run_name, include_run_info)\u001b[39m\n\u001b[32m    354\u001b[39m \u001b[38;5;250m\u001b[39m\u001b[33;03m\"\"\"Execute the chain.\u001b[39;00m\n\u001b[32m    355\u001b[39m \n\u001b[32m    356\u001b[39m \u001b[33;03mArgs:\u001b[39;00m\n\u001b[32m   (...)\u001b[39m\u001b[32m    377\u001b[39m \u001b[33;03m        `Chain.output_keys`.\u001b[39;00m\n\u001b[32m    378\u001b[39m \u001b[33;03m\"\"\"\u001b[39;00m\n\u001b[32m    379\u001b[39m config = {\n\u001b[32m    380\u001b[39m     \u001b[33m\"\u001b[39m\u001b[33mcallbacks\u001b[39m\u001b[33m\"\u001b[39m: callbacks,\n\u001b[32m    381\u001b[39m     \u001b[33m\"\u001b[39m\u001b[33mtags\u001b[39m\u001b[33m\"\u001b[39m: tags,\n\u001b[32m    382\u001b[39m     \u001b[33m\"\u001b[39m\u001b[33mmetadata\u001b[39m\u001b[33m\"\u001b[39m: metadata,\n\u001b[32m    383\u001b[39m     \u001b[33m\"\u001b[39m\u001b[33mrun_name\u001b[39m\u001b[33m\"\u001b[39m: run_name,\n\u001b[32m    384\u001b[39m }\n\u001b[32m--> \u001b[39m\u001b[32m386\u001b[39m \u001b[38;5;28;01mreturn\u001b[39;00m \u001b[38;5;28;43mself\u001b[39;49m\u001b[43m.\u001b[49m\u001b[43minvoke\u001b[49m\u001b[43m(\u001b[49m\n\u001b[32m    387\u001b[39m \u001b[43m    \u001b[49m\u001b[43minputs\u001b[49m\u001b[43m,\u001b[49m\n\u001b[32m    388\u001b[39m \u001b[43m    \u001b[49m\u001b[43mcast\u001b[49m\u001b[43m(\u001b[49m\u001b[43mRunnableConfig\u001b[49m\u001b[43m,\u001b[49m\u001b[43m \u001b[49m\u001b[43m{\u001b[49m\u001b[43mk\u001b[49m\u001b[43m:\u001b[49m\u001b[43m \u001b[49m\u001b[43mv\u001b[49m\u001b[43m \u001b[49m\u001b[38;5;28;43;01mfor\u001b[39;49;00m\u001b[43m \u001b[49m\u001b[43mk\u001b[49m\u001b[43m,\u001b[49m\u001b[43m \u001b[49m\u001b[43mv\u001b[49m\u001b[43m \u001b[49m\u001b[38;5;129;43;01min\u001b[39;49;00m\u001b[43m \u001b[49m\u001b[43mconfig\u001b[49m\u001b[43m.\u001b[49m\u001b[43mitems\u001b[49m\u001b[43m(\u001b[49m\u001b[43m)\u001b[49m\u001b[43m \u001b[49m\u001b[38;5;28;43;01mif\u001b[39;49;00m\u001b[43m \u001b[49m\u001b[43mv\u001b[49m\u001b[43m \u001b[49m\u001b[38;5;129;43;01mis\u001b[39;49;00m\u001b[43m \u001b[49m\u001b[38;5;129;43;01mnot\u001b[39;49;00m\u001b[43m \u001b[49m\u001b[38;5;28;43;01mNone\u001b[39;49;00m\u001b[43m}\u001b[49m\u001b[43m)\u001b[49m\u001b[43m,\u001b[49m\n\u001b[32m    389\u001b[39m \u001b[43m    \u001b[49m\u001b[43mreturn_only_outputs\u001b[49m\u001b[43m=\u001b[49m\u001b[43mreturn_only_outputs\u001b[49m\u001b[43m,\u001b[49m\n\u001b[32m    390\u001b[39m \u001b[43m    \u001b[49m\u001b[43minclude_run_info\u001b[49m\u001b[43m=\u001b[49m\u001b[43minclude_run_info\u001b[49m\u001b[43m,\u001b[49m\n\u001b[32m    391\u001b[39m \u001b[43m\u001b[49m\u001b[43m)\u001b[49m\n",
            "\u001b[36mFile \u001b[39m\u001b[32mc:\\Users\\saina\\.conda\\envs\\agentic_2_base\\Lib\\site-packages\\langchain\\chains\\base.py:167\u001b[39m, in \u001b[36mChain.invoke\u001b[39m\u001b[34m(self, input, config, **kwargs)\u001b[39m\n\u001b[32m    165\u001b[39m \u001b[38;5;28;01mexcept\u001b[39;00m \u001b[38;5;167;01mBaseException\u001b[39;00m \u001b[38;5;28;01mas\u001b[39;00m e:\n\u001b[32m    166\u001b[39m     run_manager.on_chain_error(e)\n\u001b[32m--> \u001b[39m\u001b[32m167\u001b[39m     \u001b[38;5;28;01mraise\u001b[39;00m e\n\u001b[32m    168\u001b[39m run_manager.on_chain_end(outputs)\n\u001b[32m    170\u001b[39m \u001b[38;5;28;01mif\u001b[39;00m include_run_info:\n",
            "\u001b[36mFile \u001b[39m\u001b[32mc:\\Users\\saina\\.conda\\envs\\agentic_2_base\\Lib\\site-packages\\langchain\\chains\\base.py:157\u001b[39m, in \u001b[36mChain.invoke\u001b[39m\u001b[34m(self, input, config, **kwargs)\u001b[39m\n\u001b[32m    154\u001b[39m \u001b[38;5;28;01mtry\u001b[39;00m:\n\u001b[32m    155\u001b[39m     \u001b[38;5;28mself\u001b[39m._validate_inputs(inputs)\n\u001b[32m    156\u001b[39m     outputs = (\n\u001b[32m--> \u001b[39m\u001b[32m157\u001b[39m         \u001b[38;5;28;43mself\u001b[39;49m\u001b[43m.\u001b[49m\u001b[43m_call\u001b[49m\u001b[43m(\u001b[49m\u001b[43minputs\u001b[49m\u001b[43m,\u001b[49m\u001b[43m \u001b[49m\u001b[43mrun_manager\u001b[49m\u001b[43m=\u001b[49m\u001b[43mrun_manager\u001b[49m\u001b[43m)\u001b[49m\n\u001b[32m    158\u001b[39m         \u001b[38;5;28;01mif\u001b[39;00m new_arg_supported\n\u001b[32m    159\u001b[39m         \u001b[38;5;28;01melse\u001b[39;00m \u001b[38;5;28mself\u001b[39m._call(inputs)\n\u001b[32m    160\u001b[39m     )\n\u001b[32m    162\u001b[39m     final_outputs: \u001b[38;5;28mdict\u001b[39m[\u001b[38;5;28mstr\u001b[39m, Any] = \u001b[38;5;28mself\u001b[39m.prep_outputs(\n\u001b[32m    163\u001b[39m         inputs, outputs, return_only_outputs\n\u001b[32m    164\u001b[39m     )\n\u001b[32m    165\u001b[39m \u001b[38;5;28;01mexcept\u001b[39;00m \u001b[38;5;167;01mBaseException\u001b[39;00m \u001b[38;5;28;01mas\u001b[39;00m e:\n",
            "\u001b[36mFile \u001b[39m\u001b[32mc:\\Users\\saina\\.conda\\envs\\agentic_2_base\\Lib\\site-packages\\langchain\\agents\\agent.py:1620\u001b[39m, in \u001b[36mAgentExecutor._call\u001b[39m\u001b[34m(self, inputs, run_manager)\u001b[39m\n\u001b[32m   1618\u001b[39m \u001b[38;5;66;03m# We now enter the agent loop (until it returns something).\u001b[39;00m\n\u001b[32m   1619\u001b[39m \u001b[38;5;28;01mwhile\u001b[39;00m \u001b[38;5;28mself\u001b[39m._should_continue(iterations, time_elapsed):\n\u001b[32m-> \u001b[39m\u001b[32m1620\u001b[39m     next_step_output = \u001b[38;5;28;43mself\u001b[39;49m\u001b[43m.\u001b[49m\u001b[43m_take_next_step\u001b[49m\u001b[43m(\u001b[49m\n\u001b[32m   1621\u001b[39m \u001b[43m        \u001b[49m\u001b[43mname_to_tool_map\u001b[49m\u001b[43m,\u001b[49m\n\u001b[32m   1622\u001b[39m \u001b[43m        \u001b[49m\u001b[43mcolor_mapping\u001b[49m\u001b[43m,\u001b[49m\n\u001b[32m   1623\u001b[39m \u001b[43m        \u001b[49m\u001b[43minputs\u001b[49m\u001b[43m,\u001b[49m\n\u001b[32m   1624\u001b[39m \u001b[43m        \u001b[49m\u001b[43mintermediate_steps\u001b[49m\u001b[43m,\u001b[49m\n\u001b[32m   1625\u001b[39m \u001b[43m        \u001b[49m\u001b[43mrun_manager\u001b[49m\u001b[43m=\u001b[49m\u001b[43mrun_manager\u001b[49m\u001b[43m,\u001b[49m\n\u001b[32m   1626\u001b[39m \u001b[43m    \u001b[49m\u001b[43m)\u001b[49m\n\u001b[32m   1627\u001b[39m     \u001b[38;5;28;01mif\u001b[39;00m \u001b[38;5;28misinstance\u001b[39m(next_step_output, AgentFinish):\n\u001b[32m   1628\u001b[39m         \u001b[38;5;28;01mreturn\u001b[39;00m \u001b[38;5;28mself\u001b[39m._return(\n\u001b[32m   1629\u001b[39m             next_step_output, intermediate_steps, run_manager=run_manager\n\u001b[32m   1630\u001b[39m         )\n",
            "\u001b[36mFile \u001b[39m\u001b[32mc:\\Users\\saina\\.conda\\envs\\agentic_2_base\\Lib\\site-packages\\langchain\\agents\\agent.py:1326\u001b[39m, in \u001b[36mAgentExecutor._take_next_step\u001b[39m\u001b[34m(self, name_to_tool_map, color_mapping, inputs, intermediate_steps, run_manager)\u001b[39m\n\u001b[32m   1317\u001b[39m \u001b[38;5;28;01mdef\u001b[39;00m\u001b[38;5;250m \u001b[39m\u001b[34m_take_next_step\u001b[39m(\n\u001b[32m   1318\u001b[39m     \u001b[38;5;28mself\u001b[39m,\n\u001b[32m   1319\u001b[39m     name_to_tool_map: \u001b[38;5;28mdict\u001b[39m[\u001b[38;5;28mstr\u001b[39m, BaseTool],\n\u001b[32m   (...)\u001b[39m\u001b[32m   1323\u001b[39m     run_manager: Optional[CallbackManagerForChainRun] = \u001b[38;5;28;01mNone\u001b[39;00m,\n\u001b[32m   1324\u001b[39m ) -> Union[AgentFinish, \u001b[38;5;28mlist\u001b[39m[\u001b[38;5;28mtuple\u001b[39m[AgentAction, \u001b[38;5;28mstr\u001b[39m]]]:\n\u001b[32m   1325\u001b[39m     \u001b[38;5;28;01mreturn\u001b[39;00m \u001b[38;5;28mself\u001b[39m._consume_next_step(\n\u001b[32m-> \u001b[39m\u001b[32m1326\u001b[39m         \u001b[43m[\u001b[49m\n\u001b[32m   1327\u001b[39m \u001b[43m            \u001b[49m\u001b[43ma\u001b[49m\n\u001b[32m   1328\u001b[39m \u001b[43m            \u001b[49m\u001b[38;5;28;43;01mfor\u001b[39;49;00m\u001b[43m \u001b[49m\u001b[43ma\u001b[49m\u001b[43m \u001b[49m\u001b[38;5;129;43;01min\u001b[39;49;00m\u001b[43m \u001b[49m\u001b[38;5;28;43mself\u001b[39;49m\u001b[43m.\u001b[49m\u001b[43m_iter_next_step\u001b[49m\u001b[43m(\u001b[49m\n\u001b[32m   1329\u001b[39m \u001b[43m                \u001b[49m\u001b[43mname_to_tool_map\u001b[49m\u001b[43m,\u001b[49m\n\u001b[32m   1330\u001b[39m \u001b[43m                \u001b[49m\u001b[43mcolor_mapping\u001b[49m\u001b[43m,\u001b[49m\n\u001b[32m   1331\u001b[39m \u001b[43m                \u001b[49m\u001b[43minputs\u001b[49m\u001b[43m,\u001b[49m\n\u001b[32m   1332\u001b[39m \u001b[43m                \u001b[49m\u001b[43mintermediate_steps\u001b[49m\u001b[43m,\u001b[49m\n\u001b[32m   1333\u001b[39m \u001b[43m                \u001b[49m\u001b[43mrun_manager\u001b[49m\u001b[43m,\u001b[49m\n\u001b[32m   1334\u001b[39m \u001b[43m            \u001b[49m\u001b[43m)\u001b[49m\n\u001b[32m   1335\u001b[39m \u001b[43m        \u001b[49m\u001b[43m]\u001b[49m\n\u001b[32m   1336\u001b[39m     )\n",
            "\u001b[36mFile \u001b[39m\u001b[32mc:\\Users\\saina\\.conda\\envs\\agentic_2_base\\Lib\\site-packages\\langchain\\agents\\agent.py:1326\u001b[39m, in \u001b[36m<listcomp>\u001b[39m\u001b[34m(.0)\u001b[39m\n\u001b[32m   1317\u001b[39m \u001b[38;5;28;01mdef\u001b[39;00m\u001b[38;5;250m \u001b[39m\u001b[34m_take_next_step\u001b[39m(\n\u001b[32m   1318\u001b[39m     \u001b[38;5;28mself\u001b[39m,\n\u001b[32m   1319\u001b[39m     name_to_tool_map: \u001b[38;5;28mdict\u001b[39m[\u001b[38;5;28mstr\u001b[39m, BaseTool],\n\u001b[32m   (...)\u001b[39m\u001b[32m   1323\u001b[39m     run_manager: Optional[CallbackManagerForChainRun] = \u001b[38;5;28;01mNone\u001b[39;00m,\n\u001b[32m   1324\u001b[39m ) -> Union[AgentFinish, \u001b[38;5;28mlist\u001b[39m[\u001b[38;5;28mtuple\u001b[39m[AgentAction, \u001b[38;5;28mstr\u001b[39m]]]:\n\u001b[32m   1325\u001b[39m     \u001b[38;5;28;01mreturn\u001b[39;00m \u001b[38;5;28mself\u001b[39m._consume_next_step(\n\u001b[32m-> \u001b[39m\u001b[32m1326\u001b[39m         \u001b[43m[\u001b[49m\n\u001b[32m   1327\u001b[39m \u001b[43m            \u001b[49m\u001b[43ma\u001b[49m\n\u001b[32m   1328\u001b[39m \u001b[43m            \u001b[49m\u001b[38;5;28;43;01mfor\u001b[39;49;00m\u001b[43m \u001b[49m\u001b[43ma\u001b[49m\u001b[43m \u001b[49m\u001b[38;5;129;43;01min\u001b[39;49;00m\u001b[43m \u001b[49m\u001b[38;5;28;43mself\u001b[39;49m\u001b[43m.\u001b[49m\u001b[43m_iter_next_step\u001b[49m\u001b[43m(\u001b[49m\n\u001b[32m   1329\u001b[39m \u001b[43m                \u001b[49m\u001b[43mname_to_tool_map\u001b[49m\u001b[43m,\u001b[49m\n\u001b[32m   1330\u001b[39m \u001b[43m                \u001b[49m\u001b[43mcolor_mapping\u001b[49m\u001b[43m,\u001b[49m\n\u001b[32m   1331\u001b[39m \u001b[43m                \u001b[49m\u001b[43minputs\u001b[49m\u001b[43m,\u001b[49m\n\u001b[32m   1332\u001b[39m \u001b[43m                \u001b[49m\u001b[43mintermediate_steps\u001b[49m\u001b[43m,\u001b[49m\n\u001b[32m   1333\u001b[39m \u001b[43m                \u001b[49m\u001b[43mrun_manager\u001b[49m\u001b[43m,\u001b[49m\n\u001b[32m   1334\u001b[39m \u001b[43m            \u001b[49m\u001b[43m)\u001b[49m\n\u001b[32m   1335\u001b[39m \u001b[43m        \u001b[49m\u001b[43m]\u001b[49m\n\u001b[32m   1336\u001b[39m     )\n",
            "\u001b[36mFile \u001b[39m\u001b[32mc:\\Users\\saina\\.conda\\envs\\agentic_2_base\\Lib\\site-packages\\langchain\\agents\\agent.py:1411\u001b[39m, in \u001b[36mAgentExecutor._iter_next_step\u001b[39m\u001b[34m(self, name_to_tool_map, color_mapping, inputs, intermediate_steps, run_manager)\u001b[39m\n\u001b[32m   1409\u001b[39m     \u001b[38;5;28;01myield\u001b[39;00m agent_action\n\u001b[32m   1410\u001b[39m \u001b[38;5;28;01mfor\u001b[39;00m agent_action \u001b[38;5;129;01min\u001b[39;00m actions:\n\u001b[32m-> \u001b[39m\u001b[32m1411\u001b[39m     \u001b[38;5;28;01myield\u001b[39;00m \u001b[38;5;28;43mself\u001b[39;49m\u001b[43m.\u001b[49m\u001b[43m_perform_agent_action\u001b[49m\u001b[43m(\u001b[49m\n\u001b[32m   1412\u001b[39m \u001b[43m        \u001b[49m\u001b[43mname_to_tool_map\u001b[49m\u001b[43m,\u001b[49m\u001b[43m \u001b[49m\u001b[43mcolor_mapping\u001b[49m\u001b[43m,\u001b[49m\u001b[43m \u001b[49m\u001b[43magent_action\u001b[49m\u001b[43m,\u001b[49m\u001b[43m \u001b[49m\u001b[43mrun_manager\u001b[49m\n\u001b[32m   1413\u001b[39m \u001b[43m    \u001b[49m\u001b[43m)\u001b[49m\n",
            "\u001b[36mFile \u001b[39m\u001b[32mc:\\Users\\saina\\.conda\\envs\\agentic_2_base\\Lib\\site-packages\\langchain\\agents\\agent.py:1433\u001b[39m, in \u001b[36mAgentExecutor._perform_agent_action\u001b[39m\u001b[34m(self, name_to_tool_map, color_mapping, agent_action, run_manager)\u001b[39m\n\u001b[32m   1431\u001b[39m         tool_run_kwargs[\u001b[33m\"\u001b[39m\u001b[33mllm_prefix\u001b[39m\u001b[33m\"\u001b[39m] = \u001b[33m\"\u001b[39m\u001b[33m\"\u001b[39m\n\u001b[32m   1432\u001b[39m     \u001b[38;5;66;03m# We then call the tool on the tool input to get an observation\u001b[39;00m\n\u001b[32m-> \u001b[39m\u001b[32m1433\u001b[39m     observation = \u001b[43mtool\u001b[49m\u001b[43m.\u001b[49m\u001b[43mrun\u001b[49m\u001b[43m(\u001b[49m\n\u001b[32m   1434\u001b[39m \u001b[43m        \u001b[49m\u001b[43magent_action\u001b[49m\u001b[43m.\u001b[49m\u001b[43mtool_input\u001b[49m\u001b[43m,\u001b[49m\n\u001b[32m   1435\u001b[39m \u001b[43m        \u001b[49m\u001b[43mverbose\u001b[49m\u001b[43m=\u001b[49m\u001b[38;5;28;43mself\u001b[39;49m\u001b[43m.\u001b[49m\u001b[43mverbose\u001b[49m\u001b[43m,\u001b[49m\n\u001b[32m   1436\u001b[39m \u001b[43m        \u001b[49m\u001b[43mcolor\u001b[49m\u001b[43m=\u001b[49m\u001b[43mcolor\u001b[49m\u001b[43m,\u001b[49m\n\u001b[32m   1437\u001b[39m \u001b[43m        \u001b[49m\u001b[43mcallbacks\u001b[49m\u001b[43m=\u001b[49m\u001b[43mrun_manager\u001b[49m\u001b[43m.\u001b[49m\u001b[43mget_child\u001b[49m\u001b[43m(\u001b[49m\u001b[43m)\u001b[49m\u001b[43m \u001b[49m\u001b[38;5;28;43;01mif\u001b[39;49;00m\u001b[43m \u001b[49m\u001b[43mrun_manager\u001b[49m\u001b[43m \u001b[49m\u001b[38;5;28;43;01melse\u001b[39;49;00m\u001b[43m \u001b[49m\u001b[38;5;28;43;01mNone\u001b[39;49;00m\u001b[43m,\u001b[49m\n\u001b[32m   1438\u001b[39m \u001b[43m        \u001b[49m\u001b[43m*\u001b[49m\u001b[43m*\u001b[49m\u001b[43mtool_run_kwargs\u001b[49m\u001b[43m,\u001b[49m\n\u001b[32m   1439\u001b[39m \u001b[43m    \u001b[49m\u001b[43m)\u001b[49m\n\u001b[32m   1440\u001b[39m \u001b[38;5;28;01melse\u001b[39;00m:\n\u001b[32m   1441\u001b[39m     tool_run_kwargs = \u001b[38;5;28mself\u001b[39m._action_agent.tool_run_logging_kwargs()\n",
            "\u001b[36mFile \u001b[39m\u001b[32mc:\\Users\\saina\\.conda\\envs\\agentic_2_base\\Lib\\site-packages\\langchain_core\\tools\\base.py:771\u001b[39m, in \u001b[36mBaseTool.run\u001b[39m\u001b[34m(self, tool_input, verbose, start_color, color, callbacks, tags, metadata, run_name, run_id, config, tool_call_id, **kwargs)\u001b[39m\n\u001b[32m    769\u001b[39m \u001b[38;5;28;01mif\u001b[39;00m error_to_raise:\n\u001b[32m    770\u001b[39m     run_manager.on_tool_error(error_to_raise)\n\u001b[32m--> \u001b[39m\u001b[32m771\u001b[39m     \u001b[38;5;28;01mraise\u001b[39;00m error_to_raise\n\u001b[32m    772\u001b[39m output = _format_output(content, artifact, tool_call_id, \u001b[38;5;28mself\u001b[39m.name, status)\n\u001b[32m    773\u001b[39m run_manager.on_tool_end(output, color=color, name=\u001b[38;5;28mself\u001b[39m.name, **kwargs)\n",
            "\u001b[36mFile \u001b[39m\u001b[32mc:\\Users\\saina\\.conda\\envs\\agentic_2_base\\Lib\\site-packages\\langchain_core\\tools\\base.py:733\u001b[39m, in \u001b[36mBaseTool.run\u001b[39m\u001b[34m(self, tool_input, verbose, start_color, color, callbacks, tags, metadata, run_name, run_id, config, tool_call_id, **kwargs)\u001b[39m\n\u001b[32m    731\u001b[39m child_config = patch_config(config, callbacks=run_manager.get_child())\n\u001b[32m    732\u001b[39m \u001b[38;5;28;01mwith\u001b[39;00m set_config_context(child_config) \u001b[38;5;28;01mas\u001b[39;00m context:\n\u001b[32m--> \u001b[39m\u001b[32m733\u001b[39m     tool_args, tool_kwargs = \u001b[38;5;28;43mself\u001b[39;49m\u001b[43m.\u001b[49m\u001b[43m_to_args_and_kwargs\u001b[49m\u001b[43m(\u001b[49m\n\u001b[32m    734\u001b[39m \u001b[43m        \u001b[49m\u001b[43mtool_input\u001b[49m\u001b[43m,\u001b[49m\u001b[43m \u001b[49m\u001b[43mtool_call_id\u001b[49m\n\u001b[32m    735\u001b[39m \u001b[43m    \u001b[49m\u001b[43m)\u001b[49m\n\u001b[32m    736\u001b[39m     \u001b[38;5;28;01mif\u001b[39;00m signature(\u001b[38;5;28mself\u001b[39m._run).parameters.get(\u001b[33m\"\u001b[39m\u001b[33mrun_manager\u001b[39m\u001b[33m\"\u001b[39m):\n\u001b[32m    737\u001b[39m         tool_kwargs = tool_kwargs | {\u001b[33m\"\u001b[39m\u001b[33mrun_manager\u001b[39m\u001b[33m\"\u001b[39m: run_manager}\n",
            "\u001b[36mFile \u001b[39m\u001b[32mc:\\Users\\saina\\.conda\\envs\\agentic_2_base\\Lib\\site-packages\\langchain_core\\tools\\base.py:648\u001b[39m, in \u001b[36mBaseTool._to_args_and_kwargs\u001b[39m\u001b[34m(self, tool_input, tool_call_id)\u001b[39m\n\u001b[32m    640\u001b[39m \u001b[38;5;28;01mif\u001b[39;00m (\n\u001b[32m    641\u001b[39m     \u001b[38;5;28mself\u001b[39m.args_schema \u001b[38;5;129;01mis\u001b[39;00m \u001b[38;5;129;01mnot\u001b[39;00m \u001b[38;5;28;01mNone\u001b[39;00m\n\u001b[32m    642\u001b[39m     \u001b[38;5;129;01mand\u001b[39;00m \u001b[38;5;28misinstance\u001b[39m(\u001b[38;5;28mself\u001b[39m.args_schema, \u001b[38;5;28mtype\u001b[39m)\n\u001b[32m   (...)\u001b[39m\u001b[32m    645\u001b[39m ):\n\u001b[32m    646\u001b[39m     \u001b[38;5;66;03m# StructuredTool with no args\u001b[39;00m\n\u001b[32m    647\u001b[39m     \u001b[38;5;28;01mreturn\u001b[39;00m (), {}\n\u001b[32m--> \u001b[39m\u001b[32m648\u001b[39m tool_input = \u001b[38;5;28;43mself\u001b[39;49m\u001b[43m.\u001b[49m\u001b[43m_parse_input\u001b[49m\u001b[43m(\u001b[49m\u001b[43mtool_input\u001b[49m\u001b[43m,\u001b[49m\u001b[43m \u001b[49m\u001b[43mtool_call_id\u001b[49m\u001b[43m)\u001b[49m\n\u001b[32m    649\u001b[39m \u001b[38;5;66;03m# For backwards compatibility, if run_input is a string,\u001b[39;00m\n\u001b[32m    650\u001b[39m \u001b[38;5;66;03m# pass as a positional argument.\u001b[39;00m\n\u001b[32m    651\u001b[39m \u001b[38;5;28;01mif\u001b[39;00m \u001b[38;5;28misinstance\u001b[39m(tool_input, \u001b[38;5;28mstr\u001b[39m):\n",
            "\u001b[36mFile \u001b[39m\u001b[32mc:\\Users\\saina\\.conda\\envs\\agentic_2_base\\Lib\\site-packages\\langchain_core\\tools\\base.py:544\u001b[39m, in \u001b[36mBaseTool._parse_input\u001b[39m\u001b[34m(self, tool_input, tool_call_id)\u001b[39m\n\u001b[32m    542\u001b[39m key_ = \u001b[38;5;28mnext\u001b[39m(\u001b[38;5;28miter\u001b[39m(get_fields(input_args).keys()))\n\u001b[32m    543\u001b[39m \u001b[38;5;28;01mif\u001b[39;00m \u001b[38;5;28mhasattr\u001b[39m(input_args, \u001b[33m\"\u001b[39m\u001b[33mmodel_validate\u001b[39m\u001b[33m\"\u001b[39m):\n\u001b[32m--> \u001b[39m\u001b[32m544\u001b[39m     \u001b[43minput_args\u001b[49m\u001b[43m.\u001b[49m\u001b[43mmodel_validate\u001b[49m\u001b[43m(\u001b[49m\u001b[43m{\u001b[49m\u001b[43mkey_\u001b[49m\u001b[43m:\u001b[49m\u001b[43m \u001b[49m\u001b[43mtool_input\u001b[49m\u001b[43m}\u001b[49m\u001b[43m)\u001b[49m\n\u001b[32m    545\u001b[39m \u001b[38;5;28;01melse\u001b[39;00m:\n\u001b[32m    546\u001b[39m     input_args.parse_obj({key_: tool_input})\n",
            "\u001b[36mFile \u001b[39m\u001b[32mc:\\Users\\saina\\.conda\\envs\\agentic_2_base\\Lib\\site-packages\\pydantic\\main.py:705\u001b[39m, in \u001b[36mBaseModel.model_validate\u001b[39m\u001b[34m(cls, obj, strict, from_attributes, context, by_alias, by_name)\u001b[39m\n\u001b[32m    699\u001b[39m \u001b[38;5;28;01mif\u001b[39;00m by_alias \u001b[38;5;129;01mis\u001b[39;00m \u001b[38;5;28;01mFalse\u001b[39;00m \u001b[38;5;129;01mand\u001b[39;00m by_name \u001b[38;5;129;01mis\u001b[39;00m \u001b[38;5;129;01mnot\u001b[39;00m \u001b[38;5;28;01mTrue\u001b[39;00m:\n\u001b[32m    700\u001b[39m     \u001b[38;5;28;01mraise\u001b[39;00m PydanticUserError(\n\u001b[32m    701\u001b[39m         \u001b[33m'\u001b[39m\u001b[33mAt least one of `by_alias` or `by_name` must be set to True.\u001b[39m\u001b[33m'\u001b[39m,\n\u001b[32m    702\u001b[39m         code=\u001b[33m'\u001b[39m\u001b[33mvalidate-by-alias-and-name-false\u001b[39m\u001b[33m'\u001b[39m,\n\u001b[32m    703\u001b[39m     )\n\u001b[32m--> \u001b[39m\u001b[32m705\u001b[39m \u001b[38;5;28;01mreturn\u001b[39;00m \u001b[38;5;28;43mcls\u001b[39;49m\u001b[43m.\u001b[49m\u001b[43m__pydantic_validator__\u001b[49m\u001b[43m.\u001b[49m\u001b[43mvalidate_python\u001b[49m\u001b[43m(\u001b[49m\n\u001b[32m    706\u001b[39m \u001b[43m    \u001b[49m\u001b[43mobj\u001b[49m\u001b[43m,\u001b[49m\u001b[43m \u001b[49m\u001b[43mstrict\u001b[49m\u001b[43m=\u001b[49m\u001b[43mstrict\u001b[49m\u001b[43m,\u001b[49m\u001b[43m \u001b[49m\u001b[43mfrom_attributes\u001b[49m\u001b[43m=\u001b[49m\u001b[43mfrom_attributes\u001b[49m\u001b[43m,\u001b[49m\u001b[43m \u001b[49m\u001b[43mcontext\u001b[49m\u001b[43m=\u001b[49m\u001b[43mcontext\u001b[49m\u001b[43m,\u001b[49m\u001b[43m \u001b[49m\u001b[43mby_alias\u001b[49m\u001b[43m=\u001b[49m\u001b[43mby_alias\u001b[49m\u001b[43m,\u001b[49m\u001b[43m \u001b[49m\u001b[43mby_name\u001b[49m\u001b[43m=\u001b[49m\u001b[43mby_name\u001b[49m\n\u001b[32m    707\u001b[39m \u001b[43m\u001b[49m\u001b[43m)\u001b[49m\n",
            "\u001b[31mValidationError\u001b[39m: 1 validation error for call_gmail_api\nv__args\n  Input should be a valid list [type=list_type, input_value='max_results=3', input_type=str]\n    For further information visit https://errors.pydantic.dev/2.11/v/list_type"
          ]
        }
      ],
      "source": [
        "# from langchain.agents import initialize_agent\n",
        "# from langchain.agents.agent_types import AgentType\n",
        "# from langchain.chat_models import ChatOpenAI\n",
        "\n",
        "# # Register the tool\n",
        "# tools = [call_gmail_api]\n",
        "\n",
        "# llm = ChatOpenAI(model=\"gpt-3.5-turbo\")\n",
        "\n",
        "# agent = initialize_agent(\n",
        "#     tools=tools,\n",
        "#     llm=llm,\n",
        "#     agent_type=AgentType.OPENAI_FUNCTIONS,\n",
        "#     verbose=True,\n",
        "# )\n",
        "\n",
        "# # Example query\n",
        "# response = agent.run(\"Read my last 3 unread emails.\")\n",
        "# print(response)\n",
        "\n",
        "from langchain.agents import initialize_agent, AgentType\n",
        "from langchain.chat_models import ChatOpenAI\n",
        "\n",
        "tools = [call_gmail_api]\n",
        "llm = ChatOpenAI(model=\"gpt-3.5-turbo\")\n",
        "\n",
        "agent = initialize_agent(\n",
        "    tools=tools,\n",
        "    llm=llm,\n",
        "    agent_type=AgentType.OPENAI_FUNCTIONS,  # Requires structured input\n",
        "    verbose=True,\n",
        ")\n",
        "\n",
        "# Test\n",
        "response = agent.run(\"Get my last 3 unread emails.\")\n",
        "print(response)\n"
      ]
    },
    {
      "cell_type": "markdown",
      "id": "e677c1ba",
      "metadata": {
        "id": "e677c1ba"
      },
      "source": [
        "## Langgraph Intro 1"
      ]
    },
    {
      "cell_type": "code",
      "execution_count": null,
      "id": "f5ef2219",
      "metadata": {
        "id": "f5ef2219"
      },
      "outputs": [],
      "source": [
        "def function1(input1):\n",
        "    return input1 + \" from first function\""
      ]
    },
    {
      "cell_type": "code",
      "execution_count": null,
      "id": "3e85c2f7",
      "metadata": {
        "id": "3e85c2f7"
      },
      "outputs": [],
      "source": [
        "def function2(input2):\n",
        "    return input2 + \" Bahadursha from second function\""
      ]
    },
    {
      "cell_type": "code",
      "execution_count": null,
      "id": "37b6edbc",
      "metadata": {
        "id": "37b6edbc"
      },
      "outputs": [],
      "source": [
        "def function3(input3):\n",
        "    pass"
      ]
    },
    {
      "cell_type": "code",
      "execution_count": null,
      "id": "9851a3ef",
      "metadata": {
        "id": "9851a3ef",
        "outputId": "af639098-380c-469d-8910-dff99ad0cced"
      },
      "outputs": [
        {
          "data": {
            "text/plain": [
              "'Sainadh from first function'"
            ]
          },
          "execution_count": 43,
          "metadata": {},
          "output_type": "execute_result"
        }
      ],
      "source": [
        "function1(\"Sainadh\")"
      ]
    },
    {
      "cell_type": "code",
      "execution_count": null,
      "id": "e030fa62",
      "metadata": {
        "id": "e030fa62",
        "outputId": "e02d9c96-888a-4de5-aa33-b31a94fd520c"
      },
      "outputs": [
        {
          "data": {
            "text/plain": [
              "'Bahadursha Bahadursha from second function'"
            ]
          },
          "execution_count": 44,
          "metadata": {},
          "output_type": "execute_result"
        }
      ],
      "source": [
        "function2(\"Bahadursha\")"
      ]
    },
    {
      "cell_type": "code",
      "execution_count": null,
      "id": "36a9e3dc",
      "metadata": {
        "id": "36a9e3dc"
      },
      "outputs": [],
      "source": [
        "from langgraph.graph import Graph"
      ]
    },
    {
      "cell_type": "code",
      "execution_count": null,
      "id": "1975fb71",
      "metadata": {
        "id": "1975fb71"
      },
      "outputs": [],
      "source": [
        "workflow1 = Graph()"
      ]
    },
    {
      "cell_type": "code",
      "execution_count": null,
      "id": "2acc4344",
      "metadata": {
        "id": "2acc4344",
        "outputId": "c8d89e42-7502-466e-bba9-5f5e29b98d66"
      },
      "outputs": [
        {
          "data": {
            "text/plain": [
              "<langgraph.graph.graph.Graph at 0x1c3a471cbd0>"
            ]
          },
          "execution_count": 47,
          "metadata": {},
          "output_type": "execute_result"
        }
      ],
      "source": [
        "workflow1.add_node(\"fun1\",function1)"
      ]
    },
    {
      "cell_type": "code",
      "execution_count": null,
      "id": "0eb9b0a9",
      "metadata": {
        "id": "0eb9b0a9",
        "outputId": "69600744-a866-491d-e520-623dddc0aa42"
      },
      "outputs": [
        {
          "data": {
            "text/plain": [
              "<langgraph.graph.graph.Graph at 0x1c3a471cbd0>"
            ]
          },
          "execution_count": 48,
          "metadata": {},
          "output_type": "execute_result"
        }
      ],
      "source": [
        "workflow1.add_node(\"fun2\",function2)"
      ]
    },
    {
      "cell_type": "code",
      "execution_count": null,
      "id": "4de9ba38",
      "metadata": {
        "id": "4de9ba38",
        "outputId": "02700687-e4ab-4897-fda5-7f7e5a5fc19c"
      },
      "outputs": [
        {
          "data": {
            "text/plain": [
              "<langgraph.graph.graph.Graph at 0x1c3a471cbd0>"
            ]
          },
          "execution_count": 49,
          "metadata": {},
          "output_type": "execute_result"
        }
      ],
      "source": [
        "workflow1.add_edge(\"fun1\",\"fun2\")"
      ]
    },
    {
      "cell_type": "code",
      "execution_count": null,
      "id": "67deaa83",
      "metadata": {
        "id": "67deaa83",
        "outputId": "22fef9fd-4ca7-4c0e-dac0-47a32df5e531"
      },
      "outputs": [
        {
          "data": {
            "text/plain": [
              "<langgraph.graph.graph.Graph at 0x1c3a471cbd0>"
            ]
          },
          "execution_count": 50,
          "metadata": {},
          "output_type": "execute_result"
        }
      ],
      "source": [
        "workflow1.set_entry_point(\"fun1\")"
      ]
    },
    {
      "cell_type": "code",
      "execution_count": null,
      "id": "ffe2166b",
      "metadata": {
        "id": "ffe2166b",
        "outputId": "879bb30e-27fa-4c8f-f9f7-b7e0e22cdf39"
      },
      "outputs": [
        {
          "data": {
            "text/plain": [
              "<langgraph.graph.graph.Graph at 0x1c3a471cbd0>"
            ]
          },
          "execution_count": 51,
          "metadata": {},
          "output_type": "execute_result"
        }
      ],
      "source": [
        "workflow1.set_finish_point(\"fun2\")"
      ]
    },
    {
      "cell_type": "code",
      "execution_count": null,
      "id": "72631973",
      "metadata": {
        "id": "72631973"
      },
      "outputs": [],
      "source": [
        "app = workflow1.compile()"
      ]
    },
    {
      "cell_type": "code",
      "execution_count": null,
      "id": "a2eece4f",
      "metadata": {
        "id": "a2eece4f"
      },
      "outputs": [],
      "source": [
        "from IPython.display import Image, display"
      ]
    },
    {
      "cell_type": "code",
      "execution_count": null,
      "id": "18685ba4",
      "metadata": {
        "id": "18685ba4",
        "outputId": "f740bf65-8e3a-4fff-e6a5-cde9652e08a6"
      },
      "outputs": [
        {
          "data": {
            "image/png": "[encoded data removed]",
            "text/plain": [
              "<IPython.core.display.Image object>"
            ]
          },
          "metadata": {},
          "output_type": "display_data"
        }
      ],
      "source": [
        "display(Image(app.get_graph().draw_mermaid_png()))"
      ]
    },
    {
      "cell_type": "code",
      "execution_count": null,
      "id": "e402942c",
      "metadata": {
        "id": "e402942c",
        "outputId": "d6a6fa74-d02f-4bde-eb3f-47a058820abc"
      },
      "outputs": [
        {
          "data": {
            "text/plain": [
              "'Hi this is Sainadh from first function Bahadursha from second function'"
            ]
          },
          "execution_count": 55,
          "metadata": {},
          "output_type": "execute_result"
        }
      ],
      "source": [
        "app.invoke(\"Hi this is Sainadh\")"
      ]
    },
    {
      "cell_type": "code",
      "execution_count": null,
      "id": "38ff59b1",
      "metadata": {
        "id": "38ff59b1",
        "outputId": "aa4f00d5-269d-4998-eece-814c564d57dc"
      },
      "outputs": [
        {
          "name": "stdout",
          "output_type": "stream",
          "text": [
            "here is output from fun1\n",
            "___________\n",
            "hi this is Sainadh from first function\n",
            "\n",
            "\n",
            "here is output from fun2\n",
            "___________\n",
            "hi this is Sainadh from first function Bahadursha from second function\n",
            "\n",
            "\n"
          ]
        }
      ],
      "source": [
        "for output in app.stream(\"hi this is Sainadh\"):\n",
        "    for key,value in output.items():\n",
        "        print(f\"here is output from {key}\")\n",
        "        print(\"___________\")\n",
        "        print(value)\n",
        "        print(\"\\n\")"
      ]
    },
    {
      "cell_type": "code",
      "execution_count": null,
      "id": "3474cabe",
      "metadata": {
        "id": "3474cabe"
      },
      "outputs": [],
      "source": [
        "def llm(input):\n",
        "    from langchain_google_genai import ChatGoogleGenerativeAI\n",
        "    model=ChatGoogleGenerativeAI(model='gemini-1.5-flash')\n",
        "    output=model.invoke(input)\n",
        "    return output.content"
      ]
    },
    {
      "cell_type": "code",
      "execution_count": null,
      "id": "add673f5",
      "metadata": {
        "id": "add673f5"
      },
      "outputs": [],
      "source": [
        "def token_counter(input):\n",
        "    token=input.split()\n",
        "    token_number=len(token)\n",
        "    return f\"total token number in the generated answer is {token_number}\""
      ]
    },
    {
      "cell_type": "code",
      "execution_count": null,
      "id": "237c5260",
      "metadata": {
        "id": "237c5260"
      },
      "outputs": [],
      "source": [
        "workflow2 = Graph()"
      ]
    },
    {
      "cell_type": "code",
      "execution_count": null,
      "id": "8164e715",
      "metadata": {
        "id": "8164e715",
        "outputId": "8afb391b-122f-4749-961c-c9880c033154"
      },
      "outputs": [
        {
          "data": {
            "text/plain": [
              "<langgraph.graph.graph.Graph at 0x1c3a472fd50>"
            ]
          },
          "execution_count": 81,
          "metadata": {},
          "output_type": "execute_result"
        }
      ],
      "source": [
        "workflow2.add_node(\"My_LLM\",llm)"
      ]
    },
    {
      "cell_type": "code",
      "execution_count": null,
      "id": "eb3a2ab7",
      "metadata": {
        "id": "eb3a2ab7",
        "outputId": "c770d42d-ee7d-4c5f-9b66-ca5c3cc23642"
      },
      "outputs": [
        {
          "data": {
            "text/plain": [
              "<langgraph.graph.graph.Graph at 0x1c3a472fd50>"
            ]
          },
          "execution_count": 82,
          "metadata": {},
          "output_type": "execute_result"
        }
      ],
      "source": [
        "workflow2.add_node(\"LLM_Output_Token_Counter\",token_counter)"
      ]
    },
    {
      "cell_type": "code",
      "execution_count": null,
      "id": "74aa047b",
      "metadata": {
        "id": "74aa047b",
        "outputId": "bfcee4ec-f78f-412a-8503-d1dbb7d30def"
      },
      "outputs": [
        {
          "data": {
            "text/plain": [
              "<langgraph.graph.graph.Graph at 0x1c3a472fd50>"
            ]
          },
          "execution_count": 83,
          "metadata": {},
          "output_type": "execute_result"
        }
      ],
      "source": [
        "workflow2.add_edge(\"My_LLM\",\"LLM_Output_Token_Counter\")"
      ]
    },
    {
      "cell_type": "code",
      "execution_count": null,
      "id": "8bc79c3b",
      "metadata": {
        "id": "8bc79c3b",
        "outputId": "d388ba76-a665-47ed-c05f-6b7cf99d6b22"
      },
      "outputs": [
        {
          "data": {
            "text/plain": [
              "<langgraph.graph.graph.Graph at 0x1c3a472fd50>"
            ]
          },
          "execution_count": 84,
          "metadata": {},
          "output_type": "execute_result"
        }
      ],
      "source": [
        "workflow2.set_entry_point(\"My_LLM\")"
      ]
    },
    {
      "cell_type": "code",
      "execution_count": null,
      "id": "01142311",
      "metadata": {
        "id": "01142311",
        "outputId": "ea81246d-3a1c-4b86-fb86-49461b14fc99"
      },
      "outputs": [
        {
          "data": {
            "text/plain": [
              "<langgraph.graph.graph.Graph at 0x1c3a472fd50>"
            ]
          },
          "execution_count": 85,
          "metadata": {},
          "output_type": "execute_result"
        }
      ],
      "source": [
        "workflow2.set_finish_point(\"LLM_Output_Token_Counter\")"
      ]
    },
    {
      "cell_type": "code",
      "execution_count": null,
      "id": "48d7a68a",
      "metadata": {
        "id": "48d7a68a"
      },
      "outputs": [],
      "source": [
        "app=workflow2.compile()"
      ]
    },
    {
      "cell_type": "code",
      "execution_count": null,
      "id": "75ae064f",
      "metadata": {
        "id": "75ae064f",
        "outputId": "32a75083-4845-4922-edda-b413da62c4be"
      },
      "outputs": [
        {
          "data": {
            "image/png": "[encoded data removed]",
            "text/plain": [
              "<IPython.core.display.Image object>"
            ]
          },
          "metadata": {},
          "output_type": "display_data"
        }
      ],
      "source": [
        "display(Image(app.get_graph().draw_mermaid_png()))"
      ]
    },
    {
      "cell_type": "code",
      "execution_count": null,
      "id": "0991d0f0",
      "metadata": {
        "id": "0991d0f0",
        "outputId": "5509dc3c-9849-45fa-e253-8fb4412ec774"
      },
      "outputs": [
        {
          "data": {
            "text/plain": [
              "'total token number in the generated answer is 53'"
            ]
          },
          "execution_count": 88,
          "metadata": {},
          "output_type": "execute_result"
        }
      ],
      "source": [
        "app.invoke(\"can you tell me about the india's capital?\")"
      ]
    },
    {
      "cell_type": "code",
      "execution_count": null,
      "id": "37ea37d8",
      "metadata": {
        "id": "37ea37d8",
        "outputId": "3e9eab31-fac1-4811-c3a0-3ecc43649096"
      },
      "outputs": [
        {
          "data": {
            "text/plain": [
              "'total token number in the generated answer is 730'"
            ]
          },
          "execution_count": 89,
          "metadata": {},
          "output_type": "execute_result"
        }
      ],
      "source": [
        "app.invoke(\"tell me about the tata enterpirse in very detail.\")"
      ]
    },
    {
      "cell_type": "code",
      "execution_count": null,
      "id": "04d63af3",
      "metadata": {
        "id": "04d63af3",
        "outputId": "47c967df-ac77-4392-8613-815f7404df73"
      },
      "outputs": [
        {
          "name": "stdout",
          "output_type": "stream",
          "text": [
            "here is output from My_LLM\n",
            "_______\n",
            "Tata Enterprises is not a single entity, but rather a vast and complex conglomerate known as the Tata Group.  Understanding it requires looking at its history, structure, subsidiaries, and overall impact.\n",
            "\n",
            "**I. History:**\n",
            "\n",
            "The Tata Group's origins trace back to 1868 with the establishment of a trading company by Jamsetji Tata.  His vision extended beyond mere profit, encompassing philanthropic endeavors and a commitment to nation-building.  Key milestones include:\n",
            "\n",
            "* **Early years (late 19th & early 20th centuries):**  Focus on textiles, followed by ventures into hospitality (Taj Hotels), steel (Tata Steel), and power generation.  This period established the core principles of the group – ethical conduct, social responsibility, and long-term vision.\n",
            "* **Post-independence India:**  The Tata Group played a crucial role in India's industrialization, expanding into diverse sectors like automobiles (Tata Motors), chemicals, and information technology (Tata Consultancy Services – TCS).\n",
            "* **Globalization and diversification (late 20th & 21st centuries):**  The group aggressively pursued global expansion, acquiring companies internationally and strengthening its presence in existing markets.  This era saw significant growth in areas like telecommunications (Tata Teleservices – now largely defunct), consumer goods (Tata Consumer Products), and aerospace (Tata Advanced Systems).\n",
            "\n",
            "**II. Structure:**\n",
            "\n",
            "The Tata Group's structure is unique.  It's not a traditional holding company but a network of independent operating companies, each with its own board of directors and management.  The overarching entity is Tata Sons, a private limited company that acts as the holding company and plays a crucial role in strategic guidance, resource allocation, and maintaining the group's overall values.  This structure allows for significant autonomy for individual companies while ensuring alignment with the group's broader vision.  Tata Trusts, a group of charitable trusts, hold a significant stake in Tata Sons, influencing the group's commitment to social responsibility.\n",
            "\n",
            "**III. Key Subsidiaries (a partial list, as the group is extremely large):**\n",
            "\n",
            "The Tata Group's portfolio is incredibly diverse.  Some of its most prominent subsidiaries include:\n",
            "\n",
            "* **Tata Steel:** One of the world's largest steel producers.\n",
            "* **Tata Motors:** A major global automotive manufacturer, known for brands like Jaguar Land Rover and Tata passenger vehicles.\n",
            "* **Tata Consultancy Services (TCS):** A leading global IT services and consulting company.\n",
            "* **Tata Power:** A significant player in India's power sector.\n",
            "* **Tata Chemicals:** A major producer of chemicals and fertilizers.\n",
            "* **Indian Hotels Company (IHCL):** Owns and manages the Taj Hotels Resorts and Palaces chain.\n",
            "* **Tata Consumer Products:**  A prominent player in the FMCG sector, with brands like Tata Tea and Tetley.\n",
            "* **Air India:**  Recently reacquired by Tata Sons, marking a significant return to the aviation sector.\n",
            "* **Titan Company:**  A leading manufacturer of watches, jewelry, and eyewear.\n",
            "* **Tata Communications:** A global digital infrastructure provider.\n",
            "\n",
            "**IV. Business Philosophy and Values:**\n",
            "\n",
            "The Tata Group is renowned for its commitment to:\n",
            "\n",
            "* **Ethical conduct:**  Maintaining high ethical standards in all business operations.\n",
            "* **Social responsibility:**  Investing in community development and philanthropic initiatives through the Tata Trusts.\n",
            "* **Long-term vision:**  Focusing on sustainable growth and value creation over the long term.\n",
            "* **Integrity and transparency:**  Maintaining transparency in operations and fostering a culture of integrity.\n",
            "* **Nation-building:**  Contributing to the progress and development of India.\n",
            "\n",
            "\n",
            "**V. Challenges and Criticisms:**\n",
            "\n",
            "Despite its success, the Tata Group faces challenges:\n",
            "\n",
            "* **Competition:**  Intense competition in various sectors, both domestically and globally.\n",
            "* **Economic fluctuations:**  Vulnerability to economic downturns and global market volatility.\n",
            "* **Succession planning:**  Ensuring smooth transitions of leadership within the group.\n",
            "* **Maintaining its values in a rapidly changing global landscape:**  Balancing profitability with its commitment to social responsibility and ethical conduct.\n",
            "* **Regulatory hurdles:**  Navigating complex regulatory environments in different countries.\n",
            "\n",
            "\n",
            "**VI. Conclusion:**\n",
            "\n",
            "The Tata Group is a behemoth of Indian industry and a global player in numerous sectors. Its long history, diversified portfolio, and commitment to ethical business practices have made it an iconic brand.  However, it also faces significant challenges in navigating a complex and ever-changing global landscape. Understanding its intricate structure and vast holdings requires considerable research, going beyond the scope of a single response.  This overview provides a foundational understanding of this remarkable enterprise.\n",
            "\n",
            "\n",
            "here is output from LLM_Output_Token_Counter\n",
            "_______\n",
            "total token number in the generated answer is 676\n",
            "\n",
            "\n"
          ]
        }
      ],
      "source": [
        "for output in app.stream(\"tell me about the tata enterpirse in very detail.\"):\n",
        "    for key,value in output.items():\n",
        "        print(f\"here is output from {key}\")\n",
        "        print(\"_______\")\n",
        "        print(value)\n",
        "        print(\"\\n\")"
      ]
    },
    {
      "cell_type": "markdown",
      "id": "fef12522",
      "metadata": {
        "id": "fef12522"
      },
      "source": [
        "## Langgraph Intro 2"
      ]
    },
    {
      "cell_type": "markdown",
      "id": "680faf98",
      "metadata": {
        "id": "680faf98"
      },
      "source": [
        "### Config the model"
      ]
    },
    {
      "cell_type": "code",
      "execution_count": null,
      "id": "ba13a88f",
      "metadata": {
        "id": "ba13a88f",
        "outputId": "57a92c09-0956-48c8-b344-e093aebf577a"
      },
      "outputs": [
        {
          "name": "stdout",
          "output_type": "stream",
          "text": [
            "Hi there! How can I help you today?\n"
          ]
        }
      ],
      "source": [
        "from langchain_google_genai import ChatGoogleGenerativeAI\n",
        "model=ChatGoogleGenerativeAI(model='gemini-1.5-flash')\n",
        "output=model.invoke(\"hi\")\n",
        "print(output.content)"
      ]
    },
    {
      "cell_type": "markdown",
      "id": "aa63b77a",
      "metadata": {
        "id": "aa63b77a"
      },
      "source": [
        "### Config the embedding model"
      ]
    },
    {
      "cell_type": "code",
      "execution_count": null,
      "id": "48ae5bee",
      "metadata": {
        "id": "48ae5bee",
        "outputId": "4cd2db08-bd8c-4304-951b-75a5e3971b67"
      },
      "outputs": [
        {
          "name": "stderr",
          "output_type": "stream",
          "text": [
            "c:\\Users\\saina\\.conda\\envs\\agentic_2_base\\Lib\\site-packages\\tqdm\\auto.py:21: TqdmWarning: IProgress not found. Please update jupyter and ipywidgets. See https://ipywidgets.readthedocs.io/en/stable/user_install.html\n",
            "  from .autonotebook import tqdm as notebook_tqdm\n"
          ]
        },
        {
          "data": {
            "text/plain": [
              "384"
            ]
          },
          "execution_count": 92,
          "metadata": {},
          "output_type": "execute_result"
        }
      ],
      "source": [
        "from langchain_huggingface import HuggingFaceEmbeddings\n",
        "embeddings = HuggingFaceEmbeddings(model_name=\"BAAI/bge-small-en\")\n",
        "len(embeddings.embed_query(\"hi\"))"
      ]
    },
    {
      "cell_type": "markdown",
      "id": "57003fe4",
      "metadata": {
        "id": "57003fe4"
      },
      "source": [
        "### lets take a data embedd it and store in VDB"
      ]
    },
    {
      "cell_type": "code",
      "execution_count": null,
      "id": "0994875e",
      "metadata": {
        "id": "0994875e"
      },
      "outputs": [],
      "source": [
        "from langchain_community.document_loaders import TextLoader, DirectoryLoader\n",
        "from langchain_community.vectorstores import Chroma\n",
        "from langchain.text_splitter import RecursiveCharacterTextSplitter"
      ]
    },
    {
      "cell_type": "code",
      "execution_count": null,
      "id": "1da8893f",
      "metadata": {
        "id": "1da8893f"
      },
      "outputs": [],
      "source": [
        "loader=DirectoryLoader(\"data\",glob=\"./*.txt\",loader_cls=TextLoader)"
      ]
    },
    {
      "cell_type": "code",
      "execution_count": null,
      "id": "6516d2cd",
      "metadata": {
        "id": "6516d2cd"
      },
      "outputs": [],
      "source": [
        "docs=loader.load()"
      ]
    },
    {
      "cell_type": "code",
      "execution_count": null,
      "id": "0d100ab2",
      "metadata": {
        "id": "0d100ab2",
        "outputId": "3d2ef504-de8b-4ab2-9ce8-9c33c9c96b3d"
      },
      "outputs": [
        {
          "data": {
            "text/plain": [
              "[Document(metadata={'source': 'data\\\\speech.txt'}, page_content='The world must be made safe for democracy. Its peace must be planted upon the tested foundations of political liberty. We have no selfish ends to serve. We desire no conquest, no dominion. We seek no indemnities for ourselves, no material compensation for the sacrifices we shall freely make. We are but one of the champions of the rights of mankind. We shall be satisfied when those rights have been made as secure as the faith and the freedom of nations can make them.\\n\\nJust because we fight without rancor and without selfish object, seeking nothing for ourselves but what we shall wish to share with all free peoples, we shall, I feel confident, conduct our operations as belligerents without passion and ourselves observe with proud punctilio the principles of right and of fair play we profess to be fighting for.\\n\\n…\\n\\nIt will be all the easier for us to conduct ourselves as belligerents in a high spirit of right and fairness because we act without animus, not in enmity toward a people or with the desire to bring any injury or disadvantage upon them, but only in armed opposition to an irresponsible government which has thrown aside all considerations of humanity and of right and is running amuck. We are, let me say again, the sincere friends of the German people, and shall desire nothing so much as the early reestablishment of intimate relations of mutual advantage between us—however hard it may be for them, for the time being, to believe that this is spoken from our hearts.\\n\\nWe have borne with their present government through all these bitter months because of that friendship—exercising a patience and forbearance which would otherwise have been impossible. We shall, happily, still have an opportunity to prove that friendship in our daily attitude and actions toward the millions of men and women of German birth and native sympathy who live among us and share our life, and we shall be proud to prove it toward all who are in fact loyal to their neighbors and to the government in the hour of test. They are, most of them, as true and loyal Americans as if they had never known any other fealty or allegiance. They will be prompt to stand with us in rebuking and restraining the few who may be of a different mind and purpose. If there should be disloyalty, it will be dealt with with a firm hand of stern repression; but, if it lifts its head at all, it will lift it only here and there and without countenance except from a lawless and malignant few.\\n\\nIt is a distressing and oppressive duty, gentlemen of the Congress, which I have performed in thus addressing you. There are, it may be, many months of fiery trial and sacrifice ahead of us. It is a fearful thing to lead this great peaceful people into war, into the most terrible and disastrous of all wars, civilization itself seeming to be in the balance. But the right is more precious than peace, and we shall fight for the things which we have always carried nearest our hearts—for democracy, for the right of those who submit to authority to have a voice in their own governments, for the rights and liberties of small nations, for a universal dominion of right by such a concert of free peoples as shall bring peace and safety to all nations and make the world itself at last free.\\n\\nTo such a task we can dedicate our lives and our fortunes, everything that we are and everything that we have, with the pride of those who know that the day has come when America is privileged to spend her blood and her might for the principles that gave her birth and happiness and the peace which she has treasured. God helping her, she can do no other.'),\n",
              " Document(metadata={'source': 'data\\\\usa.txt'}, page_content=\"🇺🇸 Overview of the U.S. Economy\\nThe United States of America possesses the largest economy in the world in terms of nominal GDP, making it the most powerful economic force globally. It operates under a capitalist mixed economy, where the private sector dominates, but the government plays a significant regulatory and fiscal role. With a population of over 335 million people and a high level of technological advancement, the U.S. economy thrives on a foundation of consumer spending, innovation, global trade, and financial services. It has a highly diversified structure with strong sectors in technology, healthcare, finance, real estate, defense, and agriculture.\\n\\nU.S. GDP – Size, Composition, and Global Share\\nAs of 2024, the United States’ nominal GDP is estimated to be around $28 trillion USD, accounting for approximately 25% of the global economy. It ranks #1 in the world by nominal GDP, far ahead of China (which ranks 2nd). The U.S. GDP per capita is also among the highest, hovering around $83,000, which indicates a high standard of living and productivity. In terms of Purchasing Power Parity (PPP), the U.S. ranks second, but nominal GDP is considered more reflective of actual economic size and financial influence.\\n\\nThe GDP is predominantly driven by the services sector, which contributes more than 77% to the total GDP. This includes industries such as finance, insurance, real estate, healthcare, education, and information technology. The industrial sector (manufacturing, construction, mining) makes up around 19%, while agriculture, although technologically advanced and export-oriented, contributes only about 1%. Despite its small share in GDP, U.S. agriculture is globally significant in terms of productivity and exports.\\n\\nGDP Growth Trends and Dynamics\\nHistorically, the U.S. economy has enjoyed consistent long-term growth, averaging around 2-3% annually. Post-pandemic, the economy bounced back strongly, but 2022 and 2023 saw rising inflation due to supply chain issues and stimulus-driven demand. In 2024, the U.S. GDP grew at a modest pace of around 2.1%, as the Federal Reserve’s interest rate hikes aimed at controlling inflation also moderated economic expansion. Consumer spending, which makes up nearly 70% of GDP, remains a dominant force in economic stability.\\n\\nThe U.S. maintains its GDP growth through strong innovation, entrepreneurship, and investment in R&D. With companies like Apple, Google, Amazon, Microsoft, and Tesla leading global markets, the U.S. consistently produces high value across sectors, especially in technology and advanced services. Additionally, the economy benefits from intellectual property exports, financial services, and higher education, all of which contribute significantly to GDP through both domestic and international markets.\\n\\nRole in the Global Economy\\nThe U.S. Dollar (USD) is the global reserve currency, held by over 60% of the world’s central bank reserves. This gives the U.S. an enormous advantage in global trade and borrowing. The U.S. is a key member of international institutions like the World Bank, IMF, G7, G20, and WTO, and plays a central role in setting global economic policy.\\n\\nAs a global innovation hub, the U.S. attracts billions in foreign investment and hosts many of the world's largest and most valuable companies. Its exports include high-tech machinery, aircraft, pharmaceuticals, semiconductors, and financial services, while its imports cover consumer goods, electronics, automobiles, and industrial materials. The trade deficit remains large (around $900 billion in 2024), primarily because the U.S. consumes more than it exports, but its ability to finance this through capital inflows and reserve currency status sustains balance.\\n\\nKey Economic Strengths\\nThe core strength of the U.S. economy lies in its flexible labor market, deep capital markets, technological superiority, and legal system that encourages innovation and property rights. It has a large, highly educated workforce, a diverse immigration pipeline, and access to vast natural resources including oil, gas, coal, and farmland. The presence of top-tier universities and research institutions fuels the knowledge economy, with billions spent annually on R&D—over $700 billion USD, more than any other country.\\n\\nThe U.S. leads in many critical sectors, including software, biotechnology, aerospace, defense, financial services, and media. Its startup ecosystem, especially in Silicon Valley, produces unicorns and tech giants at a scale unmatched globally. Its financial markets—particularly Wall Street—are the most liquid and globally integrated in the world.\\n\\nChallenges and Structural Issues\\nDespite its strength, the U.S. economy faces several serious long-term issues. The national debt has surpassed $34 trillion USD, raising concerns about fiscal sustainability, especially as interest payments alone are growing rapidly. The income and wealth inequality gap has widened, with a small percentage of Americans owning a disproportionate share of wealth. Access to affordable healthcare, housing shortages, and a declining labor force participation in some sectors are additional structural issues.\\n\\nAnother growing concern is political polarization, which often stalls crucial economic reforms and budget agreements, as seen in recurrent debt ceiling crises. The U.S. also faces challenges from global competition, especially from China in areas like AI, semiconductors, and green technology. Moreover, climate change, cybersecurity threats, and geopolitical risks (like Ukraine and Taiwan conflicts) add layers of vulnerability to economic planning.\\n\\nFuture Outlook (2025–2030)\\nLooking forward, the U.S. economy is expected to grow at a moderate pace, powered by innovation in AI, green energy, robotics, biotech, and quantum computing. The Biden administration’s Inflation Reduction Act and CHIPS Act are pumping massive investments into semiconductors, clean energy, and infrastructure. There is a strong push for reshoring of manufacturing, especially in critical sectors like chips, pharmaceuticals, and batteries.\\n\\nHowever, economic leadership will depend on managing the national debt, reforming entitlement programs, upgrading infrastructure, and ensuring the next generation is equipped with digital-age skills. If the U.S. can handle these challenges, it is well-positioned to remain a global economic powerhouse through 2030 and beyond.\\n\\nFinal Summary\\nThe U.S. economy remains the engine of global growth, backed by unmatched innovation, financial dominance, and a strong institutional framework. Its $28 trillion GDP and influence over global finance, trade, and technology make it the centerpiece of the modern economic system. Yet, rising debt, inequality, political gridlock, and competition from emerging powers demand careful policy navigation. If successfully addressed, the U.S. will continue to dominate the global economy well into the future.\")]"
            ]
          },
          "execution_count": 100,
          "metadata": {},
          "output_type": "execute_result"
        }
      ],
      "source": [
        "docs"
      ]
    },
    {
      "cell_type": "code",
      "execution_count": null,
      "id": "32db3be9",
      "metadata": {
        "id": "32db3be9",
        "outputId": "84b014b4-379e-457c-9947-2184f4c65583"
      },
      "outputs": [
        {
          "data": {
            "text/plain": [
              "'The world must be made safe for democracy. Its peace must be planted upon the tested foundations of political liberty. We have no selfish ends to serve. We desire no conquest, no dominion. We seek no indemnities for ourselves, no material compensation for the sacrifices we shall freely make. We are but one of the champions of the rights of mankind. We shall be satisfied when those rights have been made as secure as the faith and the freedom of nations can make them.\\n\\nJust because we fight without rancor and without selfish object, seeking nothing for ourselves but what we shall wish to share with all free peoples, we shall, I feel confident, conduct our operations as belligerents without passion and ourselves observe with proud punctilio the principles of right and of fair play we profess to be fighting for.\\n\\n…\\n\\nIt will be all the easier for us to conduct ourselves as belligerents in a high spirit of right and fairness because we act without animus, not in enmity toward a people or with the desire to bring any injury or disadvantage upon them, but only in armed opposition to an irresponsible government which has thrown aside all considerations of humanity and of right and is running amuck. We are, let me say again, the sincere friends of the German people, and shall desire nothing so much as the early reestablishment of intimate relations of mutual advantage between us—however hard it may be for them, for the time being, to believe that this is spoken from our hearts.\\n\\nWe have borne with their present government through all these bitter months because of that friendship—exercising a patience and forbearance which would otherwise have been impossible. We shall, happily, still have an opportunity to prove that friendship in our daily attitude and actions toward the millions of men and women of German birth and native sympathy who live among us and share our life, and we shall be proud to prove it toward all who are in fact loyal to their neighbors and to the government in the hour of test. They are, most of them, as true and loyal Americans as if they had never known any other fealty or allegiance. They will be prompt to stand with us in rebuking and restraining the few who may be of a different mind and purpose. If there should be disloyalty, it will be dealt with with a firm hand of stern repression; but, if it lifts its head at all, it will lift it only here and there and without countenance except from a lawless and malignant few.\\n\\nIt is a distressing and oppressive duty, gentlemen of the Congress, which I have performed in thus addressing you. There are, it may be, many months of fiery trial and sacrifice ahead of us. It is a fearful thing to lead this great peaceful people into war, into the most terrible and disastrous of all wars, civilization itself seeming to be in the balance. But the right is more precious than peace, and we shall fight for the things which we have always carried nearest our hearts—for democracy, for the right of those who submit to authority to have a voice in their own governments, for the rights and liberties of small nations, for a universal dominion of right by such a concert of free peoples as shall bring peace and safety to all nations and make the world itself at last free.\\n\\nTo such a task we can dedicate our lives and our fortunes, everything that we are and everything that we have, with the pride of those who know that the day has come when America is privileged to spend her blood and her might for the principles that gave her birth and happiness and the peace which she has treasured. God helping her, she can do no other.'"
            ]
          },
          "execution_count": 101,
          "metadata": {},
          "output_type": "execute_result"
        }
      ],
      "source": [
        "docs[0].page_content"
      ]
    },
    {
      "cell_type": "code",
      "execution_count": null,
      "id": "75a338e8",
      "metadata": {
        "id": "75a338e8"
      },
      "outputs": [],
      "source": [
        "text_splitter=RecursiveCharacterTextSplitter(\n",
        "    chunk_size=200,\n",
        "    chunk_overlap=50\n",
        ")"
      ]
    },
    {
      "cell_type": "code",
      "execution_count": null,
      "id": "9cdeb0c1",
      "metadata": {
        "id": "9cdeb0c1"
      },
      "outputs": [],
      "source": [
        "new_docs=text_splitter.split_documents(documents=docs)"
      ]
    },
    {
      "cell_type": "code",
      "execution_count": null,
      "id": "51c77f95",
      "metadata": {
        "id": "51c77f95",
        "outputId": "0ec67e22-4b9c-4b19-f2ed-6d588a2dc93c"
      },
      "outputs": [
        {
          "data": {
            "text/plain": [
              "[Document(metadata={'source': 'data\\\\speech.txt'}, page_content='The world must be made safe for democracy. Its peace must be planted upon the tested foundations of political liberty. We have no selfish ends to serve. We desire no conquest, no dominion. We seek no'),\n",
              " Document(metadata={'source': 'data\\\\speech.txt'}, page_content='We desire no conquest, no dominion. We seek no indemnities for ourselves, no material compensation for the sacrifices we shall freely make. We are but one of the champions of the rights of mankind.'),\n",
              " Document(metadata={'source': 'data\\\\speech.txt'}, page_content='one of the champions of the rights of mankind. We shall be satisfied when those rights have been made as secure as the faith and the freedom of nations can make them.'),\n",
              " Document(metadata={'source': 'data\\\\speech.txt'}, page_content='Just because we fight without rancor and without selfish object, seeking nothing for ourselves but what we shall wish to share with all free peoples, we shall, I feel confident, conduct our'),\n",
              " Document(metadata={'source': 'data\\\\speech.txt'}, page_content='peoples, we shall, I feel confident, conduct our operations as belligerents without passion and ourselves observe with proud punctilio the principles of right and of fair play we profess to be'),\n",
              " Document(metadata={'source': 'data\\\\speech.txt'}, page_content='of right and of fair play we profess to be fighting for.'),\n",
              " Document(metadata={'source': 'data\\\\speech.txt'}, page_content='…'),\n",
              " Document(metadata={'source': 'data\\\\speech.txt'}, page_content='It will be all the easier for us to conduct ourselves as belligerents in a high spirit of right and fairness because we act without animus, not in enmity toward a people or with the desire to bring'),\n",
              " Document(metadata={'source': 'data\\\\speech.txt'}, page_content='toward a people or with the desire to bring any injury or disadvantage upon them, but only in armed opposition to an irresponsible government which has thrown aside all considerations of humanity and'),\n",
              " Document(metadata={'source': 'data\\\\speech.txt'}, page_content='thrown aside all considerations of humanity and of right and is running amuck. We are, let me say again, the sincere friends of the German people, and shall desire nothing so much as the early'),\n",
              " Document(metadata={'source': 'data\\\\speech.txt'}, page_content='and shall desire nothing so much as the early reestablishment of intimate relations of mutual advantage between us—however hard it may be for them, for the time being, to believe that this is spoken'),\n",
              " Document(metadata={'source': 'data\\\\speech.txt'}, page_content='the time being, to believe that this is spoken from our hearts.'),\n",
              " Document(metadata={'source': 'data\\\\speech.txt'}, page_content='We have borne with their present government through all these bitter months because of that friendship—exercising a patience and forbearance which would otherwise have been impossible. We shall,'),\n",
              " Document(metadata={'source': 'data\\\\speech.txt'}, page_content='would otherwise have been impossible. We shall, happily, still have an opportunity to prove that friendship in our daily attitude and actions toward the millions of men and women of German birth and'),\n",
              " Document(metadata={'source': 'data\\\\speech.txt'}, page_content='the millions of men and women of German birth and native sympathy who live among us and share our life, and we shall be proud to prove it toward all who are in fact loyal to their neighbors and to'),\n",
              " Document(metadata={'source': 'data\\\\speech.txt'}, page_content='who are in fact loyal to their neighbors and to the government in the hour of test. They are, most of them, as true and loyal Americans as if they had never known any other fealty or allegiance. They'),\n",
              " Document(metadata={'source': 'data\\\\speech.txt'}, page_content='never known any other fealty or allegiance. They will be prompt to stand with us in rebuking and restraining the few who may be of a different mind and purpose. If there should be disloyalty, it will'),\n",
              " Document(metadata={'source': 'data\\\\speech.txt'}, page_content='purpose. If there should be disloyalty, it will be dealt with with a firm hand of stern repression; but, if it lifts its head at all, it will lift it only here and there and without countenance'),\n",
              " Document(metadata={'source': 'data\\\\speech.txt'}, page_content='it only here and there and without countenance except from a lawless and malignant few.'),\n",
              " Document(metadata={'source': 'data\\\\speech.txt'}, page_content='It is a distressing and oppressive duty, gentlemen of the Congress, which I have performed in thus addressing you. There are, it may be, many months of fiery trial and sacrifice ahead of us. It is a'),\n",
              " Document(metadata={'source': 'data\\\\speech.txt'}, page_content='of fiery trial and sacrifice ahead of us. It is a fearful thing to lead this great peaceful people into war, into the most terrible and disastrous of all wars, civilization itself seeming to be in'),\n",
              " Document(metadata={'source': 'data\\\\speech.txt'}, page_content='of all wars, civilization itself seeming to be in the balance. But the right is more precious than peace, and we shall fight for the things which we have always carried nearest our hearts—for'),\n",
              " Document(metadata={'source': 'data\\\\speech.txt'}, page_content='we have always carried nearest our hearts—for democracy, for the right of those who submit to authority to have a voice in their own governments, for the rights and liberties of small nations, for a'),\n",
              " Document(metadata={'source': 'data\\\\speech.txt'}, page_content='the rights and liberties of small nations, for a universal dominion of right by such a concert of free peoples as shall bring peace and safety to all nations and make the world itself at last free.'),\n",
              " Document(metadata={'source': 'data\\\\speech.txt'}, page_content='To such a task we can dedicate our lives and our fortunes, everything that we are and everything that we have, with the pride of those who know that the day has come when America is privileged to'),\n",
              " Document(metadata={'source': 'data\\\\speech.txt'}, page_content='the day has come when America is privileged to spend her blood and her might for the principles that gave her birth and happiness and the peace which she has treasured. God helping her, she can do no'),\n",
              " Document(metadata={'source': 'data\\\\speech.txt'}, page_content='she has treasured. God helping her, she can do no other.'),\n",
              " Document(metadata={'source': 'data\\\\usa.txt'}, page_content='🇺🇸 Overview of the U.S. Economy'),\n",
              " Document(metadata={'source': 'data\\\\usa.txt'}, page_content='The United States of America possesses the largest economy in the world in terms of nominal GDP, making it the most powerful economic force globally. It operates under a capitalist mixed economy,'),\n",
              " Document(metadata={'source': 'data\\\\usa.txt'}, page_content='It operates under a capitalist mixed economy, where the private sector dominates, but the government plays a significant regulatory and fiscal role. With a population of over 335 million people and a'),\n",
              " Document(metadata={'source': 'data\\\\usa.txt'}, page_content='a population of over 335 million people and a high level of technological advancement, the U.S. economy thrives on a foundation of consumer spending, innovation, global trade, and financial services.'),\n",
              " Document(metadata={'source': 'data\\\\usa.txt'}, page_content='innovation, global trade, and financial services. It has a highly diversified structure with strong sectors in technology, healthcare, finance, real estate, defense, and agriculture.'),\n",
              " Document(metadata={'source': 'data\\\\usa.txt'}, page_content='U.S. GDP – Size, Composition, and Global Share'),\n",
              " Document(metadata={'source': 'data\\\\usa.txt'}, page_content='As of 2024, the United States’ nominal GDP is estimated to be around $28 trillion USD, accounting for approximately 25% of the global economy. It ranks #1 in the world by nominal GDP, far ahead of'),\n",
              " Document(metadata={'source': 'data\\\\usa.txt'}, page_content='#1 in the world by nominal GDP, far ahead of China (which ranks 2nd). The U.S. GDP per capita is also among the highest, hovering around $83,000, which indicates a high standard of living and'),\n",
              " Document(metadata={'source': 'data\\\\usa.txt'}, page_content='which indicates a high standard of living and productivity. In terms of Purchasing Power Parity (PPP), the U.S. ranks second, but nominal GDP is considered more reflective of actual economic size and'),\n",
              " Document(metadata={'source': 'data\\\\usa.txt'}, page_content='more reflective of actual economic size and financial influence.'),\n",
              " Document(metadata={'source': 'data\\\\usa.txt'}, page_content='The GDP is predominantly driven by the services sector, which contributes more than 77% to the total GDP. This includes industries such as finance, insurance, real estate, healthcare, education, and'),\n",
              " Document(metadata={'source': 'data\\\\usa.txt'}, page_content='real estate, healthcare, education, and information technology. The industrial sector (manufacturing, construction, mining) makes up around 19%, while agriculture, although technologically advanced'),\n",
              " Document(metadata={'source': 'data\\\\usa.txt'}, page_content='agriculture, although technologically advanced and export-oriented, contributes only about 1%. Despite its small share in GDP, U.S. agriculture is globally significant in terms of productivity and'),\n",
              " Document(metadata={'source': 'data\\\\usa.txt'}, page_content='globally significant in terms of productivity and exports.'),\n",
              " Document(metadata={'source': 'data\\\\usa.txt'}, page_content='GDP Growth Trends and Dynamics'),\n",
              " Document(metadata={'source': 'data\\\\usa.txt'}, page_content='Historically, the U.S. economy has enjoyed consistent long-term growth, averaging around 2-3% annually. Post-pandemic, the economy bounced back strongly, but 2022 and 2023 saw rising inflation due to'),\n",
              " Document(metadata={'source': 'data\\\\usa.txt'}, page_content='but 2022 and 2023 saw rising inflation due to supply chain issues and stimulus-driven demand. In 2024, the U.S. GDP grew at a modest pace of around 2.1%, as the Federal Reserve’s interest rate hikes'),\n",
              " Document(metadata={'source': 'data\\\\usa.txt'}, page_content='as the Federal Reserve’s interest rate hikes aimed at controlling inflation also moderated economic expansion. Consumer spending, which makes up nearly 70% of GDP, remains a dominant force in'),\n",
              " Document(metadata={'source': 'data\\\\usa.txt'}, page_content='up nearly 70% of GDP, remains a dominant force in economic stability.'),\n",
              " Document(metadata={'source': 'data\\\\usa.txt'}, page_content='The U.S. maintains its GDP growth through strong innovation, entrepreneurship, and investment in R&D. With companies like Apple, Google, Amazon, Microsoft, and Tesla leading global markets, the U.S.'),\n",
              " Document(metadata={'source': 'data\\\\usa.txt'}, page_content='and Tesla leading global markets, the U.S. consistently produces high value across sectors, especially in technology and advanced services. Additionally, the economy benefits from intellectual'),\n",
              " Document(metadata={'source': 'data\\\\usa.txt'}, page_content='the economy benefits from intellectual property exports, financial services, and higher education, all of which contribute significantly to GDP through both domestic and international markets.'),\n",
              " Document(metadata={'source': 'data\\\\usa.txt'}, page_content='Role in the Global Economy'),\n",
              " Document(metadata={'source': 'data\\\\usa.txt'}, page_content='The U.S. Dollar (USD) is the global reserve currency, held by over 60% of the world’s central bank reserves. This gives the U.S. an enormous advantage in global trade and borrowing. The U.S. is a key'),\n",
              " Document(metadata={'source': 'data\\\\usa.txt'}, page_content='in global trade and borrowing. The U.S. is a key member of international institutions like the World Bank, IMF, G7, G20, and WTO, and plays a central role in setting global economic policy.'),\n",
              " Document(metadata={'source': 'data\\\\usa.txt'}, page_content=\"As a global innovation hub, the U.S. attracts billions in foreign investment and hosts many of the world's largest and most valuable companies. Its exports include high-tech machinery, aircraft,\"),\n",
              " Document(metadata={'source': 'data\\\\usa.txt'}, page_content='exports include high-tech machinery, aircraft, pharmaceuticals, semiconductors, and financial services, while its imports cover consumer goods, electronics, automobiles, and industrial materials. The'),\n",
              " Document(metadata={'source': 'data\\\\usa.txt'}, page_content='automobiles, and industrial materials. The trade deficit remains large (around $900 billion in 2024), primarily because the U.S. consumes more than it exports, but its ability to finance this through'),\n",
              " Document(metadata={'source': 'data\\\\usa.txt'}, page_content='exports, but its ability to finance this through capital inflows and reserve currency status sustains balance.'),\n",
              " Document(metadata={'source': 'data\\\\usa.txt'}, page_content='Key Economic Strengths'),\n",
              " Document(metadata={'source': 'data\\\\usa.txt'}, page_content='The core strength of the U.S. economy lies in its flexible labor market, deep capital markets, technological superiority, and legal system that encourages innovation and property rights. It has a'),\n",
              " Document(metadata={'source': 'data\\\\usa.txt'}, page_content='innovation and property rights. It has a large, highly educated workforce, a diverse immigration pipeline, and access to vast natural resources including oil, gas, coal, and farmland. The presence of'),\n",
              " Document(metadata={'source': 'data\\\\usa.txt'}, page_content='oil, gas, coal, and farmland. The presence of top-tier universities and research institutions fuels the knowledge economy, with billions spent annually on R&D—over $700 billion USD, more than any'),\n",
              " Document(metadata={'source': 'data\\\\usa.txt'}, page_content='on R&D—over $700 billion USD, more than any other country.'),\n",
              " Document(metadata={'source': 'data\\\\usa.txt'}, page_content='The U.S. leads in many critical sectors, including software, biotechnology, aerospace, defense, financial services, and media. Its startup ecosystem, especially in Silicon Valley, produces unicorns'),\n",
              " Document(metadata={'source': 'data\\\\usa.txt'}, page_content='especially in Silicon Valley, produces unicorns and tech giants at a scale unmatched globally. Its financial markets—particularly Wall Street—are the most liquid and globally integrated in the world.'),\n",
              " Document(metadata={'source': 'data\\\\usa.txt'}, page_content='Challenges and Structural Issues'),\n",
              " Document(metadata={'source': 'data\\\\usa.txt'}, page_content='Despite its strength, the U.S. economy faces several serious long-term issues. The national debt has surpassed $34 trillion USD, raising concerns about fiscal sustainability, especially as interest'),\n",
              " Document(metadata={'source': 'data\\\\usa.txt'}, page_content='fiscal sustainability, especially as interest payments alone are growing rapidly. The income and wealth inequality gap has widened, with a small percentage of Americans owning a disproportionate'),\n",
              " Document(metadata={'source': 'data\\\\usa.txt'}, page_content='percentage of Americans owning a disproportionate share of wealth. Access to affordable healthcare, housing shortages, and a declining labor force participation in some sectors are additional'),\n",
              " Document(metadata={'source': 'data\\\\usa.txt'}, page_content='participation in some sectors are additional structural issues.'),\n",
              " Document(metadata={'source': 'data\\\\usa.txt'}, page_content='Another growing concern is political polarization, which often stalls crucial economic reforms and budget agreements, as seen in recurrent debt ceiling crises. The U.S. also faces challenges from'),\n",
              " Document(metadata={'source': 'data\\\\usa.txt'}, page_content='crises. The U.S. also faces challenges from global competition, especially from China in areas like AI, semiconductors, and green technology. Moreover, climate change, cybersecurity threats, and'),\n",
              " Document(metadata={'source': 'data\\\\usa.txt'}, page_content='climate change, cybersecurity threats, and geopolitical risks (like Ukraine and Taiwan conflicts) add layers of vulnerability to economic planning.'),\n",
              " Document(metadata={'source': 'data\\\\usa.txt'}, page_content='Future Outlook (2025–2030)'),\n",
              " Document(metadata={'source': 'data\\\\usa.txt'}, page_content='Looking forward, the U.S. economy is expected to grow at a moderate pace, powered by innovation in AI, green energy, robotics, biotech, and quantum computing. The Biden administration’s Inflation'),\n",
              " Document(metadata={'source': 'data\\\\usa.txt'}, page_content='computing. The Biden administration’s Inflation Reduction Act and CHIPS Act are pumping massive investments into semiconductors, clean energy, and infrastructure. There is a strong push for reshoring'),\n",
              " Document(metadata={'source': 'data\\\\usa.txt'}, page_content='There is a strong push for reshoring of manufacturing, especially in critical sectors like chips, pharmaceuticals, and batteries.'),\n",
              " Document(metadata={'source': 'data\\\\usa.txt'}, page_content='However, economic leadership will depend on managing the national debt, reforming entitlement programs, upgrading infrastructure, and ensuring the next generation is equipped with digital-age skills.'),\n",
              " Document(metadata={'source': 'data\\\\usa.txt'}, page_content='generation is equipped with digital-age skills. If the U.S. can handle these challenges, it is well-positioned to remain a global economic powerhouse through 2030 and beyond.'),\n",
              " Document(metadata={'source': 'data\\\\usa.txt'}, page_content='Final Summary'),\n",
              " Document(metadata={'source': 'data\\\\usa.txt'}, page_content='The U.S. economy remains the engine of global growth, backed by unmatched innovation, financial dominance, and a strong institutional framework. Its $28 trillion GDP and influence over global'),\n",
              " Document(metadata={'source': 'data\\\\usa.txt'}, page_content='Its $28 trillion GDP and influence over global finance, trade, and technology make it the centerpiece of the modern economic system. Yet, rising debt, inequality, political gridlock, and competition'),\n",
              " Document(metadata={'source': 'data\\\\usa.txt'}, page_content='inequality, political gridlock, and competition from emerging powers demand careful policy navigation. If successfully addressed, the U.S. will continue to dominate the global economy well into the'),\n",
              " Document(metadata={'source': 'data\\\\usa.txt'}, page_content='to dominate the global economy well into the future.')]"
            ]
          },
          "execution_count": 104,
          "metadata": {},
          "output_type": "execute_result"
        }
      ],
      "source": [
        "new_docs"
      ]
    },
    {
      "cell_type": "code",
      "execution_count": null,
      "id": "ae5f2527",
      "metadata": {
        "id": "ae5f2527"
      },
      "outputs": [],
      "source": [
        "doc_string=[doc.page_content for doc in new_docs]"
      ]
    },
    {
      "cell_type": "code",
      "execution_count": null,
      "id": "b36086cc",
      "metadata": {
        "id": "b36086cc",
        "outputId": "47cb0a19-55db-42d3-c9bb-dab651c279c3"
      },
      "outputs": [
        {
          "data": {
            "text/plain": [
              "['The world must be made safe for democracy. Its peace must be planted upon the tested foundations of political liberty. We have no selfish ends to serve. We desire no conquest, no dominion. We seek no',\n",
              " 'We desire no conquest, no dominion. We seek no indemnities for ourselves, no material compensation for the sacrifices we shall freely make. We are but one of the champions of the rights of mankind.',\n",
              " 'one of the champions of the rights of mankind. We shall be satisfied when those rights have been made as secure as the faith and the freedom of nations can make them.',\n",
              " 'Just because we fight without rancor and without selfish object, seeking nothing for ourselves but what we shall wish to share with all free peoples, we shall, I feel confident, conduct our',\n",
              " 'peoples, we shall, I feel confident, conduct our operations as belligerents without passion and ourselves observe with proud punctilio the principles of right and of fair play we profess to be',\n",
              " 'of right and of fair play we profess to be fighting for.',\n",
              " '…',\n",
              " 'It will be all the easier for us to conduct ourselves as belligerents in a high spirit of right and fairness because we act without animus, not in enmity toward a people or with the desire to bring',\n",
              " 'toward a people or with the desire to bring any injury or disadvantage upon them, but only in armed opposition to an irresponsible government which has thrown aside all considerations of humanity and',\n",
              " 'thrown aside all considerations of humanity and of right and is running amuck. We are, let me say again, the sincere friends of the German people, and shall desire nothing so much as the early',\n",
              " 'and shall desire nothing so much as the early reestablishment of intimate relations of mutual advantage between us—however hard it may be for them, for the time being, to believe that this is spoken',\n",
              " 'the time being, to believe that this is spoken from our hearts.',\n",
              " 'We have borne with their present government through all these bitter months because of that friendship—exercising a patience and forbearance which would otherwise have been impossible. We shall,',\n",
              " 'would otherwise have been impossible. We shall, happily, still have an opportunity to prove that friendship in our daily attitude and actions toward the millions of men and women of German birth and',\n",
              " 'the millions of men and women of German birth and native sympathy who live among us and share our life, and we shall be proud to prove it toward all who are in fact loyal to their neighbors and to',\n",
              " 'who are in fact loyal to their neighbors and to the government in the hour of test. They are, most of them, as true and loyal Americans as if they had never known any other fealty or allegiance. They',\n",
              " 'never known any other fealty or allegiance. They will be prompt to stand with us in rebuking and restraining the few who may be of a different mind and purpose. If there should be disloyalty, it will',\n",
              " 'purpose. If there should be disloyalty, it will be dealt with with a firm hand of stern repression; but, if it lifts its head at all, it will lift it only here and there and without countenance',\n",
              " 'it only here and there and without countenance except from a lawless and malignant few.',\n",
              " 'It is a distressing and oppressive duty, gentlemen of the Congress, which I have performed in thus addressing you. There are, it may be, many months of fiery trial and sacrifice ahead of us. It is a',\n",
              " 'of fiery trial and sacrifice ahead of us. It is a fearful thing to lead this great peaceful people into war, into the most terrible and disastrous of all wars, civilization itself seeming to be in',\n",
              " 'of all wars, civilization itself seeming to be in the balance. But the right is more precious than peace, and we shall fight for the things which we have always carried nearest our hearts—for',\n",
              " 'we have always carried nearest our hearts—for democracy, for the right of those who submit to authority to have a voice in their own governments, for the rights and liberties of small nations, for a',\n",
              " 'the rights and liberties of small nations, for a universal dominion of right by such a concert of free peoples as shall bring peace and safety to all nations and make the world itself at last free.',\n",
              " 'To such a task we can dedicate our lives and our fortunes, everything that we are and everything that we have, with the pride of those who know that the day has come when America is privileged to',\n",
              " 'the day has come when America is privileged to spend her blood and her might for the principles that gave her birth and happiness and the peace which she has treasured. God helping her, she can do no',\n",
              " 'she has treasured. God helping her, she can do no other.',\n",
              " '🇺🇸 Overview of the U.S. Economy',\n",
              " 'The United States of America possesses the largest economy in the world in terms of nominal GDP, making it the most powerful economic force globally. It operates under a capitalist mixed economy,',\n",
              " 'It operates under a capitalist mixed economy, where the private sector dominates, but the government plays a significant regulatory and fiscal role. With a population of over 335 million people and a',\n",
              " 'a population of over 335 million people and a high level of technological advancement, the U.S. economy thrives on a foundation of consumer spending, innovation, global trade, and financial services.',\n",
              " 'innovation, global trade, and financial services. It has a highly diversified structure with strong sectors in technology, healthcare, finance, real estate, defense, and agriculture.',\n",
              " 'U.S. GDP – Size, Composition, and Global Share',\n",
              " 'As of 2024, the United States’ nominal GDP is estimated to be around $28 trillion USD, accounting for approximately 25% of the global economy. It ranks #1 in the world by nominal GDP, far ahead of',\n",
              " '#1 in the world by nominal GDP, far ahead of China (which ranks 2nd). The U.S. GDP per capita is also among the highest, hovering around $83,000, which indicates a high standard of living and',\n",
              " 'which indicates a high standard of living and productivity. In terms of Purchasing Power Parity (PPP), the U.S. ranks second, but nominal GDP is considered more reflective of actual economic size and',\n",
              " 'more reflective of actual economic size and financial influence.',\n",
              " 'The GDP is predominantly driven by the services sector, which contributes more than 77% to the total GDP. This includes industries such as finance, insurance, real estate, healthcare, education, and',\n",
              " 'real estate, healthcare, education, and information technology. The industrial sector (manufacturing, construction, mining) makes up around 19%, while agriculture, although technologically advanced',\n",
              " 'agriculture, although technologically advanced and export-oriented, contributes only about 1%. Despite its small share in GDP, U.S. agriculture is globally significant in terms of productivity and',\n",
              " 'globally significant in terms of productivity and exports.',\n",
              " 'GDP Growth Trends and Dynamics',\n",
              " 'Historically, the U.S. economy has enjoyed consistent long-term growth, averaging around 2-3% annually. Post-pandemic, the economy bounced back strongly, but 2022 and 2023 saw rising inflation due to',\n",
              " 'but 2022 and 2023 saw rising inflation due to supply chain issues and stimulus-driven demand. In 2024, the U.S. GDP grew at a modest pace of around 2.1%, as the Federal Reserve’s interest rate hikes',\n",
              " 'as the Federal Reserve’s interest rate hikes aimed at controlling inflation also moderated economic expansion. Consumer spending, which makes up nearly 70% of GDP, remains a dominant force in',\n",
              " 'up nearly 70% of GDP, remains a dominant force in economic stability.',\n",
              " 'The U.S. maintains its GDP growth through strong innovation, entrepreneurship, and investment in R&D. With companies like Apple, Google, Amazon, Microsoft, and Tesla leading global markets, the U.S.',\n",
              " 'and Tesla leading global markets, the U.S. consistently produces high value across sectors, especially in technology and advanced services. Additionally, the economy benefits from intellectual',\n",
              " 'the economy benefits from intellectual property exports, financial services, and higher education, all of which contribute significantly to GDP through both domestic and international markets.',\n",
              " 'Role in the Global Economy',\n",
              " 'The U.S. Dollar (USD) is the global reserve currency, held by over 60% of the world’s central bank reserves. This gives the U.S. an enormous advantage in global trade and borrowing. The U.S. is a key',\n",
              " 'in global trade and borrowing. The U.S. is a key member of international institutions like the World Bank, IMF, G7, G20, and WTO, and plays a central role in setting global economic policy.',\n",
              " \"As a global innovation hub, the U.S. attracts billions in foreign investment and hosts many of the world's largest and most valuable companies. Its exports include high-tech machinery, aircraft,\",\n",
              " 'exports include high-tech machinery, aircraft, pharmaceuticals, semiconductors, and financial services, while its imports cover consumer goods, electronics, automobiles, and industrial materials. The',\n",
              " 'automobiles, and industrial materials. The trade deficit remains large (around $900 billion in 2024), primarily because the U.S. consumes more than it exports, but its ability to finance this through',\n",
              " 'exports, but its ability to finance this through capital inflows and reserve currency status sustains balance.',\n",
              " 'Key Economic Strengths',\n",
              " 'The core strength of the U.S. economy lies in its flexible labor market, deep capital markets, technological superiority, and legal system that encourages innovation and property rights. It has a',\n",
              " 'innovation and property rights. It has a large, highly educated workforce, a diverse immigration pipeline, and access to vast natural resources including oil, gas, coal, and farmland. The presence of',\n",
              " 'oil, gas, coal, and farmland. The presence of top-tier universities and research institutions fuels the knowledge economy, with billions spent annually on R&D—over $700 billion USD, more than any',\n",
              " 'on R&D—over $700 billion USD, more than any other country.',\n",
              " 'The U.S. leads in many critical sectors, including software, biotechnology, aerospace, defense, financial services, and media. Its startup ecosystem, especially in Silicon Valley, produces unicorns',\n",
              " 'especially in Silicon Valley, produces unicorns and tech giants at a scale unmatched globally. Its financial markets—particularly Wall Street—are the most liquid and globally integrated in the world.',\n",
              " 'Challenges and Structural Issues',\n",
              " 'Despite its strength, the U.S. economy faces several serious long-term issues. The national debt has surpassed $34 trillion USD, raising concerns about fiscal sustainability, especially as interest',\n",
              " 'fiscal sustainability, especially as interest payments alone are growing rapidly. The income and wealth inequality gap has widened, with a small percentage of Americans owning a disproportionate',\n",
              " 'percentage of Americans owning a disproportionate share of wealth. Access to affordable healthcare, housing shortages, and a declining labor force participation in some sectors are additional',\n",
              " 'participation in some sectors are additional structural issues.',\n",
              " 'Another growing concern is political polarization, which often stalls crucial economic reforms and budget agreements, as seen in recurrent debt ceiling crises. The U.S. also faces challenges from',\n",
              " 'crises. The U.S. also faces challenges from global competition, especially from China in areas like AI, semiconductors, and green technology. Moreover, climate change, cybersecurity threats, and',\n",
              " 'climate change, cybersecurity threats, and geopolitical risks (like Ukraine and Taiwan conflicts) add layers of vulnerability to economic planning.',\n",
              " 'Future Outlook (2025–2030)',\n",
              " 'Looking forward, the U.S. economy is expected to grow at a moderate pace, powered by innovation in AI, green energy, robotics, biotech, and quantum computing. The Biden administration’s Inflation',\n",
              " 'computing. The Biden administration’s Inflation Reduction Act and CHIPS Act are pumping massive investments into semiconductors, clean energy, and infrastructure. There is a strong push for reshoring',\n",
              " 'There is a strong push for reshoring of manufacturing, especially in critical sectors like chips, pharmaceuticals, and batteries.',\n",
              " 'However, economic leadership will depend on managing the national debt, reforming entitlement programs, upgrading infrastructure, and ensuring the next generation is equipped with digital-age skills.',\n",
              " 'generation is equipped with digital-age skills. If the U.S. can handle these challenges, it is well-positioned to remain a global economic powerhouse through 2030 and beyond.',\n",
              " 'Final Summary',\n",
              " 'The U.S. economy remains the engine of global growth, backed by unmatched innovation, financial dominance, and a strong institutional framework. Its $28 trillion GDP and influence over global',\n",
              " 'Its $28 trillion GDP and influence over global finance, trade, and technology make it the centerpiece of the modern economic system. Yet, rising debt, inequality, political gridlock, and competition',\n",
              " 'inequality, political gridlock, and competition from emerging powers demand careful policy navigation. If successfully addressed, the U.S. will continue to dominate the global economy well into the',\n",
              " 'to dominate the global economy well into the future.']"
            ]
          },
          "execution_count": 106,
          "metadata": {},
          "output_type": "execute_result"
        }
      ],
      "source": [
        "doc_string"
      ]
    },
    {
      "cell_type": "code",
      "execution_count": null,
      "id": "e9de078e",
      "metadata": {
        "id": "e9de078e",
        "outputId": "c468b4c3-aa2e-4eae-b511-25d708c9d4ed"
      },
      "outputs": [
        {
          "data": {
            "text/plain": [
              "82"
            ]
          },
          "execution_count": 112,
          "metadata": {},
          "output_type": "execute_result"
        }
      ],
      "source": [
        "len(doc_string)"
      ]
    },
    {
      "cell_type": "code",
      "execution_count": null,
      "id": "ae02f542",
      "metadata": {
        "id": "ae02f542",
        "outputId": "55f6b50e-a2ab-42f6-8684-446b2351e342"
      },
      "outputs": [
        {
          "ename": "TypeError",
          "evalue": "Descriptors cannot be created directly.\nIf this call came from a _pb2.py file, your generated code is out of date and must be regenerated with protoc >= 3.19.0.\nIf you cannot immediately regenerate your protos, some other possible workarounds are:\n 1. Downgrade the protobuf package to 3.20.x or lower.\n 2. Set PROTOCOL_BUFFERS_PYTHON_IMPLEMENTATION=python (but this will use pure-Python parsing and will be much slower).\n\nMore information: https://developers.google.com/protocol-buffers/docs/news/2022-05-06#python-updates",
          "output_type": "error",
          "traceback": [
            "\u001b[31m---------------------------------------------------------------------------\u001b[39m",
            "\u001b[31mTypeError\u001b[39m                                 Traceback (most recent call last)",
            "\u001b[36mCell\u001b[39m\u001b[36m \u001b[39m\u001b[32mIn[111]\u001b[39m\u001b[32m, line 1\u001b[39m\n\u001b[32m----> \u001b[39m\u001b[32m1\u001b[39m db=\u001b[43mChroma\u001b[49m\u001b[43m.\u001b[49m\u001b[43mfrom_documents\u001b[49m\u001b[43m(\u001b[49m\u001b[43mnew_docs\u001b[49m\u001b[43m,\u001b[49m\u001b[43membeddings\u001b[49m\u001b[43m)\u001b[49m\n",
            "\u001b[36mFile \u001b[39m\u001b[32mc:\\Users\\saina\\.conda\\envs\\agentic_2_base\\Lib\\site-packages\\langchain_community\\vectorstores\\chroma.py:887\u001b[39m, in \u001b[36mChroma.from_documents\u001b[39m\u001b[34m(cls, documents, embedding, ids, collection_name, persist_directory, client_settings, client, collection_metadata, **kwargs)\u001b[39m\n\u001b[32m    885\u001b[39m texts = [doc.page_content \u001b[38;5;28;01mfor\u001b[39;00m doc \u001b[38;5;129;01min\u001b[39;00m documents]\n\u001b[32m    886\u001b[39m metadatas = [doc.metadata \u001b[38;5;28;01mfor\u001b[39;00m doc \u001b[38;5;129;01min\u001b[39;00m documents]\n\u001b[32m--> \u001b[39m\u001b[32m887\u001b[39m \u001b[38;5;28;01mreturn\u001b[39;00m \u001b[38;5;28;43mcls\u001b[39;49m\u001b[43m.\u001b[49m\u001b[43mfrom_texts\u001b[49m\u001b[43m(\u001b[49m\n\u001b[32m    888\u001b[39m \u001b[43m    \u001b[49m\u001b[43mtexts\u001b[49m\u001b[43m=\u001b[49m\u001b[43mtexts\u001b[49m\u001b[43m,\u001b[49m\n\u001b[32m    889\u001b[39m \u001b[43m    \u001b[49m\u001b[43membedding\u001b[49m\u001b[43m=\u001b[49m\u001b[43membedding\u001b[49m\u001b[43m,\u001b[49m\n\u001b[32m    890\u001b[39m \u001b[43m    \u001b[49m\u001b[43mmetadatas\u001b[49m\u001b[43m=\u001b[49m\u001b[43mmetadatas\u001b[49m\u001b[43m,\u001b[49m\n\u001b[32m    891\u001b[39m \u001b[43m    \u001b[49m\u001b[43mids\u001b[49m\u001b[43m=\u001b[49m\u001b[43mids\u001b[49m\u001b[43m,\u001b[49m\n\u001b[32m    892\u001b[39m \u001b[43m    \u001b[49m\u001b[43mcollection_name\u001b[49m\u001b[43m=\u001b[49m\u001b[43mcollection_name\u001b[49m\u001b[43m,\u001b[49m\n\u001b[32m    893\u001b[39m \u001b[43m    \u001b[49m\u001b[43mpersist_directory\u001b[49m\u001b[43m=\u001b[49m\u001b[43mpersist_directory\u001b[49m\u001b[43m,\u001b[49m\n\u001b[32m    894\u001b[39m \u001b[43m    \u001b[49m\u001b[43mclient_settings\u001b[49m\u001b[43m=\u001b[49m\u001b[43mclient_settings\u001b[49m\u001b[43m,\u001b[49m\n\u001b[32m    895\u001b[39m \u001b[43m    \u001b[49m\u001b[43mclient\u001b[49m\u001b[43m=\u001b[49m\u001b[43mclient\u001b[49m\u001b[43m,\u001b[49m\n\u001b[32m    896\u001b[39m \u001b[43m    \u001b[49m\u001b[43mcollection_metadata\u001b[49m\u001b[43m=\u001b[49m\u001b[43mcollection_metadata\u001b[49m\u001b[43m,\u001b[49m\n\u001b[32m    897\u001b[39m \u001b[43m    \u001b[49m\u001b[43m*\u001b[49m\u001b[43m*\u001b[49m\u001b[43mkwargs\u001b[49m\u001b[43m,\u001b[49m\n\u001b[32m    898\u001b[39m \u001b[43m\u001b[49m\u001b[43m)\u001b[49m\n",
            "\u001b[36mFile \u001b[39m\u001b[32mc:\\Users\\saina\\.conda\\envs\\agentic_2_base\\Lib\\site-packages\\langchain_community\\vectorstores\\chroma.py:817\u001b[39m, in \u001b[36mChroma.from_texts\u001b[39m\u001b[34m(cls, texts, embedding, metadatas, ids, collection_name, persist_directory, client_settings, client, collection_metadata, **kwargs)\u001b[39m\n\u001b[32m    784\u001b[39m \u001b[38;5;129m@classmethod\u001b[39m\n\u001b[32m    785\u001b[39m \u001b[38;5;28;01mdef\u001b[39;00m\u001b[38;5;250m \u001b[39m\u001b[34mfrom_texts\u001b[39m(\n\u001b[32m    786\u001b[39m     \u001b[38;5;28mcls\u001b[39m: Type[Chroma],\n\u001b[32m   (...)\u001b[39m\u001b[32m    796\u001b[39m     **kwargs: Any,\n\u001b[32m    797\u001b[39m ) -> Chroma:\n\u001b[32m    798\u001b[39m \u001b[38;5;250m    \u001b[39m\u001b[33;03m\"\"\"Create a Chroma vectorstore from a raw documents.\u001b[39;00m\n\u001b[32m    799\u001b[39m \n\u001b[32m    800\u001b[39m \u001b[33;03m    If a persist_directory is specified, the collection will be persisted there.\u001b[39;00m\n\u001b[32m   (...)\u001b[39m\u001b[32m    815\u001b[39m \u001b[33;03m        Chroma: Chroma vectorstore.\u001b[39;00m\n\u001b[32m    816\u001b[39m \u001b[33;03m    \"\"\"\u001b[39;00m\n\u001b[32m--> \u001b[39m\u001b[32m817\u001b[39m     chroma_collection = \u001b[38;5;28;43mcls\u001b[39;49m\u001b[43m(\u001b[49m\n\u001b[32m    818\u001b[39m \u001b[43m        \u001b[49m\u001b[43mcollection_name\u001b[49m\u001b[43m=\u001b[49m\u001b[43mcollection_name\u001b[49m\u001b[43m,\u001b[49m\n\u001b[32m    819\u001b[39m \u001b[43m        \u001b[49m\u001b[43membedding_function\u001b[49m\u001b[43m=\u001b[49m\u001b[43membedding\u001b[49m\u001b[43m,\u001b[49m\n\u001b[32m    820\u001b[39m \u001b[43m        \u001b[49m\u001b[43mpersist_directory\u001b[49m\u001b[43m=\u001b[49m\u001b[43mpersist_directory\u001b[49m\u001b[43m,\u001b[49m\n\u001b[32m    821\u001b[39m \u001b[43m        \u001b[49m\u001b[43mclient_settings\u001b[49m\u001b[43m=\u001b[49m\u001b[43mclient_settings\u001b[49m\u001b[43m,\u001b[49m\n\u001b[32m    822\u001b[39m \u001b[43m        \u001b[49m\u001b[43mclient\u001b[49m\u001b[43m=\u001b[49m\u001b[43mclient\u001b[49m\u001b[43m,\u001b[49m\n\u001b[32m    823\u001b[39m \u001b[43m        \u001b[49m\u001b[43mcollection_metadata\u001b[49m\u001b[43m=\u001b[49m\u001b[43mcollection_metadata\u001b[49m\u001b[43m,\u001b[49m\n\u001b[32m    824\u001b[39m \u001b[43m        \u001b[49m\u001b[43m*\u001b[49m\u001b[43m*\u001b[49m\u001b[43mkwargs\u001b[49m\u001b[43m,\u001b[49m\n\u001b[32m    825\u001b[39m \u001b[43m    \u001b[49m\u001b[43m)\u001b[49m\n\u001b[32m    826\u001b[39m     \u001b[38;5;28;01mif\u001b[39;00m ids \u001b[38;5;129;01mis\u001b[39;00m \u001b[38;5;28;01mNone\u001b[39;00m:\n\u001b[32m    827\u001b[39m         ids = [\u001b[38;5;28mstr\u001b[39m(uuid.uuid4()) \u001b[38;5;28;01mfor\u001b[39;00m _ \u001b[38;5;129;01min\u001b[39;00m texts]\n",
            "\u001b[36mFile \u001b[39m\u001b[32mc:\\Users\\saina\\.conda\\envs\\agentic_2_base\\Lib\\site-packages\\langchain_core\\_api\\deprecation.py:224\u001b[39m, in \u001b[36mdeprecated.<locals>.deprecate.<locals>.finalize.<locals>.warn_if_direct_instance\u001b[39m\u001b[34m(self, *args, **kwargs)\u001b[39m\n\u001b[32m    222\u001b[39m     warned = \u001b[38;5;28;01mTrue\u001b[39;00m\n\u001b[32m    223\u001b[39m     emit_warning()\n\u001b[32m--> \u001b[39m\u001b[32m224\u001b[39m \u001b[38;5;28;01mreturn\u001b[39;00m \u001b[43mwrapped\u001b[49m\u001b[43m(\u001b[49m\u001b[38;5;28;43mself\u001b[39;49m\u001b[43m,\u001b[49m\u001b[43m \u001b[49m\u001b[43m*\u001b[49m\u001b[43margs\u001b[49m\u001b[43m,\u001b[49m\u001b[43m \u001b[49m\u001b[43m*\u001b[49m\u001b[43m*\u001b[49m\u001b[43mkwargs\u001b[49m\u001b[43m)\u001b[49m\n",
            "\u001b[36mFile \u001b[39m\u001b[32mc:\\Users\\saina\\.conda\\envs\\agentic_2_base\\Lib\\site-packages\\langchain_community\\vectorstores\\chroma.py:83\u001b[39m, in \u001b[36mChroma.__init__\u001b[39m\u001b[34m(self, collection_name, embedding_function, persist_directory, client_settings, collection_metadata, client, relevance_score_fn)\u001b[39m\n\u001b[32m     81\u001b[39m \u001b[38;5;250m\u001b[39m\u001b[33;03m\"\"\"Initialize with a Chroma client.\"\"\"\u001b[39;00m\n\u001b[32m     82\u001b[39m \u001b[38;5;28;01mtry\u001b[39;00m:\n\u001b[32m---> \u001b[39m\u001b[32m83\u001b[39m     \u001b[38;5;28;01mimport\u001b[39;00m\u001b[38;5;250m \u001b[39m\u001b[34;01mchromadb\u001b[39;00m\n\u001b[32m     84\u001b[39m     \u001b[38;5;28;01mimport\u001b[39;00m\u001b[38;5;250m \u001b[39m\u001b[34;01mchromadb\u001b[39;00m\u001b[34;01m.\u001b[39;00m\u001b[34;01mconfig\u001b[39;00m\n\u001b[32m     85\u001b[39m \u001b[38;5;28;01mexcept\u001b[39;00m \u001b[38;5;167;01mImportError\u001b[39;00m:\n",
            "\u001b[36mFile \u001b[39m\u001b[32mc:\\Users\\saina\\.conda\\envs\\agentic_2_base\\Lib\\site-packages\\chromadb\\__init__.py:6\u001b[39m\n\u001b[32m      4\u001b[39m \u001b[38;5;28;01mfrom\u001b[39;00m\u001b[38;5;250m \u001b[39m\u001b[34;01mchromadb\u001b[39;00m\u001b[34;01m.\u001b[39;00m\u001b[34;01mapi\u001b[39;00m\u001b[34;01m.\u001b[39;00m\u001b[34;01mclient\u001b[39;00m\u001b[38;5;250m \u001b[39m\u001b[38;5;28;01mimport\u001b[39;00m AdminClient \u001b[38;5;28;01mas\u001b[39;00m AdminClientCreator\n\u001b[32m      5\u001b[39m \u001b[38;5;28;01mfrom\u001b[39;00m\u001b[38;5;250m \u001b[39m\u001b[34;01mchromadb\u001b[39;00m\u001b[34;01m.\u001b[39;00m\u001b[34;01mapi\u001b[39;00m\u001b[34;01m.\u001b[39;00m\u001b[34;01masync_client\u001b[39;00m\u001b[38;5;250m \u001b[39m\u001b[38;5;28;01mimport\u001b[39;00m AsyncClient \u001b[38;5;28;01mas\u001b[39;00m AsyncClientCreator\n\u001b[32m----> \u001b[39m\u001b[32m6\u001b[39m \u001b[38;5;28;01mfrom\u001b[39;00m\u001b[38;5;250m \u001b[39m\u001b[34;01mchromadb\u001b[39;00m\u001b[34;01m.\u001b[39;00m\u001b[34;01mauth\u001b[39;00m\u001b[34;01m.\u001b[39;00m\u001b[34;01mtoken_authn\u001b[39;00m\u001b[38;5;250m \u001b[39m\u001b[38;5;28;01mimport\u001b[39;00m TokenTransportHeader\n\u001b[32m      7\u001b[39m \u001b[38;5;28;01mimport\u001b[39;00m\u001b[38;5;250m \u001b[39m\u001b[34;01mchromadb\u001b[39;00m\u001b[34;01m.\u001b[39;00m\u001b[34;01mconfig\u001b[39;00m\n\u001b[32m      8\u001b[39m \u001b[38;5;28;01mfrom\u001b[39;00m\u001b[38;5;250m \u001b[39m\u001b[34;01mchromadb\u001b[39;00m\u001b[34;01m.\u001b[39;00m\u001b[34;01mconfig\u001b[39;00m\u001b[38;5;250m \u001b[39m\u001b[38;5;28;01mimport\u001b[39;00m DEFAULT_DATABASE, DEFAULT_TENANT, Settings\n",
            "\u001b[36mFile \u001b[39m\u001b[32mc:\\Users\\saina\\.conda\\envs\\agentic_2_base\\Lib\\site-packages\\chromadb\\auth\\token_authn\\__init__.py:24\u001b[39m\n\u001b[32m     22\u001b[39m \u001b[38;5;28;01mfrom\u001b[39;00m\u001b[38;5;250m \u001b[39m\u001b[34;01mchromadb\u001b[39;00m\u001b[34;01m.\u001b[39;00m\u001b[34;01mconfig\u001b[39;00m\u001b[38;5;250m \u001b[39m\u001b[38;5;28;01mimport\u001b[39;00m System\n\u001b[32m     23\u001b[39m \u001b[38;5;28;01mfrom\u001b[39;00m\u001b[38;5;250m \u001b[39m\u001b[34;01mchromadb\u001b[39;00m\u001b[34;01m.\u001b[39;00m\u001b[34;01merrors\u001b[39;00m\u001b[38;5;250m \u001b[39m\u001b[38;5;28;01mimport\u001b[39;00m ChromaAuthError\n\u001b[32m---> \u001b[39m\u001b[32m24\u001b[39m \u001b[38;5;28;01mfrom\u001b[39;00m\u001b[38;5;250m \u001b[39m\u001b[34;01mchromadb\u001b[39;00m\u001b[34;01m.\u001b[39;00m\u001b[34;01mtelemetry\u001b[39;00m\u001b[34;01m.\u001b[39;00m\u001b[34;01mopentelemetry\u001b[39;00m\u001b[38;5;250m \u001b[39m\u001b[38;5;28;01mimport\u001b[39;00m (\n\u001b[32m     25\u001b[39m     OpenTelemetryGranularity,\n\u001b[32m     26\u001b[39m     trace_method,\n\u001b[32m     27\u001b[39m )\n\u001b[32m     29\u001b[39m T = TypeVar(\u001b[33m\"\u001b[39m\u001b[33mT\u001b[39m\u001b[33m\"\u001b[39m)\n\u001b[32m     31\u001b[39m logger = logging.getLogger(\u001b[34m__name__\u001b[39m)\n",
            "\u001b[36mFile \u001b[39m\u001b[32mc:\\Users\\saina\\.conda\\envs\\agentic_2_base\\Lib\\site-packages\\chromadb\\telemetry\\opentelemetry\\__init__.py:13\u001b[39m\n\u001b[32m      9\u001b[39m \u001b[38;5;28;01mfrom\u001b[39;00m\u001b[38;5;250m \u001b[39m\u001b[34;01mopentelemetry\u001b[39;00m\u001b[34;01m.\u001b[39;00m\u001b[34;01msdk\u001b[39;00m\u001b[34;01m.\u001b[39;00m\u001b[34;01mtrace\u001b[39;00m\u001b[38;5;250m \u001b[39m\u001b[38;5;28;01mimport\u001b[39;00m TracerProvider\n\u001b[32m     10\u001b[39m \u001b[38;5;28;01mfrom\u001b[39;00m\u001b[38;5;250m \u001b[39m\u001b[34;01mopentelemetry\u001b[39;00m\u001b[34;01m.\u001b[39;00m\u001b[34;01msdk\u001b[39;00m\u001b[34;01m.\u001b[39;00m\u001b[34;01mtrace\u001b[39;00m\u001b[34;01m.\u001b[39;00m\u001b[34;01mexport\u001b[39;00m\u001b[38;5;250m \u001b[39m\u001b[38;5;28;01mimport\u001b[39;00m (\n\u001b[32m     11\u001b[39m     BatchSpanProcessor,\n\u001b[32m     12\u001b[39m )\n\u001b[32m---> \u001b[39m\u001b[32m13\u001b[39m \u001b[38;5;28;01mfrom\u001b[39;00m\u001b[38;5;250m \u001b[39m\u001b[34;01mopentelemetry\u001b[39;00m\u001b[34;01m.\u001b[39;00m\u001b[34;01mexporter\u001b[39;00m\u001b[34;01m.\u001b[39;00m\u001b[34;01motlp\u001b[39;00m\u001b[34;01m.\u001b[39;00m\u001b[34;01mproto\u001b[39;00m\u001b[34;01m.\u001b[39;00m\u001b[34;01mgrpc\u001b[39;00m\u001b[34;01m.\u001b[39;00m\u001b[34;01mtrace_exporter\u001b[39;00m\u001b[38;5;250m \u001b[39m\u001b[38;5;28;01mimport\u001b[39;00m OTLPSpanExporter\n\u001b[32m     15\u001b[39m \u001b[38;5;28;01mfrom\u001b[39;00m\u001b[38;5;250m \u001b[39m\u001b[34;01mchromadb\u001b[39;00m\u001b[34;01m.\u001b[39;00m\u001b[34;01mconfig\u001b[39;00m\u001b[38;5;250m \u001b[39m\u001b[38;5;28;01mimport\u001b[39;00m Component\n\u001b[32m     16\u001b[39m \u001b[38;5;28;01mfrom\u001b[39;00m\u001b[38;5;250m \u001b[39m\u001b[34;01mchromadb\u001b[39;00m\u001b[34;01m.\u001b[39;00m\u001b[34;01mconfig\u001b[39;00m\u001b[38;5;250m \u001b[39m\u001b[38;5;28;01mimport\u001b[39;00m System\n",
            "\u001b[36mFile \u001b[39m\u001b[32mc:\\Users\\saina\\.conda\\envs\\agentic_2_base\\Lib\\site-packages\\opentelemetry\\exporter\\otlp\\proto\\grpc\\trace_exporter\\__init__.py:22\u001b[39m\n\u001b[32m     18\u001b[39m \u001b[38;5;28;01mfrom\u001b[39;00m\u001b[38;5;250m \u001b[39m\u001b[34;01mtyping\u001b[39;00m\u001b[38;5;250m \u001b[39m\u001b[38;5;28;01mimport\u001b[39;00m Optional, Sequence\n\u001b[32m     20\u001b[39m \u001b[38;5;28;01mfrom\u001b[39;00m\u001b[38;5;250m \u001b[39m\u001b[34;01mgrpc\u001b[39;00m\u001b[38;5;250m \u001b[39m\u001b[38;5;28;01mimport\u001b[39;00m ChannelCredentials, Compression\n\u001b[32m---> \u001b[39m\u001b[32m22\u001b[39m \u001b[38;5;28;01mfrom\u001b[39;00m\u001b[38;5;250m \u001b[39m\u001b[34;01mopentelemetry\u001b[39;00m\u001b[34;01m.\u001b[39;00m\u001b[34;01mexporter\u001b[39;00m\u001b[34;01m.\u001b[39;00m\u001b[34;01motlp\u001b[39;00m\u001b[34;01m.\u001b[39;00m\u001b[34;01mproto\u001b[39;00m\u001b[34;01m.\u001b[39;00m\u001b[34;01mgrpc\u001b[39;00m\u001b[34;01m.\u001b[39;00m\u001b[34;01mexporter\u001b[39;00m\u001b[38;5;250m \u001b[39m\u001b[38;5;28;01mimport\u001b[39;00m (\n\u001b[32m     23\u001b[39m     OTLPExporterMixin,\n\u001b[32m     24\u001b[39m     _get_credentials,\n\u001b[32m     25\u001b[39m     _translate_key_values,\n\u001b[32m     26\u001b[39m     environ_to_compression,\n\u001b[32m     27\u001b[39m     get_resource_data,\n\u001b[32m     28\u001b[39m )\n\u001b[32m     29\u001b[39m \u001b[38;5;28;01mfrom\u001b[39;00m\u001b[38;5;250m \u001b[39m\u001b[34;01mopentelemetry\u001b[39;00m\u001b[34;01m.\u001b[39;00m\u001b[34;01mproto\u001b[39;00m\u001b[34;01m.\u001b[39;00m\u001b[34;01mcollector\u001b[39;00m\u001b[34;01m.\u001b[39;00m\u001b[34;01mtrace\u001b[39;00m\u001b[34;01m.\u001b[39;00m\u001b[34;01mv1\u001b[39;00m\u001b[34;01m.\u001b[39;00m\u001b[34;01mtrace_service_pb2\u001b[39;00m\u001b[38;5;250m \u001b[39m\u001b[38;5;28;01mimport\u001b[39;00m (\n\u001b[32m     30\u001b[39m     ExportTraceServiceRequest,\n\u001b[32m     31\u001b[39m )\n\u001b[32m     32\u001b[39m \u001b[38;5;28;01mfrom\u001b[39;00m\u001b[38;5;250m \u001b[39m\u001b[34;01mopentelemetry\u001b[39;00m\u001b[34;01m.\u001b[39;00m\u001b[34;01mproto\u001b[39;00m\u001b[34;01m.\u001b[39;00m\u001b[34;01mcollector\u001b[39;00m\u001b[34;01m.\u001b[39;00m\u001b[34;01mtrace\u001b[39;00m\u001b[34;01m.\u001b[39;00m\u001b[34;01mv1\u001b[39;00m\u001b[34;01m.\u001b[39;00m\u001b[34;01mtrace_service_pb2_grpc\u001b[39;00m\u001b[38;5;250m \u001b[39m\u001b[38;5;28;01mimport\u001b[39;00m (\n\u001b[32m     33\u001b[39m     TraceServiceStub,\n\u001b[32m     34\u001b[39m )\n",
            "\u001b[36mFile \u001b[39m\u001b[32mc:\\Users\\saina\\.conda\\envs\\agentic_2_base\\Lib\\site-packages\\opentelemetry\\exporter\\otlp\\proto\\grpc\\exporter.py:39\u001b[39m\n\u001b[32m     28\u001b[39m \u001b[38;5;28;01mfrom\u001b[39;00m\u001b[38;5;250m \u001b[39m\u001b[34;01mgoogle\u001b[39;00m\u001b[34;01m.\u001b[39;00m\u001b[34;01mrpc\u001b[39;00m\u001b[34;01m.\u001b[39;00m\u001b[34;01merror_details_pb2\u001b[39;00m\u001b[38;5;250m \u001b[39m\u001b[38;5;28;01mimport\u001b[39;00m RetryInfo\n\u001b[32m     29\u001b[39m \u001b[38;5;28;01mfrom\u001b[39;00m\u001b[38;5;250m \u001b[39m\u001b[34;01mgrpc\u001b[39;00m\u001b[38;5;250m \u001b[39m\u001b[38;5;28;01mimport\u001b[39;00m (\n\u001b[32m     30\u001b[39m     ChannelCredentials,\n\u001b[32m     31\u001b[39m     Compression,\n\u001b[32m   (...)\u001b[39m\u001b[32m     36\u001b[39m     ssl_channel_credentials,\n\u001b[32m     37\u001b[39m )\n\u001b[32m---> \u001b[39m\u001b[32m39\u001b[39m \u001b[38;5;28;01mfrom\u001b[39;00m\u001b[38;5;250m \u001b[39m\u001b[34;01mopentelemetry\u001b[39;00m\u001b[34;01m.\u001b[39;00m\u001b[34;01mproto\u001b[39;00m\u001b[34;01m.\u001b[39;00m\u001b[34;01mcommon\u001b[39;00m\u001b[34;01m.\u001b[39;00m\u001b[34;01mv1\u001b[39;00m\u001b[34;01m.\u001b[39;00m\u001b[34;01mcommon_pb2\u001b[39;00m\u001b[38;5;250m \u001b[39m\u001b[38;5;28;01mimport\u001b[39;00m (\n\u001b[32m     40\u001b[39m     AnyValue,\n\u001b[32m     41\u001b[39m     ArrayValue,\n\u001b[32m     42\u001b[39m     KeyValue,\n\u001b[32m     43\u001b[39m )\n\u001b[32m     44\u001b[39m \u001b[38;5;28;01mfrom\u001b[39;00m\u001b[38;5;250m \u001b[39m\u001b[34;01mopentelemetry\u001b[39;00m\u001b[34;01m.\u001b[39;00m\u001b[34;01mproto\u001b[39;00m\u001b[34;01m.\u001b[39;00m\u001b[34;01mresource\u001b[39;00m\u001b[34;01m.\u001b[39;00m\u001b[34;01mv1\u001b[39;00m\u001b[34;01m.\u001b[39;00m\u001b[34;01mresource_pb2\u001b[39;00m\u001b[38;5;250m \u001b[39m\u001b[38;5;28;01mimport\u001b[39;00m Resource\n\u001b[32m     45\u001b[39m \u001b[38;5;28;01mfrom\u001b[39;00m\u001b[38;5;250m \u001b[39m\u001b[34;01mopentelemetry\u001b[39;00m\u001b[34;01m.\u001b[39;00m\u001b[34;01msdk\u001b[39;00m\u001b[34;01m.\u001b[39;00m\u001b[34;01menvironment_variables\u001b[39;00m\u001b[38;5;250m \u001b[39m\u001b[38;5;28;01mimport\u001b[39;00m (\n\u001b[32m     46\u001b[39m     OTEL_EXPORTER_OTLP_CERTIFICATE,\n\u001b[32m     47\u001b[39m     OTEL_EXPORTER_OTLP_COMPRESSION,\n\u001b[32m   (...)\u001b[39m\u001b[32m     51\u001b[39m     OTEL_EXPORTER_OTLP_TIMEOUT,\n\u001b[32m     52\u001b[39m )\n",
            "\u001b[36mFile \u001b[39m\u001b[32mc:\\Users\\saina\\.conda\\envs\\agentic_2_base\\Lib\\site-packages\\opentelemetry\\proto\\common\\v1\\common_pb2.py:36\u001b[39m\n\u001b[32m     11\u001b[39m _sym_db = _symbol_database.Default()\n\u001b[32m     16\u001b[39m DESCRIPTOR = _descriptor.FileDescriptor(\n\u001b[32m     17\u001b[39m   name=\u001b[33m'\u001b[39m\u001b[33mopentelemetry/proto/common/v1/common.proto\u001b[39m\u001b[33m'\u001b[39m,\n\u001b[32m     18\u001b[39m   package=\u001b[33m'\u001b[39m\u001b[33mopentelemetry.proto.common.v1\u001b[39m\u001b[33m'\u001b[39m,\n\u001b[32m   (...)\u001b[39m\u001b[32m     22\u001b[39m   serialized_pb=\u001b[33mb\u001b[39m\u001b[33m'\u001b[39m\u001b[38;5;130;01m\\n\u001b[39;00m\u001b[33m*opentelemetry/proto/common/v1/common.proto\u001b[39m\u001b[38;5;130;01m\\x12\u001b[39;00m\u001b[38;5;130;01m\\x1d\u001b[39;00m\u001b[33mopentelemetry.proto.common.v1\u001b[39m\u001b[38;5;130;01m\\\"\u001b[39;00m\u001b[38;5;130;01m\\x8c\u001b[39;00m\u001b[38;5;130;01m\\x02\u001b[39;00m\u001b[38;5;130;01m\\n\u001b[39;00m\u001b[38;5;130;01m\\x08\u001b[39;00m\u001b[38;5;130;01m\\x41\u001b[39;00m\u001b[33mnyValue\u001b[39m\u001b[38;5;130;01m\\x12\u001b[39;00m\u001b[38;5;130;01m\\x16\u001b[39;00m\u001b[38;5;130;01m\\n\u001b[39;00m\u001b[38;5;130;01m\\x0c\u001b[39;00m\u001b[33mstring_value\u001b[39m\u001b[38;5;130;01m\\x18\u001b[39;00m\u001b[38;5;130;01m\\x01\u001b[39;00m\u001b[33m \u001b[39m\u001b[38;5;130;01m\\x01\u001b[39;00m\u001b[33m(\u001b[39m\u001b[38;5;130;01m\\t\u001b[39;00m\u001b[33mH\u001b[39m\u001b[38;5;130;01m\\x00\u001b[39;00m\u001b[38;5;130;01m\\x12\u001b[39;00m\u001b[38;5;130;01m\\x14\u001b[39;00m\u001b[38;5;130;01m\\n\u001b[39;00m\u001b[38;5;130;01m\\n\u001b[39;00m\u001b[33mbool_value\u001b[39m\u001b[38;5;130;01m\\x18\u001b[39;00m\u001b[38;5;130;01m\\x02\u001b[39;00m\u001b[33m \u001b[39m\u001b[38;5;130;01m\\x01\u001b[39;00m\u001b[33m(\u001b[39m\u001b[38;5;130;01m\\x08\u001b[39;00m\u001b[33mH\u001b[39m\u001b[38;5;130;01m\\x00\u001b[39;00m\u001b[38;5;130;01m\\x12\u001b[39;00m\u001b[38;5;130;01m\\x13\u001b[39;00m\u001b[38;5;130;01m\\n\u001b[39;00m\u001b[38;5;130;01m\\t\u001b[39;00m\u001b[33mint_value\u001b[39m\u001b[38;5;130;01m\\x18\u001b[39;00m\u001b[38;5;130;01m\\x03\u001b[39;00m\u001b[33m \u001b[39m\u001b[38;5;130;01m\\x01\u001b[39;00m\u001b[33m(\u001b[39m\u001b[38;5;130;01m\\x03\u001b[39;00m\u001b[33mH\u001b[39m\u001b[38;5;130;01m\\x00\u001b[39;00m\u001b[38;5;130;01m\\x12\u001b[39;00m\u001b[38;5;130;01m\\x16\u001b[39;00m\u001b[38;5;130;01m\\n\u001b[39;00m\u001b[38;5;130;01m\\x0c\u001b[39;00m\u001b[38;5;130;01m\\x64\u001b[39;00m\u001b[33mouble_value\u001b[39m\u001b[38;5;130;01m\\x18\u001b[39;00m\u001b[38;5;130;01m\\x04\u001b[39;00m\u001b[33m \u001b[39m\u001b[38;5;130;01m\\x01\u001b[39;00m\u001b[33m(\u001b[39m\u001b[38;5;130;01m\\x01\u001b[39;00m\u001b[33mH\u001b[39m\u001b[38;5;130;01m\\x00\u001b[39;00m\u001b[38;5;130;01m\\x12\u001b[39;00m\u001b[33m@\u001b[39m\u001b[38;5;130;01m\\n\u001b[39;00m\u001b[38;5;130;01m\\x0b\u001b[39;00m\u001b[38;5;130;01m\\x61\u001b[39;00m\u001b[33mrray_value\u001b[39m\u001b[38;5;130;01m\\x18\u001b[39;00m\u001b[38;5;130;01m\\x05\u001b[39;00m\u001b[33m \u001b[39m\u001b[38;5;130;01m\\x01\u001b[39;00m\u001b[33m(\u001b[39m\u001b[38;5;130;01m\\x0b\u001b[39;00m\u001b[38;5;130;01m\\x32\u001b[39;00m\u001b[33m).opentelemetry.proto.common.v1.ArrayValueH\u001b[39m\u001b[38;5;130;01m\\x00\u001b[39;00m\u001b[38;5;130;01m\\x12\u001b[39;00m\u001b[38;5;130;01m\\x43\u001b[39;00m\u001b[38;5;130;01m\\n\u001b[39;00m\u001b[38;5;130;01m\\x0c\u001b[39;00m\u001b[33mkvlist_value\u001b[39m\u001b[38;5;130;01m\\x18\u001b[39;00m\u001b[38;5;130;01m\\x06\u001b[39;00m\u001b[33m \u001b[39m\u001b[38;5;130;01m\\x01\u001b[39;00m\u001b[33m(\u001b[39m\u001b[38;5;130;01m\\x0b\u001b[39;00m\u001b[38;5;130;01m\\x32\u001b[39;00m\u001b[33m+.opentelemetry.proto.common.v1.KeyValueListH\u001b[39m\u001b[38;5;130;01m\\x00\u001b[39;00m\u001b[38;5;130;01m\\x12\u001b[39;00m\u001b[38;5;130;01m\\x15\u001b[39;00m\u001b[38;5;130;01m\\n\u001b[39;00m\u001b[38;5;130;01m\\x0b\u001b[39;00m\u001b[38;5;130;01m\\x62\u001b[39;00m\u001b[33mytes_value\u001b[39m\u001b[38;5;130;01m\\x18\u001b[39;00m\u001b[38;5;130;01m\\x07\u001b[39;00m\u001b[33m \u001b[39m\u001b[38;5;130;01m\\x01\u001b[39;00m\u001b[33m(\u001b[39m\u001b[38;5;130;01m\\x0c\u001b[39;00m\u001b[33mH\u001b[39m\u001b[38;5;130;01m\\x00\u001b[39;00m\u001b[38;5;130;01m\\x42\u001b[39;00m\u001b[38;5;130;01m\\x07\u001b[39;00m\u001b[38;5;130;01m\\n\u001b[39;00m\u001b[38;5;130;01m\\x05\u001b[39;00m\u001b[33mvalue\u001b[39m\u001b[38;5;130;01m\\\"\u001b[39;00m\u001b[33mE\u001b[39m\u001b[38;5;130;01m\\n\u001b[39;00m\u001b[38;5;130;01m\\n\u001b[39;00m\u001b[33mArrayValue\u001b[39m\u001b[38;5;130;01m\\x12\u001b[39;00m\u001b[38;5;130;01m\\x37\u001b[39;00m\u001b[38;5;130;01m\\n\u001b[39;00m\u001b[38;5;130;01m\\x06\u001b[39;00m\u001b[33mvalues\u001b[39m\u001b[38;5;130;01m\\x18\u001b[39;00m\u001b[38;5;130;01m\\x01\u001b[39;00m\u001b[33m \u001b[39m\u001b[38;5;130;01m\\x03\u001b[39;00m\u001b[33m(\u001b[39m\u001b[38;5;130;01m\\x0b\u001b[39;00m\u001b[38;5;130;01m\\x32\u001b[39;00m\u001b[38;5;130;01m\\'\u001b[39;00m\u001b[33m.opentelemetry.proto.common.v1.AnyValue\u001b[39m\u001b[38;5;130;01m\\\"\u001b[39;00m\u001b[33mG\u001b[39m\u001b[38;5;130;01m\\n\u001b[39;00m\u001b[38;5;130;01m\\x0c\u001b[39;00m\u001b[33mKeyValueList\u001b[39m\u001b[38;5;130;01m\\x12\u001b[39;00m\u001b[38;5;130;01m\\x37\u001b[39;00m\u001b[38;5;130;01m\\n\u001b[39;00m\u001b[38;5;130;01m\\x06\u001b[39;00m\u001b[33mvalues\u001b[39m\u001b[38;5;130;01m\\x18\u001b[39;00m\u001b[38;5;130;01m\\x01\u001b[39;00m\u001b[33m \u001b[39m\u001b[38;5;130;01m\\x03\u001b[39;00m\u001b[33m(\u001b[39m\u001b[38;5;130;01m\\x0b\u001b[39;00m\u001b[38;5;130;01m\\x32\u001b[39;00m\u001b[38;5;130;01m\\'\u001b[39;00m\u001b[33m.opentelemetry.proto.common.v1.KeyValue\u001b[39m\u001b[38;5;130;01m\\\"\u001b[39;00m\u001b[33mO\u001b[39m\u001b[38;5;130;01m\\n\u001b[39;00m\u001b[38;5;130;01m\\x08\u001b[39;00m\u001b[33mKeyValue\u001b[39m\u001b[38;5;130;01m\\x12\u001b[39;00m\u001b[38;5;130;01m\\x0b\u001b[39;00m\u001b[38;5;130;01m\\n\u001b[39;00m\u001b[38;5;130;01m\\x03\u001b[39;00m\u001b[33mkey\u001b[39m\u001b[38;5;130;01m\\x18\u001b[39;00m\u001b[38;5;130;01m\\x01\u001b[39;00m\u001b[33m \u001b[39m\u001b[38;5;130;01m\\x01\u001b[39;00m\u001b[33m(\u001b[39m\u001b[38;5;130;01m\\t\u001b[39;00m\u001b[38;5;130;01m\\x12\u001b[39;00m\u001b[38;5;130;01m\\x36\u001b[39;00m\u001b[38;5;130;01m\\n\u001b[39;00m\u001b[38;5;130;01m\\x05\u001b[39;00m\u001b[33mvalue\u001b[39m\u001b[38;5;130;01m\\x18\u001b[39;00m\u001b[38;5;130;01m\\x02\u001b[39;00m\u001b[33m \u001b[39m\u001b[38;5;130;01m\\x01\u001b[39;00m\u001b[33m(\u001b[39m\u001b[38;5;130;01m\\x0b\u001b[39;00m\u001b[38;5;130;01m\\x32\u001b[39;00m\u001b[38;5;130;01m\\'\u001b[39;00m\u001b[33m.opentelemetry.proto.common.v1.AnyValue\u001b[39m\u001b[38;5;130;01m\\\"\u001b[39;00m\u001b[33m;\u001b[39m\u001b[38;5;130;01m\\n\u001b[39;00m\u001b[38;5;130;01m\\x16\u001b[39;00m\u001b[33mInstrumentationLibrary\u001b[39m\u001b[38;5;130;01m\\x12\u001b[39;00m\u001b[38;5;130;01m\\x0c\u001b[39;00m\u001b[38;5;130;01m\\n\u001b[39;00m\u001b[38;5;130;01m\\x04\u001b[39;00m\u001b[33mname\u001b[39m\u001b[38;5;130;01m\\x18\u001b[39;00m\u001b[38;5;130;01m\\x01\u001b[39;00m\u001b[33m \u001b[39m\u001b[38;5;130;01m\\x01\u001b[39;00m\u001b[33m(\u001b[39m\u001b[38;5;130;01m\\t\u001b[39;00m\u001b[38;5;130;01m\\x12\u001b[39;00m\u001b[38;5;130;01m\\x0f\u001b[39;00m\u001b[38;5;130;01m\\n\u001b[39;00m\u001b[38;5;130;01m\\x07\u001b[39;00m\u001b[33mversion\u001b[39m\u001b[38;5;130;01m\\x18\u001b[39;00m\u001b[38;5;130;01m\\x02\u001b[39;00m\u001b[33m \u001b[39m\u001b[38;5;130;01m\\x01\u001b[39;00m\u001b[33m(\u001b[39m\u001b[38;5;130;01m\\t\u001b[39;00m\u001b[33m:\u001b[39m\u001b[38;5;130;01m\\x02\u001b[39;00m\u001b[38;5;130;01m\\x18\u001b[39;00m\u001b[38;5;130;01m\\x01\u001b[39;00m\u001b[38;5;130;01m\\\"\u001b[39;00m\u001b[33m5\u001b[39m\u001b[38;5;130;01m\\n\u001b[39;00m\u001b[38;5;130;01m\\x14\u001b[39;00m\u001b[33mInstrumentationScope\u001b[39m\u001b[38;5;130;01m\\x12\u001b[39;00m\u001b[38;5;130;01m\\x0c\u001b[39;00m\u001b[38;5;130;01m\\n\u001b[39;00m\u001b[38;5;130;01m\\x04\u001b[39;00m\u001b[33mname\u001b[39m\u001b[38;5;130;01m\\x18\u001b[39;00m\u001b[38;5;130;01m\\x01\u001b[39;00m\u001b[33m \u001b[39m\u001b[38;5;130;01m\\x01\u001b[39;00m\u001b[33m(\u001b[39m\u001b[38;5;130;01m\\t\u001b[39;00m\u001b[38;5;130;01m\\x12\u001b[39;00m\u001b[38;5;130;01m\\x0f\u001b[39;00m\u001b[38;5;130;01m\\n\u001b[39;00m\u001b[38;5;130;01m\\x07\u001b[39;00m\u001b[33mversion\u001b[39m\u001b[38;5;130;01m\\x18\u001b[39;00m\u001b[38;5;130;01m\\x02\u001b[39;00m\u001b[33m \u001b[39m\u001b[38;5;130;01m\\x01\u001b[39;00m\u001b[33m(\u001b[39m\u001b[38;5;130;01m\\t\u001b[39;00m\u001b[33mB[\u001b[39m\u001b[38;5;130;01m\\n\u001b[39;00m\u001b[33m io.opentelemetry.proto.common.v1B\u001b[39m\u001b[38;5;130;01m\\x0b\u001b[39;00m\u001b[38;5;130;01m\\x43\u001b[39;00m\u001b[33mommonProtoP\u001b[39m\u001b[38;5;130;01m\\x01\u001b[39;00m\u001b[33mZ(go.opentelemetry.io/proto/otlp/common/v1b\u001b[39m\u001b[38;5;130;01m\\x06\u001b[39;00m\u001b[33mproto3\u001b[39m\u001b[33m'\u001b[39m\n\u001b[32m     23\u001b[39m )\n\u001b[32m     28\u001b[39m _ANYVALUE = _descriptor.Descriptor(\n\u001b[32m     29\u001b[39m   name=\u001b[33m'\u001b[39m\u001b[33mAnyValue\u001b[39m\u001b[33m'\u001b[39m,\n\u001b[32m     30\u001b[39m   full_name=\u001b[33m'\u001b[39m\u001b[33mopentelemetry.proto.common.v1.AnyValue\u001b[39m\u001b[33m'\u001b[39m,\n\u001b[32m     31\u001b[39m   filename=\u001b[38;5;28;01mNone\u001b[39;00m,\n\u001b[32m     32\u001b[39m   file=DESCRIPTOR,\n\u001b[32m     33\u001b[39m   containing_type=\u001b[38;5;28;01mNone\u001b[39;00m,\n\u001b[32m     34\u001b[39m   create_key=_descriptor._internal_create_key,\n\u001b[32m     35\u001b[39m   fields=[\n\u001b[32m---> \u001b[39m\u001b[32m36\u001b[39m     \u001b[43m_descriptor\u001b[49m\u001b[43m.\u001b[49m\u001b[43mFieldDescriptor\u001b[49m\u001b[43m(\u001b[49m\n\u001b[32m     37\u001b[39m \u001b[43m      \u001b[49m\u001b[43mname\u001b[49m\u001b[43m=\u001b[49m\u001b[33;43m'\u001b[39;49m\u001b[33;43mstring_value\u001b[39;49m\u001b[33;43m'\u001b[39;49m\u001b[43m,\u001b[49m\u001b[43m \u001b[49m\u001b[43mfull_name\u001b[49m\u001b[43m=\u001b[49m\u001b[33;43m'\u001b[39;49m\u001b[33;43mopentelemetry.proto.common.v1.AnyValue.string_value\u001b[39;49m\u001b[33;43m'\u001b[39;49m\u001b[43m,\u001b[49m\u001b[43m \u001b[49m\u001b[43mindex\u001b[49m\u001b[43m=\u001b[49m\u001b[32;43m0\u001b[39;49m\u001b[43m,\u001b[49m\n\u001b[32m     38\u001b[39m \u001b[43m      \u001b[49m\u001b[43mnumber\u001b[49m\u001b[43m=\u001b[49m\u001b[32;43m1\u001b[39;49m\u001b[43m,\u001b[49m\u001b[43m \u001b[49m\u001b[38;5;28;43mtype\u001b[39;49m\u001b[43m=\u001b[49m\u001b[32;43m9\u001b[39;49m\u001b[43m,\u001b[49m\u001b[43m \u001b[49m\u001b[43mcpp_type\u001b[49m\u001b[43m=\u001b[49m\u001b[32;43m9\u001b[39;49m\u001b[43m,\u001b[49m\u001b[43m \u001b[49m\u001b[43mlabel\u001b[49m\u001b[43m=\u001b[49m\u001b[32;43m1\u001b[39;49m\u001b[43m,\u001b[49m\n\u001b[32m     39\u001b[39m \u001b[43m      \u001b[49m\u001b[43mhas_default_value\u001b[49m\u001b[43m=\u001b[49m\u001b[38;5;28;43;01mFalse\u001b[39;49;00m\u001b[43m,\u001b[49m\u001b[43m \u001b[49m\u001b[43mdefault_value\u001b[49m\u001b[43m=\u001b[49m\u001b[33;43mb\u001b[39;49m\u001b[33;43m\"\u001b[39;49m\u001b[33;43m\"\u001b[39;49m\u001b[43m.\u001b[49m\u001b[43mdecode\u001b[49m\u001b[43m(\u001b[49m\u001b[33;43m'\u001b[39;49m\u001b[33;43mutf-8\u001b[39;49m\u001b[33;43m'\u001b[39;49m\u001b[43m)\u001b[49m\u001b[43m,\u001b[49m\n\u001b[32m     40\u001b[39m \u001b[43m      \u001b[49m\u001b[43mmessage_type\u001b[49m\u001b[43m=\u001b[49m\u001b[38;5;28;43;01mNone\u001b[39;49;00m\u001b[43m,\u001b[49m\u001b[43m \u001b[49m\u001b[43menum_type\u001b[49m\u001b[43m=\u001b[49m\u001b[38;5;28;43;01mNone\u001b[39;49;00m\u001b[43m,\u001b[49m\u001b[43m \u001b[49m\u001b[43mcontaining_type\u001b[49m\u001b[43m=\u001b[49m\u001b[38;5;28;43;01mNone\u001b[39;49;00m\u001b[43m,\u001b[49m\n\u001b[32m     41\u001b[39m \u001b[43m      \u001b[49m\u001b[43mis_extension\u001b[49m\u001b[43m=\u001b[49m\u001b[38;5;28;43;01mFalse\u001b[39;49;00m\u001b[43m,\u001b[49m\u001b[43m \u001b[49m\u001b[43mextension_scope\u001b[49m\u001b[43m=\u001b[49m\u001b[38;5;28;43;01mNone\u001b[39;49;00m\u001b[43m,\u001b[49m\n\u001b[32m     42\u001b[39m \u001b[43m      \u001b[49m\u001b[43mserialized_options\u001b[49m\u001b[43m=\u001b[49m\u001b[38;5;28;43;01mNone\u001b[39;49;00m\u001b[43m,\u001b[49m\u001b[43m \u001b[49m\u001b[43mfile\u001b[49m\u001b[43m=\u001b[49m\u001b[43mDESCRIPTOR\u001b[49m\u001b[43m,\u001b[49m\u001b[43m  \u001b[49m\u001b[43mcreate_key\u001b[49m\u001b[43m=\u001b[49m\u001b[43m_descriptor\u001b[49m\u001b[43m.\u001b[49m\u001b[43m_internal_create_key\u001b[49m\u001b[43m)\u001b[49m,\n\u001b[32m     43\u001b[39m     _descriptor.FieldDescriptor(\n\u001b[32m     44\u001b[39m       name=\u001b[33m'\u001b[39m\u001b[33mbool_value\u001b[39m\u001b[33m'\u001b[39m, full_name=\u001b[33m'\u001b[39m\u001b[33mopentelemetry.proto.common.v1.AnyValue.bool_value\u001b[39m\u001b[33m'\u001b[39m, index=\u001b[32m1\u001b[39m,\n\u001b[32m     45\u001b[39m       number=\u001b[32m2\u001b[39m, \u001b[38;5;28mtype\u001b[39m=\u001b[32m8\u001b[39m, cpp_type=\u001b[32m7\u001b[39m, label=\u001b[32m1\u001b[39m,\n\u001b[32m     46\u001b[39m       has_default_value=\u001b[38;5;28;01mFalse\u001b[39;00m, default_value=\u001b[38;5;28;01mFalse\u001b[39;00m,\n\u001b[32m     47\u001b[39m       message_type=\u001b[38;5;28;01mNone\u001b[39;00m, enum_type=\u001b[38;5;28;01mNone\u001b[39;00m, containing_type=\u001b[38;5;28;01mNone\u001b[39;00m,\n\u001b[32m     48\u001b[39m       is_extension=\u001b[38;5;28;01mFalse\u001b[39;00m, extension_scope=\u001b[38;5;28;01mNone\u001b[39;00m,\n\u001b[32m     49\u001b[39m       serialized_options=\u001b[38;5;28;01mNone\u001b[39;00m, file=DESCRIPTOR,  create_key=_descriptor._internal_create_key),\n\u001b[32m     50\u001b[39m     _descriptor.FieldDescriptor(\n\u001b[32m     51\u001b[39m       name=\u001b[33m'\u001b[39m\u001b[33mint_value\u001b[39m\u001b[33m'\u001b[39m, full_name=\u001b[33m'\u001b[39m\u001b[33mopentelemetry.proto.common.v1.AnyValue.int_value\u001b[39m\u001b[33m'\u001b[39m, index=\u001b[32m2\u001b[39m,\n\u001b[32m     52\u001b[39m       number=\u001b[32m3\u001b[39m, \u001b[38;5;28mtype\u001b[39m=\u001b[32m3\u001b[39m, cpp_type=\u001b[32m2\u001b[39m, label=\u001b[32m1\u001b[39m,\n\u001b[32m     53\u001b[39m       has_default_value=\u001b[38;5;28;01mFalse\u001b[39;00m, default_value=\u001b[32m0\u001b[39m,\n\u001b[32m     54\u001b[39m       message_type=\u001b[38;5;28;01mNone\u001b[39;00m, enum_type=\u001b[38;5;28;01mNone\u001b[39;00m, containing_type=\u001b[38;5;28;01mNone\u001b[39;00m,\n\u001b[32m     55\u001b[39m       is_extension=\u001b[38;5;28;01mFalse\u001b[39;00m, extension_scope=\u001b[38;5;28;01mNone\u001b[39;00m,\n\u001b[32m     56\u001b[39m       serialized_options=\u001b[38;5;28;01mNone\u001b[39;00m, file=DESCRIPTOR,  create_key=_descriptor._internal_create_key),\n\u001b[32m     57\u001b[39m     _descriptor.FieldDescriptor(\n\u001b[32m     58\u001b[39m       name=\u001b[33m'\u001b[39m\u001b[33mdouble_value\u001b[39m\u001b[33m'\u001b[39m, full_name=\u001b[33m'\u001b[39m\u001b[33mopentelemetry.proto.common.v1.AnyValue.double_value\u001b[39m\u001b[33m'\u001b[39m, index=\u001b[32m3\u001b[39m,\n\u001b[32m     59\u001b[39m       number=\u001b[32m4\u001b[39m, \u001b[38;5;28mtype\u001b[39m=\u001b[32m1\u001b[39m, cpp_type=\u001b[32m5\u001b[39m, label=\u001b[32m1\u001b[39m,\n\u001b[32m     60\u001b[39m       has_default_value=\u001b[38;5;28;01mFalse\u001b[39;00m, default_value=\u001b[38;5;28mfloat\u001b[39m(\u001b[32m0\u001b[39m),\n\u001b[32m     61\u001b[39m       message_type=\u001b[38;5;28;01mNone\u001b[39;00m, enum_type=\u001b[38;5;28;01mNone\u001b[39;00m, containing_type=\u001b[38;5;28;01mNone\u001b[39;00m,\n\u001b[32m     62\u001b[39m       is_extension=\u001b[38;5;28;01mFalse\u001b[39;00m, extension_scope=\u001b[38;5;28;01mNone\u001b[39;00m,\n\u001b[32m     63\u001b[39m       serialized_options=\u001b[38;5;28;01mNone\u001b[39;00m, file=DESCRIPTOR,  create_key=_descriptor._internal_create_key),\n\u001b[32m     64\u001b[39m     _descriptor.FieldDescriptor(\n\u001b[32m     65\u001b[39m       name=\u001b[33m'\u001b[39m\u001b[33marray_value\u001b[39m\u001b[33m'\u001b[39m, full_name=\u001b[33m'\u001b[39m\u001b[33mopentelemetry.proto.common.v1.AnyValue.array_value\u001b[39m\u001b[33m'\u001b[39m, index=\u001b[32m4\u001b[39m,\n\u001b[32m     66\u001b[39m       number=\u001b[32m5\u001b[39m, \u001b[38;5;28mtype\u001b[39m=\u001b[32m11\u001b[39m, cpp_type=\u001b[32m10\u001b[39m, label=\u001b[32m1\u001b[39m,\n\u001b[32m     67\u001b[39m       has_default_value=\u001b[38;5;28;01mFalse\u001b[39;00m, default_value=\u001b[38;5;28;01mNone\u001b[39;00m,\n\u001b[32m     68\u001b[39m       message_type=\u001b[38;5;28;01mNone\u001b[39;00m, enum_type=\u001b[38;5;28;01mNone\u001b[39;00m, containing_type=\u001b[38;5;28;01mNone\u001b[39;00m,\n\u001b[32m     69\u001b[39m       is_extension=\u001b[38;5;28;01mFalse\u001b[39;00m, extension_scope=\u001b[38;5;28;01mNone\u001b[39;00m,\n\u001b[32m     70\u001b[39m       serialized_options=\u001b[38;5;28;01mNone\u001b[39;00m, file=DESCRIPTOR,  create_key=_descriptor._internal_create_key),\n\u001b[32m     71\u001b[39m     _descriptor.FieldDescriptor(\n\u001b[32m     72\u001b[39m       name=\u001b[33m'\u001b[39m\u001b[33mkvlist_value\u001b[39m\u001b[33m'\u001b[39m, full_name=\u001b[33m'\u001b[39m\u001b[33mopentelemetry.proto.common.v1.AnyValue.kvlist_value\u001b[39m\u001b[33m'\u001b[39m, index=\u001b[32m5\u001b[39m,\n\u001b[32m     73\u001b[39m       number=\u001b[32m6\u001b[39m, \u001b[38;5;28mtype\u001b[39m=\u001b[32m11\u001b[39m, cpp_type=\u001b[32m10\u001b[39m, label=\u001b[32m1\u001b[39m,\n\u001b[32m     74\u001b[39m       has_default_value=\u001b[38;5;28;01mFalse\u001b[39;00m, default_value=\u001b[38;5;28;01mNone\u001b[39;00m,\n\u001b[32m     75\u001b[39m       message_type=\u001b[38;5;28;01mNone\u001b[39;00m, enum_type=\u001b[38;5;28;01mNone\u001b[39;00m, containing_type=\u001b[38;5;28;01mNone\u001b[39;00m,\n\u001b[32m     76\u001b[39m       is_extension=\u001b[38;5;28;01mFalse\u001b[39;00m, extension_scope=\u001b[38;5;28;01mNone\u001b[39;00m,\n\u001b[32m     77\u001b[39m       serialized_options=\u001b[38;5;28;01mNone\u001b[39;00m, file=DESCRIPTOR,  create_key=_descriptor._internal_create_key),\n\u001b[32m     78\u001b[39m     _descriptor.FieldDescriptor(\n\u001b[32m     79\u001b[39m       name=\u001b[33m'\u001b[39m\u001b[33mbytes_value\u001b[39m\u001b[33m'\u001b[39m, full_name=\u001b[33m'\u001b[39m\u001b[33mopentelemetry.proto.common.v1.AnyValue.bytes_value\u001b[39m\u001b[33m'\u001b[39m, index=\u001b[32m6\u001b[39m,\n\u001b[32m     80\u001b[39m       number=\u001b[32m7\u001b[39m, \u001b[38;5;28mtype\u001b[39m=\u001b[32m12\u001b[39m, cpp_type=\u001b[32m9\u001b[39m, label=\u001b[32m1\u001b[39m,\n\u001b[32m     81\u001b[39m       has_default_value=\u001b[38;5;28;01mFalse\u001b[39;00m, default_value=\u001b[33mb\u001b[39m\u001b[33m\"\u001b[39m\u001b[33m\"\u001b[39m,\n\u001b[32m     82\u001b[39m       message_type=\u001b[38;5;28;01mNone\u001b[39;00m, enum_type=\u001b[38;5;28;01mNone\u001b[39;00m, containing_type=\u001b[38;5;28;01mNone\u001b[39;00m,\n\u001b[32m     83\u001b[39m       is_extension=\u001b[38;5;28;01mFalse\u001b[39;00m, extension_scope=\u001b[38;5;28;01mNone\u001b[39;00m,\n\u001b[32m     84\u001b[39m       serialized_options=\u001b[38;5;28;01mNone\u001b[39;00m, file=DESCRIPTOR,  create_key=_descriptor._internal_create_key),\n\u001b[32m     85\u001b[39m   ],\n\u001b[32m     86\u001b[39m   extensions=[\n\u001b[32m     87\u001b[39m   ],\n\u001b[32m     88\u001b[39m   nested_types=[],\n\u001b[32m     89\u001b[39m   enum_types=[\n\u001b[32m     90\u001b[39m   ],\n\u001b[32m     91\u001b[39m   serialized_options=\u001b[38;5;28;01mNone\u001b[39;00m,\n\u001b[32m     92\u001b[39m   is_extendable=\u001b[38;5;28;01mFalse\u001b[39;00m,\n\u001b[32m     93\u001b[39m   syntax=\u001b[33m'\u001b[39m\u001b[33mproto3\u001b[39m\u001b[33m'\u001b[39m,\n\u001b[32m     94\u001b[39m   extension_ranges=[],\n\u001b[32m     95\u001b[39m   oneofs=[\n\u001b[32m     96\u001b[39m     _descriptor.OneofDescriptor(\n\u001b[32m     97\u001b[39m       name=\u001b[33m'\u001b[39m\u001b[33mvalue\u001b[39m\u001b[33m'\u001b[39m, full_name=\u001b[33m'\u001b[39m\u001b[33mopentelemetry.proto.common.v1.AnyValue.value\u001b[39m\u001b[33m'\u001b[39m,\n\u001b[32m     98\u001b[39m       index=\u001b[32m0\u001b[39m, containing_type=\u001b[38;5;28;01mNone\u001b[39;00m,\n\u001b[32m     99\u001b[39m       create_key=_descriptor._internal_create_key,\n\u001b[32m    100\u001b[39m     fields=[]),\n\u001b[32m    101\u001b[39m   ],\n\u001b[32m    102\u001b[39m   serialized_start=\u001b[32m78\u001b[39m,\n\u001b[32m    103\u001b[39m   serialized_end=\u001b[32m346\u001b[39m,\n\u001b[32m    104\u001b[39m )\n\u001b[32m    107\u001b[39m _ARRAYVALUE = _descriptor.Descriptor(\n\u001b[32m    108\u001b[39m   name=\u001b[33m'\u001b[39m\u001b[33mArrayValue\u001b[39m\u001b[33m'\u001b[39m,\n\u001b[32m    109\u001b[39m   full_name=\u001b[33m'\u001b[39m\u001b[33mopentelemetry.proto.common.v1.ArrayValue\u001b[39m\u001b[33m'\u001b[39m,\n\u001b[32m   (...)\u001b[39m\u001b[32m    135\u001b[39m   serialized_end=\u001b[32m417\u001b[39m,\n\u001b[32m    136\u001b[39m )\n\u001b[32m    139\u001b[39m _KEYVALUELIST = _descriptor.Descriptor(\n\u001b[32m    140\u001b[39m   name=\u001b[33m'\u001b[39m\u001b[33mKeyValueList\u001b[39m\u001b[33m'\u001b[39m,\n\u001b[32m    141\u001b[39m   full_name=\u001b[33m'\u001b[39m\u001b[33mopentelemetry.proto.common.v1.KeyValueList\u001b[39m\u001b[33m'\u001b[39m,\n\u001b[32m   (...)\u001b[39m\u001b[32m    167\u001b[39m   serialized_end=\u001b[32m490\u001b[39m,\n\u001b[32m    168\u001b[39m )\n",
            "\u001b[36mFile \u001b[39m\u001b[32mc:\\Users\\saina\\.conda\\envs\\agentic_2_base\\Lib\\site-packages\\google\\protobuf\\descriptor.py:621\u001b[39m, in \u001b[36mFieldDescriptor.__new__\u001b[39m\u001b[34m(cls, name, full_name, index, number, type, cpp_type, label, default_value, message_type, enum_type, containing_type, is_extension, extension_scope, options, serialized_options, has_default_value, containing_oneof, json_name, file, create_key)\u001b[39m\n\u001b[32m    615\u001b[39m \u001b[38;5;28;01mdef\u001b[39;00m\u001b[38;5;250m \u001b[39m\u001b[34m__new__\u001b[39m(\u001b[38;5;28mcls\u001b[39m, name, full_name, index, number, \u001b[38;5;28mtype\u001b[39m, cpp_type, label,\n\u001b[32m    616\u001b[39m             default_value, message_type, enum_type, containing_type,\n\u001b[32m    617\u001b[39m             is_extension, extension_scope, options=\u001b[38;5;28;01mNone\u001b[39;00m,\n\u001b[32m    618\u001b[39m             serialized_options=\u001b[38;5;28;01mNone\u001b[39;00m,\n\u001b[32m    619\u001b[39m             has_default_value=\u001b[38;5;28;01mTrue\u001b[39;00m, containing_oneof=\u001b[38;5;28;01mNone\u001b[39;00m, json_name=\u001b[38;5;28;01mNone\u001b[39;00m,\n\u001b[32m    620\u001b[39m             file=\u001b[38;5;28;01mNone\u001b[39;00m, create_key=\u001b[38;5;28;01mNone\u001b[39;00m):  \u001b[38;5;66;03m# pylint: disable=redefined-builtin\u001b[39;00m\n\u001b[32m--> \u001b[39m\u001b[32m621\u001b[39m   \u001b[43m_message\u001b[49m\u001b[43m.\u001b[49m\u001b[43mMessage\u001b[49m\u001b[43m.\u001b[49m\u001b[43m_CheckCalledFromGeneratedFile\u001b[49m\u001b[43m(\u001b[49m\u001b[43m)\u001b[49m\n\u001b[32m    622\u001b[39m   \u001b[38;5;28;01mif\u001b[39;00m is_extension:\n\u001b[32m    623\u001b[39m     \u001b[38;5;28;01mreturn\u001b[39;00m _message.default_pool.FindExtensionByName(full_name)\n",
            "\u001b[31mTypeError\u001b[39m: Descriptors cannot be created directly.\nIf this call came from a _pb2.py file, your generated code is out of date and must be regenerated with protoc >= 3.19.0.\nIf you cannot immediately regenerate your protos, some other possible workarounds are:\n 1. Downgrade the protobuf package to 3.20.x or lower.\n 2. Set PROTOCOL_BUFFERS_PYTHON_IMPLEMENTATION=python (but this will use pure-Python parsing and will be much slower).\n\nMore information: https://developers.google.com/protocol-buffers/docs/news/2022-05-06#python-updates"
          ]
        }
      ],
      "source": [
        "db=Chroma.from_documents(new_docs,embeddings)"
      ]
    },
    {
      "cell_type": "code",
      "execution_count": null,
      "id": "7e40cb7a",
      "metadata": {
        "id": "7e40cb7a"
      },
      "outputs": [],
      "source": []
    },
    {
      "cell_type": "markdown",
      "id": "818da502",
      "metadata": {
        "id": "818da502"
      },
      "source": [
        "## Langgraph Agent"
      ]
    },
    {
      "cell_type": "markdown",
      "id": "dc7104c0",
      "metadata": {
        "id": "dc7104c0"
      },
      "source": [
        "### Config the model"
      ]
    },
    {
      "cell_type": "code",
      "execution_count": null,
      "id": "a5444e4f",
      "metadata": {
        "id": "a5444e4f",
        "outputId": "d6ee19e0-0943-4265-8837-30598b6a8b28"
      },
      "outputs": [
        {
          "name": "stdout",
          "output_type": "stream",
          "text": [
            "Hi there! How can I help you today?\n"
          ]
        }
      ],
      "source": [
        "from langchain_google_genai import ChatGoogleGenerativeAI\n",
        "model=ChatGoogleGenerativeAI(model='gemini-1.5-flash')\n",
        "output=model.invoke(\"hi\")\n",
        "print(output.content)"
      ]
    },
    {
      "cell_type": "markdown",
      "id": "b647d2e0",
      "metadata": {
        "id": "b647d2e0"
      },
      "source": [
        "### Config the embedding model"
      ]
    },
    {
      "cell_type": "code",
      "execution_count": null,
      "id": "ab66123a",
      "metadata": {
        "id": "ab66123a",
        "outputId": "28fcd021-0233-4a85-ba96-0e9adfcf5de6"
      },
      "outputs": [
        {
          "name": "stderr",
          "output_type": "stream",
          "text": [
            "c:\\Users\\saina\\.conda\\envs\\agentic_2_base\\Lib\\site-packages\\tqdm\\auto.py:21: TqdmWarning: IProgress not found. Please update jupyter and ipywidgets. See https://ipywidgets.readthedocs.io/en/stable/user_install.html\n",
            "  from .autonotebook import tqdm as notebook_tqdm\n",
            "c:\\Users\\saina\\.conda\\envs\\agentic_2_base\\Lib\\site-packages\\huggingface_hub\\file_download.py:143: UserWarning: `huggingface_hub` cache-system uses symlinks by default to efficiently store duplicated files but your machine does not support them in C:\\Users\\saina\\.cache\\huggingface\\hub\\models--BAAI--bge-small-en. Caching files will still work but in a degraded version that might require more space on your disk. This warning can be disabled by setting the `HF_HUB_DISABLE_SYMLINKS_WARNING` environment variable. For more details, see https://huggingface.co/docs/huggingface_hub/how-to-cache#limitations.\n",
            "To support symlinks on Windows, you either need to activate Developer Mode or to run Python as an administrator. In order to activate developer mode, see this article: https://docs.microsoft.com/en-us/windows/apps/get-started/enable-your-device-for-development\n",
            "  warnings.warn(message)\n",
            "Xet Storage is enabled for this repo, but the 'hf_xet' package is not installed. Falling back to regular HTTP download. For better performance, install the package with: `pip install huggingface_hub[hf_xet]` or `pip install hf_xet`\n"
          ]
        },
        {
          "data": {
            "text/plain": [
              "384"
            ]
          },
          "metadata": {},
          "output_type": "display_data"
        }
      ],
      "source": [
        "from langchain_huggingface import HuggingFaceEmbeddings\n",
        "embeddings = HuggingFaceEmbeddings(model_name=\"BAAI/bge-small-en\")\n",
        "len(embeddings.embed_query(\"hi\"))"
      ]
    },
    {
      "cell_type": "markdown",
      "id": "88ba396b",
      "metadata": {
        "id": "88ba396b"
      },
      "source": [
        "### Creating the agent"
      ]
    },
    {
      "cell_type": "code",
      "execution_count": null,
      "id": "f35373b8",
      "metadata": {
        "id": "f35373b8"
      },
      "outputs": [],
      "source": [
        "import operator\n",
        "from typing import List\n",
        "from pydantic import BaseModel , Field\n",
        "from langchain.prompts import PromptTemplate\n",
        "from typing import TypedDict, Annotated, Sequence\n",
        "from langchain_core.messages import BaseMessage\n",
        "from langchain_core.output_parsers import StrOutputParser\n",
        "from langchain_core.prompts import ChatPromptTemplate, PromptTemplate\n",
        "from langchain_core.runnables import RunnablePassthrough\n",
        "from langchain_core.messages import HumanMessage, AIMessage\n",
        "from langgraph.graph import StateGraph,END, START\n",
        "from langchain.output_parsers import PydanticOutputParser\n",
        "from langchain.document_loaders import PyPDFLoader\n",
        "from langchain.text_splitter import RecursiveCharacterTextSplitter\n",
        "from langchain.embeddings import HuggingFaceEmbeddings\n",
        "from langchain.vectorstores import FAISS\n"
      ]
    },
    {
      "cell_type": "code",
      "execution_count": null,
      "id": "48683055",
      "metadata": {
        "id": "48683055"
      },
      "outputs": [],
      "source": [
        "class TopicSelectionParser(BaseModel):\n",
        "    Topic:str=Field(description=\"selected topic\")\n",
        "    Reasoning:str=Field(description='Reasoning behind topic selection')"
      ]
    },
    {
      "cell_type": "code",
      "execution_count": null,
      "id": "4bc84af3",
      "metadata": {
        "id": "4bc84af3",
        "outputId": "89151ca1-f138-4023-b438-af8bf73d3f70"
      },
      "outputs": [
        {
          "data": {
            "text/plain": [
              "'The output should be formatted as a JSON instance that conforms to the JSON schema below.\\n\\nAs an example, for the schema {\"properties\": {\"foo\": {\"title\": \"Foo\", \"description\": \"a list of strings\", \"type\": \"array\", \"items\": {\"type\": \"string\"}}}, \"required\": [\"foo\"]}\\nthe object {\"foo\": [\"bar\", \"baz\"]} is a well-formatted instance of the schema. The object {\"properties\": {\"foo\": [\"bar\", \"baz\"]}} is not well-formatted.\\n\\nHere is the output schema:\\n```\\n{\"properties\": {\"Topic\": {\"description\": \"selected topic\", \"title\": \"Topic\", \"type\": \"string\"}, \"Reasoning\": {\"description\": \"Reasoning behind topic selection\", \"title\": \"Reasoning\", \"type\": \"string\"}}, \"required\": [\"Topic\", \"Reasoning\"]}\\n```'"
            ]
          },
          "metadata": {},
          "output_type": "display_data"
        }
      ],
      "source": [
        "parser=PydanticOutputParser(pydantic_object=TopicSelectionParser)\n",
        "parser.get_format_instructions()"
      ]
    },
    {
      "cell_type": "code",
      "execution_count": null,
      "id": "2776cbfa",
      "metadata": {
        "id": "2776cbfa"
      },
      "outputs": [],
      "source": [
        "class AgentState(TypedDict):\n",
        "    messages: Annotated[Sequence[BaseMessage], operator.add]"
      ]
    },
    {
      "cell_type": "code",
      "execution_count": null,
      "id": "6c7b56a8",
      "metadata": {
        "id": "6c7b56a8"
      },
      "outputs": [],
      "source": [
        "def function_1(state:AgentState):\n",
        "\n",
        "    question=state[\"messages\"][-1]\n",
        "\n",
        "    print(\"Question\",question)\n",
        "\n",
        "    template=\"\"\"\n",
        "    Your task is to classify the given user query into one of the following related categories: [Constitution,LLM, Latest]. If question is about\n",
        "    Indian constitution then Constitution, if question is generic then LLM and if question is about some recent thing which you don't know then Latest.\n",
        "    Only respond with the category name and nothing else.\n",
        "\n",
        "    User query: {question}\n",
        "    {format_instructions}\n",
        "    \"\"\"\n",
        "\n",
        "    prompt= PromptTemplate(\n",
        "        template=template,\n",
        "        input_variable=[\"question\"],\n",
        "        partial_variables={\"format_instructions\": parser.get_format_instructions()}\n",
        "    )\n",
        "\n",
        "\n",
        "    chain= prompt | model | parser\n",
        "\n",
        "\n",
        "    response = chain.invoke({\"question\":question})\n",
        "\n",
        "    print(\"Parsed response:\", response)\n",
        "\n",
        "    return {\"messages\": [response.Topic]}"
      ]
    },
    {
      "cell_type": "code",
      "execution_count": null,
      "id": "14436bdf",
      "metadata": {
        "id": "14436bdf"
      },
      "outputs": [],
      "source": [
        "def router(state:AgentState):\n",
        "    print(\"-> ROUTER ->\")\n",
        "\n",
        "    last_message=state[\"messages\"][-1]\n",
        "    print(\"last_message:\", last_message)\n",
        "\n",
        "    if \"constitution\" in last_message.lower():\n",
        "        return \"RAG Call\"\n",
        "    elif \"latest\" in last_message.lower():\n",
        "        return \"WEB Call\"\n",
        "    else:\n",
        "        return \"LLM Call\""
      ]
    },
    {
      "cell_type": "code",
      "execution_count": null,
      "id": "669f58e1",
      "metadata": {
        "id": "669f58e1"
      },
      "outputs": [],
      "source": [
        "def format_docs(docs):\n",
        "    return \"\\n\\n\".join(doc.page_content for doc in docs)"
      ]
    },
    {
      "cell_type": "code",
      "execution_count": null,
      "id": "7ba60dd6",
      "metadata": {
        "id": "7ba60dd6",
        "outputId": "837f6ef2-6b5b-44db-e4a3-853ba75a8f9e"
      },
      "outputs": [
        {
          "name": "stderr",
          "output_type": "stream",
          "text": [
            "C:\\Users\\saina\\AppData\\Local\\Temp\\ipykernel_1676\\3562440359.py:15: LangChainDeprecationWarning: The class `HuggingFaceEmbeddings` was deprecated in LangChain 0.2.2 and will be removed in 1.0. An updated version of the class exists in the :class:`~langchain-huggingface package and should be used instead. To use it run `pip install -U :class:`~langchain-huggingface` and import as `from :class:`~langchain_huggingface import HuggingFaceEmbeddings``.\n",
            "  embedding_model = HuggingFaceEmbeddings(model_name=\"all-MiniLM-L6-v2\")\n"
          ]
        }
      ],
      "source": [
        "# Load a PDF and validate the page count\n",
        "file_path = r\"C:\\Users\\saina\\Desktop\\DS_ML_AI\\Krish_Naik_Courses\\Krish_naik_1_Agentic_AI_and_Gen_AI\\Practice\\agentic_ai_2\\data\\2023050195.pdf\"\n",
        "loader = PyPDFLoader(file_path)\n",
        "pages = loader.load()\n",
        "\n",
        "if len(pages) < 200:\n",
        "    raise ValueError(\"The PDF must have at least 200 pages.\")\n",
        "\n",
        "#Using semantic chunking with recursive text splitter\n",
        "text_splitter = RecursiveCharacterTextSplitter(chunk_size=500, chunk_overlap=100)\n",
        "chunks = text_splitter.split_documents(pages)\n",
        "\n",
        "\n",
        "# Hugging Face embedding\n",
        "embedding_model = HuggingFaceEmbeddings(model_name=\"all-MiniLM-L6-v2\")\n",
        "\n",
        "faiss_flat = FAISS.from_documents(chunks, embedding_model)\n",
        "retriever_flat = faiss_flat.as_retriever()"
      ]
    },
    {
      "cell_type": "code",
      "execution_count": null,
      "id": "e367c54b",
      "metadata": {
        "id": "e367c54b"
      },
      "outputs": [],
      "source": [
        "# RAG Function\n",
        "def function_2(state:AgentState):\n",
        "    print(\"-> RAG Call ->\")\n",
        "\n",
        "    question = state[\"messages\"][0]\n",
        "\n",
        "    prompt=PromptTemplate(\n",
        "        template=\"\"\"You are an assistant for question-answering tasks. Use the following pieces of retrieved context to answer the question. If you don't know the answer, just say that you don't know. Use three sentences maximum and keep the answer concise.\\nQuestion: {question} \\nContext: {context} \\nAnswer:\"\"\",\n",
        "\n",
        "        input_variables=['context', 'question']\n",
        "    )\n",
        "\n",
        "    rag_chain = (\n",
        "        {\"context\": retriever_flat | format_docs, \"question\": RunnablePassthrough()}\n",
        "        | prompt\n",
        "        | model\n",
        "        | StrOutputParser()\n",
        "    )\n",
        "    result = rag_chain.invoke(question)\n",
        "    return  {\"messages\": [result]}"
      ]
    },
    {
      "cell_type": "code",
      "execution_count": null,
      "id": "4445aba2",
      "metadata": {
        "id": "4445aba2"
      },
      "outputs": [],
      "source": [
        "# LLM Function\n",
        "def function_3(state:AgentState):\n",
        "    print(\"-> LLM Call ->\")\n",
        "    question = state[\"messages\"][0]\n",
        "\n",
        "    # Normal LLM call\n",
        "    complete_query = \"Answer the follow question with you knowledge of the real world. Following is the user question: \" + question\n",
        "    response = model.invoke(complete_query)\n",
        "    return {\"messages\": [response.content]}"
      ]
    },
    {
      "cell_type": "code",
      "execution_count": null,
      "id": "58ade2a6",
      "metadata": {
        "id": "58ade2a6"
      },
      "outputs": [],
      "source": [
        "from langchain_community.tools import DuckDuckGoSearchRun\n",
        "def search_fun(state:AgentState):\n",
        "    search=DuckDuckGoSearchRun()\n",
        "    result = search.invoke({\"query\":state[\"messages\"][0]})\n",
        "    return {\"messages\": [result]}\n"
      ]
    },
    {
      "cell_type": "code",
      "execution_count": null,
      "id": "77310b33",
      "metadata": {
        "id": "77310b33"
      },
      "outputs": [],
      "source": [
        "def function_4(state:AgentState):\n",
        "\n",
        "    question = state[\"messages\"][0]\n",
        "    answer=state[\"messages\"][-1]\n",
        "\n",
        "    print(\"answer\",answer)\n",
        "\n",
        "    template=\"\"\"\n",
        "    Your task is to check if the response is related to the user question.\n",
        "    Only respond with yes or no and nothing else.\n",
        "\n",
        "    User query: {question}\n",
        "    response: {answer}\n",
        "    {format_instructions}\n",
        "    \"\"\"\n",
        "\n",
        "    prompt= PromptTemplate(\n",
        "        template=template,\n",
        "        input_variable=[\"question\",\"answer\"],\n",
        "        partial_variables={\"format_instructions\": parser.get_format_instructions()}\n",
        "    )\n",
        "\n",
        "\n",
        "    chain= prompt | model | parser\n",
        "\n",
        "    response = chain.invoke({\"question\":question,\"answer\":answer})\n",
        "\n",
        "    print(\"Parsed response:\", response)\n",
        "\n",
        "    return {\"messages\": [response.Topic]}"
      ]
    },
    {
      "cell_type": "code",
      "execution_count": null,
      "id": "566638da",
      "metadata": {
        "id": "566638da"
      },
      "outputs": [],
      "source": [
        "def router_1(state:AgentState):\n",
        "    print(\"-> ROUTER_1 ->\")\n",
        "\n",
        "    last_message=state[\"messages\"][-1]\n",
        "    print(\"last_message:\", last_message)\n",
        "\n",
        "    if \"yes\" in last_message.lower():\n",
        "        return \"yes\"\n",
        "    else:\n",
        "        return \"no\""
      ]
    },
    {
      "cell_type": "code",
      "execution_count": null,
      "id": "e4a6205f",
      "metadata": {
        "id": "e4a6205f",
        "outputId": "047527db-2481-44c6-c885-b28d4616c193"
      },
      "outputs": [
        {
          "data": {
            "text/plain": [
              "<langgraph.graph.state.StateGraph at 0x24a6007f190>"
            ]
          },
          "metadata": {},
          "output_type": "display_data"
        }
      ],
      "source": [
        "workflow=StateGraph(AgentState)\n",
        "workflow.add_node(\"Supervisor\",function_1)\n",
        "workflow.add_node(\"RAG\",function_2)\n",
        "workflow.add_node(\"LLM\",function_3)\n",
        "workflow.add_node(\"WEB\", search_fun)\n",
        "workflow.add_node(\"VALIDATION\",function_4)\n",
        "workflow.set_entry_point(\"Supervisor\")"
      ]
    },
    {
      "cell_type": "code",
      "execution_count": null,
      "id": "44d40cd0",
      "metadata": {
        "id": "44d40cd0",
        "outputId": "03023829-b6f5-4720-be61-3066d21e5e90"
      },
      "outputs": [
        {
          "data": {
            "text/plain": [
              "<langgraph.graph.state.StateGraph at 0x24a6007f190>"
            ]
          },
          "metadata": {},
          "output_type": "display_data"
        }
      ],
      "source": [
        "workflow.add_conditional_edges(\n",
        "    \"Supervisor\",\n",
        "    router,\n",
        "    {\n",
        "        \"RAG Call\": \"RAG\",\n",
        "        \"LLM Call\": \"LLM\",\n",
        "        \"WEB Call\": \"WEB\",\n",
        "    }\n",
        ")"
      ]
    },
    {
      "cell_type": "code",
      "execution_count": null,
      "id": "51f3a5fa",
      "metadata": {
        "id": "51f3a5fa",
        "outputId": "bf6a0370-7033-47d8-b118-c7526fda147d"
      },
      "outputs": [
        {
          "data": {
            "text/plain": [
              "<langgraph.graph.state.StateGraph at 0x24a6007f190>"
            ]
          },
          "metadata": {},
          "output_type": "display_data"
        }
      ],
      "source": [
        "workflow.add_edge(\"RAG\",\"VALIDATION\")\n",
        "workflow.add_edge(\"LLM\",\"VALIDATION\")\n",
        "workflow.add_edge(\"WEB\",\"VALIDATION\")\n",
        "\n",
        "workflow.add_conditional_edges(\n",
        "    \"VALIDATION\",\n",
        "    router_1,\n",
        "    {\n",
        "        \"yes\": END,\n",
        "        \"no\":\"Supervisor\"\n",
        "    }\n",
        "\n",
        ")"
      ]
    },
    {
      "cell_type": "code",
      "execution_count": null,
      "id": "0449aa2a",
      "metadata": {
        "id": "0449aa2a"
      },
      "outputs": [],
      "source": [
        "app=workflow.compile()"
      ]
    },
    {
      "cell_type": "code",
      "execution_count": null,
      "id": "9cf74c81",
      "metadata": {
        "id": "9cf74c81",
        "outputId": "7c0bb0a9-0f51-427a-a52c-1f2e1bd8a2fd"
      },
      "outputs": [
        {
          "data": {
            "image/png": "[encoded data removed]",
            "text/plain": [
              "<IPython.core.display.Image object>"
            ]
          },
          "metadata": {},
          "output_type": "display_data"
        }
      ],
      "source": [
        "from IPython.display import Image, display\n",
        "display(Image(app.get_graph(xray=True).draw_mermaid_png()))"
      ]
    },
    {
      "cell_type": "code",
      "execution_count": null,
      "id": "30ba3393",
      "metadata": {
        "id": "30ba3393",
        "outputId": "f5d8a310-c981-469d-9c07-267cd97e8958"
      },
      "outputs": [
        {
          "name": "stdout",
          "output_type": "stream",
          "text": [
            "Question How to make black tea?, list down in simple steps\n",
            "Parsed response: Topic='LLM' Reasoning='The query is a generic question about making tea, not related to the Indian Constitution or recent events.'\n",
            "-> ROUTER ->\n",
            "last_message: LLM\n",
            "-> LLM Call ->\n",
            "answer How to Make Black Tea (Simple Steps):\n",
            "\n",
            "1. **Boil Water:**  Heat fresh water to a rolling boil.  The temperature is crucial for optimal flavor extraction;  around 200-212°F (93-100°C) is ideal.\n",
            "\n",
            "2. **Warm the Teapot (Optional):**  Pour a small amount of boiling water into your teapot and swirl it around to preheat it. This helps maintain the water temperature and prevents the tea from cooling down too quickly. Empty the water before adding tea leaves.\n",
            "\n",
            "3. **Add Tea Leaves:**  Use one teaspoon of loose leaf tea or one tea bag per cup of water.  More tea will result in a stronger brew.\n",
            "\n",
            "4. **Pour Water Over Tea:** Slowly pour the boiling water over the tea leaves or tea bag. Make sure all the leaves are submerged.\n",
            "\n",
            "5. **Steep:** Let the tea steep for 3-5 minutes.  Steeping time affects the strength and bitterness of the tea.  Experiment to find your preferred strength.  Longer steeping times generally result in a stronger, more bitter brew.\n",
            "\n",
            "6. **Remove Tea Leaves/Bag:** Remove the tea bag or strain the loose leaf tea from the teapot.  Don't leave the tea leaves in the pot for too long, or the tea will become bitter.\n",
            "\n",
            "7. **Serve and Enjoy:** Pour the tea into your cup and enjoy! You can add milk, sugar, lemon, or honey to taste.\n",
            "Parsed response: Topic='yes' Reasoning=\"The response provides a step-by-step guide on how to make black tea, directly answering the user's query.\"\n",
            "-> ROUTER_1 ->\n",
            "last_message: yes\n"
          ]
        },
        {
          "data": {
            "text/plain": [
              "{'messages': ['How to make black tea?, list down in simple steps',\n",
              "  'LLM',\n",
              "  \"How to Make Black Tea (Simple Steps):\\n\\n1. **Boil Water:**  Heat fresh water to a rolling boil.  The temperature is crucial for optimal flavor extraction;  around 200-212°F (93-100°C) is ideal.\\n\\n2. **Warm the Teapot (Optional):**  Pour a small amount of boiling water into your teapot and swirl it around to preheat it. This helps maintain the water temperature and prevents the tea from cooling down too quickly. Empty the water before adding tea leaves.\\n\\n3. **Add Tea Leaves:**  Use one teaspoon of loose leaf tea or one tea bag per cup of water.  More tea will result in a stronger brew.\\n\\n4. **Pour Water Over Tea:** Slowly pour the boiling water over the tea leaves or tea bag. Make sure all the leaves are submerged.\\n\\n5. **Steep:** Let the tea steep for 3-5 minutes.  Steeping time affects the strength and bitterness of the tea.  Experiment to find your preferred strength.  Longer steeping times generally result in a stronger, more bitter brew.\\n\\n6. **Remove Tea Leaves/Bag:** Remove the tea bag or strain the loose leaf tea from the teapot.  Don't leave the tea leaves in the pot for too long, or the tea will become bitter.\\n\\n7. **Serve and Enjoy:** Pour the tea into your cup and enjoy! You can add milk, sugar, lemon, or honey to taste.\",\n",
              "  'yes']}"
            ]
          },
          "metadata": {},
          "output_type": "display_data"
        }
      ],
      "source": [
        "state={\"messages\":[\"How to make black tea?, list down in simple steps\"]}\n",
        "app.invoke(state)"
      ]
    },
    {
      "cell_type": "code",
      "execution_count": null,
      "id": "24e60f3d",
      "metadata": {
        "id": "24e60f3d",
        "outputId": "a4e98415-402c-4154-fe9c-a4e33f2f57a5"
      },
      "outputs": [
        {
          "name": "stdout",
          "output_type": "stream",
          "text": [
            "Question List all the fundamental duties?\n",
            "Parsed response: Topic='Constitution' Reasoning='The query asks about fundamental duties, a key component of the Indian Constitution.'\n",
            "-> ROUTER ->\n",
            "last_message: Constitution\n",
            "-> RAG Call ->\n",
            "answer The fundamental duties of Indian citizens include abiding by the Constitution and respecting its ideals, cherishing the ideals of the freedom struggle, and upholding India's sovereignty.  Additional duties involve defending the country, protecting the environment, and safeguarding national monuments.  A complete list is found in Article 51A of the Constitution.\n",
            "Parsed response: Topic='yes' Reasoning=\"The response directly addresses the user's request by listing and describing fundamental duties, even referencing the relevant constitutional article.\"\n",
            "-> ROUTER_1 ->\n",
            "last_message: yes\n"
          ]
        },
        {
          "data": {
            "text/plain": [
              "{'messages': ['List all the fundamental duties?',\n",
              "  'Constitution',\n",
              "  \"The fundamental duties of Indian citizens include abiding by the Constitution and respecting its ideals, cherishing the ideals of the freedom struggle, and upholding India's sovereignty.  Additional duties involve defending the country, protecting the environment, and safeguarding national monuments.  A complete list is found in Article 51A of the Constitution.\",\n",
              "  'yes']}"
            ]
          },
          "metadata": {},
          "output_type": "display_data"
        }
      ],
      "source": [
        "state={\"messages\":[\"List all the fundamental duties?\"]}\n",
        "app.invoke(state)"
      ]
    },
    {
      "cell_type": "code",
      "execution_count": null,
      "id": "48f18648",
      "metadata": {
        "id": "48f18648",
        "outputId": "c7c69ebb-7572-4c97-cfdf-cdbfcc39f4a5"
      },
      "outputs": [
        {
          "name": "stdout",
          "output_type": "stream",
          "text": [
            "Question what is the net worth of Elon Musk\n",
            "Parsed response: Topic='Latest' Reasoning=\"The query asks about Elon Musk's net worth, which is a current event and not directly related to the Indian Constitution or LLMs.\"\n",
            "-> ROUTER ->\n",
            "last_message: Latest\n",
            "answer Elon Musk on the 2025 The Richest Person In Every State. ... Elon Musk's net worth fell by the equivalent of almost five times Trump's $5.5 billion net worth Thursday. Tesla shares fell after Elon Musk's public disagreement with the president. Musk's net worth, though still the world's highest, has fluctuated significantly, peaking at $400 billion in December 2024. Elon Musk is a South African-born Canadian-American businessman, inventor, and investor who has a net worth of $368 billion. Elon Musk is currently the richest person in the world. In November ... Elon Musk's net worth peaked at $486 billion in December 2024, but by March 2025, his fortune had decreased to approximately $330 billion. The market capitalization of Tesla's stock fell from ... View net worth over: Max 1 year 1 quarter 1 month 1 week. Net Worth Summary. Cash. Private asset. ... 1971 Elon Musk is born in Pretoria, South Africa. 1981 Buys first computer at age 10.\n",
            "Parsed response: Topic='yes' Reasoning=\"The response directly addresses the user's question about Elon Musk's net worth, providing various figures and details about its fluctuations.\"\n",
            "-> ROUTER_1 ->\n",
            "last_message: yes\n"
          ]
        },
        {
          "data": {
            "text/plain": [
              "{'messages': ['what is the net worth of Elon Musk',\n",
              "  'Latest',\n",
              "  \"Elon Musk on the 2025 The Richest Person In Every State. ... Elon Musk's net worth fell by the equivalent of almost five times Trump's $5.5 billion net worth Thursday. Tesla shares fell after Elon Musk's public disagreement with the president. Musk's net worth, though still the world's highest, has fluctuated significantly, peaking at $400 billion in December 2024. Elon Musk is a South African-born Canadian-American businessman, inventor, and investor who has a net worth of $368 billion. Elon Musk is currently the richest person in the world. In November ... Elon Musk's net worth peaked at $486 billion in December 2024, but by March 2025, his fortune had decreased to approximately $330 billion. The market capitalization of Tesla's stock fell from ... View net worth over: Max 1 year 1 quarter 1 month 1 week. Net Worth Summary. Cash. Private asset. ... 1971 Elon Musk is born in Pretoria, South Africa. 1981 Buys first computer at age 10.\",\n",
              "  'yes']}"
            ]
          },
          "metadata": {},
          "output_type": "display_data"
        }
      ],
      "source": [
        "state={\"messages\":[\"what is the net worth of Elon Musk\"]}\n",
        "app.invoke(state)"
      ]
    },
    {
      "cell_type": "markdown",
      "id": "98e728fb",
      "metadata": {
        "id": "98e728fb"
      },
      "source": [
        "# Last"
      ]
    },
    {
      "cell_type": "code",
      "execution_count": null,
      "id": "27668149",
      "metadata": {
        "id": "27668149"
      },
      "outputs": [],
      "source": []
    }
  ],
  "metadata": {
    "colab": {
      "provenance": [],
      "toc_visible": true
    },
    "kernelspec": {
      "display_name": "agentic_2_base",
      "language": "python",
      "name": "python3"
    },
    "language_info": {
      "codemirror_mode": {
        "name": "ipython",
        "version": 3
      },
      "file_extension": ".py",
      "mimetype": "text/x-python",
      "name": "python",
      "nbconvert_exporter": "python",
      "pygments_lexer": "ipython3",
      "version": "3.11.11"
    }
  },
  "nbformat": 4,
  "nbformat_minor": 5
}
