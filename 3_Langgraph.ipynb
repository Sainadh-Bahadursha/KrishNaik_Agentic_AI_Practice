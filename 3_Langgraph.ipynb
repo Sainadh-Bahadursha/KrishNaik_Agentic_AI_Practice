{
  "cells": [
    {
      "cell_type": "markdown",
      "id": "o7F9oe3WJuXp",
      "metadata": {
        "id": "o7F9oe3WJuXp"
      },
      "source": [
        "# Lang Graph"
      ]
    },
    {
      "cell_type": "markdown",
      "id": "f6454e5e",
      "metadata": {
        "id": "f6454e5e"
      },
      "source": [
        "## Tools"
      ]
    },
    {
      "cell_type": "markdown",
      "id": "582fbea0",
      "metadata": {
        "id": "582fbea0"
      },
      "source": [
        "### Wikipedia API Wrapper Tool (Summary from wikipedia)"
      ]
    },
    {
      "cell_type": "code",
      "execution_count": 5,
      "id": "09df7eeb",
      "metadata": {
        "id": "09df7eeb"
      },
      "outputs": [],
      "source": [
        "from langchain_community.tools import WikipediaQueryRun"
      ]
    },
    {
      "cell_type": "code",
      "execution_count": 6,
      "id": "27350042",
      "metadata": {
        "id": "27350042"
      },
      "outputs": [],
      "source": [
        "from langchain_community.utilities import WikipediaAPIWrapper"
      ]
    },
    {
      "cell_type": "code",
      "execution_count": 7,
      "id": "349ce79b",
      "metadata": {
        "id": "349ce79b"
      },
      "outputs": [],
      "source": [
        "api_wrapper=WikipediaAPIWrapper(top_k_results=5,doc_content_chars_max= 500)"
      ]
    },
    {
      "cell_type": "code",
      "execution_count": 8,
      "id": "fde85dee",
      "metadata": {
        "id": "fde85dee"
      },
      "outputs": [],
      "source": [
        "wiki_tool=WikipediaQueryRun(api_wrapper=api_wrapper)"
      ]
    },
    {
      "cell_type": "code",
      "execution_count": 9,
      "id": "98b780a7",
      "metadata": {
        "id": "98b780a7",
        "outputId": "47a97f50-8dd2-4160-f4df-6e2266c3966d"
      },
      "outputs": [
        {
          "data": {
            "text/plain": [
              "'wikipedia'"
            ]
          },
          "execution_count": 9,
          "metadata": {},
          "output_type": "execute_result"
        }
      ],
      "source": [
        "wiki_tool.name"
      ]
    },
    {
      "cell_type": "code",
      "execution_count": 10,
      "id": "9845643a",
      "metadata": {
        "id": "9845643a",
        "outputId": "58596aef-ddd7-4cbc-8235-be789a90c934"
      },
      "outputs": [
        {
          "data": {
            "text/plain": [
              "'A wrapper around Wikipedia. Useful for when you need to answer general questions about people, places, companies, facts, historical events, or other subjects. Input should be a search query.'"
            ]
          },
          "execution_count": 10,
          "metadata": {},
          "output_type": "execute_result"
        }
      ],
      "source": [
        "wiki_tool.description"
      ]
    },
    {
      "cell_type": "code",
      "execution_count": 11,
      "id": "e0376b73",
      "metadata": {
        "id": "e0376b73",
        "outputId": "97d249c9-27e6-4b81-c186-b568069dc4a1"
      },
      "outputs": [
        {
          "data": {
            "text/plain": [
              "{'query': {'description': 'query to look up on wikipedia',\n",
              "  'title': 'Query',\n",
              "  'type': 'string'}}"
            ]
          },
          "execution_count": 11,
          "metadata": {},
          "output_type": "execute_result"
        }
      ],
      "source": [
        "wiki_tool.args"
      ]
    },
    {
      "cell_type": "code",
      "execution_count": 12,
      "id": "1e4a274f",
      "metadata": {
        "id": "1e4a274f",
        "outputId": "c5df7a65-a078-4f4c-b04f-382bcb0b82df"
      },
      "outputs": [
        {
          "data": {
            "text/plain": [
              "\"Page: Elon Musk\\nSummary: Elon Reeve Musk ( EE-lon; born June 28, 1971) is a businessman. He is known for his leadership of Tesla, SpaceX, X (formerly Twitter), and the Department of Government Efficiency (DOGE). Musk has been considered the wealthiest person in the world since 2021; as of May 2025, Forbes estimates his net worth to be US$424.7 billion. \\nBorn to a wealthy family in Pretoria, South Africa, Musk emigrated in 1989 to Canada. He received bachelor's degrees from the University of Penn\""
            ]
          },
          "execution_count": 12,
          "metadata": {},
          "output_type": "execute_result"
        }
      ],
      "source": [
        "wiki_tool.run({\"query\":\"elon musk\"})"
      ]
    },
    {
      "cell_type": "code",
      "execution_count": 13,
      "id": "740fa568",
      "metadata": {
        "id": "740fa568",
        "outputId": "5bd6bcf1-b81e-433e-cc63-0656ff181f29"
      },
      "outputs": [
        {
          "name": "stderr",
          "output_type": "stream",
          "text": [
            "c:\\Users\\saina\\.conda\\envs\\agentic_base\\Lib\\site-packages\\wikipedia\\wikipedia.py:389: GuessedAtParserWarning: No parser was explicitly specified, so I'm using the best available HTML parser for this system (\"lxml\"). This usually isn't a problem, but if you run this code on another system, or in a different virtual environment, it may use a different parser and behave differently.\n",
            "\n",
            "The code that caused this warning is on line 389 of the file c:\\Users\\saina\\.conda\\envs\\agentic_base\\Lib\\site-packages\\wikipedia\\wikipedia.py. To get rid of this warning, pass the additional argument 'features=\"lxml\"' to the BeautifulSoup constructor.\n",
            "\n",
            "  lis = BeautifulSoup(html).find_all('li')\n"
          ]
        },
        {
          "data": {
            "text/plain": [
              "\"Page: Royal Challengers Bengaluru\\nSummary: The Royal Challengers Bengaluru, formerly Royal Challengers Bangalore, also known as RCB, are a professional Twenty20 cricket team based in Bengaluru, Karnataka, that competes in the Indian Premier League (IPL). Founded in 2008 by United Spirits, the team's home ground is M. Chinnaswamy Stadium. They won their first title in 2025. The team finished as the runners-up on three occasions: in 2009, 2011, and 2016. They have also qualified for the playoffs i\""
            ]
          },
          "execution_count": 13,
          "metadata": {},
          "output_type": "execute_result"
        }
      ],
      "source": [
        "wiki_tool.run(\"RCB\")"
      ]
    },
    {
      "cell_type": "markdown",
      "id": "8500a32a",
      "metadata": {
        "id": "8500a32a"
      },
      "source": [
        "### Youtube Search Tool"
      ]
    },
    {
      "cell_type": "code",
      "execution_count": 14,
      "id": "a4018c56",
      "metadata": {
        "id": "a4018c56"
      },
      "outputs": [],
      "source": [
        "from langchain_community.tools import YouTubeSearchTool"
      ]
    },
    {
      "cell_type": "code",
      "execution_count": 15,
      "id": "098d336c",
      "metadata": {
        "id": "098d336c"
      },
      "outputs": [],
      "source": [
        "tool=YouTubeSearchTool()"
      ]
    },
    {
      "cell_type": "code",
      "execution_count": 16,
      "id": "5750f96f",
      "metadata": {
        "id": "5750f96f",
        "outputId": "97210823-5815-43d1-bb6f-c38cd4ca2fc5"
      },
      "outputs": [
        {
          "data": {
            "text/plain": [
              "'youtube_search'"
            ]
          },
          "execution_count": 16,
          "metadata": {},
          "output_type": "execute_result"
        }
      ],
      "source": [
        "tool.name"
      ]
    },
    {
      "cell_type": "code",
      "execution_count": 17,
      "id": "f2d2e6ea",
      "metadata": {
        "id": "f2d2e6ea",
        "outputId": "f17e3c17-084d-4a17-edac-403b8bc30517"
      },
      "outputs": [
        {
          "data": {
            "text/plain": [
              "'search for youtube videos associated with a person. the input to this tool should be a comma separated list, the first part contains a person name and the second a number that is the maximum number of video results to return aka num_results. the second part is optional'"
            ]
          },
          "execution_count": 17,
          "metadata": {},
          "output_type": "execute_result"
        }
      ],
      "source": [
        "tool.description"
      ]
    },
    {
      "cell_type": "code",
      "execution_count": 18,
      "id": "9dcb154b",
      "metadata": {
        "id": "9dcb154b",
        "outputId": "bc3614eb-e429-414a-e9c0-414978741564"
      },
      "outputs": [
        {
          "data": {
            "text/plain": [
              "\"['https://www.youtube.com/watch?v=Jj1-zb38Yfw&pp=ygUKQWdlbnRpYyBBSQ%3D%3D', 'https://www.youtube.com/watch?v=dIb-DujRNEo&pp=ygUKQWdlbnRpYyBBSQ%3D%3D']\""
            ]
          },
          "execution_count": 18,
          "metadata": {},
          "output_type": "execute_result"
        }
      ],
      "source": [
        "tool.run(\"Agentic AI\")"
      ]
    },
    {
      "cell_type": "markdown",
      "id": "c2814b8c",
      "metadata": {
        "id": "c2814b8c"
      },
      "source": [
        "### Tavily Search Tool"
      ]
    },
    {
      "cell_type": "code",
      "execution_count": 19,
      "id": "d3a9b887",
      "metadata": {
        "id": "d3a9b887"
      },
      "outputs": [],
      "source": [
        "from langchain_community.tools.tavily_search import TavilySearchResults"
      ]
    },
    {
      "cell_type": "code",
      "execution_count": 20,
      "id": "ee5261b2",
      "metadata": {},
      "outputs": [
        {
          "data": {
            "text/plain": [
              "True"
            ]
          },
          "execution_count": 20,
          "metadata": {},
          "output_type": "execute_result"
        }
      ],
      "source": [
        "import os\n",
        "from dotenv import load_dotenv\n",
        "load_dotenv()"
      ]
    },
    {
      "cell_type": "code",
      "execution_count": 21,
      "id": "b98b226a",
      "metadata": {
        "id": "b98b226a"
      },
      "outputs": [],
      "source": [
        "import os\n",
        "TAVILY_API_KEY=os.getenv(\"TAVILY_API_KEY\")"
      ]
    },
    {
      "cell_type": "code",
      "execution_count": 22,
      "id": "a9cf56f1",
      "metadata": {
        "id": "a9cf56f1"
      },
      "outputs": [
        {
          "name": "stderr",
          "output_type": "stream",
          "text": [
            "C:\\Users\\saina\\AppData\\Local\\Temp\\ipykernel_1796\\1068719361.py:1: LangChainDeprecationWarning: The class `TavilySearchResults` was deprecated in LangChain 0.3.25 and will be removed in 1.0. An updated version of the class exists in the :class:`~langchain-tavily package and should be used instead. To use it run `pip install -U :class:`~langchain-tavily` and import as `from :class:`~langchain_tavily import TavilySearch``.\n",
            "  tool=TavilySearchResults(tavily_api_key=TAVILY_API_KEY)\n"
          ]
        }
      ],
      "source": [
        "tool=TavilySearchResults(tavily_api_key=TAVILY_API_KEY)"
      ]
    },
    {
      "cell_type": "code",
      "execution_count": 23,
      "id": "503163b0",
      "metadata": {
        "id": "503163b0",
        "outputId": "fdf900d7-18ee-40ac-d312-efb5eaaa67b8"
      },
      "outputs": [
        {
          "data": {
            "text/plain": [
              "[{'title': \"Bengaluru stampede case: What we know so far on RCB's ...\",\n",
              "  'url': 'https://timesofindia.indiatimes.com/sports/cricket/ipl/top-stories/bengaluru-stampede-case-what-we-know-so-far-on-rcbs-celebrations-that-turned-catastrophic/articleshow/121670873.cms',\n",
              "  'content': \"[Follow us](https://news.google.com/publications/CAAqBwgKMM6y_Qowwu70Ag)\\n\\nRoyal Challengers Bengaluru's IPL victory celebrations turned tragic as a stampede at M Chinnaswamy Stadium resulted in 11 deaths and 75 injuries. FIRs have been filed against RCB, events organisers DNA, and Karnataka State Cricket Association for alleged negligence. The Karnataka High Court has sought a report from the government while arrests have been and officials suspended.\\n\\nRead More [...] [](https://timesofindia.indiatimes.com/city/bengaluru/celebrations-turn-tragic-bloodbath-at-rcbs-maiden-ipl-trophy-victory-day-to-remember-forever-see-pics/photostory/121646177.cms)[Celebrations turn tragic: Bloodbath at RCB’s maiden IPL trophy victory, day to remember forever | see pics Lakhs of fans had gathered around Chinnaswamy Stadium, celebrating RCB’s historic first-ever IPL title with joy and excitement.Times Of\",\n",
              "  'score': 0.8455478},\n",
              " {'title': 'Chinnaswamy Stadium Stampede: What triggered the deadly chaos ...',\n",
              "  'url': 'https://m.economictimes.com/news/bengaluru-news/chinnaswamy-stadium-stampede-what-triggered-the-chaos-that-turned-deadly-in-rcbs-victory-celebration/articleshow/121624517.cms',\n",
              "  'content': \"![Image 3](https://img.etimg.com/thumb/msid-121625936,width-300,height-225,imgsize-121910,resizemode-75/.jpg)\\n\\nRCB's IPL victory celebrations turn tragic: Stampede in Bengaluru; 11 dead, 33 injured\\n\\nThe celebrations after RCB took a heart-breaking turn when a deadly [stampede](https://m.economictimes.com/topic/stampede) near the M Chinnaswamy Stadium killed over 11 fans dead and nearly 33 others injured.\",\n",
              "  'score': 0.83710164},\n",
              " {'title': \"Several Killed as RCB's Victory Celebration Turns Deadly - YouTube\",\n",
              "  'url': 'https://www.youtube.com/watch?v=gz8chxY7elU',\n",
              "  'content': \"At least 11 people were killed and 30 injured in a stampede outside the Chinnaswamy cricket stadium in Bengaluru. The incident happened during the Royal Challengers' victory celebrations after their first IPL triumph in 18 years. Did the state government underestimate the rush? Were crowd control measures not in place? Palki Sharma tells you.\\n\\n--- [...] It was supposed to be a day of pure joy, of celebration and pride. Instead, Bengaluru is in shock today. I'm sure you've seen the news and the pictures. Bengaluru was all decked up for a massive celebration today. Their IPL team had finally won the tournament. The Royal Challengers beat Punjab Kings yesterday. It was their first IPL trophy in 18 years. Now the RCB fans are a very passionate lot. Plus they've been waiting for a win since 2008. So they packed the streets of Bengaluru in [...] soon the fan frenzy turned fatal. The exact details are not clear yet but reports say the rush led to a stampede. At least 11 people were killed, including children, and more than 30 were injured. Like I said, the exact sequence of events is unclear, but these pictures give you an idea. Uh you can see fans climbing up fences and trees. In some places, the police pushed back with force. We will show you the pictures, but as always, viewer discretion is advised. [Applause] [Music] [Applause] Such\",\n",
              "  'score': 0.83290404},\n",
              " {'title': 'RCB victory parade stampede updates: Bengaluru city chief B ...',\n",
              "  'url': 'https://www.thehindu.com/news/national/rcb-ipl-victory-parade-stampede-death-toll-virat-kohli-chinnaswamy-stadium-live/article69656707.ece',\n",
              "  'content': 'Sachin Tendulkar has offered his condolences on the loss of 11 lives in a stampede outside Bengaluru’s Chinnaswamy Stadium during RCB’s IPL victory celebrations, describing the incident as “beyond tragic”.\\n\\nOn the day the stampede broke out in Bengaluru while celebrating the victory of Royal Challengers Bengaluru (RCB) in the IPL final, killing 11 and leaving scores injured, the Namma Metro witnessed unprecedented footfall. [...] A stampede that broke out near the Chinnaswamy stadium in Bengaluru, after fans gathered to celebrate Royal Challengers Bengaluru’s IPL win, led to the [deaths of 11 persons and injuries to 33](https://www.thehindu.com/news/cities/bangalore/rcb-ipl-victory-celebrations-stampede-bengaluru-death-toll/article69656538.ece) on Wednesday (June 4, 2025). The tragedy unfolded near the gates of the stadium, where over 2 lakh fans had gathered to mark RCB’s historic first title win in 18 years. [...] In a post on X, Mr. Bommai said following the Royal Challengers Bangalore (RCB) team lifting the IPL trophy, the state government hastily organised a victory celebration event without proper planning, leading to a tragic stampede that claimed the lives of more than ten innocent people. Organising two events in a hurry without any prior preparation and allowing an overwhelming number of people to attend both clearly demonstrates the government’s complete negligence and irresponsibility.',\n",
              "  'score': 0.82492816},\n",
              " {'title': \"How did celebration of RCB's historic win in IPL spiral into chaos ...\",\n",
              "  'url': 'https://www.thehindu.com/news/national/karnataka/how-did-celebration-of-rcbs-historic-win-in-ipl-spiral-into-chaos-and-crisis-explained/article69668074.ece',\n",
              "  'content': 'A stampede during RCB’s victory celebrations in Bengaluru on June 4 claimed 11 lives and left several others with injuries, turning a moment of triumph into tragedy. Facing a backlash for mismanagement and hurried planning, the Congress government in Karnataka suspended top police officials [...] Remove [SEE ALL](https://www.thehindu.com/myaccount/?tab=bookmarks)\\n\\nPRINT\\n\\n![Image 12: Footwear left behind by fans of Royal Challenge Bengaluru (RCB) after a stampede at the victory celebrations, in Bengaluru on June 5, 2025. ](https://www.thehindu.com/theme/images/th-online/1x1_spacer.png)\\n\\nFootwear left behind by fans of Royal Challenge Bengaluru (RCB) after a stampede at the victory celebrations, in Bengaluru on June 5, 2025. | Photo Credit: SUDHAKARA JAIN\\n\\n#### The story so far',\n",
              "  'score': 0.818055}]"
            ]
          },
          "execution_count": 23,
          "metadata": {},
          "output_type": "execute_result"
        }
      ],
      "source": [
        "tool.invoke({\"query\":\"what happend in RCB victory celebration?\"})"
      ]
    },
    {
      "cell_type": "markdown",
      "id": "4f1f2463",
      "metadata": {
        "id": "4f1f2463"
      },
      "source": [
        "### Custom tool"
      ]
    },
    {
      "cell_type": "code",
      "execution_count": 24,
      "id": "fc844561",
      "metadata": {
        "id": "fc844561"
      },
      "outputs": [],
      "source": [
        "def multiply(a:int,b:int)->int:\n",
        "    return a*b"
      ]
    },
    {
      "cell_type": "code",
      "execution_count": 25,
      "id": "7f37c964",
      "metadata": {
        "id": "7f37c964",
        "outputId": "a03c4208-06a7-48f0-beec-4f0f98e40d80"
      },
      "outputs": [
        {
          "data": {
            "text/plain": [
              "200"
            ]
          },
          "execution_count": 25,
          "metadata": {},
          "output_type": "execute_result"
        }
      ],
      "source": [
        "multiply(10,20)"
      ]
    },
    {
      "cell_type": "code",
      "execution_count": 26,
      "id": "39fe75c0",
      "metadata": {
        "id": "39fe75c0",
        "outputId": "8a8767ab-4654-462a-c441-058752976154"
      },
      "outputs": [],
      "source": [
        "# multiply.run(10,20)"
      ]
    },
    {
      "cell_type": "markdown",
      "id": "6a8da091",
      "metadata": {
        "id": "6a8da091"
      },
      "source": [
        "---------------------------------------------------------------------------\n",
        "AttributeError                            Traceback (most recent call last)\n",
        "Cell In[52], line 1\n",
        "----> 1 multiply.run(10,20)\n",
        "\n",
        "AttributeError: 'function' object has no attribute 'run'"
      ]
    },
    {
      "cell_type": "code",
      "execution_count": 27,
      "id": "480b255d",
      "metadata": {
        "id": "480b255d",
        "outputId": "f1fa9034-1d50-4612-a949-462875a744cf"
      },
      "outputs": [],
      "source": [
        "# multiply.invoke(10,20)"
      ]
    },
    {
      "cell_type": "markdown",
      "id": "3b0ff8c1",
      "metadata": {
        "id": "3b0ff8c1"
      },
      "source": [
        "---------------------------------------------------------------------------\n",
        "AttributeError                            Traceback (most recent call last)\n",
        "Cell In[53], line 1\n",
        "----> 1 multiply.invoke(10,20)\n",
        "\n",
        "AttributeError: 'function' object has no attribute 'invoke'"
      ]
    },
    {
      "cell_type": "code",
      "execution_count": 28,
      "id": "2c3b4b97",
      "metadata": {
        "id": "2c3b4b97"
      },
      "outputs": [],
      "source": [
        "from langchain.agents import tool\n",
        "@tool\n",
        "def multiply(a:int,b:int)->int:\n",
        "    '''this tool is for the multiplication'''\n",
        "    return a*b"
      ]
    },
    {
      "cell_type": "code",
      "execution_count": 29,
      "id": "4bd8cbf7",
      "metadata": {
        "id": "4bd8cbf7",
        "outputId": "4b1f0a31-6d04-480e-a189-03b8dccc7038"
      },
      "outputs": [
        {
          "data": {
            "text/plain": [
              "200"
            ]
          },
          "execution_count": 29,
          "metadata": {},
          "output_type": "execute_result"
        }
      ],
      "source": [
        "multiply.invoke({\"a\":10,\"b\":20})"
      ]
    },
    {
      "cell_type": "code",
      "execution_count": 30,
      "id": "888d6268",
      "metadata": {
        "id": "888d6268",
        "outputId": "0a346cf1-97e9-434e-a961-3527af1184f1"
      },
      "outputs": [
        {
          "data": {
            "text/plain": [
              "'multiply'"
            ]
          },
          "execution_count": 30,
          "metadata": {},
          "output_type": "execute_result"
        }
      ],
      "source": [
        "multiply.name"
      ]
    },
    {
      "cell_type": "code",
      "execution_count": 31,
      "id": "420df80b",
      "metadata": {
        "id": "420df80b",
        "outputId": "9380cbc6-e834-45d8-bba7-d84ba349bfea"
      },
      "outputs": [
        {
          "data": {
            "text/plain": [
              "'this tool is for the multiplication'"
            ]
          },
          "execution_count": 31,
          "metadata": {},
          "output_type": "execute_result"
        }
      ],
      "source": [
        "multiply.description"
      ]
    },
    {
      "cell_type": "code",
      "execution_count": 32,
      "id": "365e78d7",
      "metadata": {
        "id": "365e78d7",
        "outputId": "1076e637-614f-4907-df66-c1789e10e940"
      },
      "outputs": [
        {
          "data": {
            "text/plain": [
              "{'a': {'title': 'A', 'type': 'integer'},\n",
              " 'b': {'title': 'B', 'type': 'integer'}}"
            ]
          },
          "execution_count": 32,
          "metadata": {},
          "output_type": "execute_result"
        }
      ],
      "source": [
        "multiply.args"
      ]
    },
    {
      "cell_type": "code",
      "execution_count": 33,
      "id": "5941e644",
      "metadata": {
        "id": "5941e644"
      },
      "outputs": [],
      "source": [
        "def get_word_length(word:str)->int:\n",
        "    return len(word)"
      ]
    },
    {
      "cell_type": "code",
      "execution_count": 34,
      "id": "d56fafdd",
      "metadata": {
        "id": "d56fafdd",
        "outputId": "1566e601-3088-4312-d3db-c395a7facd75"
      },
      "outputs": [
        {
          "data": {
            "text/plain": [
              "18"
            ]
          },
          "execution_count": 34,
          "metadata": {},
          "output_type": "execute_result"
        }
      ],
      "source": [
        "get_word_length(\"Sainadh bahadursha\")"
      ]
    },
    {
      "cell_type": "code",
      "execution_count": 35,
      "id": "b176fc8a",
      "metadata": {
        "id": "b176fc8a",
        "outputId": "5d80649d-6e89-4189-f913-e1640286aa9a"
      },
      "outputs": [
        {
          "data": {
            "text/plain": [
              "13"
            ]
          },
          "execution_count": 35,
          "metadata": {},
          "output_type": "execute_result"
        }
      ],
      "source": [
        "get_word_length(\"narendra modi\")"
      ]
    },
    {
      "cell_type": "code",
      "execution_count": 36,
      "id": "c1cfb06e",
      "metadata": {
        "id": "c1cfb06e"
      },
      "outputs": [],
      "source": [
        "@tool\n",
        "def get_word_length(word:str)->int:\n",
        "    \"\"\"this function is calculating a length of the word\"\"\"\n",
        "    return len(word)"
      ]
    },
    {
      "cell_type": "code",
      "execution_count": 37,
      "id": "efd94c98",
      "metadata": {
        "id": "efd94c98",
        "outputId": "54bbff7d-bfed-47f5-b1d6-6c9e7222449f"
      },
      "outputs": [
        {
          "data": {
            "text/plain": [
              "'get_word_length'"
            ]
          },
          "execution_count": 37,
          "metadata": {},
          "output_type": "execute_result"
        }
      ],
      "source": [
        "get_word_length.name"
      ]
    },
    {
      "cell_type": "code",
      "execution_count": 38,
      "id": "d7a4cc82",
      "metadata": {
        "id": "d7a4cc82",
        "outputId": "ee26eba5-b4c2-48b2-8182-e9c6e7a9c9f7"
      },
      "outputs": [
        {
          "data": {
            "text/plain": [
              "'this function is calculating a length of the word'"
            ]
          },
          "execution_count": 38,
          "metadata": {},
          "output_type": "execute_result"
        }
      ],
      "source": [
        "get_word_length.description"
      ]
    },
    {
      "cell_type": "code",
      "execution_count": 39,
      "id": "5bd42de8",
      "metadata": {
        "id": "5bd42de8",
        "outputId": "acc39742-b57a-4335-beba-f2cf0841ee47"
      },
      "outputs": [
        {
          "data": {
            "text/plain": [
              "{'word': {'title': 'Word', 'type': 'string'}}"
            ]
          },
          "execution_count": 39,
          "metadata": {},
          "output_type": "execute_result"
        }
      ],
      "source": [
        "get_word_length.args"
      ]
    },
    {
      "cell_type": "code",
      "execution_count": 40,
      "id": "88d450b3",
      "metadata": {
        "id": "88d450b3",
        "outputId": "bdb847dd-6916-439b-f5f6-54953f829c24"
      },
      "outputs": [
        {
          "name": "stderr",
          "output_type": "stream",
          "text": [
            "C:\\Users\\saina\\AppData\\Local\\Temp\\ipykernel_1796\\1704822211.py:1: LangChainDeprecationWarning: The method `BaseTool.__call__` was deprecated in langchain-core 0.1.47 and will be removed in 1.0. Use :meth:`~invoke` instead.\n",
            "  get_word_length(\"sainadh\")\n"
          ]
        },
        {
          "data": {
            "text/plain": [
              "7"
            ]
          },
          "execution_count": 40,
          "metadata": {},
          "output_type": "execute_result"
        }
      ],
      "source": [
        "get_word_length(\"sainadh\")"
      ]
    },
    {
      "cell_type": "code",
      "execution_count": 41,
      "id": "784c9efc",
      "metadata": {
        "id": "784c9efc",
        "outputId": "42124ab2-c1f1-4778-8d47-e8e267e47845"
      },
      "outputs": [
        {
          "data": {
            "text/plain": [
              "7"
            ]
          },
          "execution_count": 41,
          "metadata": {},
          "output_type": "execute_result"
        }
      ],
      "source": [
        "get_word_length.invoke(\"sainadh\")"
      ]
    },
    {
      "cell_type": "markdown",
      "id": "8ae74a74",
      "metadata": {
        "id": "8ae74a74"
      },
      "source": [
        "### Gmail tool"
      ]
    },
    {
      "cell_type": "code",
      "execution_count": 42,
      "id": "02d0863e",
      "metadata": {
        "id": "02d0863e"
      },
      "outputs": [],
      "source": [
        "# @tool\n",
        "# def call_gmail_api(args):\n",
        "#     \"\"\"this is my gmail api calling funtion\"\"\"\n",
        "#     pass"
      ]
    },
    {
      "cell_type": "code",
      "execution_count": 43,
      "id": "71b335ff",
      "metadata": {
        "id": "71b335ff"
      },
      "outputs": [],
      "source": [
        "# from langchain.agents import tool\n",
        "# import os\n",
        "# import base64\n",
        "# from email import message_from_bytes\n",
        "# from google.auth.transport.requests import Request\n",
        "# from google.oauth2.credentials import Credentials\n",
        "# from google_auth_oauthlib.flow import InstalledAppFlow\n",
        "# from googleapiclient.discovery import build\n",
        "\n",
        "# SCOPES = ['https://www.googleapis.com/auth/gmail.readonly']\n",
        "# from langchain.tools import tool\n",
        "# from pydantic import BaseModel, Field\n",
        "\n",
        "# class GmailArgs(BaseModel):\n",
        "#     max_results: int = Field(..., description=\"Number of unread emails to fetch\")\n",
        "\n",
        "# @tool\n",
        "# def call_gmail_api(args: GmailArgs) -> str:\n",
        "#     \"\"\"\n",
        "#     Reads unread emails from Gmail inbox using Gmail API.\n",
        "#     Args:\n",
        "#         max_results (int): Maximum number of unread emails to fetch. Default is 5.\n",
        "#     Returns:\n",
        "#         A string summary of unread emails.\n",
        "#     \"\"\"\n",
        "#     max_results = args.max_results\n",
        "\n",
        "#     try:\n",
        "#         creds = None\n",
        "#         if os.path.exists('token.json'):\n",
        "#             creds = Credentials.from_authorized_user_file('token.json', SCOPES)\n",
        "#         if not creds or not creds.valid:\n",
        "#             if creds and creds.expired and creds.refresh_token:\n",
        "#                 creds.refresh(Request())\n",
        "#             else:\n",
        "#                 flow = InstalledAppFlow.from_client_secrets_file('credentials.json', SCOPES)\n",
        "#                 creds = flow.run_local_server(port=0)\n",
        "#             with open('token.json', 'w') as token:\n",
        "#                 token.write(creds.to_json())\n",
        "\n",
        "#         service = build('gmail', 'v1', credentials=creds)\n",
        "#         results = service.users().messages().list(userId='me', labelIds=['INBOX', 'UNREAD'], maxResults=max_results).execute()\n",
        "#         messages = results.get('messages', [])\n",
        "\n",
        "#         if not messages:\n",
        "#             return \"No unread emails found.\"\n",
        "\n",
        "#         summaries = []\n",
        "#         for msg in messages:\n",
        "#             msg_data = service.users().messages().get(userId='me', id=msg['id']).execute()\n",
        "#             headers = msg_data['payload']['headers']\n",
        "#             subject = next((h['value'] for h in headers if h['name'] == 'Subject'), '(No Subject)')\n",
        "#             sender = next((h['value'] for h in headers if h['name'] == 'From'), '(Unknown Sender)')\n",
        "#             snippet = msg_data.get('snippet', '')\n",
        "#             summaries.append(f\"From: {sender}\\nSubject: {subject}\\nSnippet: {snippet}\")\n",
        "\n",
        "#         return \"\\n\\n\".join(summaries)\n",
        "\n",
        "#     except Exception as e:\n",
        "#         return f\"Error accessing Gmail API: {e}\"\n",
        "\n",
        "# # @tool\n",
        "# # def call_gmail_api(max_results: int = 5) -> str:\n",
        "# #     \"\"\"\n",
        "# #     Reads unread emails from Gmail inbox using Gmail API.\n",
        "# #     Args:\n",
        "# #         max_results (int): Maximum number of unread emails to fetch. Default is 5.\n",
        "# #     Returns:\n",
        "# #         A string summary of unread emails.\n",
        "# #     \"\"\"\n",
        "# #     try:\n",
        "# #         creds = None\n",
        "# #         if os.path.exists('token.json'):\n",
        "# #             creds = Credentials.from_authorized_user_file('token.json', SCOPES)\n",
        "# #         if not creds or not creds.valid:\n",
        "# #             if creds and creds.expired and creds.refresh_token:\n",
        "# #                 creds.refresh(Request())\n",
        "# #             else:\n",
        "# #                 flow = InstalledAppFlow.from_client_secrets_file('credentials.json', SCOPES)\n",
        "# #                 creds = flow.run_local_server(port=0)\n",
        "# #             with open('token.json', 'w') as token:\n",
        "# #                 token.write(creds.to_json())\n",
        "\n",
        "# #         service = build('gmail', 'v1', credentials=creds)\n",
        "# #         results = service.users().messages().list(userId='me', labelIds=['INBOX', 'UNREAD'], maxResults=max_results).execute()\n",
        "# #         messages = results.get('messages', [])\n",
        "\n",
        "# #         if not messages:\n",
        "# #             return \"No unread emails found.\"\n",
        "\n",
        "# #         summaries = []\n",
        "# #         for msg in messages:\n",
        "# #             msg_data = service.users().messages().get(userId='me', id=msg['id']).execute()\n",
        "# #             headers = msg_data['payload']['headers']\n",
        "# #             subject = next((h['value'] for h in headers if h['name'] == 'Subject'), '(No Subject)')\n",
        "# #             sender = next((h['value'] for h in headers if h['name'] == 'From'), '(Unknown Sender)')\n",
        "# #             snippet = msg_data.get('snippet', '')\n",
        "# #             summaries.append(f\"From: {sender}\\nSubject: {subject}\\nSnippet: {snippet}\")\n",
        "\n",
        "# #         return \"\\n\\n\".join(summaries)\n",
        "\n",
        "# #     except Exception as e:\n",
        "# #         return f\"Error accessing Gmail API: {e}\"\n",
        "\n"
      ]
    },
    {
      "cell_type": "code",
      "execution_count": 44,
      "id": "6eee951c",
      "metadata": {
        "id": "6eee951c",
        "outputId": "f89f26fd-0835-4a7f-d7ec-3de2f111481a"
      },
      "outputs": [],
      "source": [
        "# # from langchain.agents import initialize_agent\n",
        "# # from langchain.agents.agent_types import AgentType\n",
        "# # from langchain.chat_models import ChatOpenAI\n",
        "\n",
        "# # # Register the tool\n",
        "# # tools = [call_gmail_api]\n",
        "\n",
        "# # llm = ChatOpenAI(model=\"gpt-3.5-turbo\")\n",
        "\n",
        "# # agent = initialize_agent(\n",
        "# #     tools=tools,\n",
        "# #     llm=llm,\n",
        "# #     agent_type=AgentType.OPENAI_FUNCTIONS,\n",
        "# #     verbose=True,\n",
        "# # )\n",
        "\n",
        "# # # Example query\n",
        "# # response = agent.run(\"Read my last 3 unread emails.\")\n",
        "# # print(response)\n",
        "\n",
        "# from langchain.agents import initialize_agent, AgentType\n",
        "# from langchain.chat_models import ChatOpenAI\n",
        "\n",
        "# tools = [call_gmail_api]\n",
        "# llm = ChatOpenAI(model=\"gpt-3.5-turbo\")\n",
        "\n",
        "# agent = initialize_agent(\n",
        "#     tools=tools,\n",
        "#     llm=llm,\n",
        "#     agent_type=AgentType.OPENAI_FUNCTIONS,  # Requires structured input\n",
        "#     verbose=True,\n",
        "# )\n",
        "\n",
        "# # Test\n",
        "# response = agent.run(\"Get my last 3 unread emails.\")\n",
        "# print(response)\n"
      ]
    },
    {
      "cell_type": "markdown",
      "id": "e677c1ba",
      "metadata": {
        "id": "e677c1ba"
      },
      "source": [
        "## Langgraph Intro 1"
      ]
    },
    {
      "cell_type": "code",
      "execution_count": 1,
      "id": "f5ef2219",
      "metadata": {
        "id": "f5ef2219"
      },
      "outputs": [],
      "source": [
        "def function1(input1):\n",
        "    return input1 + \" from first function\""
      ]
    },
    {
      "cell_type": "code",
      "execution_count": 2,
      "id": "3e85c2f7",
      "metadata": {
        "id": "3e85c2f7"
      },
      "outputs": [],
      "source": [
        "def function2(input2):\n",
        "    return input2 + \" Bahadursha from second function\""
      ]
    },
    {
      "cell_type": "code",
      "execution_count": 3,
      "id": "37b6edbc",
      "metadata": {
        "id": "37b6edbc"
      },
      "outputs": [],
      "source": [
        "def function3(input3):\n",
        "    pass"
      ]
    },
    {
      "cell_type": "code",
      "execution_count": 4,
      "id": "9851a3ef",
      "metadata": {
        "id": "9851a3ef",
        "outputId": "af639098-380c-469d-8910-dff99ad0cced"
      },
      "outputs": [
        {
          "data": {
            "text/plain": [
              "'Sainadh from first function'"
            ]
          },
          "execution_count": 4,
          "metadata": {},
          "output_type": "execute_result"
        }
      ],
      "source": [
        "function1(\"Sainadh\")"
      ]
    },
    {
      "cell_type": "code",
      "execution_count": 49,
      "id": "e030fa62",
      "metadata": {
        "id": "e030fa62",
        "outputId": "e02d9c96-888a-4de5-aa33-b31a94fd520c"
      },
      "outputs": [
        {
          "data": {
            "text/plain": [
              "'Bahadursha Bahadursha from second function'"
            ]
          },
          "execution_count": 49,
          "metadata": {},
          "output_type": "execute_result"
        }
      ],
      "source": [
        "function2(\"Bahadursha\")"
      ]
    },
    {
      "cell_type": "code",
      "execution_count": 50,
      "id": "36a9e3dc",
      "metadata": {
        "id": "36a9e3dc"
      },
      "outputs": [],
      "source": [
        "from langgraph.graph import Graph"
      ]
    },
    {
      "cell_type": "code",
      "execution_count": 51,
      "id": "1975fb71",
      "metadata": {
        "id": "1975fb71"
      },
      "outputs": [],
      "source": [
        "workflow1 = Graph()"
      ]
    },
    {
      "cell_type": "code",
      "execution_count": 52,
      "id": "2acc4344",
      "metadata": {
        "id": "2acc4344",
        "outputId": "c8d89e42-7502-466e-bba9-5f5e29b98d66"
      },
      "outputs": [
        {
          "data": {
            "text/plain": [
              "<langgraph.graph.graph.Graph at 0x16f94ae2450>"
            ]
          },
          "execution_count": 52,
          "metadata": {},
          "output_type": "execute_result"
        }
      ],
      "source": [
        "workflow1.add_node(\"fun1\",function1)"
      ]
    },
    {
      "cell_type": "code",
      "execution_count": 53,
      "id": "0eb9b0a9",
      "metadata": {
        "id": "0eb9b0a9",
        "outputId": "69600744-a866-491d-e520-623dddc0aa42"
      },
      "outputs": [
        {
          "data": {
            "text/plain": [
              "<langgraph.graph.graph.Graph at 0x16f94ae2450>"
            ]
          },
          "execution_count": 53,
          "metadata": {},
          "output_type": "execute_result"
        }
      ],
      "source": [
        "workflow1.add_node(\"fun2\",function2)"
      ]
    },
    {
      "cell_type": "code",
      "execution_count": 54,
      "id": "4de9ba38",
      "metadata": {
        "id": "4de9ba38",
        "outputId": "02700687-e4ab-4897-fda5-7f7e5a5fc19c"
      },
      "outputs": [
        {
          "data": {
            "text/plain": [
              "<langgraph.graph.graph.Graph at 0x16f94ae2450>"
            ]
          },
          "execution_count": 54,
          "metadata": {},
          "output_type": "execute_result"
        }
      ],
      "source": [
        "workflow1.add_edge(\"fun1\",\"fun2\")"
      ]
    },
    {
      "cell_type": "code",
      "execution_count": 55,
      "id": "67deaa83",
      "metadata": {
        "id": "67deaa83",
        "outputId": "22fef9fd-4ca7-4c0e-dac0-47a32df5e531"
      },
      "outputs": [
        {
          "data": {
            "text/plain": [
              "<langgraph.graph.graph.Graph at 0x16f94ae2450>"
            ]
          },
          "execution_count": 55,
          "metadata": {},
          "output_type": "execute_result"
        }
      ],
      "source": [
        "workflow1.set_entry_point(\"fun1\")"
      ]
    },
    {
      "cell_type": "code",
      "execution_count": 56,
      "id": "ffe2166b",
      "metadata": {
        "id": "ffe2166b",
        "outputId": "879bb30e-27fa-4c8f-f9f7-b7e0e22cdf39"
      },
      "outputs": [
        {
          "data": {
            "text/plain": [
              "<langgraph.graph.graph.Graph at 0x16f94ae2450>"
            ]
          },
          "execution_count": 56,
          "metadata": {},
          "output_type": "execute_result"
        }
      ],
      "source": [
        "workflow1.set_finish_point(\"fun2\")"
      ]
    },
    {
      "cell_type": "code",
      "execution_count": 57,
      "id": "72631973",
      "metadata": {
        "id": "72631973"
      },
      "outputs": [],
      "source": [
        "app = workflow1.compile()"
      ]
    },
    {
      "cell_type": "code",
      "execution_count": 58,
      "id": "a2eece4f",
      "metadata": {
        "id": "a2eece4f"
      },
      "outputs": [],
      "source": [
        "from IPython.display import Image, display"
      ]
    },
    {
      "cell_type": "code",
      "execution_count": 59,
      "id": "18685ba4",
      "metadata": {
        "id": "18685ba4",
        "outputId": "f740bf65-8e3a-4fff-e6a5-cde9652e08a6"
      },
      "outputs": [
        {
          "data": {
            "image/png": "[encoded data removed]",
            "text/plain": [
              "<IPython.core.display.Image object>"
            ]
          },
          "metadata": {},
          "output_type": "display_data"
        }
      ],
      "source": [
        "display(Image(app.get_graph().draw_mermaid_png()))"
      ]
    },
    {
      "cell_type": "code",
      "execution_count": 60,
      "id": "e402942c",
      "metadata": {
        "id": "e402942c",
        "outputId": "d6a6fa74-d02f-4bde-eb3f-47a058820abc"
      },
      "outputs": [
        {
          "data": {
            "text/plain": [
              "'Hi this is Sainadh from first function Bahadursha from second function'"
            ]
          },
          "execution_count": 60,
          "metadata": {},
          "output_type": "execute_result"
        }
      ],
      "source": [
        "app.invoke(\"Hi this is Sainadh\")"
      ]
    },
    {
      "cell_type": "code",
      "execution_count": 61,
      "id": "38ff59b1",
      "metadata": {
        "id": "38ff59b1",
        "outputId": "aa4f00d5-269d-4998-eece-814c564d57dc"
      },
      "outputs": [
        {
          "name": "stdout",
          "output_type": "stream",
          "text": [
            "here is output from fun1\n",
            "___________\n",
            "hi this is Sainadh from first function\n",
            "\n",
            "\n",
            "here is output from fun2\n",
            "___________\n",
            "hi this is Sainadh from first function Bahadursha from second function\n",
            "\n",
            "\n"
          ]
        }
      ],
      "source": [
        "for output in app.stream(\"hi this is Sainadh\"):\n",
        "    for key,value in output.items():\n",
        "        print(f\"here is output from {key}\")\n",
        "        print(\"___________\")\n",
        "        print(value)\n",
        "        print(\"\\n\")"
      ]
    },
    {
      "cell_type": "code",
      "execution_count": 62,
      "id": "3474cabe",
      "metadata": {
        "id": "3474cabe"
      },
      "outputs": [],
      "source": [
        "def llm(input):\n",
        "    from langchain_google_genai import ChatGoogleGenerativeAI\n",
        "    model=ChatGoogleGenerativeAI(model='gemini-1.5-flash')\n",
        "    output=model.invoke(input)\n",
        "    return output.content"
      ]
    },
    {
      "cell_type": "code",
      "execution_count": 63,
      "id": "add673f5",
      "metadata": {
        "id": "add673f5"
      },
      "outputs": [],
      "source": [
        "def token_counter(input):\n",
        "    token=input.split()\n",
        "    token_number=len(token)\n",
        "    return f\"total token number in the generated answer is {token_number}\""
      ]
    },
    {
      "cell_type": "code",
      "execution_count": 64,
      "id": "237c5260",
      "metadata": {
        "id": "237c5260"
      },
      "outputs": [],
      "source": [
        "workflow2 = Graph()"
      ]
    },
    {
      "cell_type": "code",
      "execution_count": 65,
      "id": "8164e715",
      "metadata": {
        "id": "8164e715",
        "outputId": "8afb391b-122f-4749-961c-c9880c033154"
      },
      "outputs": [
        {
          "data": {
            "text/plain": [
              "<langgraph.graph.graph.Graph at 0x16f94c5edd0>"
            ]
          },
          "execution_count": 65,
          "metadata": {},
          "output_type": "execute_result"
        }
      ],
      "source": [
        "workflow2.add_node(\"My_LLM\",llm)"
      ]
    },
    {
      "cell_type": "code",
      "execution_count": 66,
      "id": "eb3a2ab7",
      "metadata": {
        "id": "eb3a2ab7",
        "outputId": "c770d42d-ee7d-4c5f-9b66-ca5c3cc23642"
      },
      "outputs": [
        {
          "data": {
            "text/plain": [
              "<langgraph.graph.graph.Graph at 0x16f94c5edd0>"
            ]
          },
          "execution_count": 66,
          "metadata": {},
          "output_type": "execute_result"
        }
      ],
      "source": [
        "workflow2.add_node(\"LLM_Output_Token_Counter\",token_counter)"
      ]
    },
    {
      "cell_type": "code",
      "execution_count": 67,
      "id": "74aa047b",
      "metadata": {
        "id": "74aa047b",
        "outputId": "bfcee4ec-f78f-412a-8503-d1dbb7d30def"
      },
      "outputs": [
        {
          "data": {
            "text/plain": [
              "<langgraph.graph.graph.Graph at 0x16f94c5edd0>"
            ]
          },
          "execution_count": 67,
          "metadata": {},
          "output_type": "execute_result"
        }
      ],
      "source": [
        "workflow2.add_edge(\"My_LLM\",\"LLM_Output_Token_Counter\")"
      ]
    },
    {
      "cell_type": "code",
      "execution_count": 68,
      "id": "8bc79c3b",
      "metadata": {
        "id": "8bc79c3b",
        "outputId": "d388ba76-a665-47ed-c05f-6b7cf99d6b22"
      },
      "outputs": [
        {
          "data": {
            "text/plain": [
              "<langgraph.graph.graph.Graph at 0x16f94c5edd0>"
            ]
          },
          "execution_count": 68,
          "metadata": {},
          "output_type": "execute_result"
        }
      ],
      "source": [
        "workflow2.set_entry_point(\"My_LLM\")"
      ]
    },
    {
      "cell_type": "code",
      "execution_count": 69,
      "id": "01142311",
      "metadata": {
        "id": "01142311",
        "outputId": "ea81246d-3a1c-4b86-fb86-49461b14fc99"
      },
      "outputs": [
        {
          "data": {
            "text/plain": [
              "<langgraph.graph.graph.Graph at 0x16f94c5edd0>"
            ]
          },
          "execution_count": 69,
          "metadata": {},
          "output_type": "execute_result"
        }
      ],
      "source": [
        "workflow2.set_finish_point(\"LLM_Output_Token_Counter\")"
      ]
    },
    {
      "cell_type": "code",
      "execution_count": 70,
      "id": "48d7a68a",
      "metadata": {
        "id": "48d7a68a"
      },
      "outputs": [],
      "source": [
        "app=workflow2.compile()"
      ]
    },
    {
      "cell_type": "code",
      "execution_count": 71,
      "id": "75ae064f",
      "metadata": {
        "id": "75ae064f",
        "outputId": "32a75083-4845-4922-edda-b413da62c4be"
      },
      "outputs": [
        {
          "data": {
            "image/png": "[encoded data removed]",
            "text/plain": [
              "<IPython.core.display.Image object>"
            ]
          },
          "metadata": {},
          "output_type": "display_data"
        }
      ],
      "source": [
        "display(Image(app.get_graph().draw_mermaid_png()))"
      ]
    },
    {
      "cell_type": "code",
      "execution_count": 75,
      "id": "d42406d1",
      "metadata": {},
      "outputs": [
        {
          "data": {
            "text/plain": [
              "True"
            ]
          },
          "execution_count": 75,
          "metadata": {},
          "output_type": "execute_result"
        }
      ],
      "source": [
        "from dotenv import load_dotenv\n",
        "load_dotenv()"
      ]
    },
    {
      "cell_type": "code",
      "execution_count": 76,
      "id": "0991d0f0",
      "metadata": {
        "id": "0991d0f0",
        "outputId": "5509dc3c-9849-45fa-e253-8fb4412ec774"
      },
      "outputs": [
        {
          "data": {
            "text/plain": [
              "'total token number in the generated answer is 68'"
            ]
          },
          "execution_count": 76,
          "metadata": {},
          "output_type": "execute_result"
        }
      ],
      "source": [
        "app.invoke(\"can you tell me about the india's capital?\")"
      ]
    },
    {
      "cell_type": "code",
      "execution_count": 77,
      "id": "37ea37d8",
      "metadata": {
        "id": "37ea37d8",
        "outputId": "3e9eab31-fac1-4811-c3a0-3ecc43649096"
      },
      "outputs": [
        {
          "data": {
            "text/plain": [
              "'total token number in the generated answer is 667'"
            ]
          },
          "execution_count": 77,
          "metadata": {},
          "output_type": "execute_result"
        }
      ],
      "source": [
        "app.invoke(\"tell me about the tata enterpirse in very detail.\")"
      ]
    },
    {
      "cell_type": "code",
      "execution_count": 78,
      "id": "04d63af3",
      "metadata": {
        "id": "04d63af3",
        "outputId": "47c967df-ac77-4392-8613-815f7404df73"
      },
      "outputs": [
        {
          "name": "stdout",
          "output_type": "stream",
          "text": [
            "here is output from My_LLM\n",
            "_______\n",
            "Tata Enterprises, more accurately referred to as the **Tata Group**, is a massive Indian multinational conglomerate headquartered in Mumbai, Maharashtra.  It's not a single entity but a network of over 100 operating companies, spanning diverse sectors and employing millions of people globally.  Understanding its complexity requires looking at several key aspects:\n",
            "\n",
            "**I. History and Structure:**\n",
            "\n",
            "* **Origins:** The group traces its roots back to 1868 when Jamsetji Tata founded the Tata & Sons trading company.  His vision extended beyond profit, encompassing social responsibility and nation-building, a philosophy that continues to define the group.\n",
            "* **Structure:**  The Tata Group isn't a typical corporation.  It's a complex web of independent companies, many publicly listed, held together by a shared philosophy and the overarching influence of Tata Sons, the holding company.  Tata Sons owns substantial stakes in many group companies, but doesn't directly manage their day-to-day operations.  Instead, each company has its own board and management team.\n",
            "* **Trusts:**  A significant portion of Tata Sons is owned by philanthropic trusts, including the Sir Dorabji Tata Trust and the Sir Ratan Tata Trust.  These trusts play a crucial role in shaping the group's social responsibility initiatives and ensuring long-term sustainability.  Their ownership structure contributes to the group's unique character and long-term focus.\n",
            "* **Leadership:** The group's leadership has historically been characterized by strong, visionary leaders, starting with Jamsetji Tata himself and continuing through figures like J.R.D. Tata and Ratan Tata.  The chairman of Tata Sons plays a crucial role in setting the overall direction and strategy for the entire group.\n",
            "\n",
            "**II. Business Sectors:**\n",
            "\n",
            "The Tata Group's reach is extraordinary, encompassing nearly every major sector of the economy.  Some key areas include:\n",
            "\n",
            "* **Automotive:** Tata Motors, one of the largest automobile manufacturers in India, produces passenger cars, commercial vehicles, and even luxury vehicles (Jaguar Land Rover).\n",
            "* **Steel:** Tata Steel is a global steel giant, with operations across multiple countries.\n",
            "* **Information Technology:** Tata Consultancy Services (TCS) is a leading global IT services and consulting company, employing hundreds of thousands. Tata Elxsi is another significant player in the IT space, focusing on embedded systems, design, and software.\n",
            "* **Consumer Goods:**  The group has a substantial presence in consumer goods, with brands like Tata Tea, Tata Salt, and Tata Coffee dominating the Indian market.  They also have interests in packaged foods and personal care products.\n",
            "* **Chemicals:** Tata Chemicals is a significant player in the chemicals industry, producing a wide range of products.\n",
            "* **Energy:** Tata Power is a major player in the Indian power sector, involved in generation, transmission, and distribution.\n",
            "* **Telecommunications:** Tata Teleservices was once a major player, though it has since undergone restructuring.\n",
            "* **Hospitality:**  The Indian Hotels Company Limited (IHCL), which owns the Taj Hotels brand, is a leader in the luxury hospitality sector.\n",
            "* **Aerospace & Defence:** Tata Advanced Systems is a growing player in this sector.\n",
            "* **Financial Services:** Tata Capital and other entities offer a range of financial services.\n",
            "\n",
            "**III. Global Presence:**\n",
            "\n",
            "The Tata Group is not just an Indian giant; it has a significant international presence.  Jaguar Land Rover, acquired by Tata Motors, is a prime example.  TCS and other IT companies have global operations and serve clients worldwide.  The group also has operations in various other countries across Asia, Europe, and the Americas.\n",
            "\n",
            "**IV. Social Responsibility:**\n",
            "\n",
            "The Tata Group's commitment to social responsibility is a cornerstone of its identity.  The philanthropic trusts actively support initiatives in education, healthcare, rural development, and environmental sustainability.  This commitment is integrated into the group's business practices and is often cited as a key differentiator.\n",
            "\n",
            "**V. Challenges and Criticisms:**\n",
            "\n",
            "Despite its success, the Tata Group faces challenges:\n",
            "\n",
            "* **Complexity:** The sheer size and complexity of the group can make decision-making slow and coordination difficult.\n",
            "* **Competition:**  The group faces intense competition in many of its sectors.\n",
            "* **Economic Downturns:**  Like any large conglomerate, it's vulnerable to economic fluctuations.\n",
            "* **Succession Planning:**  Maintaining consistent leadership and vision after significant leadership changes is a constant challenge.\n",
            "* **Criticism regarding labor practices:**  Like many large corporations, the Tata Group has faced criticism regarding labor practices in some of its subsidiaries.\n",
            "\n",
            "\n",
            "In conclusion, the Tata Group is a multifaceted and influential conglomerate with a long history and a profound impact on India and the global economy.  Its unique structure, commitment to social responsibility, and diverse business portfolio make it a fascinating case study in corporate strategy and global business.  However, it's also a complex organization facing the challenges inherent in its size and scope.\n",
            "\n",
            "\n",
            "here is output from LLM_Output_Token_Counter\n",
            "_______\n",
            "total token number in the generated answer is 749\n",
            "\n",
            "\n"
          ]
        }
      ],
      "source": [
        "for output in app.stream(\"tell me about the tata enterpirse in very detail.\"):\n",
        "    for key,value in output.items():\n",
        "        print(f\"here is output from {key}\")\n",
        "        print(\"_______\")\n",
        "        print(value)\n",
        "        print(\"\\n\")"
      ]
    },
    {
      "cell_type": "markdown",
      "id": "fef12522",
      "metadata": {
        "id": "fef12522"
      },
      "source": [
        "## Langgraph Intro 2"
      ]
    },
    {
      "cell_type": "markdown",
      "id": "680faf98",
      "metadata": {
        "id": "680faf98"
      },
      "source": [
        "### Config the model"
      ]
    },
    {
      "cell_type": "code",
      "execution_count": 1,
      "id": "ba13a88f",
      "metadata": {
        "id": "ba13a88f",
        "outputId": "57a92c09-0956-48c8-b344-e093aebf577a"
      },
      "outputs": [
        {
          "name": "stdout",
          "output_type": "stream",
          "text": [
            "Hi there! How can I help you today?\n"
          ]
        }
      ],
      "source": [
        "from langchain_google_genai import ChatGoogleGenerativeAI\n",
        "model=ChatGoogleGenerativeAI(model='gemini-1.5-flash')\n",
        "output=model.invoke(\"hi\")\n",
        "print(output.content)"
      ]
    },
    {
      "cell_type": "markdown",
      "id": "aa63b77a",
      "metadata": {
        "id": "aa63b77a"
      },
      "source": [
        "### Config the embedding model"
      ]
    },
    {
      "cell_type": "code",
      "execution_count": 2,
      "id": "48ae5bee",
      "metadata": {
        "id": "48ae5bee",
        "outputId": "4cd2db08-bd8c-4304-951b-75a5e3971b67"
      },
      "outputs": [
        {
          "name": "stderr",
          "output_type": "stream",
          "text": [
            "c:\\Users\\saina\\.conda\\envs\\agentic_base\\Lib\\site-packages\\tqdm\\auto.py:21: TqdmWarning: IProgress not found. Please update jupyter and ipywidgets. See https://ipywidgets.readthedocs.io/en/stable/user_install.html\n",
            "  from .autonotebook import tqdm as notebook_tqdm\n"
          ]
        },
        {
          "data": {
            "text/plain": [
              "384"
            ]
          },
          "execution_count": 2,
          "metadata": {},
          "output_type": "execute_result"
        }
      ],
      "source": [
        "from langchain_huggingface import HuggingFaceEmbeddings\n",
        "embeddings = HuggingFaceEmbeddings(model_name=\"BAAI/bge-small-en\")\n",
        "len(embeddings.embed_query(\"hi\"))"
      ]
    },
    {
      "cell_type": "markdown",
      "id": "57003fe4",
      "metadata": {
        "id": "57003fe4"
      },
      "source": [
        "### lets take a data embedd it and store in VDB"
      ]
    },
    {
      "cell_type": "code",
      "execution_count": 3,
      "id": "0994875e",
      "metadata": {
        "id": "0994875e"
      },
      "outputs": [],
      "source": [
        "from langchain_community.document_loaders import TextLoader, DirectoryLoader\n",
        "from langchain_community.vectorstores import FAISS\n",
        "# from langchain_community.vectorstores import Chroma\n",
        "from langchain.text_splitter import RecursiveCharacterTextSplitter"
      ]
    },
    {
      "cell_type": "code",
      "execution_count": 4,
      "id": "1da8893f",
      "metadata": {
        "id": "1da8893f"
      },
      "outputs": [],
      "source": [
        "loader=DirectoryLoader(\"data\",glob=\"./*.txt\",loader_cls=TextLoader)"
      ]
    },
    {
      "cell_type": "code",
      "execution_count": 5,
      "id": "6516d2cd",
      "metadata": {
        "id": "6516d2cd"
      },
      "outputs": [],
      "source": [
        "docs=loader.load()"
      ]
    },
    {
      "cell_type": "code",
      "execution_count": 6,
      "id": "0d100ab2",
      "metadata": {
        "id": "0d100ab2",
        "outputId": "3d2ef504-de8b-4ab2-9ce8-9c33c9c96b3d"
      },
      "outputs": [
        {
          "data": {
            "text/plain": [
              "[Document(metadata={'source': 'data\\\\speech.txt'}, page_content='The world must be made safe for democracy. Its peace must be planted upon the tested foundations of political liberty. We have no selfish ends to serve. We desire no conquest, no dominion. We seek no indemnities for ourselves, no material compensation for the sacrifices we shall freely make. We are but one of the champions of the rights of mankind. We shall be satisfied when those rights have been made as secure as the faith and the freedom of nations can make them.\\n\\nJust because we fight without rancor and without selfish object, seeking nothing for ourselves but what we shall wish to share with all free peoples, we shall, I feel confident, conduct our operations as belligerents without passion and ourselves observe with proud punctilio the principles of right and of fair play we profess to be fighting for.\\n\\n…\\n\\nIt will be all the easier for us to conduct ourselves as belligerents in a high spirit of right and fairness because we act without animus, not in enmity toward a people or with the desire to bring any injury or disadvantage upon them, but only in armed opposition to an irresponsible government which has thrown aside all considerations of humanity and of right and is running amuck. We are, let me say again, the sincere friends of the German people, and shall desire nothing so much as the early reestablishment of intimate relations of mutual advantage between us—however hard it may be for them, for the time being, to believe that this is spoken from our hearts.\\n\\nWe have borne with their present government through all these bitter months because of that friendship—exercising a patience and forbearance which would otherwise have been impossible. We shall, happily, still have an opportunity to prove that friendship in our daily attitude and actions toward the millions of men and women of German birth and native sympathy who live among us and share our life, and we shall be proud to prove it toward all who are in fact loyal to their neighbors and to the government in the hour of test. They are, most of them, as true and loyal Americans as if they had never known any other fealty or allegiance. They will be prompt to stand with us in rebuking and restraining the few who may be of a different mind and purpose. If there should be disloyalty, it will be dealt with with a firm hand of stern repression; but, if it lifts its head at all, it will lift it only here and there and without countenance except from a lawless and malignant few.\\n\\nIt is a distressing and oppressive duty, gentlemen of the Congress, which I have performed in thus addressing you. There are, it may be, many months of fiery trial and sacrifice ahead of us. It is a fearful thing to lead this great peaceful people into war, into the most terrible and disastrous of all wars, civilization itself seeming to be in the balance. But the right is more precious than peace, and we shall fight for the things which we have always carried nearest our hearts—for democracy, for the right of those who submit to authority to have a voice in their own governments, for the rights and liberties of small nations, for a universal dominion of right by such a concert of free peoples as shall bring peace and safety to all nations and make the world itself at last free.\\n\\nTo such a task we can dedicate our lives and our fortunes, everything that we are and everything that we have, with the pride of those who know that the day has come when America is privileged to spend her blood and her might for the principles that gave her birth and happiness and the peace which she has treasured. God helping her, she can do no other.'),\n",
              " Document(metadata={'source': 'data\\\\usa.txt'}, page_content=\"🇺🇸 Overview of the U.S. Economy\\nThe United States of America possesses the largest economy in the world in terms of nominal GDP, making it the most powerful economic force globally. It operates under a capitalist mixed economy, where the private sector dominates, but the government plays a significant regulatory and fiscal role. With a population of over 335 million people and a high level of technological advancement, the U.S. economy thrives on a foundation of consumer spending, innovation, global trade, and financial services. It has a highly diversified structure with strong sectors in technology, healthcare, finance, real estate, defense, and agriculture.\\n\\nU.S. GDP – Size, Composition, and Global Share\\nAs of 2024, the United States’ nominal GDP is estimated to be around $28 trillion USD, accounting for approximately 25% of the global economy. It ranks #1 in the world by nominal GDP, far ahead of China (which ranks 2nd). The U.S. GDP per capita is also among the highest, hovering around $83,000, which indicates a high standard of living and productivity. In terms of Purchasing Power Parity (PPP), the U.S. ranks second, but nominal GDP is considered more reflective of actual economic size and financial influence.\\n\\nThe GDP is predominantly driven by the services sector, which contributes more than 77% to the total GDP. This includes industries such as finance, insurance, real estate, healthcare, education, and information technology. The industrial sector (manufacturing, construction, mining) makes up around 19%, while agriculture, although technologically advanced and export-oriented, contributes only about 1%. Despite its small share in GDP, U.S. agriculture is globally significant in terms of productivity and exports.\\n\\nGDP Growth Trends and Dynamics\\nHistorically, the U.S. economy has enjoyed consistent long-term growth, averaging around 2-3% annually. Post-pandemic, the economy bounced back strongly, but 2022 and 2023 saw rising inflation due to supply chain issues and stimulus-driven demand. In 2024, the U.S. GDP grew at a modest pace of around 2.1%, as the Federal Reserve’s interest rate hikes aimed at controlling inflation also moderated economic expansion. Consumer spending, which makes up nearly 70% of GDP, remains a dominant force in economic stability.\\n\\nThe U.S. maintains its GDP growth through strong innovation, entrepreneurship, and investment in R&D. With companies like Apple, Google, Amazon, Microsoft, and Tesla leading global markets, the U.S. consistently produces high value across sectors, especially in technology and advanced services. Additionally, the economy benefits from intellectual property exports, financial services, and higher education, all of which contribute significantly to GDP through both domestic and international markets.\\n\\nRole in the Global Economy\\nThe U.S. Dollar (USD) is the global reserve currency, held by over 60% of the world’s central bank reserves. This gives the U.S. an enormous advantage in global trade and borrowing. The U.S. is a key member of international institutions like the World Bank, IMF, G7, G20, and WTO, and plays a central role in setting global economic policy.\\n\\nAs a global innovation hub, the U.S. attracts billions in foreign investment and hosts many of the world's largest and most valuable companies. Its exports include high-tech machinery, aircraft, pharmaceuticals, semiconductors, and financial services, while its imports cover consumer goods, electronics, automobiles, and industrial materials. The trade deficit remains large (around $900 billion in 2024), primarily because the U.S. consumes more than it exports, but its ability to finance this through capital inflows and reserve currency status sustains balance.\\n\\nKey Economic Strengths\\nThe core strength of the U.S. economy lies in its flexible labor market, deep capital markets, technological superiority, and legal system that encourages innovation and property rights. It has a large, highly educated workforce, a diverse immigration pipeline, and access to vast natural resources including oil, gas, coal, and farmland. The presence of top-tier universities and research institutions fuels the knowledge economy, with billions spent annually on R&D—over $700 billion USD, more than any other country.\\n\\nThe U.S. leads in many critical sectors, including software, biotechnology, aerospace, defense, financial services, and media. Its startup ecosystem, especially in Silicon Valley, produces unicorns and tech giants at a scale unmatched globally. Its financial markets—particularly Wall Street—are the most liquid and globally integrated in the world.\\n\\nChallenges and Structural Issues\\nDespite its strength, the U.S. economy faces several serious long-term issues. The national debt has surpassed $34 trillion USD, raising concerns about fiscal sustainability, especially as interest payments alone are growing rapidly. The income and wealth inequality gap has widened, with a small percentage of Americans owning a disproportionate share of wealth. Access to affordable healthcare, housing shortages, and a declining labor force participation in some sectors are additional structural issues.\\n\\nAnother growing concern is political polarization, which often stalls crucial economic reforms and budget agreements, as seen in recurrent debt ceiling crises. The U.S. also faces challenges from global competition, especially from China in areas like AI, semiconductors, and green technology. Moreover, climate change, cybersecurity threats, and geopolitical risks (like Ukraine and Taiwan conflicts) add layers of vulnerability to economic planning.\\n\\nFuture Outlook (2025–2030)\\nLooking forward, the U.S. economy is expected to grow at a moderate pace, powered by innovation in AI, green energy, robotics, biotech, and quantum computing. The Biden administration’s Inflation Reduction Act and CHIPS Act are pumping massive investments into semiconductors, clean energy, and infrastructure. There is a strong push for reshoring of manufacturing, especially in critical sectors like chips, pharmaceuticals, and batteries.\\n\\nHowever, economic leadership will depend on managing the national debt, reforming entitlement programs, upgrading infrastructure, and ensuring the next generation is equipped with digital-age skills. If the U.S. can handle these challenges, it is well-positioned to remain a global economic powerhouse through 2030 and beyond.\\n\\nFinal Summary\\nThe U.S. economy remains the engine of global growth, backed by unmatched innovation, financial dominance, and a strong institutional framework. Its $28 trillion GDP and influence over global finance, trade, and technology make it the centerpiece of the modern economic system. Yet, rising debt, inequality, political gridlock, and competition from emerging powers demand careful policy navigation. If successfully addressed, the U.S. will continue to dominate the global economy well into the future.\")]"
            ]
          },
          "execution_count": 6,
          "metadata": {},
          "output_type": "execute_result"
        }
      ],
      "source": [
        "docs"
      ]
    },
    {
      "cell_type": "code",
      "execution_count": 7,
      "id": "32db3be9",
      "metadata": {
        "id": "32db3be9",
        "outputId": "84b014b4-379e-457c-9947-2184f4c65583"
      },
      "outputs": [
        {
          "data": {
            "text/plain": [
              "'The world must be made safe for democracy. Its peace must be planted upon the tested foundations of political liberty. We have no selfish ends to serve. We desire no conquest, no dominion. We seek no indemnities for ourselves, no material compensation for the sacrifices we shall freely make. We are but one of the champions of the rights of mankind. We shall be satisfied when those rights have been made as secure as the faith and the freedom of nations can make them.\\n\\nJust because we fight without rancor and without selfish object, seeking nothing for ourselves but what we shall wish to share with all free peoples, we shall, I feel confident, conduct our operations as belligerents without passion and ourselves observe with proud punctilio the principles of right and of fair play we profess to be fighting for.\\n\\n…\\n\\nIt will be all the easier for us to conduct ourselves as belligerents in a high spirit of right and fairness because we act without animus, not in enmity toward a people or with the desire to bring any injury or disadvantage upon them, but only in armed opposition to an irresponsible government which has thrown aside all considerations of humanity and of right and is running amuck. We are, let me say again, the sincere friends of the German people, and shall desire nothing so much as the early reestablishment of intimate relations of mutual advantage between us—however hard it may be for them, for the time being, to believe that this is spoken from our hearts.\\n\\nWe have borne with their present government through all these bitter months because of that friendship—exercising a patience and forbearance which would otherwise have been impossible. We shall, happily, still have an opportunity to prove that friendship in our daily attitude and actions toward the millions of men and women of German birth and native sympathy who live among us and share our life, and we shall be proud to prove it toward all who are in fact loyal to their neighbors and to the government in the hour of test. They are, most of them, as true and loyal Americans as if they had never known any other fealty or allegiance. They will be prompt to stand with us in rebuking and restraining the few who may be of a different mind and purpose. If there should be disloyalty, it will be dealt with with a firm hand of stern repression; but, if it lifts its head at all, it will lift it only here and there and without countenance except from a lawless and malignant few.\\n\\nIt is a distressing and oppressive duty, gentlemen of the Congress, which I have performed in thus addressing you. There are, it may be, many months of fiery trial and sacrifice ahead of us. It is a fearful thing to lead this great peaceful people into war, into the most terrible and disastrous of all wars, civilization itself seeming to be in the balance. But the right is more precious than peace, and we shall fight for the things which we have always carried nearest our hearts—for democracy, for the right of those who submit to authority to have a voice in their own governments, for the rights and liberties of small nations, for a universal dominion of right by such a concert of free peoples as shall bring peace and safety to all nations and make the world itself at last free.\\n\\nTo such a task we can dedicate our lives and our fortunes, everything that we are and everything that we have, with the pride of those who know that the day has come when America is privileged to spend her blood and her might for the principles that gave her birth and happiness and the peace which she has treasured. God helping her, she can do no other.'"
            ]
          },
          "execution_count": 7,
          "metadata": {},
          "output_type": "execute_result"
        }
      ],
      "source": [
        "docs[0].page_content"
      ]
    },
    {
      "cell_type": "code",
      "execution_count": 8,
      "id": "75a338e8",
      "metadata": {
        "id": "75a338e8"
      },
      "outputs": [],
      "source": [
        "text_splitter=RecursiveCharacterTextSplitter(\n",
        "    chunk_size=200,\n",
        "    chunk_overlap=50\n",
        ")"
      ]
    },
    {
      "cell_type": "code",
      "execution_count": 9,
      "id": "9cdeb0c1",
      "metadata": {
        "id": "9cdeb0c1"
      },
      "outputs": [],
      "source": [
        "new_docs=text_splitter.split_documents(documents=docs)"
      ]
    },
    {
      "cell_type": "code",
      "execution_count": 10,
      "id": "51c77f95",
      "metadata": {
        "id": "51c77f95",
        "outputId": "0ec67e22-4b9c-4b19-f2ed-6d588a2dc93c"
      },
      "outputs": [
        {
          "data": {
            "text/plain": [
              "[Document(metadata={'source': 'data\\\\speech.txt'}, page_content='The world must be made safe for democracy. Its peace must be planted upon the tested foundations of political liberty. We have no selfish ends to serve. We desire no conquest, no dominion. We seek no'),\n",
              " Document(metadata={'source': 'data\\\\speech.txt'}, page_content='We desire no conquest, no dominion. We seek no indemnities for ourselves, no material compensation for the sacrifices we shall freely make. We are but one of the champions of the rights of mankind.'),\n",
              " Document(metadata={'source': 'data\\\\speech.txt'}, page_content='one of the champions of the rights of mankind. We shall be satisfied when those rights have been made as secure as the faith and the freedom of nations can make them.'),\n",
              " Document(metadata={'source': 'data\\\\speech.txt'}, page_content='Just because we fight without rancor and without selfish object, seeking nothing for ourselves but what we shall wish to share with all free peoples, we shall, I feel confident, conduct our'),\n",
              " Document(metadata={'source': 'data\\\\speech.txt'}, page_content='peoples, we shall, I feel confident, conduct our operations as belligerents without passion and ourselves observe with proud punctilio the principles of right and of fair play we profess to be'),\n",
              " Document(metadata={'source': 'data\\\\speech.txt'}, page_content='of right and of fair play we profess to be fighting for.'),\n",
              " Document(metadata={'source': 'data\\\\speech.txt'}, page_content='…'),\n",
              " Document(metadata={'source': 'data\\\\speech.txt'}, page_content='It will be all the easier for us to conduct ourselves as belligerents in a high spirit of right and fairness because we act without animus, not in enmity toward a people or with the desire to bring'),\n",
              " Document(metadata={'source': 'data\\\\speech.txt'}, page_content='toward a people or with the desire to bring any injury or disadvantage upon them, but only in armed opposition to an irresponsible government which has thrown aside all considerations of humanity and'),\n",
              " Document(metadata={'source': 'data\\\\speech.txt'}, page_content='thrown aside all considerations of humanity and of right and is running amuck. We are, let me say again, the sincere friends of the German people, and shall desire nothing so much as the early'),\n",
              " Document(metadata={'source': 'data\\\\speech.txt'}, page_content='and shall desire nothing so much as the early reestablishment of intimate relations of mutual advantage between us—however hard it may be for them, for the time being, to believe that this is spoken'),\n",
              " Document(metadata={'source': 'data\\\\speech.txt'}, page_content='the time being, to believe that this is spoken from our hearts.'),\n",
              " Document(metadata={'source': 'data\\\\speech.txt'}, page_content='We have borne with their present government through all these bitter months because of that friendship—exercising a patience and forbearance which would otherwise have been impossible. We shall,'),\n",
              " Document(metadata={'source': 'data\\\\speech.txt'}, page_content='would otherwise have been impossible. We shall, happily, still have an opportunity to prove that friendship in our daily attitude and actions toward the millions of men and women of German birth and'),\n",
              " Document(metadata={'source': 'data\\\\speech.txt'}, page_content='the millions of men and women of German birth and native sympathy who live among us and share our life, and we shall be proud to prove it toward all who are in fact loyal to their neighbors and to'),\n",
              " Document(metadata={'source': 'data\\\\speech.txt'}, page_content='who are in fact loyal to their neighbors and to the government in the hour of test. They are, most of them, as true and loyal Americans as if they had never known any other fealty or allegiance. They'),\n",
              " Document(metadata={'source': 'data\\\\speech.txt'}, page_content='never known any other fealty or allegiance. They will be prompt to stand with us in rebuking and restraining the few who may be of a different mind and purpose. If there should be disloyalty, it will'),\n",
              " Document(metadata={'source': 'data\\\\speech.txt'}, page_content='purpose. If there should be disloyalty, it will be dealt with with a firm hand of stern repression; but, if it lifts its head at all, it will lift it only here and there and without countenance'),\n",
              " Document(metadata={'source': 'data\\\\speech.txt'}, page_content='it only here and there and without countenance except from a lawless and malignant few.'),\n",
              " Document(metadata={'source': 'data\\\\speech.txt'}, page_content='It is a distressing and oppressive duty, gentlemen of the Congress, which I have performed in thus addressing you. There are, it may be, many months of fiery trial and sacrifice ahead of us. It is a'),\n",
              " Document(metadata={'source': 'data\\\\speech.txt'}, page_content='of fiery trial and sacrifice ahead of us. It is a fearful thing to lead this great peaceful people into war, into the most terrible and disastrous of all wars, civilization itself seeming to be in'),\n",
              " Document(metadata={'source': 'data\\\\speech.txt'}, page_content='of all wars, civilization itself seeming to be in the balance. But the right is more precious than peace, and we shall fight for the things which we have always carried nearest our hearts—for'),\n",
              " Document(metadata={'source': 'data\\\\speech.txt'}, page_content='we have always carried nearest our hearts—for democracy, for the right of those who submit to authority to have a voice in their own governments, for the rights and liberties of small nations, for a'),\n",
              " Document(metadata={'source': 'data\\\\speech.txt'}, page_content='the rights and liberties of small nations, for a universal dominion of right by such a concert of free peoples as shall bring peace and safety to all nations and make the world itself at last free.'),\n",
              " Document(metadata={'source': 'data\\\\speech.txt'}, page_content='To such a task we can dedicate our lives and our fortunes, everything that we are and everything that we have, with the pride of those who know that the day has come when America is privileged to'),\n",
              " Document(metadata={'source': 'data\\\\speech.txt'}, page_content='the day has come when America is privileged to spend her blood and her might for the principles that gave her birth and happiness and the peace which she has treasured. God helping her, she can do no'),\n",
              " Document(metadata={'source': 'data\\\\speech.txt'}, page_content='she has treasured. God helping her, she can do no other.'),\n",
              " Document(metadata={'source': 'data\\\\usa.txt'}, page_content='🇺🇸 Overview of the U.S. Economy'),\n",
              " Document(metadata={'source': 'data\\\\usa.txt'}, page_content='The United States of America possesses the largest economy in the world in terms of nominal GDP, making it the most powerful economic force globally. It operates under a capitalist mixed economy,'),\n",
              " Document(metadata={'source': 'data\\\\usa.txt'}, page_content='It operates under a capitalist mixed economy, where the private sector dominates, but the government plays a significant regulatory and fiscal role. With a population of over 335 million people and a'),\n",
              " Document(metadata={'source': 'data\\\\usa.txt'}, page_content='a population of over 335 million people and a high level of technological advancement, the U.S. economy thrives on a foundation of consumer spending, innovation, global trade, and financial services.'),\n",
              " Document(metadata={'source': 'data\\\\usa.txt'}, page_content='innovation, global trade, and financial services. It has a highly diversified structure with strong sectors in technology, healthcare, finance, real estate, defense, and agriculture.'),\n",
              " Document(metadata={'source': 'data\\\\usa.txt'}, page_content='U.S. GDP – Size, Composition, and Global Share'),\n",
              " Document(metadata={'source': 'data\\\\usa.txt'}, page_content='As of 2024, the United States’ nominal GDP is estimated to be around $28 trillion USD, accounting for approximately 25% of the global economy. It ranks #1 in the world by nominal GDP, far ahead of'),\n",
              " Document(metadata={'source': 'data\\\\usa.txt'}, page_content='#1 in the world by nominal GDP, far ahead of China (which ranks 2nd). The U.S. GDP per capita is also among the highest, hovering around $83,000, which indicates a high standard of living and'),\n",
              " Document(metadata={'source': 'data\\\\usa.txt'}, page_content='which indicates a high standard of living and productivity. In terms of Purchasing Power Parity (PPP), the U.S. ranks second, but nominal GDP is considered more reflective of actual economic size and'),\n",
              " Document(metadata={'source': 'data\\\\usa.txt'}, page_content='more reflective of actual economic size and financial influence.'),\n",
              " Document(metadata={'source': 'data\\\\usa.txt'}, page_content='The GDP is predominantly driven by the services sector, which contributes more than 77% to the total GDP. This includes industries such as finance, insurance, real estate, healthcare, education, and'),\n",
              " Document(metadata={'source': 'data\\\\usa.txt'}, page_content='real estate, healthcare, education, and information technology. The industrial sector (manufacturing, construction, mining) makes up around 19%, while agriculture, although technologically advanced'),\n",
              " Document(metadata={'source': 'data\\\\usa.txt'}, page_content='agriculture, although technologically advanced and export-oriented, contributes only about 1%. Despite its small share in GDP, U.S. agriculture is globally significant in terms of productivity and'),\n",
              " Document(metadata={'source': 'data\\\\usa.txt'}, page_content='globally significant in terms of productivity and exports.'),\n",
              " Document(metadata={'source': 'data\\\\usa.txt'}, page_content='GDP Growth Trends and Dynamics'),\n",
              " Document(metadata={'source': 'data\\\\usa.txt'}, page_content='Historically, the U.S. economy has enjoyed consistent long-term growth, averaging around 2-3% annually. Post-pandemic, the economy bounced back strongly, but 2022 and 2023 saw rising inflation due to'),\n",
              " Document(metadata={'source': 'data\\\\usa.txt'}, page_content='but 2022 and 2023 saw rising inflation due to supply chain issues and stimulus-driven demand. In 2024, the U.S. GDP grew at a modest pace of around 2.1%, as the Federal Reserve’s interest rate hikes'),\n",
              " Document(metadata={'source': 'data\\\\usa.txt'}, page_content='as the Federal Reserve’s interest rate hikes aimed at controlling inflation also moderated economic expansion. Consumer spending, which makes up nearly 70% of GDP, remains a dominant force in'),\n",
              " Document(metadata={'source': 'data\\\\usa.txt'}, page_content='up nearly 70% of GDP, remains a dominant force in economic stability.'),\n",
              " Document(metadata={'source': 'data\\\\usa.txt'}, page_content='The U.S. maintains its GDP growth through strong innovation, entrepreneurship, and investment in R&D. With companies like Apple, Google, Amazon, Microsoft, and Tesla leading global markets, the U.S.'),\n",
              " Document(metadata={'source': 'data\\\\usa.txt'}, page_content='and Tesla leading global markets, the U.S. consistently produces high value across sectors, especially in technology and advanced services. Additionally, the economy benefits from intellectual'),\n",
              " Document(metadata={'source': 'data\\\\usa.txt'}, page_content='the economy benefits from intellectual property exports, financial services, and higher education, all of which contribute significantly to GDP through both domestic and international markets.'),\n",
              " Document(metadata={'source': 'data\\\\usa.txt'}, page_content='Role in the Global Economy'),\n",
              " Document(metadata={'source': 'data\\\\usa.txt'}, page_content='The U.S. Dollar (USD) is the global reserve currency, held by over 60% of the world’s central bank reserves. This gives the U.S. an enormous advantage in global trade and borrowing. The U.S. is a key'),\n",
              " Document(metadata={'source': 'data\\\\usa.txt'}, page_content='in global trade and borrowing. The U.S. is a key member of international institutions like the World Bank, IMF, G7, G20, and WTO, and plays a central role in setting global economic policy.'),\n",
              " Document(metadata={'source': 'data\\\\usa.txt'}, page_content=\"As a global innovation hub, the U.S. attracts billions in foreign investment and hosts many of the world's largest and most valuable companies. Its exports include high-tech machinery, aircraft,\"),\n",
              " Document(metadata={'source': 'data\\\\usa.txt'}, page_content='exports include high-tech machinery, aircraft, pharmaceuticals, semiconductors, and financial services, while its imports cover consumer goods, electronics, automobiles, and industrial materials. The'),\n",
              " Document(metadata={'source': 'data\\\\usa.txt'}, page_content='automobiles, and industrial materials. The trade deficit remains large (around $900 billion in 2024), primarily because the U.S. consumes more than it exports, but its ability to finance this through'),\n",
              " Document(metadata={'source': 'data\\\\usa.txt'}, page_content='exports, but its ability to finance this through capital inflows and reserve currency status sustains balance.'),\n",
              " Document(metadata={'source': 'data\\\\usa.txt'}, page_content='Key Economic Strengths'),\n",
              " Document(metadata={'source': 'data\\\\usa.txt'}, page_content='The core strength of the U.S. economy lies in its flexible labor market, deep capital markets, technological superiority, and legal system that encourages innovation and property rights. It has a'),\n",
              " Document(metadata={'source': 'data\\\\usa.txt'}, page_content='innovation and property rights. It has a large, highly educated workforce, a diverse immigration pipeline, and access to vast natural resources including oil, gas, coal, and farmland. The presence of'),\n",
              " Document(metadata={'source': 'data\\\\usa.txt'}, page_content='oil, gas, coal, and farmland. The presence of top-tier universities and research institutions fuels the knowledge economy, with billions spent annually on R&D—over $700 billion USD, more than any'),\n",
              " Document(metadata={'source': 'data\\\\usa.txt'}, page_content='on R&D—over $700 billion USD, more than any other country.'),\n",
              " Document(metadata={'source': 'data\\\\usa.txt'}, page_content='The U.S. leads in many critical sectors, including software, biotechnology, aerospace, defense, financial services, and media. Its startup ecosystem, especially in Silicon Valley, produces unicorns'),\n",
              " Document(metadata={'source': 'data\\\\usa.txt'}, page_content='especially in Silicon Valley, produces unicorns and tech giants at a scale unmatched globally. Its financial markets—particularly Wall Street—are the most liquid and globally integrated in the world.'),\n",
              " Document(metadata={'source': 'data\\\\usa.txt'}, page_content='Challenges and Structural Issues'),\n",
              " Document(metadata={'source': 'data\\\\usa.txt'}, page_content='Despite its strength, the U.S. economy faces several serious long-term issues. The national debt has surpassed $34 trillion USD, raising concerns about fiscal sustainability, especially as interest'),\n",
              " Document(metadata={'source': 'data\\\\usa.txt'}, page_content='fiscal sustainability, especially as interest payments alone are growing rapidly. The income and wealth inequality gap has widened, with a small percentage of Americans owning a disproportionate'),\n",
              " Document(metadata={'source': 'data\\\\usa.txt'}, page_content='percentage of Americans owning a disproportionate share of wealth. Access to affordable healthcare, housing shortages, and a declining labor force participation in some sectors are additional'),\n",
              " Document(metadata={'source': 'data\\\\usa.txt'}, page_content='participation in some sectors are additional structural issues.'),\n",
              " Document(metadata={'source': 'data\\\\usa.txt'}, page_content='Another growing concern is political polarization, which often stalls crucial economic reforms and budget agreements, as seen in recurrent debt ceiling crises. The U.S. also faces challenges from'),\n",
              " Document(metadata={'source': 'data\\\\usa.txt'}, page_content='crises. The U.S. also faces challenges from global competition, especially from China in areas like AI, semiconductors, and green technology. Moreover, climate change, cybersecurity threats, and'),\n",
              " Document(metadata={'source': 'data\\\\usa.txt'}, page_content='climate change, cybersecurity threats, and geopolitical risks (like Ukraine and Taiwan conflicts) add layers of vulnerability to economic planning.'),\n",
              " Document(metadata={'source': 'data\\\\usa.txt'}, page_content='Future Outlook (2025–2030)'),\n",
              " Document(metadata={'source': 'data\\\\usa.txt'}, page_content='Looking forward, the U.S. economy is expected to grow at a moderate pace, powered by innovation in AI, green energy, robotics, biotech, and quantum computing. The Biden administration’s Inflation'),\n",
              " Document(metadata={'source': 'data\\\\usa.txt'}, page_content='computing. The Biden administration’s Inflation Reduction Act and CHIPS Act are pumping massive investments into semiconductors, clean energy, and infrastructure. There is a strong push for reshoring'),\n",
              " Document(metadata={'source': 'data\\\\usa.txt'}, page_content='There is a strong push for reshoring of manufacturing, especially in critical sectors like chips, pharmaceuticals, and batteries.'),\n",
              " Document(metadata={'source': 'data\\\\usa.txt'}, page_content='However, economic leadership will depend on managing the national debt, reforming entitlement programs, upgrading infrastructure, and ensuring the next generation is equipped with digital-age skills.'),\n",
              " Document(metadata={'source': 'data\\\\usa.txt'}, page_content='generation is equipped with digital-age skills. If the U.S. can handle these challenges, it is well-positioned to remain a global economic powerhouse through 2030 and beyond.'),\n",
              " Document(metadata={'source': 'data\\\\usa.txt'}, page_content='Final Summary'),\n",
              " Document(metadata={'source': 'data\\\\usa.txt'}, page_content='The U.S. economy remains the engine of global growth, backed by unmatched innovation, financial dominance, and a strong institutional framework. Its $28 trillion GDP and influence over global'),\n",
              " Document(metadata={'source': 'data\\\\usa.txt'}, page_content='Its $28 trillion GDP and influence over global finance, trade, and technology make it the centerpiece of the modern economic system. Yet, rising debt, inequality, political gridlock, and competition'),\n",
              " Document(metadata={'source': 'data\\\\usa.txt'}, page_content='inequality, political gridlock, and competition from emerging powers demand careful policy navigation. If successfully addressed, the U.S. will continue to dominate the global economy well into the'),\n",
              " Document(metadata={'source': 'data\\\\usa.txt'}, page_content='to dominate the global economy well into the future.')]"
            ]
          },
          "execution_count": 10,
          "metadata": {},
          "output_type": "execute_result"
        }
      ],
      "source": [
        "new_docs"
      ]
    },
    {
      "cell_type": "code",
      "execution_count": 11,
      "id": "ae5f2527",
      "metadata": {
        "id": "ae5f2527"
      },
      "outputs": [],
      "source": [
        "doc_string=[doc.page_content for doc in new_docs]"
      ]
    },
    {
      "cell_type": "code",
      "execution_count": 12,
      "id": "b36086cc",
      "metadata": {
        "id": "b36086cc",
        "outputId": "47cb0a19-55db-42d3-c9bb-dab651c279c3"
      },
      "outputs": [
        {
          "data": {
            "text/plain": [
              "['The world must be made safe for democracy. Its peace must be planted upon the tested foundations of political liberty. We have no selfish ends to serve. We desire no conquest, no dominion. We seek no',\n",
              " 'We desire no conquest, no dominion. We seek no indemnities for ourselves, no material compensation for the sacrifices we shall freely make. We are but one of the champions of the rights of mankind.',\n",
              " 'one of the champions of the rights of mankind. We shall be satisfied when those rights have been made as secure as the faith and the freedom of nations can make them.',\n",
              " 'Just because we fight without rancor and without selfish object, seeking nothing for ourselves but what we shall wish to share with all free peoples, we shall, I feel confident, conduct our',\n",
              " 'peoples, we shall, I feel confident, conduct our operations as belligerents without passion and ourselves observe with proud punctilio the principles of right and of fair play we profess to be',\n",
              " 'of right and of fair play we profess to be fighting for.',\n",
              " '…',\n",
              " 'It will be all the easier for us to conduct ourselves as belligerents in a high spirit of right and fairness because we act without animus, not in enmity toward a people or with the desire to bring',\n",
              " 'toward a people or with the desire to bring any injury or disadvantage upon them, but only in armed opposition to an irresponsible government which has thrown aside all considerations of humanity and',\n",
              " 'thrown aside all considerations of humanity and of right and is running amuck. We are, let me say again, the sincere friends of the German people, and shall desire nothing so much as the early',\n",
              " 'and shall desire nothing so much as the early reestablishment of intimate relations of mutual advantage between us—however hard it may be for them, for the time being, to believe that this is spoken',\n",
              " 'the time being, to believe that this is spoken from our hearts.',\n",
              " 'We have borne with their present government through all these bitter months because of that friendship—exercising a patience and forbearance which would otherwise have been impossible. We shall,',\n",
              " 'would otherwise have been impossible. We shall, happily, still have an opportunity to prove that friendship in our daily attitude and actions toward the millions of men and women of German birth and',\n",
              " 'the millions of men and women of German birth and native sympathy who live among us and share our life, and we shall be proud to prove it toward all who are in fact loyal to their neighbors and to',\n",
              " 'who are in fact loyal to their neighbors and to the government in the hour of test. They are, most of them, as true and loyal Americans as if they had never known any other fealty or allegiance. They',\n",
              " 'never known any other fealty or allegiance. They will be prompt to stand with us in rebuking and restraining the few who may be of a different mind and purpose. If there should be disloyalty, it will',\n",
              " 'purpose. If there should be disloyalty, it will be dealt with with a firm hand of stern repression; but, if it lifts its head at all, it will lift it only here and there and without countenance',\n",
              " 'it only here and there and without countenance except from a lawless and malignant few.',\n",
              " 'It is a distressing and oppressive duty, gentlemen of the Congress, which I have performed in thus addressing you. There are, it may be, many months of fiery trial and sacrifice ahead of us. It is a',\n",
              " 'of fiery trial and sacrifice ahead of us. It is a fearful thing to lead this great peaceful people into war, into the most terrible and disastrous of all wars, civilization itself seeming to be in',\n",
              " 'of all wars, civilization itself seeming to be in the balance. But the right is more precious than peace, and we shall fight for the things which we have always carried nearest our hearts—for',\n",
              " 'we have always carried nearest our hearts—for democracy, for the right of those who submit to authority to have a voice in their own governments, for the rights and liberties of small nations, for a',\n",
              " 'the rights and liberties of small nations, for a universal dominion of right by such a concert of free peoples as shall bring peace and safety to all nations and make the world itself at last free.',\n",
              " 'To such a task we can dedicate our lives and our fortunes, everything that we are and everything that we have, with the pride of those who know that the day has come when America is privileged to',\n",
              " 'the day has come when America is privileged to spend her blood and her might for the principles that gave her birth and happiness and the peace which she has treasured. God helping her, she can do no',\n",
              " 'she has treasured. God helping her, she can do no other.',\n",
              " '🇺🇸 Overview of the U.S. Economy',\n",
              " 'The United States of America possesses the largest economy in the world in terms of nominal GDP, making it the most powerful economic force globally. It operates under a capitalist mixed economy,',\n",
              " 'It operates under a capitalist mixed economy, where the private sector dominates, but the government plays a significant regulatory and fiscal role. With a population of over 335 million people and a',\n",
              " 'a population of over 335 million people and a high level of technological advancement, the U.S. economy thrives on a foundation of consumer spending, innovation, global trade, and financial services.',\n",
              " 'innovation, global trade, and financial services. It has a highly diversified structure with strong sectors in technology, healthcare, finance, real estate, defense, and agriculture.',\n",
              " 'U.S. GDP – Size, Composition, and Global Share',\n",
              " 'As of 2024, the United States’ nominal GDP is estimated to be around $28 trillion USD, accounting for approximately 25% of the global economy. It ranks #1 in the world by nominal GDP, far ahead of',\n",
              " '#1 in the world by nominal GDP, far ahead of China (which ranks 2nd). The U.S. GDP per capita is also among the highest, hovering around $83,000, which indicates a high standard of living and',\n",
              " 'which indicates a high standard of living and productivity. In terms of Purchasing Power Parity (PPP), the U.S. ranks second, but nominal GDP is considered more reflective of actual economic size and',\n",
              " 'more reflective of actual economic size and financial influence.',\n",
              " 'The GDP is predominantly driven by the services sector, which contributes more than 77% to the total GDP. This includes industries such as finance, insurance, real estate, healthcare, education, and',\n",
              " 'real estate, healthcare, education, and information technology. The industrial sector (manufacturing, construction, mining) makes up around 19%, while agriculture, although technologically advanced',\n",
              " 'agriculture, although technologically advanced and export-oriented, contributes only about 1%. Despite its small share in GDP, U.S. agriculture is globally significant in terms of productivity and',\n",
              " 'globally significant in terms of productivity and exports.',\n",
              " 'GDP Growth Trends and Dynamics',\n",
              " 'Historically, the U.S. economy has enjoyed consistent long-term growth, averaging around 2-3% annually. Post-pandemic, the economy bounced back strongly, but 2022 and 2023 saw rising inflation due to',\n",
              " 'but 2022 and 2023 saw rising inflation due to supply chain issues and stimulus-driven demand. In 2024, the U.S. GDP grew at a modest pace of around 2.1%, as the Federal Reserve’s interest rate hikes',\n",
              " 'as the Federal Reserve’s interest rate hikes aimed at controlling inflation also moderated economic expansion. Consumer spending, which makes up nearly 70% of GDP, remains a dominant force in',\n",
              " 'up nearly 70% of GDP, remains a dominant force in economic stability.',\n",
              " 'The U.S. maintains its GDP growth through strong innovation, entrepreneurship, and investment in R&D. With companies like Apple, Google, Amazon, Microsoft, and Tesla leading global markets, the U.S.',\n",
              " 'and Tesla leading global markets, the U.S. consistently produces high value across sectors, especially in technology and advanced services. Additionally, the economy benefits from intellectual',\n",
              " 'the economy benefits from intellectual property exports, financial services, and higher education, all of which contribute significantly to GDP through both domestic and international markets.',\n",
              " 'Role in the Global Economy',\n",
              " 'The U.S. Dollar (USD) is the global reserve currency, held by over 60% of the world’s central bank reserves. This gives the U.S. an enormous advantage in global trade and borrowing. The U.S. is a key',\n",
              " 'in global trade and borrowing. The U.S. is a key member of international institutions like the World Bank, IMF, G7, G20, and WTO, and plays a central role in setting global economic policy.',\n",
              " \"As a global innovation hub, the U.S. attracts billions in foreign investment and hosts many of the world's largest and most valuable companies. Its exports include high-tech machinery, aircraft,\",\n",
              " 'exports include high-tech machinery, aircraft, pharmaceuticals, semiconductors, and financial services, while its imports cover consumer goods, electronics, automobiles, and industrial materials. The',\n",
              " 'automobiles, and industrial materials. The trade deficit remains large (around $900 billion in 2024), primarily because the U.S. consumes more than it exports, but its ability to finance this through',\n",
              " 'exports, but its ability to finance this through capital inflows and reserve currency status sustains balance.',\n",
              " 'Key Economic Strengths',\n",
              " 'The core strength of the U.S. economy lies in its flexible labor market, deep capital markets, technological superiority, and legal system that encourages innovation and property rights. It has a',\n",
              " 'innovation and property rights. It has a large, highly educated workforce, a diverse immigration pipeline, and access to vast natural resources including oil, gas, coal, and farmland. The presence of',\n",
              " 'oil, gas, coal, and farmland. The presence of top-tier universities and research institutions fuels the knowledge economy, with billions spent annually on R&D—over $700 billion USD, more than any',\n",
              " 'on R&D—over $700 billion USD, more than any other country.',\n",
              " 'The U.S. leads in many critical sectors, including software, biotechnology, aerospace, defense, financial services, and media. Its startup ecosystem, especially in Silicon Valley, produces unicorns',\n",
              " 'especially in Silicon Valley, produces unicorns and tech giants at a scale unmatched globally. Its financial markets—particularly Wall Street—are the most liquid and globally integrated in the world.',\n",
              " 'Challenges and Structural Issues',\n",
              " 'Despite its strength, the U.S. economy faces several serious long-term issues. The national debt has surpassed $34 trillion USD, raising concerns about fiscal sustainability, especially as interest',\n",
              " 'fiscal sustainability, especially as interest payments alone are growing rapidly. The income and wealth inequality gap has widened, with a small percentage of Americans owning a disproportionate',\n",
              " 'percentage of Americans owning a disproportionate share of wealth. Access to affordable healthcare, housing shortages, and a declining labor force participation in some sectors are additional',\n",
              " 'participation in some sectors are additional structural issues.',\n",
              " 'Another growing concern is political polarization, which often stalls crucial economic reforms and budget agreements, as seen in recurrent debt ceiling crises. The U.S. also faces challenges from',\n",
              " 'crises. The U.S. also faces challenges from global competition, especially from China in areas like AI, semiconductors, and green technology. Moreover, climate change, cybersecurity threats, and',\n",
              " 'climate change, cybersecurity threats, and geopolitical risks (like Ukraine and Taiwan conflicts) add layers of vulnerability to economic planning.',\n",
              " 'Future Outlook (2025–2030)',\n",
              " 'Looking forward, the U.S. economy is expected to grow at a moderate pace, powered by innovation in AI, green energy, robotics, biotech, and quantum computing. The Biden administration’s Inflation',\n",
              " 'computing. The Biden administration’s Inflation Reduction Act and CHIPS Act are pumping massive investments into semiconductors, clean energy, and infrastructure. There is a strong push for reshoring',\n",
              " 'There is a strong push for reshoring of manufacturing, especially in critical sectors like chips, pharmaceuticals, and batteries.',\n",
              " 'However, economic leadership will depend on managing the national debt, reforming entitlement programs, upgrading infrastructure, and ensuring the next generation is equipped with digital-age skills.',\n",
              " 'generation is equipped with digital-age skills. If the U.S. can handle these challenges, it is well-positioned to remain a global economic powerhouse through 2030 and beyond.',\n",
              " 'Final Summary',\n",
              " 'The U.S. economy remains the engine of global growth, backed by unmatched innovation, financial dominance, and a strong institutional framework. Its $28 trillion GDP and influence over global',\n",
              " 'Its $28 trillion GDP and influence over global finance, trade, and technology make it the centerpiece of the modern economic system. Yet, rising debt, inequality, political gridlock, and competition',\n",
              " 'inequality, political gridlock, and competition from emerging powers demand careful policy navigation. If successfully addressed, the U.S. will continue to dominate the global economy well into the',\n",
              " 'to dominate the global economy well into the future.']"
            ]
          },
          "execution_count": 12,
          "metadata": {},
          "output_type": "execute_result"
        }
      ],
      "source": [
        "doc_string"
      ]
    },
    {
      "cell_type": "code",
      "execution_count": 13,
      "id": "e9de078e",
      "metadata": {
        "id": "e9de078e",
        "outputId": "c468b4c3-aa2e-4eae-b511-25d708c9d4ed"
      },
      "outputs": [
        {
          "data": {
            "text/plain": [
              "82"
            ]
          },
          "execution_count": 13,
          "metadata": {},
          "output_type": "execute_result"
        }
      ],
      "source": [
        "len(doc_string)"
      ]
    },
    {
      "cell_type": "code",
      "execution_count": 14,
      "id": "9fda30f5",
      "metadata": {},
      "outputs": [],
      "source": [
        "import faiss\n",
        "from langchain_community.vectorstores import FAISS\n",
        "from langchain_community.docstore.in_memory import InMemoryDocstore"
      ]
    },
    {
      "cell_type": "code",
      "execution_count": 15,
      "id": "1c0a7a54",
      "metadata": {},
      "outputs": [],
      "source": [
        "index=faiss.IndexFlatL2(384)"
      ]
    },
    {
      "cell_type": "code",
      "execution_count": 16,
      "id": "018943bd",
      "metadata": {},
      "outputs": [],
      "source": [
        "vector_store=FAISS(\n",
        "    embedding_function=embeddings,\n",
        "    index=index,\n",
        "    docstore=InMemoryDocstore(),\n",
        "    index_to_docstore_id={},\n",
        ")"
      ]
    },
    {
      "cell_type": "code",
      "execution_count": 17,
      "id": "724abefa",
      "metadata": {},
      "outputs": [
        {
          "data": {
            "text/plain": [
              "['feee9286-d62a-44e3-948b-f9a2fd2f3799',\n",
              " 'f6d85f2d-f418-403c-962a-f6525db9958d',\n",
              " '1f891550-e7e5-4090-8118-841d0ada75f5',\n",
              " '0c3ae827-84e7-414c-92e0-bfb5b000a760',\n",
              " '963a96e9-29a3-4bd0-aeeb-61850e905823',\n",
              " '5b359f6e-1543-4b05-844b-bd241c43f18a',\n",
              " '197bd707-3b34-4f2a-9a19-8c5616944cab',\n",
              " 'f15d0c29-5258-40cb-b3a0-13ab1eacef9a',\n",
              " '0d4307c1-0a5e-45d7-97a2-c7d6df288afe',\n",
              " '8a5397bf-4518-4307-9b1c-c03867ae601c',\n",
              " 'b2273e94-221c-40d7-9d25-566d80e5d2fc',\n",
              " 'ba3a8fca-4e56-4827-9d3b-ea259b21dcdf',\n",
              " '1e20efbd-7a42-4ceb-b1d9-dd06af49ca19',\n",
              " 'cc92b10b-8e32-498f-8516-04e41e9f2f78',\n",
              " '49cd2078-0927-4070-8bba-803eca851c3a',\n",
              " '28b9c5a5-8bce-4c3f-bcfa-521eb3bcfbcd',\n",
              " '44ccbe72-7fb6-430c-93cf-a0a81173d973',\n",
              " 'f4dbac3b-27f9-4d3e-b211-062faa6d274e',\n",
              " '7605ad29-192c-4f1e-b2e3-4e81a50b800a',\n",
              " '4cc19501-260a-4f54-b5b0-623a03df5ef5',\n",
              " '01309805-7f68-4395-b358-b17fcfbf5883',\n",
              " '0db055f5-8034-4041-a53f-c4fa5286d772',\n",
              " '5497909c-9d49-4733-a969-0050b1ccdc70',\n",
              " '05dcb502-0287-4ab1-9e64-56378c8c8d30',\n",
              " '637ff41b-e060-4df0-84f8-ce88b43ec690',\n",
              " 'd68d8d3a-eefa-4db0-b3f6-dcd429007512',\n",
              " '839b6050-5059-4a36-a153-a81f1cf2ee04',\n",
              " '4dbe0204-a353-4c58-8230-132c1f4ae06c',\n",
              " '5f6e4c16-a88f-4061-ad3a-81016e3aaaf9',\n",
              " 'c7959db0-996c-4240-87e5-f925713dc9c6',\n",
              " '344d0c8f-9a4e-404c-aac3-29ede1654790',\n",
              " '727cfc4d-2de9-45b1-891e-9988f45f7688',\n",
              " '55aae830-e8c2-463b-a906-4c33588953aa',\n",
              " '0fb224de-acdb-426e-a172-c88cbd225c29',\n",
              " '4d690caa-a83d-4fed-acfd-76c099485054',\n",
              " '6ae6baeb-eef1-4e25-a592-7b80b6bb2c49',\n",
              " 'ee7aad5d-5336-4aec-bf67-dc870adda342',\n",
              " '0d9f85f3-43c8-4900-92a5-370359be1e05',\n",
              " 'c8a575f6-5147-4c77-95bd-b4cd65159b0b',\n",
              " '7deca8eb-d6fa-47a0-97f8-67ad602ea6c7',\n",
              " 'c75c6b16-8626-4d86-83f0-86fd5a071369',\n",
              " 'c3800f1e-f67f-4287-9370-52dbeb820ed6',\n",
              " 'a790502f-149f-4888-b927-3ff9c5bd4cc7',\n",
              " '385b42fd-1ea6-4d44-8fd1-25a1caf72021',\n",
              " 'bafcc498-49ca-47d1-a690-cbad2975bde2',\n",
              " '57430e27-73cd-492a-8de1-b96b3104f8f3',\n",
              " '5b08f3a3-78bd-451c-9021-dd0383fa8f7e',\n",
              " '3c7107ae-0f11-4e98-b68c-045a25802ef7',\n",
              " '5ddc2681-8ab2-41b8-ab01-990641bb5f49',\n",
              " '3943bf4b-334b-4576-8902-86c616f8c808',\n",
              " '0289d389-b74d-452b-ab4b-6cb33f666ba1',\n",
              " 'b072854e-5839-4cbb-bda1-850482e8b83b',\n",
              " '856a599c-530a-46f4-9db8-85e63246b5db',\n",
              " '974f8c7e-18d7-4d96-bbe5-016eb443eb7a',\n",
              " '67ade63c-446d-45b9-aa2e-ba70fc610157',\n",
              " '04a21ea9-9605-4f36-94cf-16bb1b08970b',\n",
              " 'eabcb572-f188-45b0-922d-e5329c38bb81',\n",
              " 'ac7577ec-ed88-4379-b485-5e6f0045faac',\n",
              " '12807ea6-31ae-4263-af5c-3123a3d3dc12',\n",
              " '39dfca94-87a9-4528-9897-f522d91d7b04',\n",
              " '0ce7e759-9fb5-4dfb-adf5-3b9a6e3f757c',\n",
              " '8ed97bdd-e3be-4fa6-a34f-66e7402036a3',\n",
              " '10a2a477-2c03-49fe-b287-d00a26283052',\n",
              " 'd0d4092a-9a17-4c3e-9115-26d40552df1f',\n",
              " '3b8a038e-f153-41a7-8922-35086ce56d49',\n",
              " '64623ec1-32fc-4fb0-afc3-0e2c9215aee0',\n",
              " '30ce0366-fdab-4e9f-a6b0-ee6f0fc99a9c',\n",
              " '24479e94-7559-4855-8ed6-888bb14dbb8c',\n",
              " 'd1e1563e-4f96-432b-bb28-f0bc9840b48f',\n",
              " 'c0b1828d-3545-48c2-81ee-3a9d85525d01',\n",
              " '6b048686-bf8f-463e-aba1-412f3873ef91',\n",
              " '2573680e-23a0-4c3e-b554-79543ef4995f',\n",
              " '533f92d5-a784-4652-b42d-b3cae7d8fc0e',\n",
              " '201c7d27-8562-4f70-9866-b135529415e2',\n",
              " 'add0099e-bec9-4ee9-a636-5919b21c0ed5',\n",
              " '9020f218-7626-4b61-8dbe-9b0d3e2c91ef',\n",
              " '0adfabe9-c33b-4fec-8f97-ee1b900afb44',\n",
              " '97fff75e-0813-468d-93fe-67a0870614d6',\n",
              " 'f65c07f8-469e-4d75-9fca-d5a67bd37ba4',\n",
              " '6e483ee6-7743-4182-aed1-bfa5453fb75a',\n",
              " '59926e63-aa2f-4511-be64-925bb900d506',\n",
              " '28a2072c-2fd8-413c-a8c0-74297430246a']"
            ]
          },
          "execution_count": 17,
          "metadata": {},
          "output_type": "execute_result"
        }
      ],
      "source": [
        "vector_store.add_documents(documents=new_docs)"
      ]
    },
    {
      "cell_type": "code",
      "execution_count": 18,
      "id": "ae02f542",
      "metadata": {
        "id": "ae02f542",
        "outputId": "55f6b50e-a2ab-42f6-8684-446b2351e342"
      },
      "outputs": [],
      "source": [
        "# db=Chroma.from_documents(new_docs[:5],embeddings) # Do not use chroma to avoid in memory problem"
      ]
    },
    {
      "cell_type": "code",
      "execution_count": 19,
      "id": "7ae4692f",
      "metadata": {},
      "outputs": [],
      "source": [
        "retriever=vector_store.as_retriever(search_kwargs={\"k\": 3})"
      ]
    },
    {
      "cell_type": "code",
      "execution_count": 20,
      "id": "7d5ef2a4",
      "metadata": {},
      "outputs": [
        {
          "data": {
            "text/plain": [
              "[Document(id='533f92d5-a784-4652-b42d-b3cae7d8fc0e', metadata={'source': 'data\\\\usa.txt'}, page_content='Looking forward, the U.S. economy is expected to grow at a moderate pace, powered by innovation in AI, green energy, robotics, biotech, and quantum computing. The Biden administration’s Inflation'),\n",
              " Document(id='4dbe0204-a353-4c58-8230-132c1f4ae06c', metadata={'source': 'data\\\\usa.txt'}, page_content='🇺🇸 Overview of the U.S. Economy'),\n",
              " Document(id='f65c07f8-469e-4d75-9fca-d5a67bd37ba4', metadata={'source': 'data\\\\usa.txt'}, page_content='The U.S. economy remains the engine of global growth, backed by unmatched innovation, financial dominance, and a strong institutional framework. Its $28 trillion GDP and influence over global')]"
            ]
          },
          "execution_count": 20,
          "metadata": {},
          "output_type": "execute_result"
        }
      ],
      "source": [
        "retriever.invoke(\"industrial growth of usa?\")"
      ]
    },
    {
      "cell_type": "markdown",
      "id": "f53813d1",
      "metadata": {},
      "source": [
        "## Lang graph Intro 3"
      ]
    },
    {
      "cell_type": "code",
      "execution_count": 21,
      "id": "2dec551c",
      "metadata": {},
      "outputs": [],
      "source": [
        "import operator\n",
        "from typing import List\n",
        "from pydantic import BaseModel , Field\n",
        "from langchain.prompts import PromptTemplate\n",
        "from typing import TypedDict, Annotated, Sequence\n",
        "from langchain_core.messages import BaseMessage\n",
        "from langchain_core.output_parsers import StrOutputParser\n",
        "from langchain_core.prompts import ChatPromptTemplate, PromptTemplate\n",
        "from langchain_core.runnables import RunnablePassthrough\n",
        "from langchain_core.messages import HumanMessage, AIMessage\n",
        "from langgraph.graph import StateGraph,END"
      ]
    },
    {
      "cell_type": "code",
      "execution_count": 22,
      "id": "cd2717c1",
      "metadata": {},
      "outputs": [],
      "source": [
        "class TopicSelectionParser(BaseModel):\n",
        "    Topic:str=Field(description=\"selected topic\")\n",
        "    Reasoning:str=Field(description='Reasoning behind topic selection')"
      ]
    },
    {
      "cell_type": "code",
      "execution_count": 23,
      "id": "aa9482a5",
      "metadata": {},
      "outputs": [],
      "source": [
        "from langchain.output_parsers import PydanticOutputParser"
      ]
    },
    {
      "cell_type": "code",
      "execution_count": 24,
      "id": "40f38ab0",
      "metadata": {},
      "outputs": [],
      "source": [
        "parser=PydanticOutputParser(pydantic_object=TopicSelectionParser)"
      ]
    },
    {
      "cell_type": "code",
      "execution_count": 25,
      "id": "5976eaae",
      "metadata": {},
      "outputs": [
        {
          "data": {
            "text/plain": [
              "'The output should be formatted as a JSON instance that conforms to the JSON schema below.\\n\\nAs an example, for the schema {\"properties\": {\"foo\": {\"title\": \"Foo\", \"description\": \"a list of strings\", \"type\": \"array\", \"items\": {\"type\": \"string\"}}}, \"required\": [\"foo\"]}\\nthe object {\"foo\": [\"bar\", \"baz\"]} is a well-formatted instance of the schema. The object {\"properties\": {\"foo\": [\"bar\", \"baz\"]}} is not well-formatted.\\n\\nHere is the output schema:\\n```\\n{\"properties\": {\"Topic\": {\"description\": \"selected topic\", \"title\": \"Topic\", \"type\": \"string\"}, \"Reasoning\": {\"description\": \"Reasoning behind topic selection\", \"title\": \"Reasoning\", \"type\": \"string\"}}, \"required\": [\"Topic\", \"Reasoning\"]}\\n```'"
            ]
          },
          "execution_count": 25,
          "metadata": {},
          "output_type": "execute_result"
        }
      ],
      "source": [
        "parser.get_format_instructions()"
      ]
    },
    {
      "cell_type": "code",
      "execution_count": 26,
      "id": "818e9458",
      "metadata": {},
      "outputs": [
        {
          "data": {
            "text/plain": [
              "'The output should be formatted as a JSON instance that conforms to the JSON schema below.\\n\\nAs an example, for the schema {\"properties\": {\"foo\": {\"title\": \"Foo\", \"description\": \"a list of strings\", \"type\": \"array\", \"items\": {\"type\": \"string\"}}}, \"required\": [\"foo\"]}\\nthe object {\"foo\": [\"bar\", \"baz\"]} is a well-formatted instance of the schema. The object {\"properties\": {\"foo\": [\"bar\", \"baz\"]}} is not well-formatted.\\n\\nHere is the output schema:\\n```\\n{\"properties\": {\"Topic\": {\"description\": \"selected topic\", \"title\": \"Topic\", \"type\": \"string\"}, \"Reasoning\": {\"description\": \"Reasoning behind topic selection\", \"title\": \"Reasoning\", \"type\": \"string\"}}, \"required\": [\"Topic\", \"Reasoning\"]}\\n```'"
            ]
          },
          "execution_count": 26,
          "metadata": {},
          "output_type": "execute_result"
        }
      ],
      "source": [
        "'The output should be formatted as a JSON instance that conforms to the JSON schema below.\\n\\nAs an example, for the schema {\"properties\": {\"foo\": {\"title\": \"Foo\", \"description\": \"a list of strings\", \"type\": \"array\", \"items\": {\"type\": \"string\"}}}, \"required\": [\"foo\"]}\\nthe object {\"foo\": [\"bar\", \"baz\"]} is a well-formatted instance of the schema. The object {\"properties\": {\"foo\": [\"bar\", \"baz\"]}} is not well-formatted.\\n\\nHere is the output schema:\\n```\\n{\"properties\": {\"Topic\": {\"description\": \"selected topic\", \"title\": \"Topic\", \"type\": \"string\"}, \"Reasoning\": {\"description\": \"Reasoning behind topic selection\", \"title\": \"Reasoning\", \"type\": \"string\"}}, \"required\": [\"Topic\", \"Reasoning\"]}\\n```'"
      ]
    },
    {
      "cell_type": "markdown",
      "id": "a58e92eb",
      "metadata": {},
      "source": [
        "### this below agentstate is just for the explnation like how state works"
      ]
    },
    {
      "cell_type": "code",
      "execution_count": 27,
      "id": "e90647aa",
      "metadata": {},
      "outputs": [],
      "source": [
        "Agentstate={}"
      ]
    },
    {
      "cell_type": "code",
      "execution_count": 28,
      "id": "6941a3b0",
      "metadata": {},
      "outputs": [],
      "source": [
        "Agentstate[\"messages\"]=[]"
      ]
    },
    {
      "cell_type": "code",
      "execution_count": 29,
      "id": "0a1d26a9",
      "metadata": {},
      "outputs": [
        {
          "data": {
            "text/plain": [
              "{'messages': []}"
            ]
          },
          "execution_count": 29,
          "metadata": {},
          "output_type": "execute_result"
        }
      ],
      "source": [
        "Agentstate"
      ]
    },
    {
      "cell_type": "code",
      "execution_count": 30,
      "id": "04538362",
      "metadata": {},
      "outputs": [],
      "source": [
        "Agentstate[\"messages\"].append(\"hi how are you?\")"
      ]
    },
    {
      "cell_type": "code",
      "execution_count": 31,
      "id": "b386dfa7",
      "metadata": {},
      "outputs": [
        {
          "data": {
            "text/plain": [
              "{'messages': ['hi how are you?']}"
            ]
          },
          "execution_count": 31,
          "metadata": {},
          "output_type": "execute_result"
        }
      ],
      "source": [
        "Agentstate"
      ]
    },
    {
      "cell_type": "code",
      "execution_count": 32,
      "id": "6293e839",
      "metadata": {},
      "outputs": [],
      "source": [
        "Agentstate[\"messages\"].append(\"what are you doing?\")"
      ]
    },
    {
      "cell_type": "code",
      "execution_count": 33,
      "id": "4ba759a1",
      "metadata": {},
      "outputs": [
        {
          "data": {
            "text/plain": [
              "{'messages': ['hi how are you?', 'what are you doing?']}"
            ]
          },
          "execution_count": 33,
          "metadata": {},
          "output_type": "execute_result"
        }
      ],
      "source": [
        "Agentstate"
      ]
    },
    {
      "cell_type": "code",
      "execution_count": 34,
      "id": "24f91dba",
      "metadata": {},
      "outputs": [],
      "source": [
        "Agentstate[\"messages\"].append(\"i hope everything fine\")"
      ]
    },
    {
      "cell_type": "code",
      "execution_count": 35,
      "id": "1dcf10b7",
      "metadata": {},
      "outputs": [
        {
          "data": {
            "text/plain": [
              "{'messages': ['hi how are you?',\n",
              "  'what are you doing?',\n",
              "  'i hope everything fine']}"
            ]
          },
          "execution_count": 35,
          "metadata": {},
          "output_type": "execute_result"
        }
      ],
      "source": [
        "Agentstate\n"
      ]
    },
    {
      "cell_type": "code",
      "execution_count": 36,
      "id": "6204ad9f",
      "metadata": {},
      "outputs": [
        {
          "data": {
            "text/plain": [
              "'i hope everything fine'"
            ]
          },
          "execution_count": 36,
          "metadata": {},
          "output_type": "execute_result"
        }
      ],
      "source": [
        "Agentstate[\"messages\"][-1]"
      ]
    },
    {
      "cell_type": "code",
      "execution_count": 37,
      "id": "eaf4d755",
      "metadata": {},
      "outputs": [
        {
          "data": {
            "text/plain": [
              "'hi how are you?'"
            ]
          },
          "execution_count": 37,
          "metadata": {},
          "output_type": "execute_result"
        }
      ],
      "source": [
        "Agentstate[\"messages\"][0]"
      ]
    },
    {
      "cell_type": "markdown",
      "id": "8d318b01",
      "metadata": {},
      "source": [
        "### this agentstate class you need to inside the stategraph"
      ]
    },
    {
      "cell_type": "code",
      "execution_count": 38,
      "id": "4c20fb4d",
      "metadata": {},
      "outputs": [],
      "source": [
        "class AgentState(TypedDict):\n",
        "    messages: Annotated[Sequence[BaseMessage], operator.add]"
      ]
    },
    {
      "cell_type": "code",
      "execution_count": 39,
      "id": "5c61fb48",
      "metadata": {},
      "outputs": [],
      "source": [
        "state={\"messages\":[\"hi\"]}"
      ]
    },
    {
      "cell_type": "code",
      "execution_count": 40,
      "id": "a65ffb5a",
      "metadata": {},
      "outputs": [],
      "source": [
        "state=\"hi\""
      ]
    },
    {
      "cell_type": "code",
      "execution_count": 41,
      "id": "8aa6baec",
      "metadata": {},
      "outputs": [],
      "source": [
        "def function_1(state:AgentState):\n",
        "    \n",
        "    question=state[\"messages\"][-1]\n",
        "    \n",
        "    print(\"Question\",question)\n",
        "    \n",
        "    template=\"\"\"\n",
        "    Your task is to classify the given user query into one of the following categories: [USA,Not Related]. \n",
        "    Only respond with the category name and nothing else.\n",
        "\n",
        "    User query: {question}\n",
        "    {format_instructions}\n",
        "    \"\"\"\n",
        "    \n",
        "    prompt= PromptTemplate(\n",
        "        template=template,\n",
        "        input_variable=[\"question\"],\n",
        "        partial_variables={\"format_instructions\": parser.get_format_instructions()}\n",
        "    )\n",
        "    \n",
        "    \n",
        "    chain= prompt | model | parser\n",
        "    \n",
        "    response = chain.invoke({\"question\":question})\n",
        "    \n",
        "    print(\"Parsed response:\", response)\n",
        "    \n",
        "    return {\"messages\": [response.Topic]}"
      ]
    },
    {
      "cell_type": "code",
      "execution_count": 42,
      "id": "a6558ef3",
      "metadata": {},
      "outputs": [],
      "source": [
        "state={\"messages\":[\"what is a today weather?\"]}"
      ]
    },
    {
      "cell_type": "code",
      "execution_count": 43,
      "id": "df51a043",
      "metadata": {},
      "outputs": [],
      "source": [
        "state={\"messages\":[\"what is a GDP of usa??\"]}"
      ]
    },
    {
      "cell_type": "code",
      "execution_count": 44,
      "id": "3b96f34d",
      "metadata": {},
      "outputs": [
        {
          "name": "stdout",
          "output_type": "stream",
          "text": [
            "Hi there! How can I help you today?\n"
          ]
        }
      ],
      "source": [
        "from langchain_google_genai import ChatGoogleGenerativeAI\n",
        "model=ChatGoogleGenerativeAI(model='gemini-1.5-flash')\n",
        "output=model.invoke(\"hi\")\n",
        "print(output.content)"
      ]
    },
    {
      "cell_type": "code",
      "execution_count": 45,
      "id": "cbc2b835",
      "metadata": {},
      "outputs": [
        {
          "name": "stdout",
          "output_type": "stream",
          "text": [
            "Question what is a GDP of usa??\n",
            "Parsed response: Topic='USA' Reasoning='The query explicitly asks for the GDP of the USA.'\n"
          ]
        },
        {
          "data": {
            "text/plain": [
              "{'messages': ['USA']}"
            ]
          },
          "execution_count": 45,
          "metadata": {},
          "output_type": "execute_result"
        }
      ],
      "source": [
        "function_1(state)"
      ]
    },
    {
      "cell_type": "code",
      "execution_count": 46,
      "id": "9f3fdb81",
      "metadata": {},
      "outputs": [],
      "source": [
        "class TopicSelectionParser(BaseModel):\n",
        "    Topic:str=Field(description=\"selected topic\")\n",
        "    Reasoning:str=Field(description='Reasoning behind topic selection')"
      ]
    },
    {
      "cell_type": "code",
      "execution_count": 47,
      "id": "5e13e200",
      "metadata": {},
      "outputs": [],
      "source": [
        "def router(state:AgentState):\n",
        "    print(\"-> ROUTER ->\")\n",
        "    \n",
        "    last_message=state[\"messages\"][-1]\n",
        "    print(\"last_message:\", last_message)\n",
        "    \n",
        "    if \"usa\" in last_message.lower():\n",
        "        return \"RAG Call\"\n",
        "    else:\n",
        "        return \"LLM Call\""
      ]
    },
    {
      "cell_type": "code",
      "execution_count": 48,
      "id": "1bf18d5e",
      "metadata": {},
      "outputs": [],
      "source": [
        "def format_docs(docs):\n",
        "    return \"\\n\\n\".join(doc.page_content for doc in docs)"
      ]
    },
    {
      "cell_type": "code",
      "execution_count": 49,
      "id": "c0fbde21",
      "metadata": {},
      "outputs": [],
      "source": [
        "# RAG Function\n",
        "def function_2(state:AgentState):\n",
        "    print(\"-> RAG Call ->\")\n",
        "    \n",
        "    question = state[\"messages\"][0]\n",
        "    \n",
        "    prompt=PromptTemplate(\n",
        "        template=\"\"\"You are an assistant for question-answering tasks. Use the following pieces of retrieved context to answer the question. If you don't know the answer, just say that you don't know. Use three sentences maximum and keep the answer concise.\\nQuestion: {question} \\nContext: {context} \\nAnswer:\"\"\",\n",
        "        \n",
        "        input_variables=['context', 'question']\n",
        "    )\n",
        "    \n",
        "    rag_chain = (\n",
        "        {\"context\": retriever | format_docs, \"question\": RunnablePassthrough()}\n",
        "        | prompt\n",
        "        | model\n",
        "        | StrOutputParser()\n",
        "    )\n",
        "    result = rag_chain.invoke(question)\n",
        "    return  {\"messages\": [result]}"
      ]
    },
    {
      "cell_type": "code",
      "execution_count": 50,
      "id": "982f04eb",
      "metadata": {},
      "outputs": [],
      "source": [
        "# LLM Function\n",
        "def function_3(state:AgentState):\n",
        "    print(\"-> LLM Call ->\")\n",
        "    question = state[\"messages\"][0]\n",
        "    \n",
        "    # Normal LLM call\n",
        "    complete_query = \"Anwer the follow question with you knowledge of the real world. Following is the user question: \" + question\n",
        "    response = model.invoke(complete_query)\n",
        "    return {\"messages\": [response.content]}"
      ]
    },
    {
      "cell_type": "code",
      "execution_count": 51,
      "id": "ad429a23",
      "metadata": {},
      "outputs": [],
      "source": [
        "from langgraph.graph import StateGraph,END"
      ]
    },
    {
      "cell_type": "code",
      "execution_count": 52,
      "id": "de558b73",
      "metadata": {},
      "outputs": [],
      "source": [
        "workflow=StateGraph(AgentState)"
      ]
    },
    {
      "cell_type": "code",
      "execution_count": 53,
      "id": "a81dddc4",
      "metadata": {},
      "outputs": [
        {
          "data": {
            "text/plain": [
              "<langgraph.graph.state.StateGraph at 0x28b833ab290>"
            ]
          },
          "execution_count": 53,
          "metadata": {},
          "output_type": "execute_result"
        }
      ],
      "source": [
        "workflow.add_node(\"Supervisor\",function_1)"
      ]
    },
    {
      "cell_type": "code",
      "execution_count": 54,
      "id": "338a953e",
      "metadata": {},
      "outputs": [
        {
          "data": {
            "text/plain": [
              "<langgraph.graph.state.StateGraph at 0x28b833ab290>"
            ]
          },
          "execution_count": 54,
          "metadata": {},
          "output_type": "execute_result"
        }
      ],
      "source": [
        "workflow.add_node(\"RAG\",function_2)"
      ]
    },
    {
      "cell_type": "code",
      "execution_count": 55,
      "id": "231fc436",
      "metadata": {},
      "outputs": [
        {
          "data": {
            "text/plain": [
              "<langgraph.graph.state.StateGraph at 0x28b833ab290>"
            ]
          },
          "execution_count": 55,
          "metadata": {},
          "output_type": "execute_result"
        }
      ],
      "source": [
        "workflow.add_node(\"LLM\",function_3)"
      ]
    },
    {
      "cell_type": "code",
      "execution_count": 56,
      "id": "d4bca978",
      "metadata": {},
      "outputs": [
        {
          "data": {
            "text/plain": [
              "<langgraph.graph.state.StateGraph at 0x28b833ab290>"
            ]
          },
          "execution_count": 56,
          "metadata": {},
          "output_type": "execute_result"
        }
      ],
      "source": [
        "workflow.set_entry_point(\"Supervisor\")"
      ]
    },
    {
      "cell_type": "code",
      "execution_count": 57,
      "id": "d8f151b0",
      "metadata": {},
      "outputs": [
        {
          "data": {
            "text/plain": [
              "<langgraph.graph.state.StateGraph at 0x28b833ab290>"
            ]
          },
          "execution_count": 57,
          "metadata": {},
          "output_type": "execute_result"
        }
      ],
      "source": [
        "workflow.add_conditional_edges(\n",
        "    \"Supervisor\",\n",
        "    router,\n",
        "    {\n",
        "        \"RAG Call\": \"RAG\",\n",
        "        \"LLM Call\": \"LLM\",\n",
        "    }\n",
        ")"
      ]
    },
    {
      "cell_type": "code",
      "execution_count": 58,
      "id": "19aecd62",
      "metadata": {},
      "outputs": [
        {
          "data": {
            "text/plain": [
              "<langgraph.graph.state.StateGraph at 0x28b833ab290>"
            ]
          },
          "execution_count": 58,
          "metadata": {},
          "output_type": "execute_result"
        }
      ],
      "source": [
        "workflow.add_edge(\"RAG\",END)\n",
        "workflow.add_edge(\"LLM\",END)"
      ]
    },
    {
      "cell_type": "code",
      "execution_count": 59,
      "id": "71874793",
      "metadata": {},
      "outputs": [],
      "source": [
        "app=workflow.compile()"
      ]
    },
    {
      "cell_type": "code",
      "execution_count": 60,
      "id": "74d71a34",
      "metadata": {},
      "outputs": [],
      "source": [
        "state={\"messages\":[\"hi\"]}"
      ]
    },
    {
      "cell_type": "code",
      "execution_count": 61,
      "id": "0deccf3e",
      "metadata": {},
      "outputs": [
        {
          "name": "stdout",
          "output_type": "stream",
          "text": [
            "Question hi\n"
          ]
        },
        {
          "name": "stdout",
          "output_type": "stream",
          "text": [
            "Parsed response: Topic='Not Related' Reasoning='The query \"hi\" is a generic greeting and does not relate to the USA.'\n",
            "-> ROUTER ->\n",
            "last_message: Not Related\n",
            "-> LLM Call ->\n"
          ]
        },
        {
          "data": {
            "text/plain": [
              "{'messages': ['hi', 'Not Related', 'Hi there!']}"
            ]
          },
          "execution_count": 61,
          "metadata": {},
          "output_type": "execute_result"
        }
      ],
      "source": [
        "app.invoke(state)"
      ]
    },
    {
      "cell_type": "code",
      "execution_count": 62,
      "id": "f42d269c",
      "metadata": {},
      "outputs": [],
      "source": [
        "state={\"messages\":[\"what is a gdp of usa?\"]}"
      ]
    },
    {
      "cell_type": "code",
      "execution_count": 63,
      "id": "4c502034",
      "metadata": {},
      "outputs": [
        {
          "name": "stdout",
          "output_type": "stream",
          "text": [
            "Question what is a gdp of usa?\n",
            "Parsed response: Topic='USA' Reasoning='The query explicitly asks for the GDP of the USA.'\n",
            "-> ROUTER ->\n",
            "last_message: USA\n",
            "-> RAG Call ->\n"
          ]
        },
        {
          "data": {
            "text/plain": [
              "{'messages': ['what is a gdp of usa?',\n",
              "  'USA',\n",
              "  \"The nominal GDP of the USA in 2024 is estimated to be approximately $28 trillion USD.  This represents about 25% of the global economy.  The US has the world's largest nominal GDP.\"]}"
            ]
          },
          "execution_count": 63,
          "metadata": {},
          "output_type": "execute_result"
        }
      ],
      "source": [
        "app.invoke(state)"
      ]
    },
    {
      "cell_type": "markdown",
      "id": "818da502",
      "metadata": {
        "id": "818da502"
      },
      "source": [
        "## Langgraph Agent"
      ]
    },
    {
      "cell_type": "markdown",
      "id": "dc7104c0",
      "metadata": {
        "id": "dc7104c0"
      },
      "source": [
        "### Config the model"
      ]
    },
    {
      "cell_type": "code",
      "execution_count": 64,
      "id": "a5444e4f",
      "metadata": {
        "id": "a5444e4f",
        "outputId": "d6ee19e0-0943-4265-8837-30598b6a8b28"
      },
      "outputs": [
        {
          "name": "stdout",
          "output_type": "stream",
          "text": [
            "Hi there! How can I help you today?\n"
          ]
        }
      ],
      "source": [
        "from langchain_google_genai import ChatGoogleGenerativeAI\n",
        "model=ChatGoogleGenerativeAI(model='gemini-1.5-flash')\n",
        "output=model.invoke(\"hi\")\n",
        "print(output.content)"
      ]
    },
    {
      "cell_type": "markdown",
      "id": "b647d2e0",
      "metadata": {
        "id": "b647d2e0"
      },
      "source": [
        "### Config the embedding model"
      ]
    },
    {
      "cell_type": "code",
      "execution_count": 65,
      "id": "ab66123a",
      "metadata": {
        "id": "ab66123a",
        "outputId": "28fcd021-0233-4a85-ba96-0e9adfcf5de6"
      },
      "outputs": [
        {
          "data": {
            "text/plain": [
              "384"
            ]
          },
          "execution_count": 65,
          "metadata": {},
          "output_type": "execute_result"
        }
      ],
      "source": [
        "from langchain_huggingface import HuggingFaceEmbeddings\n",
        "embeddings = HuggingFaceEmbeddings(model_name=\"BAAI/bge-small-en\")\n",
        "len(embeddings.embed_query(\"hi\"))"
      ]
    },
    {
      "cell_type": "markdown",
      "id": "88ba396b",
      "metadata": {
        "id": "88ba396b"
      },
      "source": [
        "### Creating the agent"
      ]
    },
    {
      "cell_type": "markdown",
      "id": "8a56112d",
      "metadata": {},
      "source": [
        "Assignment:4\n",
        "1. you have to create one supervisor node.\n",
        "2. create one router function\n",
        "3. create three more node\n",
        "3.1 llm call (llm node)\n",
        "3.2 RAG (rag node)\n",
        "3.3 web crawler(fetch the info in realtime from internet)\n",
        "4. created one more node after this for validation for generated output --> explore the validation part how to do that\n",
        "5. if validation going to be failed in that case again go to supervioser node and then supervisor node will again decide what needs to be call next\n",
        "6. once the validation will pass then only generate the final output"
      ]
    },
    {
      "cell_type": "code",
      "execution_count": 66,
      "id": "f35373b8",
      "metadata": {
        "id": "f35373b8"
      },
      "outputs": [],
      "source": [
        "import operator\n",
        "from typing import List\n",
        "from pydantic import BaseModel , Field\n",
        "from langchain.prompts import PromptTemplate\n",
        "from typing import TypedDict, Annotated, Sequence\n",
        "from langchain_core.messages import BaseMessage\n",
        "from langchain_core.output_parsers import StrOutputParser\n",
        "from langchain_core.prompts import ChatPromptTemplate, PromptTemplate\n",
        "from langchain_core.runnables import RunnablePassthrough\n",
        "from langchain_core.messages import HumanMessage, AIMessage\n",
        "from langgraph.graph import StateGraph,END, START\n",
        "from langchain.output_parsers import PydanticOutputParser\n",
        "from langchain.document_loaders import PyPDFLoader\n",
        "from langchain.text_splitter import RecursiveCharacterTextSplitter\n",
        "from langchain.embeddings import HuggingFaceEmbeddings\n",
        "from langchain.vectorstores import FAISS\n"
      ]
    },
    {
      "cell_type": "code",
      "execution_count": 67,
      "id": "48683055",
      "metadata": {
        "id": "48683055"
      },
      "outputs": [],
      "source": [
        "class TopicSelectionParser(BaseModel):\n",
        "    Topic:str=Field(description=\"selected topic\")\n",
        "    Reasoning:str=Field(description='Reasoning behind topic selection')"
      ]
    },
    {
      "cell_type": "code",
      "execution_count": 68,
      "id": "4bc84af3",
      "metadata": {
        "id": "4bc84af3",
        "outputId": "89151ca1-f138-4023-b438-af8bf73d3f70"
      },
      "outputs": [
        {
          "data": {
            "text/plain": [
              "'The output should be formatted as a JSON instance that conforms to the JSON schema below.\\n\\nAs an example, for the schema {\"properties\": {\"foo\": {\"title\": \"Foo\", \"description\": \"a list of strings\", \"type\": \"array\", \"items\": {\"type\": \"string\"}}}, \"required\": [\"foo\"]}\\nthe object {\"foo\": [\"bar\", \"baz\"]} is a well-formatted instance of the schema. The object {\"properties\": {\"foo\": [\"bar\", \"baz\"]}} is not well-formatted.\\n\\nHere is the output schema:\\n```\\n{\"properties\": {\"Topic\": {\"description\": \"selected topic\", \"title\": \"Topic\", \"type\": \"string\"}, \"Reasoning\": {\"description\": \"Reasoning behind topic selection\", \"title\": \"Reasoning\", \"type\": \"string\"}}, \"required\": [\"Topic\", \"Reasoning\"]}\\n```'"
            ]
          },
          "execution_count": 68,
          "metadata": {},
          "output_type": "execute_result"
        }
      ],
      "source": [
        "parser=PydanticOutputParser(pydantic_object=TopicSelectionParser)\n",
        "parser.get_format_instructions()"
      ]
    },
    {
      "cell_type": "code",
      "execution_count": 69,
      "id": "2776cbfa",
      "metadata": {
        "id": "2776cbfa"
      },
      "outputs": [],
      "source": [
        "class AgentState(TypedDict):\n",
        "    messages: Annotated[Sequence[BaseMessage], operator.add]"
      ]
    },
    {
      "cell_type": "code",
      "execution_count": 70,
      "id": "6c7b56a8",
      "metadata": {
        "id": "6c7b56a8"
      },
      "outputs": [],
      "source": [
        "def function_1(state:AgentState):\n",
        "\n",
        "    question=state[\"messages\"][-1]\n",
        "\n",
        "    print(\"Question\",question)\n",
        "\n",
        "    template=\"\"\"\n",
        "    Your task is to classify the given user query into one of the following related categories: [Constitution,LLM, Latest]. If question is about\n",
        "    Indian constitution then Constitution, if question is generic then LLM and if question is about some recent thing which you don't know then Latest.\n",
        "    Only respond with the category name and nothing else.\n",
        "\n",
        "    User query: {question}\n",
        "    {format_instructions}\n",
        "    \"\"\"\n",
        "\n",
        "    prompt= PromptTemplate(\n",
        "        template=template,\n",
        "        input_variable=[\"question\"],\n",
        "        partial_variables={\"format_instructions\": parser.get_format_instructions()}\n",
        "    )\n",
        "\n",
        "\n",
        "    chain= prompt | model | parser\n",
        "\n",
        "\n",
        "    response = chain.invoke({\"question\":question})\n",
        "\n",
        "    print(\"Parsed response:\", response)\n",
        "\n",
        "    return {\"messages\": [response.Topic]}"
      ]
    },
    {
      "cell_type": "code",
      "execution_count": 71,
      "id": "14436bdf",
      "metadata": {
        "id": "14436bdf"
      },
      "outputs": [],
      "source": [
        "def router(state:AgentState):\n",
        "    print(\"-> ROUTER ->\")\n",
        "\n",
        "    last_message=state[\"messages\"][-1]\n",
        "    print(\"last_message:\", last_message)\n",
        "\n",
        "    if \"constitution\" in last_message.lower():\n",
        "        return \"RAG Call\"\n",
        "    elif \"latest\" in last_message.lower():\n",
        "        return \"WEB Call\"\n",
        "    else:\n",
        "        return \"LLM Call\""
      ]
    },
    {
      "cell_type": "code",
      "execution_count": 72,
      "id": "669f58e1",
      "metadata": {
        "id": "669f58e1"
      },
      "outputs": [],
      "source": [
        "def format_docs(docs):\n",
        "    return \"\\n\\n\".join(doc.page_content for doc in docs)"
      ]
    },
    {
      "cell_type": "code",
      "execution_count": 73,
      "id": "7ba60dd6",
      "metadata": {
        "id": "7ba60dd6",
        "outputId": "837f6ef2-6b5b-44db-e4a3-853ba75a8f9e"
      },
      "outputs": [
        {
          "name": "stderr",
          "output_type": "stream",
          "text": [
            "C:\\Users\\saina\\AppData\\Local\\Temp\\ipykernel_4808\\3562440359.py:15: LangChainDeprecationWarning: The class `HuggingFaceEmbeddings` was deprecated in LangChain 0.2.2 and will be removed in 1.0. An updated version of the class exists in the :class:`~langchain-huggingface package and should be used instead. To use it run `pip install -U :class:`~langchain-huggingface` and import as `from :class:`~langchain_huggingface import HuggingFaceEmbeddings``.\n",
            "  embedding_model = HuggingFaceEmbeddings(model_name=\"all-MiniLM-L6-v2\")\n"
          ]
        }
      ],
      "source": [
        "# Load a PDF and validate the page count\n",
        "file_path = r\"C:\\Users\\saina\\Desktop\\DS_ML_AI\\Krish_Naik_Courses\\Krish_naik_1_Agentic_AI_and_Gen_AI\\Practice\\agentic_ai_2\\data\\2023050195.pdf\"\n",
        "loader = PyPDFLoader(file_path)\n",
        "pages = loader.load()\n",
        "\n",
        "if len(pages) < 200:\n",
        "    raise ValueError(\"The PDF must have at least 200 pages.\")\n",
        "\n",
        "#Using semantic chunking with recursive text splitter\n",
        "text_splitter = RecursiveCharacterTextSplitter(chunk_size=500, chunk_overlap=100)\n",
        "chunks = text_splitter.split_documents(pages)\n",
        "\n",
        "\n",
        "# Hugging Face embedding\n",
        "embedding_model = HuggingFaceEmbeddings(model_name=\"all-MiniLM-L6-v2\")\n",
        "\n",
        "faiss_flat = FAISS.from_documents(chunks, embedding_model)\n",
        "retriever_flat = faiss_flat.as_retriever()"
      ]
    },
    {
      "cell_type": "code",
      "execution_count": 74,
      "id": "e367c54b",
      "metadata": {
        "id": "e367c54b"
      },
      "outputs": [],
      "source": [
        "# RAG Function\n",
        "def function_2(state:AgentState):\n",
        "    print(\"-> RAG Call ->\")\n",
        "\n",
        "    question = state[\"messages\"][0]\n",
        "\n",
        "    prompt=PromptTemplate(\n",
        "        template=\"\"\"You are an assistant for question-answering tasks. Use the following pieces of retrieved context to answer the question. If you don't know the answer, just say that you don't know. Use three sentences maximum and keep the answer concise.\\nQuestion: {question} \\nContext: {context} \\nAnswer:\"\"\",\n",
        "\n",
        "        input_variables=['context', 'question']\n",
        "    )\n",
        "\n",
        "    rag_chain = (\n",
        "        {\"context\": retriever_flat | format_docs, \"question\": RunnablePassthrough()}\n",
        "        | prompt\n",
        "        | model\n",
        "        | StrOutputParser()\n",
        "    )\n",
        "    result = rag_chain.invoke(question)\n",
        "    return  {\"messages\": [result]}"
      ]
    },
    {
      "cell_type": "code",
      "execution_count": 75,
      "id": "4445aba2",
      "metadata": {
        "id": "4445aba2"
      },
      "outputs": [],
      "source": [
        "# LLM Function\n",
        "def function_3(state:AgentState):\n",
        "    print(\"-> LLM Call ->\")\n",
        "    question = state[\"messages\"][0]\n",
        "\n",
        "    # Normal LLM call\n",
        "    complete_query = \"Answer the follow question with you knowledge of the real world. Following is the user question: \" + question\n",
        "    response = model.invoke(complete_query)\n",
        "    return {\"messages\": [response.content]}"
      ]
    },
    {
      "cell_type": "code",
      "execution_count": 76,
      "id": "58ade2a6",
      "metadata": {
        "id": "58ade2a6"
      },
      "outputs": [],
      "source": [
        "from langchain_community.tools import DuckDuckGoSearchRun\n",
        "def search_fun(state:AgentState):\n",
        "    search=DuckDuckGoSearchRun()\n",
        "    result = search.invoke({\"query\":state[\"messages\"][0]})\n",
        "    return {\"messages\": [result]}\n"
      ]
    },
    {
      "cell_type": "code",
      "execution_count": 77,
      "id": "77310b33",
      "metadata": {
        "id": "77310b33"
      },
      "outputs": [],
      "source": [
        "def function_4(state:AgentState):\n",
        "\n",
        "    question = state[\"messages\"][0]\n",
        "    answer=state[\"messages\"][-1]\n",
        "\n",
        "    print(\"answer\",answer)\n",
        "\n",
        "    template=\"\"\"\n",
        "    Your task is to check if the response is related to the user question.\n",
        "    Respond in the specified JSON format.\n",
        "\n",
        "    User query: {question}\n",
        "    response: {answer}\n",
        "\n",
        "    {format_instructions}\n",
        "    \"\"\"\n",
        "\n",
        "    prompt= PromptTemplate(\n",
        "        template=template,\n",
        "        input_variable=[\"question\",\"answer\"],\n",
        "        partial_variables={\"format_instructions\": parser.get_format_instructions()}\n",
        "    )\n",
        "\n",
        "\n",
        "    chain= prompt | model | parser\n",
        "\n",
        "    response = chain.invoke({\"question\":question,\"answer\":answer})\n",
        "\n",
        "    print(\"Parsed response:\", response)\n",
        "\n",
        "    return {\"messages\": [response.Topic]}"
      ]
    },
    {
      "cell_type": "code",
      "execution_count": 78,
      "id": "566638da",
      "metadata": {
        "id": "566638da"
      },
      "outputs": [],
      "source": [
        "def router_1(state:AgentState):\n",
        "    print(\"-> ROUTER_1 ->\")\n",
        "\n",
        "    last_message=state[\"messages\"][-1]\n",
        "    print(\"last_message:\", last_message)\n",
        "\n",
        "    if \"yes\" in last_message.lower():\n",
        "        return \"yes\"\n",
        "    else:\n",
        "        return \"no\""
      ]
    },
    {
      "cell_type": "code",
      "execution_count": 79,
      "id": "e4a6205f",
      "metadata": {
        "id": "e4a6205f",
        "outputId": "047527db-2481-44c6-c885-b28d4616c193"
      },
      "outputs": [
        {
          "data": {
            "text/plain": [
              "<langgraph.graph.state.StateGraph at 0x28b853d6e90>"
            ]
          },
          "execution_count": 79,
          "metadata": {},
          "output_type": "execute_result"
        }
      ],
      "source": [
        "workflow=StateGraph(AgentState)\n",
        "workflow.add_node(\"Supervisor\",function_1)\n",
        "workflow.add_node(\"RAG\",function_2)\n",
        "workflow.add_node(\"LLM\",function_3)\n",
        "workflow.add_node(\"WEB\", search_fun)\n",
        "workflow.add_node(\"VALIDATION\",function_4)\n",
        "workflow.set_entry_point(\"Supervisor\")"
      ]
    },
    {
      "cell_type": "code",
      "execution_count": 80,
      "id": "44d40cd0",
      "metadata": {
        "id": "44d40cd0",
        "outputId": "03023829-b6f5-4720-be61-3066d21e5e90"
      },
      "outputs": [
        {
          "data": {
            "text/plain": [
              "<langgraph.graph.state.StateGraph at 0x28b853d6e90>"
            ]
          },
          "execution_count": 80,
          "metadata": {},
          "output_type": "execute_result"
        }
      ],
      "source": [
        "workflow.add_conditional_edges(\n",
        "    \"Supervisor\",\n",
        "    router,\n",
        "    {\n",
        "        \"RAG Call\": \"RAG\",\n",
        "        \"LLM Call\": \"LLM\",\n",
        "        \"WEB Call\": \"WEB\",\n",
        "    }\n",
        ")"
      ]
    },
    {
      "cell_type": "code",
      "execution_count": 81,
      "id": "51f3a5fa",
      "metadata": {
        "id": "51f3a5fa",
        "outputId": "bf6a0370-7033-47d8-b118-c7526fda147d"
      },
      "outputs": [
        {
          "data": {
            "text/plain": [
              "<langgraph.graph.state.StateGraph at 0x28b853d6e90>"
            ]
          },
          "execution_count": 81,
          "metadata": {},
          "output_type": "execute_result"
        }
      ],
      "source": [
        "workflow.add_edge(\"RAG\",\"VALIDATION\")\n",
        "workflow.add_edge(\"LLM\",\"VALIDATION\")\n",
        "workflow.add_edge(\"WEB\",\"VALIDATION\")\n",
        "\n",
        "workflow.add_conditional_edges(\n",
        "    \"VALIDATION\",\n",
        "    router_1,\n",
        "    {\n",
        "        \"yes\": END,\n",
        "        \"no\":\"Supervisor\"\n",
        "    }\n",
        "\n",
        ")"
      ]
    },
    {
      "cell_type": "code",
      "execution_count": 82,
      "id": "0449aa2a",
      "metadata": {
        "id": "0449aa2a"
      },
      "outputs": [],
      "source": [
        "app=workflow.compile()"
      ]
    },
    {
      "cell_type": "code",
      "execution_count": 83,
      "id": "9cf74c81",
      "metadata": {
        "id": "9cf74c81",
        "outputId": "7c0bb0a9-0f51-427a-a52c-1f2e1bd8a2fd"
      },
      "outputs": [
        {
          "data": {
            "image/png": "[encoded data removed]",
            "text/plain": [
              "<IPython.core.display.Image object>"
            ]
          },
          "metadata": {},
          "output_type": "display_data"
        }
      ],
      "source": [
        "from IPython.display import Image, display\n",
        "display(Image(app.get_graph(xray=True).draw_mermaid_png()))"
      ]
    },
    {
      "cell_type": "code",
      "execution_count": null,
      "id": "30ba3393",
      "metadata": {
        "id": "30ba3393",
        "outputId": "f5d8a310-c981-469d-9c07-267cd97e8958"
      },
      "outputs": [
        {
          "name": "stdout",
          "output_type": "stream",
          "text": [
            "Question How to make black tea?, list down in simple steps\n",
            "Parsed response: Topic='LLM' Reasoning='The query is a generic question about making tea, not related to the Indian Constitution or recent events.'\n",
            "-> ROUTER ->\n",
            "last_message: LLM\n",
            "-> LLM Call ->\n",
            "answer How to Make Black Tea (Simple Steps):\n",
            "\n",
            "1. **Boil Water:** Heat fresh water to a rolling boil.  The temperature is crucial for optimal flavor extraction;  around 200-212°F (93-100°C) is ideal.\n",
            "\n",
            "2. **Warm the Teapot (Optional):**  Pour a small amount of boiling water into your teapot and swirl it around to preheat it. This helps maintain the water temperature and prevents the tea from cooling down too quickly.  Empty the water before adding tea.\n",
            "\n",
            "3. **Add Tea Leaves:** Place 1-2 teaspoons of loose leaf black tea, or one tea bag, per cup of water into the teapot.  Adjust to your taste preference; more tea makes a stronger brew.\n",
            "\n",
            "4. **Pour Water Over Tea:** Slowly pour the boiling water over the tea leaves or tea bag.  Make sure all the leaves are submerged.\n",
            "\n",
            "5. **Steep:** Let the tea steep for 3-5 minutes.  Steeping for longer will result in a stronger, more bitter tea. Experiment to find your perfect steeping time.\n",
            "\n",
            "6. **Remove Tea Leaves/Bag:** Remove the tea bag or strain the loose leaf tea from the teapot.\n",
            "\n",
            "7. **Serve and Enjoy:** Pour the tea into your cup and enjoy! You can add milk, sugar, lemon, or honey to taste.\n",
            "Parsed response: Topic='How to Make Black Tea' Reasoning=\"The response provides a step-by-step guide on how to make black tea, directly addressing the user's question.  It covers key aspects like water temperature, steeping time, and leaf quantity, fulfilling the request for simple steps.\"\n",
            "-> ROUTER_1 ->\n",
            "last_message: How to Make Black Tea\n",
            "Question How to Make Black Tea\n",
            "Parsed response: Topic='LLM' Reasoning='The query is a generic question about making black tea, unrelated to Indian Constitution or recent events.'\n",
            "-> ROUTER ->\n",
            "last_message: LLM\n",
            "-> LLM Call ->\n",
            "answer How to Make Black Tea (Simple Steps):\n",
            "\n",
            "1. **Boil Water:** Heat fresh, clean water to a rolling boil.  The exact temperature isn't critical for black tea, but generally between 200-212°F (93-100°C) is fine.\n",
            "\n",
            "2. **Warm the Teapot (Optional):**  Pour a small amount of boiling water into your teapot to warm it. This helps keep the tea hotter for longer. Empty the teapot afterward.\n",
            "\n",
            "3. **Add Tea Leaves:** Place 1 teaspoon of loose leaf black tea, or one tea bag, for every 8 ounces (237ml) of water into the warmed teapot.\n",
            "\n",
            "4. **Pour Water Over Tea:** Slowly pour the boiling water over the tea leaves or tea bag.\n",
            "\n",
            "5. **Steep:** Let the tea steep for 3-5 minutes.  Steeping for longer will result in a stronger, more bitter brew.  Experiment to find your preferred strength.\n",
            "\n",
            "6. **Remove Tea Leaves/Bag:** Remove the tea leaves or tea bag from the teapot.  For loose leaf tea, you can use a strainer to pour the tea into your cup.\n",
            "\n",
            "7. **Serve and Enjoy:** Pour the tea into your cup and enjoy! You can add milk, sugar, lemon, or honey to taste.\n",
            "Parsed response: Topic='Relevant' Reasoning=\"The response directly answers the user's question by providing a step-by-step guide on how to make black tea.  It covers all the essential steps, from boiling water to serving the tea, and even includes optional steps and tips for adjusting the strength and flavor.\"\n",
            "-> ROUTER_1 ->\n",
            "last_message: Relevant\n",
            "Question Relevant\n",
            "Parsed response: Topic='LLM' Reasoning=\"The word 'Relevant' is too generic and doesn't relate to the Indian Constitution or any specific recent event.  It's a general term applicable to many contexts.\"\n",
            "-> ROUTER ->\n",
            "last_message: LLM\n",
            "-> LLM Call ->\n",
            "answer How to Make Black Tea (Simple Steps):\n",
            "\n",
            "1. **Boil Water:**  Bring fresh, cold water to a rolling boil in a kettle or pot.  The amount depends on how much tea you're making (see step 2).\n",
            "\n",
            "2. **Heat Water to Correct Temperature:** For black tea, the ideal water temperature is between 200-212°F (93-100°C).  If your kettle doesn't have a temperature setting, let the boiled water sit for a minute or two to cool slightly.\n",
            "\n",
            "3. **Warm Teacup (Optional):**  Preheating your teacup with hot water helps keep your tea warmer for longer.\n",
            "\n",
            "4. **Add Tea Leaves:** Place one tea bag (or about 1 teaspoon of loose leaf tea per 8 ounces of water) into your teacup or teapot.\n",
            "\n",
            "5. **Pour Water Over Tea:** Slowly pour the hot water over the tea leaves, ensuring all the leaves are submerged.\n",
            "\n",
            "6. **Steep:** Let the tea steep for 3-5 minutes.  Steeping for longer will result in a stronger, more bitter tea. Experiment to find your preferred strength.\n",
            "\n",
            "7. **Remove Tea Bag or Leaves:** Remove the tea bag or strain out the loose leaves.\n",
            "\n",
            "8. **Serve and Enjoy:**  Add milk, sugar, lemon, or other sweeteners to taste (optional).  Enjoy your freshly brewed black tea!\n",
            "Parsed response: Topic='How to make black tea' Reasoning=\"The response provides a step-by-step guide on how to make black tea, directly addressing the user's question.  The steps are clearly explained and cover all the essential aspects of the process.\"\n",
            "-> ROUTER_1 ->\n",
            "last_message: How to make black tea\n",
            "Question How to make black tea\n",
            "Parsed response: Topic='LLM' Reasoning='The query is a generic question about making tea, not related to the Indian Constitution or recent events.'\n",
            "-> ROUTER ->\n",
            "last_message: LLM\n",
            "-> LLM Call ->\n",
            "answer How to Make Black Tea:\n",
            "\n",
            "1. **Boil water:**  Use fresh, cold water and bring it to a rolling boil in a kettle.\n",
            "\n",
            "2. **Warm the pot (optional):**  Pour a small amount of boiling water into your teapot to warm it.  This helps keep the tea warmer for longer. Empty the water out immediately.\n",
            "\n",
            "3. **Add tea leaves:** Use one teaspoon of loose leaf tea or one tea bag per cup of water (adjust to your preference; some like it stronger).\n",
            "\n",
            "4. **Pour hot water over tea leaves:**  Pour the boiling water over the tea leaves in the pot. Make sure all the leaves are submerged.\n",
            "\n",
            "5. **Steep:** Let the tea steep for 3-5 minutes.  Steeping time affects the strength and flavor.  Experiment to find your preferred taste.  Longer steeping times generally result in a stronger, more bitter tea.\n",
            "\n",
            "6. **Remove tea leaves:**  If using loose leaf tea, pour the tea through a strainer into your cup(s). If using tea bags, remove them after steeping.\n",
            "\n",
            "7. **Serve and enjoy:** Add milk, sugar, lemon, or honey to taste (optional).  Enjoy your freshly brewed black tea!\n",
            "Parsed response: Topic='How to make black tea' Reasoning=\"The response provides a step-by-step guide on how to make black tea, directly answering the user's question.  It covers all the essential steps from boiling water to serving the tea, aligning perfectly with the user's request for simple instructions.\"\n",
            "-> ROUTER_1 ->\n",
            "last_message: How to make black tea\n",
            "Question How to make black tea\n",
            "Parsed response: Topic='LLM' Reasoning='The query is a general question about making black tea, not related to the Indian Constitution or recent events.'\n",
            "-> ROUTER ->\n",
            "last_message: LLM\n",
            "-> LLM Call ->\n",
            "answer How to Make Black Tea: Simple Steps\n",
            "\n",
            "1. **Boil Water:**  Heat fresh water to a rolling boil.  The temperature is crucial for optimal flavor extraction; generally, 200-212°F (93-100°C) is ideal.\n",
            "\n",
            "2. **Warm the Teapot (Optional but Recommended):** Pour a small amount of boiling water into your teapot and swirl it around to preheat it. This helps maintain the water temperature and prevents the tea from cooling down too quickly. Empty the water out.\n",
            "\n",
            "3. **Add Tea Leaves:** Place one teaspoon of loose leaf black tea or one tea bag per cup of water into the warmed teapot.  Adjust the amount to your taste preference; some people prefer stronger tea.\n",
            "\n",
            "4. **Pour Water Over Tea:** Slowly pour the boiling water over the tea leaves.  Make sure all the leaves are submerged.\n",
            "\n",
            "5. **Steep:** Let the tea steep for 3-5 minutes.  Steeping time affects the strength and bitterness of the tea.  Experiment to find your perfect timing.  Longer steeping generally results in a stronger, more bitter brew.\n",
            "\n",
            "6. **Remove Tea Leaves/Bag:** Remove the tea bag or strain the loose leaf tea from the teapot.  You can do this by pouring the tea through a strainer into your cup, or using a tea infuser.\n",
            "\n",
            "7. **Serve and Enjoy:** Pour the tea into your cup and enjoy! You can add milk, sugar, lemon, or honey to taste.\n",
            "Parsed response: Topic='How to Make Black Tea' Reasoning=\"The response provides a step-by-step guide on how to make black tea, directly addressing the user's question.\"\n",
            "-> ROUTER_1 ->\n",
            "last_message: How to Make Black Tea\n",
            "Question How to Make Black Tea\n"
          ]
        },
        {
          "name": "stderr",
          "output_type": "stream",
          "text": [
            "Retrying langchain_google_genai.chat_models._chat_with_retry.<locals>._chat_with_retry in 2.0 seconds as it raised ResourceExhausted: 429 You exceeded your current quota, please check your plan and billing details. For more information on this error, head to: https://ai.google.dev/gemini-api/docs/rate-limits. [violations {\n",
            "  quota_metric: \"generativelanguage.googleapis.com/generate_content_free_tier_requests\"\n",
            "  quota_id: \"GenerateRequestsPerMinutePerProjectPerModel-FreeTier\"\n",
            "  quota_dimensions {\n",
            "    key: \"model\"\n",
            "    value: \"gemini-1.5-flash\"\n",
            "  }\n",
            "  quota_dimensions {\n",
            "    key: \"location\"\n",
            "    value: \"global\"\n",
            "  }\n",
            "  quota_value: 15\n",
            "}\n",
            ", links {\n",
            "  description: \"Learn more about Gemini API quotas\"\n",
            "  url: \"https://ai.google.dev/gemini-api/docs/rate-limits\"\n",
            "}\n",
            ", retry_delay {\n",
            "  seconds: 16\n",
            "}\n",
            "].\n"
          ]
        },
        {
          "ename": "ResourceExhausted",
          "evalue": "429 You exceeded your current quota, please check your plan and billing details. For more information on this error, head to: https://ai.google.dev/gemini-api/docs/rate-limits. [violations {\n  quota_metric: \"generativelanguage.googleapis.com/generate_content_free_tier_requests\"\n  quota_id: \"GenerateRequestsPerMinutePerProjectPerModel-FreeTier\"\n  quota_dimensions {\n    key: \"model\"\n    value: \"gemini-1.5-flash\"\n  }\n  quota_dimensions {\n    key: \"location\"\n    value: \"global\"\n  }\n  quota_value: 15\n}\n, links {\n  description: \"Learn more about Gemini API quotas\"\n  url: \"https://ai.google.dev/gemini-api/docs/rate-limits\"\n}\n, retry_delay {\n  seconds: 14\n}\n]",
          "output_type": "error",
          "traceback": [
            "\u001b[31m---------------------------------------------------------------------------\u001b[39m",
            "\u001b[31mResourceExhausted\u001b[39m                         Traceback (most recent call last)",
            "\u001b[36mCell\u001b[39m\u001b[36m \u001b[39m\u001b[32mIn[84]\u001b[39m\u001b[32m, line 2\u001b[39m\n\u001b[32m      1\u001b[39m state={\u001b[33m\"\u001b[39m\u001b[33mmessages\u001b[39m\u001b[33m\"\u001b[39m:[\u001b[33m\"\u001b[39m\u001b[33mHow to make black tea?, list down in simple steps\u001b[39m\u001b[33m\"\u001b[39m]}\n\u001b[32m----> \u001b[39m\u001b[32m2\u001b[39m \u001b[43mapp\u001b[49m\u001b[43m.\u001b[49m\u001b[43minvoke\u001b[49m\u001b[43m(\u001b[49m\u001b[43mstate\u001b[49m\u001b[43m)\u001b[49m\n",
            "\u001b[36mFile \u001b[39m\u001b[32mc:\\Users\\saina\\.conda\\envs\\agentic_base\\Lib\\site-packages\\langgraph\\pregel\\__init__.py:2719\u001b[39m, in \u001b[36mPregel.invoke\u001b[39m\u001b[34m(self, input, config, stream_mode, output_keys, interrupt_before, interrupt_after, checkpoint_during, debug, **kwargs)\u001b[39m\n\u001b[32m   2716\u001b[39m chunks: \u001b[38;5;28mlist\u001b[39m[Union[\u001b[38;5;28mdict\u001b[39m[\u001b[38;5;28mstr\u001b[39m, Any], Any]] = []\n\u001b[32m   2717\u001b[39m interrupts: \u001b[38;5;28mlist\u001b[39m[Interrupt] = []\n\u001b[32m-> \u001b[39m\u001b[32m2719\u001b[39m \u001b[43m\u001b[49m\u001b[38;5;28;43;01mfor\u001b[39;49;00m\u001b[43m \u001b[49m\u001b[43mchunk\u001b[49m\u001b[43m \u001b[49m\u001b[38;5;129;43;01min\u001b[39;49;00m\u001b[43m \u001b[49m\u001b[38;5;28;43mself\u001b[39;49m\u001b[43m.\u001b[49m\u001b[43mstream\u001b[49m\u001b[43m(\u001b[49m\n\u001b[32m   2720\u001b[39m \u001b[43m    \u001b[49m\u001b[38;5;28;43minput\u001b[39;49m\u001b[43m,\u001b[49m\n\u001b[32m   2721\u001b[39m \u001b[43m    \u001b[49m\u001b[43mconfig\u001b[49m\u001b[43m,\u001b[49m\n\u001b[32m   2722\u001b[39m \u001b[43m    \u001b[49m\u001b[43mstream_mode\u001b[49m\u001b[43m=\u001b[49m\u001b[43mstream_mode\u001b[49m\u001b[43m,\u001b[49m\n\u001b[32m   2723\u001b[39m \u001b[43m    \u001b[49m\u001b[43moutput_keys\u001b[49m\u001b[43m=\u001b[49m\u001b[43moutput_keys\u001b[49m\u001b[43m,\u001b[49m\n\u001b[32m   2724\u001b[39m \u001b[43m    \u001b[49m\u001b[43minterrupt_before\u001b[49m\u001b[43m=\u001b[49m\u001b[43minterrupt_before\u001b[49m\u001b[43m,\u001b[49m\n\u001b[32m   2725\u001b[39m \u001b[43m    \u001b[49m\u001b[43minterrupt_after\u001b[49m\u001b[43m=\u001b[49m\u001b[43minterrupt_after\u001b[49m\u001b[43m,\u001b[49m\n\u001b[32m   2726\u001b[39m \u001b[43m    \u001b[49m\u001b[43mcheckpoint_during\u001b[49m\u001b[43m=\u001b[49m\u001b[43mcheckpoint_during\u001b[49m\u001b[43m,\u001b[49m\n\u001b[32m   2727\u001b[39m \u001b[43m    \u001b[49m\u001b[43mdebug\u001b[49m\u001b[43m=\u001b[49m\u001b[43mdebug\u001b[49m\u001b[43m,\u001b[49m\n\u001b[32m   2728\u001b[39m \u001b[43m    \u001b[49m\u001b[43m*\u001b[49m\u001b[43m*\u001b[49m\u001b[43mkwargs\u001b[49m\u001b[43m,\u001b[49m\n\u001b[32m   2729\u001b[39m \u001b[43m\u001b[49m\u001b[43m)\u001b[49m\u001b[43m:\u001b[49m\n\u001b[32m   2730\u001b[39m \u001b[43m    \u001b[49m\u001b[38;5;28;43;01mif\u001b[39;49;00m\u001b[43m \u001b[49m\u001b[43mstream_mode\u001b[49m\u001b[43m \u001b[49m\u001b[43m==\u001b[49m\u001b[43m \u001b[49m\u001b[33;43m\"\u001b[39;49m\u001b[33;43mvalues\u001b[39;49m\u001b[33;43m\"\u001b[39;49m\u001b[43m:\u001b[49m\n\u001b[32m   2731\u001b[39m \u001b[43m        \u001b[49m\u001b[38;5;28;43;01mif\u001b[39;49;00m\u001b[43m \u001b[49m\u001b[43m(\u001b[49m\n\u001b[32m   2732\u001b[39m \u001b[43m            \u001b[49m\u001b[38;5;28;43misinstance\u001b[39;49m\u001b[43m(\u001b[49m\u001b[43mchunk\u001b[49m\u001b[43m,\u001b[49m\u001b[43m \u001b[49m\u001b[38;5;28;43mdict\u001b[39;49m\u001b[43m)\u001b[49m\n\u001b[32m   2733\u001b[39m \u001b[43m            \u001b[49m\u001b[38;5;129;43;01mand\u001b[39;49;00m\u001b[43m \u001b[49m\u001b[43m(\u001b[49m\u001b[43mints\u001b[49m\u001b[43m \u001b[49m\u001b[43m:=\u001b[49m\u001b[43m \u001b[49m\u001b[43mchunk\u001b[49m\u001b[43m.\u001b[49m\u001b[43mget\u001b[49m\u001b[43m(\u001b[49m\u001b[43mINTERRUPT\u001b[49m\u001b[43m)\u001b[49m\u001b[43m)\u001b[49m\u001b[43m \u001b[49m\u001b[38;5;129;43;01mis\u001b[39;49;00m\u001b[43m \u001b[49m\u001b[38;5;129;43;01mnot\u001b[39;49;00m\u001b[43m \u001b[49m\u001b[38;5;28;43;01mNone\u001b[39;49;00m\n\u001b[32m   2734\u001b[39m \u001b[43m        \u001b[49m\u001b[43m)\u001b[49m\u001b[43m:\u001b[49m\n",
            "\u001b[36mFile \u001b[39m\u001b[32mc:\\Users\\saina\\.conda\\envs\\agentic_base\\Lib\\site-packages\\langgraph\\pregel\\__init__.py:2436\u001b[39m, in \u001b[36mPregel.stream\u001b[39m\u001b[34m(self, input, config, stream_mode, output_keys, interrupt_before, interrupt_after, checkpoint_during, debug, subgraphs)\u001b[39m\n\u001b[32m   2434\u001b[39m         \u001b[38;5;28;01mfor\u001b[39;00m task \u001b[38;5;129;01min\u001b[39;00m loop.match_cached_writes():\n\u001b[32m   2435\u001b[39m             loop.output_writes(task.id, task.writes, cached=\u001b[38;5;28;01mTrue\u001b[39;00m)\n\u001b[32m-> \u001b[39m\u001b[32m2436\u001b[39m \u001b[43m        \u001b[49m\u001b[38;5;28;43;01mfor\u001b[39;49;00m\u001b[43m \u001b[49m\u001b[43m_\u001b[49m\u001b[43m \u001b[49m\u001b[38;5;129;43;01min\u001b[39;49;00m\u001b[43m \u001b[49m\u001b[43mrunner\u001b[49m\u001b[43m.\u001b[49m\u001b[43mtick\u001b[49m\u001b[43m(\u001b[49m\n\u001b[32m   2437\u001b[39m \u001b[43m            \u001b[49m\u001b[43m[\u001b[49m\u001b[43mt\u001b[49m\u001b[43m \u001b[49m\u001b[38;5;28;43;01mfor\u001b[39;49;00m\u001b[43m \u001b[49m\u001b[43mt\u001b[49m\u001b[43m \u001b[49m\u001b[38;5;129;43;01min\u001b[39;49;00m\u001b[43m \u001b[49m\u001b[43mloop\u001b[49m\u001b[43m.\u001b[49m\u001b[43mtasks\u001b[49m\u001b[43m.\u001b[49m\u001b[43mvalues\u001b[49m\u001b[43m(\u001b[49m\u001b[43m)\u001b[49m\u001b[43m \u001b[49m\u001b[38;5;28;43;01mif\u001b[39;49;00m\u001b[43m \u001b[49m\u001b[38;5;129;43;01mnot\u001b[39;49;00m\u001b[43m \u001b[49m\u001b[43mt\u001b[49m\u001b[43m.\u001b[49m\u001b[43mwrites\u001b[49m\u001b[43m]\u001b[49m\u001b[43m,\u001b[49m\n\u001b[32m   2438\u001b[39m \u001b[43m            \u001b[49m\u001b[43mtimeout\u001b[49m\u001b[43m=\u001b[49m\u001b[38;5;28;43mself\u001b[39;49m\u001b[43m.\u001b[49m\u001b[43mstep_timeout\u001b[49m\u001b[43m,\u001b[49m\n\u001b[32m   2439\u001b[39m \u001b[43m            \u001b[49m\u001b[43mget_waiter\u001b[49m\u001b[43m=\u001b[49m\u001b[43mget_waiter\u001b[49m\u001b[43m,\u001b[49m\n\u001b[32m   2440\u001b[39m \u001b[43m            \u001b[49m\u001b[43mschedule_task\u001b[49m\u001b[43m=\u001b[49m\u001b[43mloop\u001b[49m\u001b[43m.\u001b[49m\u001b[43maccept_push\u001b[49m\u001b[43m,\u001b[49m\n\u001b[32m   2441\u001b[39m \u001b[43m        \u001b[49m\u001b[43m)\u001b[49m\u001b[43m:\u001b[49m\n\u001b[32m   2442\u001b[39m \u001b[43m            \u001b[49m\u001b[38;5;66;43;03m# emit output\u001b[39;49;00m\n\u001b[32m   2443\u001b[39m \u001b[43m            \u001b[49m\u001b[38;5;28;43;01myield from\u001b[39;49;00m\u001b[43m \u001b[49m\u001b[43moutput\u001b[49m\u001b[43m(\u001b[49m\u001b[43m)\u001b[49m\n\u001b[32m   2444\u001b[39m \u001b[38;5;66;03m# emit output\u001b[39;00m\n",
            "\u001b[36mFile \u001b[39m\u001b[32mc:\\Users\\saina\\.conda\\envs\\agentic_base\\Lib\\site-packages\\langgraph\\pregel\\runner.py:161\u001b[39m, in \u001b[36mPregelRunner.tick\u001b[39m\u001b[34m(self, tasks, reraise, timeout, retry_policy, get_waiter, schedule_task)\u001b[39m\n\u001b[32m    159\u001b[39m t = tasks[\u001b[32m0\u001b[39m]\n\u001b[32m    160\u001b[39m \u001b[38;5;28;01mtry\u001b[39;00m:\n\u001b[32m--> \u001b[39m\u001b[32m161\u001b[39m     \u001b[43mrun_with_retry\u001b[49m\u001b[43m(\u001b[49m\n\u001b[32m    162\u001b[39m \u001b[43m        \u001b[49m\u001b[43mt\u001b[49m\u001b[43m,\u001b[49m\n\u001b[32m    163\u001b[39m \u001b[43m        \u001b[49m\u001b[43mretry_policy\u001b[49m\u001b[43m,\u001b[49m\n\u001b[32m    164\u001b[39m \u001b[43m        \u001b[49m\u001b[43mconfigurable\u001b[49m\u001b[43m=\u001b[49m\u001b[43m{\u001b[49m\n\u001b[32m    165\u001b[39m \u001b[43m            \u001b[49m\u001b[43mCONFIG_KEY_CALL\u001b[49m\u001b[43m:\u001b[49m\u001b[43m \u001b[49m\u001b[43mpartial\u001b[49m\u001b[43m(\u001b[49m\n\u001b[32m    166\u001b[39m \u001b[43m                \u001b[49m\u001b[43m_call\u001b[49m\u001b[43m,\u001b[49m\n\u001b[32m    167\u001b[39m \u001b[43m                \u001b[49m\u001b[43mweakref\u001b[49m\u001b[43m.\u001b[49m\u001b[43mref\u001b[49m\u001b[43m(\u001b[49m\u001b[43mt\u001b[49m\u001b[43m)\u001b[49m\u001b[43m,\u001b[49m\n\u001b[32m    168\u001b[39m \u001b[43m                \u001b[49m\u001b[43mretry\u001b[49m\u001b[43m=\u001b[49m\u001b[43mretry_policy\u001b[49m\u001b[43m,\u001b[49m\n\u001b[32m    169\u001b[39m \u001b[43m                \u001b[49m\u001b[43mfutures\u001b[49m\u001b[43m=\u001b[49m\u001b[43mweakref\u001b[49m\u001b[43m.\u001b[49m\u001b[43mref\u001b[49m\u001b[43m(\u001b[49m\u001b[43mfutures\u001b[49m\u001b[43m)\u001b[49m\u001b[43m,\u001b[49m\n\u001b[32m    170\u001b[39m \u001b[43m                \u001b[49m\u001b[43mschedule_task\u001b[49m\u001b[43m=\u001b[49m\u001b[43mschedule_task\u001b[49m\u001b[43m,\u001b[49m\n\u001b[32m    171\u001b[39m \u001b[43m                \u001b[49m\u001b[43msubmit\u001b[49m\u001b[43m=\u001b[49m\u001b[38;5;28;43mself\u001b[39;49m\u001b[43m.\u001b[49m\u001b[43msubmit\u001b[49m\u001b[43m,\u001b[49m\n\u001b[32m    172\u001b[39m \u001b[43m            \u001b[49m\u001b[43m)\u001b[49m\u001b[43m,\u001b[49m\n\u001b[32m    173\u001b[39m \u001b[43m        \u001b[49m\u001b[43m}\u001b[49m\u001b[43m,\u001b[49m\n\u001b[32m    174\u001b[39m \u001b[43m    \u001b[49m\u001b[43m)\u001b[49m\n\u001b[32m    175\u001b[39m     \u001b[38;5;28mself\u001b[39m.commit(t, \u001b[38;5;28;01mNone\u001b[39;00m)\n\u001b[32m    176\u001b[39m \u001b[38;5;28;01mexcept\u001b[39;00m \u001b[38;5;167;01mException\u001b[39;00m \u001b[38;5;28;01mas\u001b[39;00m exc:\n",
            "\u001b[36mFile \u001b[39m\u001b[32mc:\\Users\\saina\\.conda\\envs\\agentic_base\\Lib\\site-packages\\langgraph\\pregel\\retry.py:40\u001b[39m, in \u001b[36mrun_with_retry\u001b[39m\u001b[34m(task, retry_policy, configurable)\u001b[39m\n\u001b[32m     38\u001b[39m     task.writes.clear()\n\u001b[32m     39\u001b[39m     \u001b[38;5;66;03m# run the task\u001b[39;00m\n\u001b[32m---> \u001b[39m\u001b[32m40\u001b[39m     \u001b[38;5;28;01mreturn\u001b[39;00m \u001b[43mtask\u001b[49m\u001b[43m.\u001b[49m\u001b[43mproc\u001b[49m\u001b[43m.\u001b[49m\u001b[43minvoke\u001b[49m\u001b[43m(\u001b[49m\u001b[43mtask\u001b[49m\u001b[43m.\u001b[49m\u001b[43minput\u001b[49m\u001b[43m,\u001b[49m\u001b[43m \u001b[49m\u001b[43mconfig\u001b[49m\u001b[43m)\u001b[49m\n\u001b[32m     41\u001b[39m \u001b[38;5;28;01mexcept\u001b[39;00m ParentCommand \u001b[38;5;28;01mas\u001b[39;00m exc:\n\u001b[32m     42\u001b[39m     ns: \u001b[38;5;28mstr\u001b[39m = config[CONF][CONFIG_KEY_CHECKPOINT_NS]\n",
            "\u001b[36mFile \u001b[39m\u001b[32mc:\\Users\\saina\\.conda\\envs\\agentic_base\\Lib\\site-packages\\langgraph\\utils\\runnable.py:623\u001b[39m, in \u001b[36mRunnableSeq.invoke\u001b[39m\u001b[34m(self, input, config, **kwargs)\u001b[39m\n\u001b[32m    621\u001b[39m     \u001b[38;5;66;03m# run in context\u001b[39;00m\n\u001b[32m    622\u001b[39m     \u001b[38;5;28;01mwith\u001b[39;00m set_config_context(config, run) \u001b[38;5;28;01mas\u001b[39;00m context:\n\u001b[32m--> \u001b[39m\u001b[32m623\u001b[39m         \u001b[38;5;28minput\u001b[39m = \u001b[43mcontext\u001b[49m\u001b[43m.\u001b[49m\u001b[43mrun\u001b[49m\u001b[43m(\u001b[49m\u001b[43mstep\u001b[49m\u001b[43m.\u001b[49m\u001b[43minvoke\u001b[49m\u001b[43m,\u001b[49m\u001b[43m \u001b[49m\u001b[38;5;28;43minput\u001b[39;49m\u001b[43m,\u001b[49m\u001b[43m \u001b[49m\u001b[43mconfig\u001b[49m\u001b[43m,\u001b[49m\u001b[43m \u001b[49m\u001b[43m*\u001b[49m\u001b[43m*\u001b[49m\u001b[43mkwargs\u001b[49m\u001b[43m)\u001b[49m\n\u001b[32m    624\u001b[39m \u001b[38;5;28;01melse\u001b[39;00m:\n\u001b[32m    625\u001b[39m     \u001b[38;5;28minput\u001b[39m = step.invoke(\u001b[38;5;28minput\u001b[39m, config)\n",
            "\u001b[36mFile \u001b[39m\u001b[32mc:\\Users\\saina\\.conda\\envs\\agentic_base\\Lib\\site-packages\\langgraph\\utils\\runnable.py:377\u001b[39m, in \u001b[36mRunnableCallable.invoke\u001b[39m\u001b[34m(self, input, config, **kwargs)\u001b[39m\n\u001b[32m    375\u001b[39m         run_manager.on_chain_end(ret)\n\u001b[32m    376\u001b[39m \u001b[38;5;28;01melse\u001b[39;00m:\n\u001b[32m--> \u001b[39m\u001b[32m377\u001b[39m     ret = \u001b[38;5;28;43mself\u001b[39;49m\u001b[43m.\u001b[49m\u001b[43mfunc\u001b[49m\u001b[43m(\u001b[49m\u001b[43m*\u001b[49m\u001b[43margs\u001b[49m\u001b[43m,\u001b[49m\u001b[43m \u001b[49m\u001b[43m*\u001b[49m\u001b[43m*\u001b[49m\u001b[43mkwargs\u001b[49m\u001b[43m)\u001b[49m\n\u001b[32m    378\u001b[39m \u001b[38;5;28;01mif\u001b[39;00m \u001b[38;5;28mself\u001b[39m.recurse \u001b[38;5;129;01mand\u001b[39;00m \u001b[38;5;28misinstance\u001b[39m(ret, Runnable):\n\u001b[32m    379\u001b[39m     \u001b[38;5;28;01mreturn\u001b[39;00m ret.invoke(\u001b[38;5;28minput\u001b[39m, config)\n",
            "\u001b[36mCell\u001b[39m\u001b[36m \u001b[39m\u001b[32mIn[70]\u001b[39m\u001b[32m, line 26\u001b[39m, in \u001b[36mfunction_1\u001b[39m\u001b[34m(state)\u001b[39m\n\u001b[32m     16\u001b[39m prompt= PromptTemplate(\n\u001b[32m     17\u001b[39m     template=template,\n\u001b[32m     18\u001b[39m     input_variable=[\u001b[33m\"\u001b[39m\u001b[33mquestion\u001b[39m\u001b[33m\"\u001b[39m],\n\u001b[32m     19\u001b[39m     partial_variables={\u001b[33m\"\u001b[39m\u001b[33mformat_instructions\u001b[39m\u001b[33m\"\u001b[39m: parser.get_format_instructions()}\n\u001b[32m     20\u001b[39m )\n\u001b[32m     23\u001b[39m chain= prompt | model | parser\n\u001b[32m---> \u001b[39m\u001b[32m26\u001b[39m response = \u001b[43mchain\u001b[49m\u001b[43m.\u001b[49m\u001b[43minvoke\u001b[49m\u001b[43m(\u001b[49m\u001b[43m{\u001b[49m\u001b[33;43m\"\u001b[39;49m\u001b[33;43mquestion\u001b[39;49m\u001b[33;43m\"\u001b[39;49m\u001b[43m:\u001b[49m\u001b[43mquestion\u001b[49m\u001b[43m}\u001b[49m\u001b[43m)\u001b[49m\n\u001b[32m     28\u001b[39m \u001b[38;5;28mprint\u001b[39m(\u001b[33m\"\u001b[39m\u001b[33mParsed response:\u001b[39m\u001b[33m\"\u001b[39m, response)\n\u001b[32m     30\u001b[39m \u001b[38;5;28;01mreturn\u001b[39;00m {\u001b[33m\"\u001b[39m\u001b[33mmessages\u001b[39m\u001b[33m\"\u001b[39m: [response.Topic]}\n",
            "\u001b[36mFile \u001b[39m\u001b[32mc:\\Users\\saina\\.conda\\envs\\agentic_base\\Lib\\site-packages\\langchain_core\\runnables\\base.py:3047\u001b[39m, in \u001b[36mRunnableSequence.invoke\u001b[39m\u001b[34m(self, input, config, **kwargs)\u001b[39m\n\u001b[32m   3045\u001b[39m                 input_ = context.run(step.invoke, input_, config, **kwargs)\n\u001b[32m   3046\u001b[39m             \u001b[38;5;28;01melse\u001b[39;00m:\n\u001b[32m-> \u001b[39m\u001b[32m3047\u001b[39m                 input_ = context.run(step.invoke, input_, config)\n\u001b[32m   3048\u001b[39m \u001b[38;5;66;03m# finish the root run\u001b[39;00m\n\u001b[32m   3049\u001b[39m \u001b[38;5;28;01mexcept\u001b[39;00m \u001b[38;5;167;01mBaseException\u001b[39;00m \u001b[38;5;28;01mas\u001b[39;00m e:\n",
            "\u001b[36mFile \u001b[39m\u001b[32mc:\\Users\\saina\\.conda\\envs\\agentic_base\\Lib\\site-packages\\langchain_google_genai\\chat_models.py:1255\u001b[39m, in \u001b[36mChatGoogleGenerativeAI.invoke\u001b[39m\u001b[34m(self, input, config, code_execution, stop, **kwargs)\u001b[39m\n\u001b[32m   1250\u001b[39m     \u001b[38;5;28;01melse\u001b[39;00m:\n\u001b[32m   1251\u001b[39m         \u001b[38;5;28;01mraise\u001b[39;00m \u001b[38;5;167;01mValueError\u001b[39;00m(\n\u001b[32m   1252\u001b[39m             \u001b[33m\"\u001b[39m\u001b[33mTools are already defined.\u001b[39m\u001b[33m\"\u001b[39m \u001b[33m\"\u001b[39m\u001b[33mcode_execution tool can\u001b[39m\u001b[33m'\u001b[39m\u001b[33mt be defined\u001b[39m\u001b[33m\"\u001b[39m\n\u001b[32m   1253\u001b[39m         )\n\u001b[32m-> \u001b[39m\u001b[32m1255\u001b[39m \u001b[38;5;28;01mreturn\u001b[39;00m \u001b[38;5;28;43msuper\u001b[39;49m\u001b[43m(\u001b[49m\u001b[43m)\u001b[49m\u001b[43m.\u001b[49m\u001b[43minvoke\u001b[49m\u001b[43m(\u001b[49m\u001b[38;5;28;43minput\u001b[39;49m\u001b[43m,\u001b[49m\u001b[43m \u001b[49m\u001b[43mconfig\u001b[49m\u001b[43m,\u001b[49m\u001b[43m \u001b[49m\u001b[43mstop\u001b[49m\u001b[43m=\u001b[49m\u001b[43mstop\u001b[49m\u001b[43m,\u001b[49m\u001b[43m \u001b[49m\u001b[43m*\u001b[49m\u001b[43m*\u001b[49m\u001b[43mkwargs\u001b[49m\u001b[43m)\u001b[49m\n",
            "\u001b[36mFile \u001b[39m\u001b[32mc:\\Users\\saina\\.conda\\envs\\agentic_base\\Lib\\site-packages\\langchain_core\\language_models\\chat_models.py:372\u001b[39m, in \u001b[36mBaseChatModel.invoke\u001b[39m\u001b[34m(self, input, config, stop, **kwargs)\u001b[39m\n\u001b[32m    360\u001b[39m \u001b[38;5;129m@override\u001b[39m\n\u001b[32m    361\u001b[39m \u001b[38;5;28;01mdef\u001b[39;00m\u001b[38;5;250m \u001b[39m\u001b[34minvoke\u001b[39m(\n\u001b[32m    362\u001b[39m     \u001b[38;5;28mself\u001b[39m,\n\u001b[32m   (...)\u001b[39m\u001b[32m    367\u001b[39m     **kwargs: Any,\n\u001b[32m    368\u001b[39m ) -> BaseMessage:\n\u001b[32m    369\u001b[39m     config = ensure_config(config)\n\u001b[32m    370\u001b[39m     \u001b[38;5;28;01mreturn\u001b[39;00m cast(\n\u001b[32m    371\u001b[39m         \u001b[33m\"\u001b[39m\u001b[33mChatGeneration\u001b[39m\u001b[33m\"\u001b[39m,\n\u001b[32m--> \u001b[39m\u001b[32m372\u001b[39m         \u001b[38;5;28;43mself\u001b[39;49m\u001b[43m.\u001b[49m\u001b[43mgenerate_prompt\u001b[49m\u001b[43m(\u001b[49m\n\u001b[32m    373\u001b[39m \u001b[43m            \u001b[49m\u001b[43m[\u001b[49m\u001b[38;5;28;43mself\u001b[39;49m\u001b[43m.\u001b[49m\u001b[43m_convert_input\u001b[49m\u001b[43m(\u001b[49m\u001b[38;5;28;43minput\u001b[39;49m\u001b[43m)\u001b[49m\u001b[43m]\u001b[49m\u001b[43m,\u001b[49m\n\u001b[32m    374\u001b[39m \u001b[43m            \u001b[49m\u001b[43mstop\u001b[49m\u001b[43m=\u001b[49m\u001b[43mstop\u001b[49m\u001b[43m,\u001b[49m\n\u001b[32m    375\u001b[39m \u001b[43m            \u001b[49m\u001b[43mcallbacks\u001b[49m\u001b[43m=\u001b[49m\u001b[43mconfig\u001b[49m\u001b[43m.\u001b[49m\u001b[43mget\u001b[49m\u001b[43m(\u001b[49m\u001b[33;43m\"\u001b[39;49m\u001b[33;43mcallbacks\u001b[39;49m\u001b[33;43m\"\u001b[39;49m\u001b[43m)\u001b[49m\u001b[43m,\u001b[49m\n\u001b[32m    376\u001b[39m \u001b[43m            \u001b[49m\u001b[43mtags\u001b[49m\u001b[43m=\u001b[49m\u001b[43mconfig\u001b[49m\u001b[43m.\u001b[49m\u001b[43mget\u001b[49m\u001b[43m(\u001b[49m\u001b[33;43m\"\u001b[39;49m\u001b[33;43mtags\u001b[39;49m\u001b[33;43m\"\u001b[39;49m\u001b[43m)\u001b[49m\u001b[43m,\u001b[49m\n\u001b[32m    377\u001b[39m \u001b[43m            \u001b[49m\u001b[43mmetadata\u001b[49m\u001b[43m=\u001b[49m\u001b[43mconfig\u001b[49m\u001b[43m.\u001b[49m\u001b[43mget\u001b[49m\u001b[43m(\u001b[49m\u001b[33;43m\"\u001b[39;49m\u001b[33;43mmetadata\u001b[39;49m\u001b[33;43m\"\u001b[39;49m\u001b[43m)\u001b[49m\u001b[43m,\u001b[49m\n\u001b[32m    378\u001b[39m \u001b[43m            \u001b[49m\u001b[43mrun_name\u001b[49m\u001b[43m=\u001b[49m\u001b[43mconfig\u001b[49m\u001b[43m.\u001b[49m\u001b[43mget\u001b[49m\u001b[43m(\u001b[49m\u001b[33;43m\"\u001b[39;49m\u001b[33;43mrun_name\u001b[39;49m\u001b[33;43m\"\u001b[39;49m\u001b[43m)\u001b[49m\u001b[43m,\u001b[49m\n\u001b[32m    379\u001b[39m \u001b[43m            \u001b[49m\u001b[43mrun_id\u001b[49m\u001b[43m=\u001b[49m\u001b[43mconfig\u001b[49m\u001b[43m.\u001b[49m\u001b[43mpop\u001b[49m\u001b[43m(\u001b[49m\u001b[33;43m\"\u001b[39;49m\u001b[33;43mrun_id\u001b[39;49m\u001b[33;43m\"\u001b[39;49m\u001b[43m,\u001b[49m\u001b[43m \u001b[49m\u001b[38;5;28;43;01mNone\u001b[39;49;00m\u001b[43m)\u001b[49m\u001b[43m,\u001b[49m\n\u001b[32m    380\u001b[39m \u001b[43m            \u001b[49m\u001b[43m*\u001b[49m\u001b[43m*\u001b[49m\u001b[43mkwargs\u001b[49m\u001b[43m,\u001b[49m\n\u001b[32m    381\u001b[39m \u001b[43m        \u001b[49m\u001b[43m)\u001b[49m.generations[\u001b[32m0\u001b[39m][\u001b[32m0\u001b[39m],\n\u001b[32m    382\u001b[39m     ).message\n",
            "\u001b[36mFile \u001b[39m\u001b[32mc:\\Users\\saina\\.conda\\envs\\agentic_base\\Lib\\site-packages\\langchain_core\\language_models\\chat_models.py:957\u001b[39m, in \u001b[36mBaseChatModel.generate_prompt\u001b[39m\u001b[34m(self, prompts, stop, callbacks, **kwargs)\u001b[39m\n\u001b[32m    948\u001b[39m \u001b[38;5;129m@override\u001b[39m\n\u001b[32m    949\u001b[39m \u001b[38;5;28;01mdef\u001b[39;00m\u001b[38;5;250m \u001b[39m\u001b[34mgenerate_prompt\u001b[39m(\n\u001b[32m    950\u001b[39m     \u001b[38;5;28mself\u001b[39m,\n\u001b[32m   (...)\u001b[39m\u001b[32m    954\u001b[39m     **kwargs: Any,\n\u001b[32m    955\u001b[39m ) -> LLMResult:\n\u001b[32m    956\u001b[39m     prompt_messages = [p.to_messages() \u001b[38;5;28;01mfor\u001b[39;00m p \u001b[38;5;129;01min\u001b[39;00m prompts]\n\u001b[32m--> \u001b[39m\u001b[32m957\u001b[39m     \u001b[38;5;28;01mreturn\u001b[39;00m \u001b[38;5;28;43mself\u001b[39;49m\u001b[43m.\u001b[49m\u001b[43mgenerate\u001b[49m\u001b[43m(\u001b[49m\u001b[43mprompt_messages\u001b[49m\u001b[43m,\u001b[49m\u001b[43m \u001b[49m\u001b[43mstop\u001b[49m\u001b[43m=\u001b[49m\u001b[43mstop\u001b[49m\u001b[43m,\u001b[49m\u001b[43m \u001b[49m\u001b[43mcallbacks\u001b[49m\u001b[43m=\u001b[49m\u001b[43mcallbacks\u001b[49m\u001b[43m,\u001b[49m\u001b[43m \u001b[49m\u001b[43m*\u001b[49m\u001b[43m*\u001b[49m\u001b[43mkwargs\u001b[49m\u001b[43m)\u001b[49m\n",
            "\u001b[36mFile \u001b[39m\u001b[32mc:\\Users\\saina\\.conda\\envs\\agentic_base\\Lib\\site-packages\\langchain_core\\language_models\\chat_models.py:776\u001b[39m, in \u001b[36mBaseChatModel.generate\u001b[39m\u001b[34m(self, messages, stop, callbacks, tags, metadata, run_name, run_id, **kwargs)\u001b[39m\n\u001b[32m    773\u001b[39m \u001b[38;5;28;01mfor\u001b[39;00m i, m \u001b[38;5;129;01min\u001b[39;00m \u001b[38;5;28menumerate\u001b[39m(input_messages):\n\u001b[32m    774\u001b[39m     \u001b[38;5;28;01mtry\u001b[39;00m:\n\u001b[32m    775\u001b[39m         results.append(\n\u001b[32m--> \u001b[39m\u001b[32m776\u001b[39m             \u001b[38;5;28;43mself\u001b[39;49m\u001b[43m.\u001b[49m\u001b[43m_generate_with_cache\u001b[49m\u001b[43m(\u001b[49m\n\u001b[32m    777\u001b[39m \u001b[43m                \u001b[49m\u001b[43mm\u001b[49m\u001b[43m,\u001b[49m\n\u001b[32m    778\u001b[39m \u001b[43m                \u001b[49m\u001b[43mstop\u001b[49m\u001b[43m=\u001b[49m\u001b[43mstop\u001b[49m\u001b[43m,\u001b[49m\n\u001b[32m    779\u001b[39m \u001b[43m                \u001b[49m\u001b[43mrun_manager\u001b[49m\u001b[43m=\u001b[49m\u001b[43mrun_managers\u001b[49m\u001b[43m[\u001b[49m\u001b[43mi\u001b[49m\u001b[43m]\u001b[49m\u001b[43m \u001b[49m\u001b[38;5;28;43;01mif\u001b[39;49;00m\u001b[43m \u001b[49m\u001b[43mrun_managers\u001b[49m\u001b[43m \u001b[49m\u001b[38;5;28;43;01melse\u001b[39;49;00m\u001b[43m \u001b[49m\u001b[38;5;28;43;01mNone\u001b[39;49;00m\u001b[43m,\u001b[49m\n\u001b[32m    780\u001b[39m \u001b[43m                \u001b[49m\u001b[43m*\u001b[49m\u001b[43m*\u001b[49m\u001b[43mkwargs\u001b[49m\u001b[43m,\u001b[49m\n\u001b[32m    781\u001b[39m \u001b[43m            \u001b[49m\u001b[43m)\u001b[49m\n\u001b[32m    782\u001b[39m         )\n\u001b[32m    783\u001b[39m     \u001b[38;5;28;01mexcept\u001b[39;00m \u001b[38;5;167;01mBaseException\u001b[39;00m \u001b[38;5;28;01mas\u001b[39;00m e:\n\u001b[32m    784\u001b[39m         \u001b[38;5;28;01mif\u001b[39;00m run_managers:\n",
            "\u001b[36mFile \u001b[39m\u001b[32mc:\\Users\\saina\\.conda\\envs\\agentic_base\\Lib\\site-packages\\langchain_core\\language_models\\chat_models.py:1022\u001b[39m, in \u001b[36mBaseChatModel._generate_with_cache\u001b[39m\u001b[34m(self, messages, stop, run_manager, **kwargs)\u001b[39m\n\u001b[32m   1020\u001b[39m     result = generate_from_stream(\u001b[38;5;28miter\u001b[39m(chunks))\n\u001b[32m   1021\u001b[39m \u001b[38;5;28;01melif\u001b[39;00m inspect.signature(\u001b[38;5;28mself\u001b[39m._generate).parameters.get(\u001b[33m\"\u001b[39m\u001b[33mrun_manager\u001b[39m\u001b[33m\"\u001b[39m):\n\u001b[32m-> \u001b[39m\u001b[32m1022\u001b[39m     result = \u001b[38;5;28;43mself\u001b[39;49m\u001b[43m.\u001b[49m\u001b[43m_generate\u001b[49m\u001b[43m(\u001b[49m\n\u001b[32m   1023\u001b[39m \u001b[43m        \u001b[49m\u001b[43mmessages\u001b[49m\u001b[43m,\u001b[49m\u001b[43m \u001b[49m\u001b[43mstop\u001b[49m\u001b[43m=\u001b[49m\u001b[43mstop\u001b[49m\u001b[43m,\u001b[49m\u001b[43m \u001b[49m\u001b[43mrun_manager\u001b[49m\u001b[43m=\u001b[49m\u001b[43mrun_manager\u001b[49m\u001b[43m,\u001b[49m\u001b[43m \u001b[49m\u001b[43m*\u001b[49m\u001b[43m*\u001b[49m\u001b[43mkwargs\u001b[49m\n\u001b[32m   1024\u001b[39m \u001b[43m    \u001b[49m\u001b[43m)\u001b[49m\n\u001b[32m   1025\u001b[39m \u001b[38;5;28;01melse\u001b[39;00m:\n\u001b[32m   1026\u001b[39m     result = \u001b[38;5;28mself\u001b[39m._generate(messages, stop=stop, **kwargs)\n",
            "\u001b[36mFile \u001b[39m\u001b[32mc:\\Users\\saina\\.conda\\envs\\agentic_base\\Lib\\site-packages\\langchain_google_genai\\chat_models.py:1342\u001b[39m, in \u001b[36mChatGoogleGenerativeAI._generate\u001b[39m\u001b[34m(self, messages, stop, run_manager, tools, functions, safety_settings, tool_config, generation_config, cached_content, tool_choice, **kwargs)\u001b[39m\n\u001b[32m   1316\u001b[39m \u001b[38;5;28;01mdef\u001b[39;00m\u001b[38;5;250m \u001b[39m\u001b[34m_generate\u001b[39m(\n\u001b[32m   1317\u001b[39m     \u001b[38;5;28mself\u001b[39m,\n\u001b[32m   1318\u001b[39m     messages: List[BaseMessage],\n\u001b[32m   (...)\u001b[39m\u001b[32m   1329\u001b[39m     **kwargs: Any,\n\u001b[32m   1330\u001b[39m ) -> ChatResult:\n\u001b[32m   1331\u001b[39m     request = \u001b[38;5;28mself\u001b[39m._prepare_request(\n\u001b[32m   1332\u001b[39m         messages,\n\u001b[32m   1333\u001b[39m         stop=stop,\n\u001b[32m   (...)\u001b[39m\u001b[32m   1340\u001b[39m         tool_choice=tool_choice,\n\u001b[32m   1341\u001b[39m     )\n\u001b[32m-> \u001b[39m\u001b[32m1342\u001b[39m     response: GenerateContentResponse = \u001b[43m_chat_with_retry\u001b[49m\u001b[43m(\u001b[49m\n\u001b[32m   1343\u001b[39m \u001b[43m        \u001b[49m\u001b[43mrequest\u001b[49m\u001b[43m=\u001b[49m\u001b[43mrequest\u001b[49m\u001b[43m,\u001b[49m\n\u001b[32m   1344\u001b[39m \u001b[43m        \u001b[49m\u001b[43m*\u001b[49m\u001b[43m*\u001b[49m\u001b[43mkwargs\u001b[49m\u001b[43m,\u001b[49m\n\u001b[32m   1345\u001b[39m \u001b[43m        \u001b[49m\u001b[43mgeneration_method\u001b[49m\u001b[43m=\u001b[49m\u001b[38;5;28;43mself\u001b[39;49m\u001b[43m.\u001b[49m\u001b[43mclient\u001b[49m\u001b[43m.\u001b[49m\u001b[43mgenerate_content\u001b[49m\u001b[43m,\u001b[49m\n\u001b[32m   1346\u001b[39m \u001b[43m        \u001b[49m\u001b[43mmetadata\u001b[49m\u001b[43m=\u001b[49m\u001b[38;5;28;43mself\u001b[39;49m\u001b[43m.\u001b[49m\u001b[43mdefault_metadata\u001b[49m\u001b[43m,\u001b[49m\n\u001b[32m   1347\u001b[39m \u001b[43m    \u001b[49m\u001b[43m)\u001b[49m\n\u001b[32m   1348\u001b[39m     \u001b[38;5;28;01mreturn\u001b[39;00m _response_to_result(response)\n",
            "\u001b[36mFile \u001b[39m\u001b[32mc:\\Users\\saina\\.conda\\envs\\agentic_base\\Lib\\site-packages\\langchain_google_genai\\chat_models.py:210\u001b[39m, in \u001b[36m_chat_with_retry\u001b[39m\u001b[34m(generation_method, **kwargs)\u001b[39m\n\u001b[32m    207\u001b[39m     \u001b[38;5;28;01mexcept\u001b[39;00m \u001b[38;5;167;01mException\u001b[39;00m \u001b[38;5;28;01mas\u001b[39;00m e:\n\u001b[32m    208\u001b[39m         \u001b[38;5;28;01mraise\u001b[39;00m e\n\u001b[32m--> \u001b[39m\u001b[32m210\u001b[39m \u001b[38;5;28;01mreturn\u001b[39;00m \u001b[43m_chat_with_retry\u001b[49m\u001b[43m(\u001b[49m\u001b[43m*\u001b[49m\u001b[43m*\u001b[49m\u001b[43mkwargs\u001b[49m\u001b[43m)\u001b[49m\n",
            "\u001b[36mFile \u001b[39m\u001b[32mc:\\Users\\saina\\.conda\\envs\\agentic_base\\Lib\\site-packages\\tenacity\\__init__.py:338\u001b[39m, in \u001b[36mBaseRetrying.wraps.<locals>.wrapped_f\u001b[39m\u001b[34m(*args, **kw)\u001b[39m\n\u001b[32m    336\u001b[39m copy = \u001b[38;5;28mself\u001b[39m.copy()\n\u001b[32m    337\u001b[39m wrapped_f.statistics = copy.statistics  \u001b[38;5;66;03m# type: ignore[attr-defined]\u001b[39;00m\n\u001b[32m--> \u001b[39m\u001b[32m338\u001b[39m \u001b[38;5;28;01mreturn\u001b[39;00m \u001b[43mcopy\u001b[49m\u001b[43m(\u001b[49m\u001b[43mf\u001b[49m\u001b[43m,\u001b[49m\u001b[43m \u001b[49m\u001b[43m*\u001b[49m\u001b[43margs\u001b[49m\u001b[43m,\u001b[49m\u001b[43m \u001b[49m\u001b[43m*\u001b[49m\u001b[43m*\u001b[49m\u001b[43mkw\u001b[49m\u001b[43m)\u001b[49m\n",
            "\u001b[36mFile \u001b[39m\u001b[32mc:\\Users\\saina\\.conda\\envs\\agentic_base\\Lib\\site-packages\\tenacity\\__init__.py:477\u001b[39m, in \u001b[36mRetrying.__call__\u001b[39m\u001b[34m(self, fn, *args, **kwargs)\u001b[39m\n\u001b[32m    475\u001b[39m retry_state = RetryCallState(retry_object=\u001b[38;5;28mself\u001b[39m, fn=fn, args=args, kwargs=kwargs)\n\u001b[32m    476\u001b[39m \u001b[38;5;28;01mwhile\u001b[39;00m \u001b[38;5;28;01mTrue\u001b[39;00m:\n\u001b[32m--> \u001b[39m\u001b[32m477\u001b[39m     do = \u001b[38;5;28;43mself\u001b[39;49m\u001b[43m.\u001b[49m\u001b[43miter\u001b[49m\u001b[43m(\u001b[49m\u001b[43mretry_state\u001b[49m\u001b[43m=\u001b[49m\u001b[43mretry_state\u001b[49m\u001b[43m)\u001b[49m\n\u001b[32m    478\u001b[39m     \u001b[38;5;28;01mif\u001b[39;00m \u001b[38;5;28misinstance\u001b[39m(do, DoAttempt):\n\u001b[32m    479\u001b[39m         \u001b[38;5;28;01mtry\u001b[39;00m:\n",
            "\u001b[36mFile \u001b[39m\u001b[32mc:\\Users\\saina\\.conda\\envs\\agentic_base\\Lib\\site-packages\\tenacity\\__init__.py:378\u001b[39m, in \u001b[36mBaseRetrying.iter\u001b[39m\u001b[34m(self, retry_state)\u001b[39m\n\u001b[32m    376\u001b[39m result = \u001b[38;5;28;01mNone\u001b[39;00m\n\u001b[32m    377\u001b[39m \u001b[38;5;28;01mfor\u001b[39;00m action \u001b[38;5;129;01min\u001b[39;00m \u001b[38;5;28mself\u001b[39m.iter_state.actions:\n\u001b[32m--> \u001b[39m\u001b[32m378\u001b[39m     result = \u001b[43maction\u001b[49m\u001b[43m(\u001b[49m\u001b[43mretry_state\u001b[49m\u001b[43m)\u001b[49m\n\u001b[32m    379\u001b[39m \u001b[38;5;28;01mreturn\u001b[39;00m result\n",
            "\u001b[36mFile \u001b[39m\u001b[32mc:\\Users\\saina\\.conda\\envs\\agentic_base\\Lib\\site-packages\\tenacity\\__init__.py:420\u001b[39m, in \u001b[36mBaseRetrying._post_stop_check_actions.<locals>.exc_check\u001b[39m\u001b[34m(rs)\u001b[39m\n\u001b[32m    418\u001b[39m retry_exc = \u001b[38;5;28mself\u001b[39m.retry_error_cls(fut)\n\u001b[32m    419\u001b[39m \u001b[38;5;28;01mif\u001b[39;00m \u001b[38;5;28mself\u001b[39m.reraise:\n\u001b[32m--> \u001b[39m\u001b[32m420\u001b[39m     \u001b[38;5;28;01mraise\u001b[39;00m \u001b[43mretry_exc\u001b[49m\u001b[43m.\u001b[49m\u001b[43mreraise\u001b[49m\u001b[43m(\u001b[49m\u001b[43m)\u001b[49m\n\u001b[32m    421\u001b[39m \u001b[38;5;28;01mraise\u001b[39;00m retry_exc \u001b[38;5;28;01mfrom\u001b[39;00m\u001b[38;5;250m \u001b[39m\u001b[34;01mfut\u001b[39;00m\u001b[34;01m.\u001b[39;00m\u001b[34;01mexception\u001b[39;00m()\n",
            "\u001b[36mFile \u001b[39m\u001b[32mc:\\Users\\saina\\.conda\\envs\\agentic_base\\Lib\\site-packages\\tenacity\\__init__.py:187\u001b[39m, in \u001b[36mRetryError.reraise\u001b[39m\u001b[34m(self)\u001b[39m\n\u001b[32m    185\u001b[39m \u001b[38;5;28;01mdef\u001b[39;00m\u001b[38;5;250m \u001b[39m\u001b[34mreraise\u001b[39m(\u001b[38;5;28mself\u001b[39m) -> t.NoReturn:\n\u001b[32m    186\u001b[39m     \u001b[38;5;28;01mif\u001b[39;00m \u001b[38;5;28mself\u001b[39m.last_attempt.failed:\n\u001b[32m--> \u001b[39m\u001b[32m187\u001b[39m         \u001b[38;5;28;01mraise\u001b[39;00m \u001b[38;5;28;43mself\u001b[39;49m\u001b[43m.\u001b[49m\u001b[43mlast_attempt\u001b[49m\u001b[43m.\u001b[49m\u001b[43mresult\u001b[49m\u001b[43m(\u001b[49m\u001b[43m)\u001b[49m\n\u001b[32m    188\u001b[39m     \u001b[38;5;28;01mraise\u001b[39;00m \u001b[38;5;28mself\u001b[39m\n",
            "\u001b[36mFile \u001b[39m\u001b[32mc:\\Users\\saina\\.conda\\envs\\agentic_base\\Lib\\concurrent\\futures\\_base.py:449\u001b[39m, in \u001b[36mFuture.result\u001b[39m\u001b[34m(self, timeout)\u001b[39m\n\u001b[32m    447\u001b[39m     \u001b[38;5;28;01mraise\u001b[39;00m CancelledError()\n\u001b[32m    448\u001b[39m \u001b[38;5;28;01melif\u001b[39;00m \u001b[38;5;28mself\u001b[39m._state == FINISHED:\n\u001b[32m--> \u001b[39m\u001b[32m449\u001b[39m     \u001b[38;5;28;01mreturn\u001b[39;00m \u001b[38;5;28;43mself\u001b[39;49m\u001b[43m.\u001b[49m\u001b[43m__get_result\u001b[49m\u001b[43m(\u001b[49m\u001b[43m)\u001b[49m\n\u001b[32m    451\u001b[39m \u001b[38;5;28mself\u001b[39m._condition.wait(timeout)\n\u001b[32m    453\u001b[39m \u001b[38;5;28;01mif\u001b[39;00m \u001b[38;5;28mself\u001b[39m._state \u001b[38;5;129;01min\u001b[39;00m [CANCELLED, CANCELLED_AND_NOTIFIED]:\n",
            "\u001b[36mFile \u001b[39m\u001b[32mc:\\Users\\saina\\.conda\\envs\\agentic_base\\Lib\\concurrent\\futures\\_base.py:401\u001b[39m, in \u001b[36mFuture.__get_result\u001b[39m\u001b[34m(self)\u001b[39m\n\u001b[32m    399\u001b[39m \u001b[38;5;28;01mif\u001b[39;00m \u001b[38;5;28mself\u001b[39m._exception:\n\u001b[32m    400\u001b[39m     \u001b[38;5;28;01mtry\u001b[39;00m:\n\u001b[32m--> \u001b[39m\u001b[32m401\u001b[39m         \u001b[38;5;28;01mraise\u001b[39;00m \u001b[38;5;28mself\u001b[39m._exception\n\u001b[32m    402\u001b[39m     \u001b[38;5;28;01mfinally\u001b[39;00m:\n\u001b[32m    403\u001b[39m         \u001b[38;5;66;03m# Break a reference cycle with the exception in self._exception\u001b[39;00m\n\u001b[32m    404\u001b[39m         \u001b[38;5;28mself\u001b[39m = \u001b[38;5;28;01mNone\u001b[39;00m\n",
            "\u001b[36mFile \u001b[39m\u001b[32mc:\\Users\\saina\\.conda\\envs\\agentic_base\\Lib\\site-packages\\tenacity\\__init__.py:480\u001b[39m, in \u001b[36mRetrying.__call__\u001b[39m\u001b[34m(self, fn, *args, **kwargs)\u001b[39m\n\u001b[32m    478\u001b[39m \u001b[38;5;28;01mif\u001b[39;00m \u001b[38;5;28misinstance\u001b[39m(do, DoAttempt):\n\u001b[32m    479\u001b[39m     \u001b[38;5;28;01mtry\u001b[39;00m:\n\u001b[32m--> \u001b[39m\u001b[32m480\u001b[39m         result = \u001b[43mfn\u001b[49m\u001b[43m(\u001b[49m\u001b[43m*\u001b[49m\u001b[43margs\u001b[49m\u001b[43m,\u001b[49m\u001b[43m \u001b[49m\u001b[43m*\u001b[49m\u001b[43m*\u001b[49m\u001b[43mkwargs\u001b[49m\u001b[43m)\u001b[49m\n\u001b[32m    481\u001b[39m     \u001b[38;5;28;01mexcept\u001b[39;00m \u001b[38;5;167;01mBaseException\u001b[39;00m:  \u001b[38;5;66;03m# noqa: B902\u001b[39;00m\n\u001b[32m    482\u001b[39m         retry_state.set_exception(sys.exc_info())  \u001b[38;5;66;03m# type: ignore[arg-type]\u001b[39;00m\n",
            "\u001b[36mFile \u001b[39m\u001b[32mc:\\Users\\saina\\.conda\\envs\\agentic_base\\Lib\\site-packages\\langchain_google_genai\\chat_models.py:208\u001b[39m, in \u001b[36m_chat_with_retry.<locals>._chat_with_retry\u001b[39m\u001b[34m(**kwargs)\u001b[39m\n\u001b[32m    204\u001b[39m     \u001b[38;5;28;01mraise\u001b[39;00m ChatGoogleGenerativeAIError(\n\u001b[32m    205\u001b[39m         \u001b[33mf\u001b[39m\u001b[33m\"\u001b[39m\u001b[33mInvalid argument provided to Gemini: \u001b[39m\u001b[38;5;132;01m{\u001b[39;00me\u001b[38;5;132;01m}\u001b[39;00m\u001b[33m\"\u001b[39m\n\u001b[32m    206\u001b[39m     ) \u001b[38;5;28;01mfrom\u001b[39;00m\u001b[38;5;250m \u001b[39m\u001b[34;01me\u001b[39;00m\n\u001b[32m    207\u001b[39m \u001b[38;5;28;01mexcept\u001b[39;00m \u001b[38;5;167;01mException\u001b[39;00m \u001b[38;5;28;01mas\u001b[39;00m e:\n\u001b[32m--> \u001b[39m\u001b[32m208\u001b[39m     \u001b[38;5;28;01mraise\u001b[39;00m e\n",
            "\u001b[36mFile \u001b[39m\u001b[32mc:\\Users\\saina\\.conda\\envs\\agentic_base\\Lib\\site-packages\\langchain_google_genai\\chat_models.py:192\u001b[39m, in \u001b[36m_chat_with_retry.<locals>._chat_with_retry\u001b[39m\u001b[34m(**kwargs)\u001b[39m\n\u001b[32m    189\u001b[39m \u001b[38;5;129m@retry_decorator\u001b[39m\n\u001b[32m    190\u001b[39m \u001b[38;5;28;01mdef\u001b[39;00m\u001b[38;5;250m \u001b[39m\u001b[34m_chat_with_retry\u001b[39m(**kwargs: Any) -> Any:\n\u001b[32m    191\u001b[39m     \u001b[38;5;28;01mtry\u001b[39;00m:\n\u001b[32m--> \u001b[39m\u001b[32m192\u001b[39m         \u001b[38;5;28;01mreturn\u001b[39;00m \u001b[43mgeneration_method\u001b[49m\u001b[43m(\u001b[49m\u001b[43m*\u001b[49m\u001b[43m*\u001b[49m\u001b[43mkwargs\u001b[49m\u001b[43m)\u001b[49m\n\u001b[32m    193\u001b[39m     \u001b[38;5;66;03m# Do not retry for these errors.\u001b[39;00m\n\u001b[32m    194\u001b[39m     \u001b[38;5;28;01mexcept\u001b[39;00m google.api_core.exceptions.FailedPrecondition \u001b[38;5;28;01mas\u001b[39;00m exc:\n",
            "\u001b[36mFile \u001b[39m\u001b[32mc:\\Users\\saina\\.conda\\envs\\agentic_base\\Lib\\site-packages\\google\\ai\\generativelanguage_v1beta\\services\\generative_service\\client.py:868\u001b[39m, in \u001b[36mGenerativeServiceClient.generate_content\u001b[39m\u001b[34m(self, request, model, contents, retry, timeout, metadata)\u001b[39m\n\u001b[32m    865\u001b[39m \u001b[38;5;28mself\u001b[39m._validate_universe_domain()\n\u001b[32m    867\u001b[39m \u001b[38;5;66;03m# Send the request.\u001b[39;00m\n\u001b[32m--> \u001b[39m\u001b[32m868\u001b[39m response = \u001b[43mrpc\u001b[49m\u001b[43m(\u001b[49m\n\u001b[32m    869\u001b[39m \u001b[43m    \u001b[49m\u001b[43mrequest\u001b[49m\u001b[43m,\u001b[49m\n\u001b[32m    870\u001b[39m \u001b[43m    \u001b[49m\u001b[43mretry\u001b[49m\u001b[43m=\u001b[49m\u001b[43mretry\u001b[49m\u001b[43m,\u001b[49m\n\u001b[32m    871\u001b[39m \u001b[43m    \u001b[49m\u001b[43mtimeout\u001b[49m\u001b[43m=\u001b[49m\u001b[43mtimeout\u001b[49m\u001b[43m,\u001b[49m\n\u001b[32m    872\u001b[39m \u001b[43m    \u001b[49m\u001b[43mmetadata\u001b[49m\u001b[43m=\u001b[49m\u001b[43mmetadata\u001b[49m\u001b[43m,\u001b[49m\n\u001b[32m    873\u001b[39m \u001b[43m\u001b[49m\u001b[43m)\u001b[49m\n\u001b[32m    875\u001b[39m \u001b[38;5;66;03m# Done; return the response.\u001b[39;00m\n\u001b[32m    876\u001b[39m \u001b[38;5;28;01mreturn\u001b[39;00m response\n",
            "\u001b[36mFile \u001b[39m\u001b[32mc:\\Users\\saina\\.conda\\envs\\agentic_base\\Lib\\site-packages\\google\\api_core\\gapic_v1\\method.py:131\u001b[39m, in \u001b[36m_GapicCallable.__call__\u001b[39m\u001b[34m(self, timeout, retry, compression, *args, **kwargs)\u001b[39m\n\u001b[32m    128\u001b[39m \u001b[38;5;28;01mif\u001b[39;00m \u001b[38;5;28mself\u001b[39m._compression \u001b[38;5;129;01mis\u001b[39;00m \u001b[38;5;129;01mnot\u001b[39;00m \u001b[38;5;28;01mNone\u001b[39;00m:\n\u001b[32m    129\u001b[39m     kwargs[\u001b[33m\"\u001b[39m\u001b[33mcompression\u001b[39m\u001b[33m\"\u001b[39m] = compression\n\u001b[32m--> \u001b[39m\u001b[32m131\u001b[39m \u001b[38;5;28;01mreturn\u001b[39;00m \u001b[43mwrapped_func\u001b[49m\u001b[43m(\u001b[49m\u001b[43m*\u001b[49m\u001b[43margs\u001b[49m\u001b[43m,\u001b[49m\u001b[43m \u001b[49m\u001b[43m*\u001b[49m\u001b[43m*\u001b[49m\u001b[43mkwargs\u001b[49m\u001b[43m)\u001b[49m\n",
            "\u001b[36mFile \u001b[39m\u001b[32mc:\\Users\\saina\\.conda\\envs\\agentic_base\\Lib\\site-packages\\google\\api_core\\retry\\retry_unary.py:294\u001b[39m, in \u001b[36mRetry.__call__.<locals>.retry_wrapped_func\u001b[39m\u001b[34m(*args, **kwargs)\u001b[39m\n\u001b[32m    290\u001b[39m target = functools.partial(func, *args, **kwargs)\n\u001b[32m    291\u001b[39m sleep_generator = exponential_sleep_generator(\n\u001b[32m    292\u001b[39m     \u001b[38;5;28mself\u001b[39m._initial, \u001b[38;5;28mself\u001b[39m._maximum, multiplier=\u001b[38;5;28mself\u001b[39m._multiplier\n\u001b[32m    293\u001b[39m )\n\u001b[32m--> \u001b[39m\u001b[32m294\u001b[39m \u001b[38;5;28;01mreturn\u001b[39;00m \u001b[43mretry_target\u001b[49m\u001b[43m(\u001b[49m\n\u001b[32m    295\u001b[39m \u001b[43m    \u001b[49m\u001b[43mtarget\u001b[49m\u001b[43m,\u001b[49m\n\u001b[32m    296\u001b[39m \u001b[43m    \u001b[49m\u001b[38;5;28;43mself\u001b[39;49m\u001b[43m.\u001b[49m\u001b[43m_predicate\u001b[49m\u001b[43m,\u001b[49m\n\u001b[32m    297\u001b[39m \u001b[43m    \u001b[49m\u001b[43msleep_generator\u001b[49m\u001b[43m,\u001b[49m\n\u001b[32m    298\u001b[39m \u001b[43m    \u001b[49m\u001b[43mtimeout\u001b[49m\u001b[43m=\u001b[49m\u001b[38;5;28;43mself\u001b[39;49m\u001b[43m.\u001b[49m\u001b[43m_timeout\u001b[49m\u001b[43m,\u001b[49m\n\u001b[32m    299\u001b[39m \u001b[43m    \u001b[49m\u001b[43mon_error\u001b[49m\u001b[43m=\u001b[49m\u001b[43mon_error\u001b[49m\u001b[43m,\u001b[49m\n\u001b[32m    300\u001b[39m \u001b[43m\u001b[49m\u001b[43m)\u001b[49m\n",
            "\u001b[36mFile \u001b[39m\u001b[32mc:\\Users\\saina\\.conda\\envs\\agentic_base\\Lib\\site-packages\\google\\api_core\\retry\\retry_unary.py:156\u001b[39m, in \u001b[36mretry_target\u001b[39m\u001b[34m(target, predicate, sleep_generator, timeout, on_error, exception_factory, **kwargs)\u001b[39m\n\u001b[32m    152\u001b[39m \u001b[38;5;66;03m# pylint: disable=broad-except\u001b[39;00m\n\u001b[32m    153\u001b[39m \u001b[38;5;66;03m# This function explicitly must deal with broad exceptions.\u001b[39;00m\n\u001b[32m    154\u001b[39m \u001b[38;5;28;01mexcept\u001b[39;00m \u001b[38;5;167;01mException\u001b[39;00m \u001b[38;5;28;01mas\u001b[39;00m exc:\n\u001b[32m    155\u001b[39m     \u001b[38;5;66;03m# defer to shared logic for handling errors\u001b[39;00m\n\u001b[32m--> \u001b[39m\u001b[32m156\u001b[39m     next_sleep = \u001b[43m_retry_error_helper\u001b[49m\u001b[43m(\u001b[49m\n\u001b[32m    157\u001b[39m \u001b[43m        \u001b[49m\u001b[43mexc\u001b[49m\u001b[43m,\u001b[49m\n\u001b[32m    158\u001b[39m \u001b[43m        \u001b[49m\u001b[43mdeadline\u001b[49m\u001b[43m,\u001b[49m\n\u001b[32m    159\u001b[39m \u001b[43m        \u001b[49m\u001b[43msleep_iter\u001b[49m\u001b[43m,\u001b[49m\n\u001b[32m    160\u001b[39m \u001b[43m        \u001b[49m\u001b[43merror_list\u001b[49m\u001b[43m,\u001b[49m\n\u001b[32m    161\u001b[39m \u001b[43m        \u001b[49m\u001b[43mpredicate\u001b[49m\u001b[43m,\u001b[49m\n\u001b[32m    162\u001b[39m \u001b[43m        \u001b[49m\u001b[43mon_error\u001b[49m\u001b[43m,\u001b[49m\n\u001b[32m    163\u001b[39m \u001b[43m        \u001b[49m\u001b[43mexception_factory\u001b[49m\u001b[43m,\u001b[49m\n\u001b[32m    164\u001b[39m \u001b[43m        \u001b[49m\u001b[43mtimeout\u001b[49m\u001b[43m,\u001b[49m\n\u001b[32m    165\u001b[39m \u001b[43m    \u001b[49m\u001b[43m)\u001b[49m\n\u001b[32m    166\u001b[39m     \u001b[38;5;66;03m# if exception not raised, sleep before next attempt\u001b[39;00m\n\u001b[32m    167\u001b[39m     time.sleep(next_sleep)\n",
            "\u001b[36mFile \u001b[39m\u001b[32mc:\\Users\\saina\\.conda\\envs\\agentic_base\\Lib\\site-packages\\google\\api_core\\retry\\retry_base.py:214\u001b[39m, in \u001b[36m_retry_error_helper\u001b[39m\u001b[34m(exc, deadline, sleep_iterator, error_list, predicate_fn, on_error_fn, exc_factory_fn, original_timeout)\u001b[39m\n\u001b[32m    208\u001b[39m \u001b[38;5;28;01mif\u001b[39;00m \u001b[38;5;129;01mnot\u001b[39;00m predicate_fn(exc):\n\u001b[32m    209\u001b[39m     final_exc, source_exc = exc_factory_fn(\n\u001b[32m    210\u001b[39m         error_list,\n\u001b[32m    211\u001b[39m         RetryFailureReason.NON_RETRYABLE_ERROR,\n\u001b[32m    212\u001b[39m         original_timeout,\n\u001b[32m    213\u001b[39m     )\n\u001b[32m--> \u001b[39m\u001b[32m214\u001b[39m     \u001b[38;5;28;01mraise\u001b[39;00m final_exc \u001b[38;5;28;01mfrom\u001b[39;00m\u001b[38;5;250m \u001b[39m\u001b[34;01msource_exc\u001b[39;00m\n\u001b[32m    215\u001b[39m \u001b[38;5;28;01mif\u001b[39;00m on_error_fn \u001b[38;5;129;01mis\u001b[39;00m \u001b[38;5;129;01mnot\u001b[39;00m \u001b[38;5;28;01mNone\u001b[39;00m:\n\u001b[32m    216\u001b[39m     on_error_fn(exc)\n",
            "\u001b[36mFile \u001b[39m\u001b[32mc:\\Users\\saina\\.conda\\envs\\agentic_base\\Lib\\site-packages\\google\\api_core\\retry\\retry_unary.py:147\u001b[39m, in \u001b[36mretry_target\u001b[39m\u001b[34m(target, predicate, sleep_generator, timeout, on_error, exception_factory, **kwargs)\u001b[39m\n\u001b[32m    145\u001b[39m \u001b[38;5;28;01mwhile\u001b[39;00m \u001b[38;5;28;01mTrue\u001b[39;00m:\n\u001b[32m    146\u001b[39m     \u001b[38;5;28;01mtry\u001b[39;00m:\n\u001b[32m--> \u001b[39m\u001b[32m147\u001b[39m         result = \u001b[43mtarget\u001b[49m\u001b[43m(\u001b[49m\u001b[43m)\u001b[49m\n\u001b[32m    148\u001b[39m         \u001b[38;5;28;01mif\u001b[39;00m inspect.isawaitable(result):\n\u001b[32m    149\u001b[39m             warnings.warn(_ASYNC_RETRY_WARNING)\n",
            "\u001b[36mFile \u001b[39m\u001b[32mc:\\Users\\saina\\.conda\\envs\\agentic_base\\Lib\\site-packages\\google\\api_core\\timeout.py:130\u001b[39m, in \u001b[36mTimeToDeadlineTimeout.__call__.<locals>.func_with_timeout\u001b[39m\u001b[34m(*args, **kwargs)\u001b[39m\n\u001b[32m    126\u001b[39m         remaining_timeout = \u001b[38;5;28mself\u001b[39m._timeout\n\u001b[32m    128\u001b[39m     kwargs[\u001b[33m\"\u001b[39m\u001b[33mtimeout\u001b[39m\u001b[33m\"\u001b[39m] = remaining_timeout\n\u001b[32m--> \u001b[39m\u001b[32m130\u001b[39m \u001b[38;5;28;01mreturn\u001b[39;00m \u001b[43mfunc\u001b[49m\u001b[43m(\u001b[49m\u001b[43m*\u001b[49m\u001b[43margs\u001b[49m\u001b[43m,\u001b[49m\u001b[43m \u001b[49m\u001b[43m*\u001b[49m\u001b[43m*\u001b[49m\u001b[43mkwargs\u001b[49m\u001b[43m)\u001b[49m\n",
            "\u001b[36mFile \u001b[39m\u001b[32mc:\\Users\\saina\\.conda\\envs\\agentic_base\\Lib\\site-packages\\google\\api_core\\grpc_helpers.py:78\u001b[39m, in \u001b[36m_wrap_unary_errors.<locals>.error_remapped_callable\u001b[39m\u001b[34m(*args, **kwargs)\u001b[39m\n\u001b[32m     76\u001b[39m     \u001b[38;5;28;01mreturn\u001b[39;00m callable_(*args, **kwargs)\n\u001b[32m     77\u001b[39m \u001b[38;5;28;01mexcept\u001b[39;00m grpc.RpcError \u001b[38;5;28;01mas\u001b[39;00m exc:\n\u001b[32m---> \u001b[39m\u001b[32m78\u001b[39m     \u001b[38;5;28;01mraise\u001b[39;00m exceptions.from_grpc_error(exc) \u001b[38;5;28;01mfrom\u001b[39;00m\u001b[38;5;250m \u001b[39m\u001b[34;01mexc\u001b[39;00m\n",
            "\u001b[31mResourceExhausted\u001b[39m: 429 You exceeded your current quota, please check your plan and billing details. For more information on this error, head to: https://ai.google.dev/gemini-api/docs/rate-limits. [violations {\n  quota_metric: \"generativelanguage.googleapis.com/generate_content_free_tier_requests\"\n  quota_id: \"GenerateRequestsPerMinutePerProjectPerModel-FreeTier\"\n  quota_dimensions {\n    key: \"model\"\n    value: \"gemini-1.5-flash\"\n  }\n  quota_dimensions {\n    key: \"location\"\n    value: \"global\"\n  }\n  quota_value: 15\n}\n, links {\n  description: \"Learn more about Gemini API quotas\"\n  url: \"https://ai.google.dev/gemini-api/docs/rate-limits\"\n}\n, retry_delay {\n  seconds: 14\n}\n]",
            "During task with name 'Supervisor' and id 'f3594e6a-0db8-9c18-a6e3-fec2c47b09a9'"
          ]
        }
      ],
      "source": [
        "state={\"messages\":[\"\"]}\n",
        "app.invoke(state)"
      ]
    },
    {
      "cell_type": "code",
      "execution_count": 120,
      "id": "24e60f3d",
      "metadata": {
        "id": "24e60f3d",
        "outputId": "a4e98415-402c-4154-fe9c-a4e33f2f57a5"
      },
      "outputs": [
        {
          "name": "stdout",
          "output_type": "stream",
          "text": [
            "Question List all the fundamental duties?\n",
            "Parsed response: Topic='Constitution' Reasoning='The query asks about fundamental duties, a key component of the Indian Constitution.'\n",
            "-> ROUTER ->\n",
            "last_message: Constitution\n",
            "-> RAG Call ->\n",
            "answer The fundamental duties of Indian citizens include abiding by the Constitution and respecting its ideals, cherishing the ideals of the freedom struggle, and upholding India's sovereignty.  Additional duties involve defending the country, protecting the environment, and safeguarding national monuments.\n",
            "Parsed response: Topic='yes' Reasoning=\"The response lists several fundamental duties, directly answering the user's question.\"\n",
            "-> ROUTER_1 ->\n",
            "last_message: yes\n"
          ]
        },
        {
          "data": {
            "text/plain": [
              "{'messages': ['List all the fundamental duties?',\n",
              "  'Constitution',\n",
              "  \"The fundamental duties of Indian citizens include abiding by the Constitution and respecting its ideals, cherishing the ideals of the freedom struggle, and upholding India's sovereignty.  Additional duties involve defending the country, protecting the environment, and safeguarding national monuments.\",\n",
              "  'yes']}"
            ]
          },
          "execution_count": 120,
          "metadata": {},
          "output_type": "execute_result"
        }
      ],
      "source": [
        "state={\"messages\":[\"List all the fundamental duties?\"]}\n",
        "app.invoke(state)"
      ]
    },
    {
      "cell_type": "code",
      "execution_count": null,
      "id": "fa587c1d",
      "metadata": {},
      "outputs": [],
      "source": [
        "state={\"messages\":[\"List all the fundamental duties?\"]}\n",
        "app.invoke(state)"
      ]
    },
    {
      "cell_type": "code",
      "execution_count": 129,
      "id": "48f18648",
      "metadata": {
        "id": "48f18648",
        "outputId": "c7c69ebb-7572-4c97-cfdf-cdbfcc39f4a5"
      },
      "outputs": [
        {
          "name": "stdout",
          "output_type": "stream",
          "text": [
            "Question what is the net worth of Elon Musk\n",
            "Parsed response: Topic='Latest' Reasoning=\"The query asks about Elon Musk's net worth, which is a current event and not related to the Indian Constitution or LLMs.\"\n",
            "-> ROUTER ->\n",
            "last_message: Latest\n",
            "answer View net worth over: Max 1 year 1 quarter 1 month 1 week. Net Worth Summary. Cash. Private asset. ... 1971 Elon Musk is born in Pretoria, South Africa. 1981 Buys first computer at age 10. Elon Musk's net worth peaked at $486 billion in December 2024, but by March 2025, his fortune had decreased to approximately $330 billion. The market capitalization of Tesla's stock fell from ... Elon Musk on the 2025 The Richest Person In Every State. ... Elon Musk's net worth fell by the equivalent of almost five times Trump's $5.5 billion net worth Thursday. Elon Musk is a South African-born Canadian-American businessman, inventor, and investor who has a net worth of $368 billion. Elon Musk is currently the richest person in the world. In November ... Tesla shares fell after Elon Musk's public disagreement with the president. Musk's net worth, though still the world's highest, has fluctuated significantly, peaking at $400 billion in December 2024.\n",
            "Parsed response: Topic='Related' Reasoning=\"The response directly addresses the user's query by providing information about Elon Musk's net worth, including its peak value, recent fluctuations, and current estimate.  It also includes biographical details relevant to understanding his wealth.\"\n",
            "-> ROUTER_1 ->\n",
            "last_message: Related\n",
            "Question Related\n",
            "Parsed response: Topic='LLM' Reasoning=\"The query 'Related' is too generic and doesn't relate to the Indian Constitution or any specific recent event.\"\n",
            "-> ROUTER ->\n",
            "last_message: LLM\n",
            "-> LLM Call ->\n",
            "answer I cannot provide you with a precise, up-to-the-minute net worth for Elon Musk.  His net worth fluctuates constantly based on the stock performance of Tesla and SpaceX (which is privately held and thus its valuation is less certain), as well as his other investments.  Any number I could give you right now would likely be outdated within hours, if not minutes.\n",
            "\n",
            "To find the most current estimate, you should consult reputable financial news sources like Bloomberg Billionaires Index or Forbes Real-Time Billionaires list.  These sites use sophisticated algorithms and real-time data to track the net worth of prominent individuals.\n",
            "Parsed response: Topic='Related' Reasoning=\"The response directly addresses the user's question about Elon Musk's net worth by explaining the challenges in providing a precise figure due to its constant fluctuation and suggesting reliable sources for up-to-date information.\"\n",
            "-> ROUTER_1 ->\n",
            "last_message: Related\n",
            "Question Related\n",
            "Parsed response: Topic='LLM' Reasoning=\"The query 'Related' is too generic and does not pertain to the Indian Constitution or a specific recent event.  It's a request for related information, which is a general LLM task.\"\n",
            "-> ROUTER ->\n",
            "last_message: LLM\n",
            "-> LLM Call ->\n",
            "answer I cannot provide you with a precise, up-to-the-minute net worth for Elon Musk.  His net worth fluctuates dramatically on a daily, even hourly basis, depending on the performance of Tesla stock and SpaceX valuations (which are not publicly traded in the same way as Tesla).  Any number I could give you right now would likely be outdated very quickly.\n",
            "\n",
            "To find an estimate, you should consult reputable financial news sources like Bloomberg Billionaires Index or Forbes Real-Time Billionaires list.  Keep in mind that even these estimations are approximations and subject to change.\n",
            "Parsed response: Topic='Related' Reasoning=\"The response acknowledges the user's query about Elon Musk's net worth and explains why providing a specific number is difficult due to its volatility.  It then offers suggestions on where to find estimated net worth information from reliable sources.\"\n",
            "-> ROUTER_1 ->\n",
            "last_message: Related\n",
            "Question Related\n",
            "Parsed response: Topic='LLM' Reasoning='The query \"Related\" is too generic and doesn\\'t pertain to the Indian Constitution or any specific recent event.  It\\'s a request for related information, a common LLM task.'\n",
            "-> ROUTER ->\n",
            "last_message: LLM\n",
            "-> LLM Call ->\n",
            "answer I cannot provide you with a precise, up-to-the-minute net worth for Elon Musk.  His net worth fluctuates constantly based on the performance of Tesla stock and SpaceX valuations, both of which are subject to significant daily and even hourly changes in the market.  Any number I could give you right now would likely be outdated very quickly.\n",
            "\n",
            "To find an estimate, you should consult reputable financial news sources like Bloomberg Billionaires Index or Forbes Real-Time Billionaires list.  These sites track net worths in real-time (or as close to real-time as possible) and will give you the most current available figure.  Keep in mind that even these estimates are approximations.\n",
            "Parsed response: Topic='Related' Reasoning=\"The response acknowledges the user's question about Elon Musk's net worth and explains why providing a precise figure is impossible due to its constant fluctuation.  It then directs the user to reliable sources for up-to-date estimates.\"\n",
            "-> ROUTER_1 ->\n",
            "last_message: Related\n",
            "Question Related\n",
            "Parsed response: Topic='LLM' Reasoning='The query \"Related\" is too generic and doesn\\'t relate to the Indian Constitution or any specific recent event.'\n",
            "-> ROUTER ->\n",
            "last_message: LLM\n",
            "-> LLM Call ->\n",
            "answer I cannot provide you with a precise, up-to-the-minute net worth for Elon Musk.  His net worth fluctuates constantly based on the value of Tesla stock and other investments.  Publicly available information from sources like Forbes or Bloomberg will give you an estimate, but these are snapshots in time and can change dramatically within hours or days.\n",
            "Parsed response: Topic='Related' Reasoning=\"The response acknowledges the user's question about Elon Musk's net worth and explains why a precise answer cannot be given in real-time, instead suggesting reliable sources for estimates.\"\n",
            "-> ROUTER_1 ->\n",
            "last_message: Related\n",
            "Question Related\n",
            "Parsed response: Topic='LLM' Reasoning='The query \"Related\" is too generic and doesn\\'t relate to the Indian Constitution or any specific recent event.  It\\'s a broad term that could be related to many things, making it a generic LLM question.'\n",
            "-> ROUTER ->\n",
            "last_message: LLM\n",
            "-> LLM Call ->\n",
            "answer I cannot provide you with a precise, up-to-the-minute net worth for Elon Musk.  His net worth fluctuates constantly based on the market performance of Tesla and SpaceX (both of which are privately held in part), as well as his other investments.  Any number I could give you right now would likely be outdated within hours, if not minutes.\n",
            "\n",
            "To find an estimate, you should consult reputable financial news sources like Bloomberg Billionaires Index or Forbes Real-Time Billionaires list.  These sources regularly update their estimations, but keep in mind that even their figures are approximations.\n"
          ]
        },
        {
          "name": "stderr",
          "output_type": "stream",
          "text": [
            "Retrying langchain_google_genai.chat_models._chat_with_retry.<locals>._chat_with_retry in 2.0 seconds as it raised ResourceExhausted: 429 You exceeded your current quota, please check your plan and billing details. For more information on this error, head to: https://ai.google.dev/gemini-api/docs/rate-limits. [violations {\n",
            "  quota_metric: \"generativelanguage.googleapis.com/generate_content_free_tier_requests\"\n",
            "  quota_id: \"GenerateRequestsPerMinutePerProjectPerModel-FreeTier\"\n",
            "  quota_dimensions {\n",
            "    key: \"model\"\n",
            "    value: \"gemini-1.5-flash\"\n",
            "  }\n",
            "  quota_dimensions {\n",
            "    key: \"location\"\n",
            "    value: \"global\"\n",
            "  }\n",
            "  quota_value: 15\n",
            "}\n",
            ", links {\n",
            "  description: \"Learn more about Gemini API quotas\"\n",
            "  url: \"https://ai.google.dev/gemini-api/docs/rate-limits\"\n",
            "}\n",
            ", retry_delay {\n",
            "  seconds: 19\n",
            "}\n",
            "].\n"
          ]
        },
        {
          "ename": "ResourceExhausted",
          "evalue": "429 You exceeded your current quota, please check your plan and billing details. For more information on this error, head to: https://ai.google.dev/gemini-api/docs/rate-limits. [violations {\n  quota_metric: \"generativelanguage.googleapis.com/generate_content_free_tier_requests\"\n  quota_id: \"GenerateRequestsPerMinutePerProjectPerModel-FreeTier\"\n  quota_dimensions {\n    key: \"model\"\n    value: \"gemini-1.5-flash\"\n  }\n  quota_dimensions {\n    key: \"location\"\n    value: \"global\"\n  }\n  quota_value: 15\n}\n, links {\n  description: \"Learn more about Gemini API quotas\"\n  url: \"https://ai.google.dev/gemini-api/docs/rate-limits\"\n}\n, retry_delay {\n  seconds: 16\n}\n]",
          "output_type": "error",
          "traceback": [
            "\u001b[31m---------------------------------------------------------------------------\u001b[39m",
            "\u001b[31mResourceExhausted\u001b[39m                         Traceback (most recent call last)",
            "\u001b[36mCell\u001b[39m\u001b[36m \u001b[39m\u001b[32mIn[129]\u001b[39m\u001b[32m, line 2\u001b[39m\n\u001b[32m      1\u001b[39m state={\u001b[33m\"\u001b[39m\u001b[33mmessages\u001b[39m\u001b[33m\"\u001b[39m:[\u001b[33m\"\u001b[39m\u001b[33mwhat is the net worth of Elon Musk\u001b[39m\u001b[33m\"\u001b[39m]}\n\u001b[32m----> \u001b[39m\u001b[32m2\u001b[39m \u001b[43mapp\u001b[49m\u001b[43m.\u001b[49m\u001b[43minvoke\u001b[49m\u001b[43m(\u001b[49m\u001b[43mstate\u001b[49m\u001b[43m)\u001b[49m\n",
            "\u001b[36mFile \u001b[39m\u001b[32mc:\\Users\\saina\\.conda\\envs\\agentic_base\\Lib\\site-packages\\langgraph\\pregel\\__init__.py:2719\u001b[39m, in \u001b[36mPregel.invoke\u001b[39m\u001b[34m(self, input, config, stream_mode, output_keys, interrupt_before, interrupt_after, checkpoint_during, debug, **kwargs)\u001b[39m\n\u001b[32m   2716\u001b[39m chunks: \u001b[38;5;28mlist\u001b[39m[Union[\u001b[38;5;28mdict\u001b[39m[\u001b[38;5;28mstr\u001b[39m, Any], Any]] = []\n\u001b[32m   2717\u001b[39m interrupts: \u001b[38;5;28mlist\u001b[39m[Interrupt] = []\n\u001b[32m-> \u001b[39m\u001b[32m2719\u001b[39m \u001b[43m\u001b[49m\u001b[38;5;28;43;01mfor\u001b[39;49;00m\u001b[43m \u001b[49m\u001b[43mchunk\u001b[49m\u001b[43m \u001b[49m\u001b[38;5;129;43;01min\u001b[39;49;00m\u001b[43m \u001b[49m\u001b[38;5;28;43mself\u001b[39;49m\u001b[43m.\u001b[49m\u001b[43mstream\u001b[49m\u001b[43m(\u001b[49m\n\u001b[32m   2720\u001b[39m \u001b[43m    \u001b[49m\u001b[38;5;28;43minput\u001b[39;49m\u001b[43m,\u001b[49m\n\u001b[32m   2721\u001b[39m \u001b[43m    \u001b[49m\u001b[43mconfig\u001b[49m\u001b[43m,\u001b[49m\n\u001b[32m   2722\u001b[39m \u001b[43m    \u001b[49m\u001b[43mstream_mode\u001b[49m\u001b[43m=\u001b[49m\u001b[43mstream_mode\u001b[49m\u001b[43m,\u001b[49m\n\u001b[32m   2723\u001b[39m \u001b[43m    \u001b[49m\u001b[43moutput_keys\u001b[49m\u001b[43m=\u001b[49m\u001b[43moutput_keys\u001b[49m\u001b[43m,\u001b[49m\n\u001b[32m   2724\u001b[39m \u001b[43m    \u001b[49m\u001b[43minterrupt_before\u001b[49m\u001b[43m=\u001b[49m\u001b[43minterrupt_before\u001b[49m\u001b[43m,\u001b[49m\n\u001b[32m   2725\u001b[39m \u001b[43m    \u001b[49m\u001b[43minterrupt_after\u001b[49m\u001b[43m=\u001b[49m\u001b[43minterrupt_after\u001b[49m\u001b[43m,\u001b[49m\n\u001b[32m   2726\u001b[39m \u001b[43m    \u001b[49m\u001b[43mcheckpoint_during\u001b[49m\u001b[43m=\u001b[49m\u001b[43mcheckpoint_during\u001b[49m\u001b[43m,\u001b[49m\n\u001b[32m   2727\u001b[39m \u001b[43m    \u001b[49m\u001b[43mdebug\u001b[49m\u001b[43m=\u001b[49m\u001b[43mdebug\u001b[49m\u001b[43m,\u001b[49m\n\u001b[32m   2728\u001b[39m \u001b[43m    \u001b[49m\u001b[43m*\u001b[49m\u001b[43m*\u001b[49m\u001b[43mkwargs\u001b[49m\u001b[43m,\u001b[49m\n\u001b[32m   2729\u001b[39m \u001b[43m\u001b[49m\u001b[43m)\u001b[49m\u001b[43m:\u001b[49m\n\u001b[32m   2730\u001b[39m \u001b[43m    \u001b[49m\u001b[38;5;28;43;01mif\u001b[39;49;00m\u001b[43m \u001b[49m\u001b[43mstream_mode\u001b[49m\u001b[43m \u001b[49m\u001b[43m==\u001b[49m\u001b[43m \u001b[49m\u001b[33;43m\"\u001b[39;49m\u001b[33;43mvalues\u001b[39;49m\u001b[33;43m\"\u001b[39;49m\u001b[43m:\u001b[49m\n\u001b[32m   2731\u001b[39m \u001b[43m        \u001b[49m\u001b[38;5;28;43;01mif\u001b[39;49;00m\u001b[43m \u001b[49m\u001b[43m(\u001b[49m\n\u001b[32m   2732\u001b[39m \u001b[43m            \u001b[49m\u001b[38;5;28;43misinstance\u001b[39;49m\u001b[43m(\u001b[49m\u001b[43mchunk\u001b[49m\u001b[43m,\u001b[49m\u001b[43m \u001b[49m\u001b[38;5;28;43mdict\u001b[39;49m\u001b[43m)\u001b[49m\n\u001b[32m   2733\u001b[39m \u001b[43m            \u001b[49m\u001b[38;5;129;43;01mand\u001b[39;49;00m\u001b[43m \u001b[49m\u001b[43m(\u001b[49m\u001b[43mints\u001b[49m\u001b[43m \u001b[49m\u001b[43m:=\u001b[49m\u001b[43m \u001b[49m\u001b[43mchunk\u001b[49m\u001b[43m.\u001b[49m\u001b[43mget\u001b[49m\u001b[43m(\u001b[49m\u001b[43mINTERRUPT\u001b[49m\u001b[43m)\u001b[49m\u001b[43m)\u001b[49m\u001b[43m \u001b[49m\u001b[38;5;129;43;01mis\u001b[39;49;00m\u001b[43m \u001b[49m\u001b[38;5;129;43;01mnot\u001b[39;49;00m\u001b[43m \u001b[49m\u001b[38;5;28;43;01mNone\u001b[39;49;00m\n\u001b[32m   2734\u001b[39m \u001b[43m        \u001b[49m\u001b[43m)\u001b[49m\u001b[43m:\u001b[49m\n",
            "\u001b[36mFile \u001b[39m\u001b[32mc:\\Users\\saina\\.conda\\envs\\agentic_base\\Lib\\site-packages\\langgraph\\pregel\\__init__.py:2436\u001b[39m, in \u001b[36mPregel.stream\u001b[39m\u001b[34m(self, input, config, stream_mode, output_keys, interrupt_before, interrupt_after, checkpoint_during, debug, subgraphs)\u001b[39m\n\u001b[32m   2434\u001b[39m         \u001b[38;5;28;01mfor\u001b[39;00m task \u001b[38;5;129;01min\u001b[39;00m loop.match_cached_writes():\n\u001b[32m   2435\u001b[39m             loop.output_writes(task.id, task.writes, cached=\u001b[38;5;28;01mTrue\u001b[39;00m)\n\u001b[32m-> \u001b[39m\u001b[32m2436\u001b[39m \u001b[43m        \u001b[49m\u001b[38;5;28;43;01mfor\u001b[39;49;00m\u001b[43m \u001b[49m\u001b[43m_\u001b[49m\u001b[43m \u001b[49m\u001b[38;5;129;43;01min\u001b[39;49;00m\u001b[43m \u001b[49m\u001b[43mrunner\u001b[49m\u001b[43m.\u001b[49m\u001b[43mtick\u001b[49m\u001b[43m(\u001b[49m\n\u001b[32m   2437\u001b[39m \u001b[43m            \u001b[49m\u001b[43m[\u001b[49m\u001b[43mt\u001b[49m\u001b[43m \u001b[49m\u001b[38;5;28;43;01mfor\u001b[39;49;00m\u001b[43m \u001b[49m\u001b[43mt\u001b[49m\u001b[43m \u001b[49m\u001b[38;5;129;43;01min\u001b[39;49;00m\u001b[43m \u001b[49m\u001b[43mloop\u001b[49m\u001b[43m.\u001b[49m\u001b[43mtasks\u001b[49m\u001b[43m.\u001b[49m\u001b[43mvalues\u001b[49m\u001b[43m(\u001b[49m\u001b[43m)\u001b[49m\u001b[43m \u001b[49m\u001b[38;5;28;43;01mif\u001b[39;49;00m\u001b[43m \u001b[49m\u001b[38;5;129;43;01mnot\u001b[39;49;00m\u001b[43m \u001b[49m\u001b[43mt\u001b[49m\u001b[43m.\u001b[49m\u001b[43mwrites\u001b[49m\u001b[43m]\u001b[49m\u001b[43m,\u001b[49m\n\u001b[32m   2438\u001b[39m \u001b[43m            \u001b[49m\u001b[43mtimeout\u001b[49m\u001b[43m=\u001b[49m\u001b[38;5;28;43mself\u001b[39;49m\u001b[43m.\u001b[49m\u001b[43mstep_timeout\u001b[49m\u001b[43m,\u001b[49m\n\u001b[32m   2439\u001b[39m \u001b[43m            \u001b[49m\u001b[43mget_waiter\u001b[49m\u001b[43m=\u001b[49m\u001b[43mget_waiter\u001b[49m\u001b[43m,\u001b[49m\n\u001b[32m   2440\u001b[39m \u001b[43m            \u001b[49m\u001b[43mschedule_task\u001b[49m\u001b[43m=\u001b[49m\u001b[43mloop\u001b[49m\u001b[43m.\u001b[49m\u001b[43maccept_push\u001b[49m\u001b[43m,\u001b[49m\n\u001b[32m   2441\u001b[39m \u001b[43m        \u001b[49m\u001b[43m)\u001b[49m\u001b[43m:\u001b[49m\n\u001b[32m   2442\u001b[39m \u001b[43m            \u001b[49m\u001b[38;5;66;43;03m# emit output\u001b[39;49;00m\n\u001b[32m   2443\u001b[39m \u001b[43m            \u001b[49m\u001b[38;5;28;43;01myield from\u001b[39;49;00m\u001b[43m \u001b[49m\u001b[43moutput\u001b[49m\u001b[43m(\u001b[49m\u001b[43m)\u001b[49m\n\u001b[32m   2444\u001b[39m \u001b[38;5;66;03m# emit output\u001b[39;00m\n",
            "\u001b[36mFile \u001b[39m\u001b[32mc:\\Users\\saina\\.conda\\envs\\agentic_base\\Lib\\site-packages\\langgraph\\pregel\\runner.py:161\u001b[39m, in \u001b[36mPregelRunner.tick\u001b[39m\u001b[34m(self, tasks, reraise, timeout, retry_policy, get_waiter, schedule_task)\u001b[39m\n\u001b[32m    159\u001b[39m t = tasks[\u001b[32m0\u001b[39m]\n\u001b[32m    160\u001b[39m \u001b[38;5;28;01mtry\u001b[39;00m:\n\u001b[32m--> \u001b[39m\u001b[32m161\u001b[39m     \u001b[43mrun_with_retry\u001b[49m\u001b[43m(\u001b[49m\n\u001b[32m    162\u001b[39m \u001b[43m        \u001b[49m\u001b[43mt\u001b[49m\u001b[43m,\u001b[49m\n\u001b[32m    163\u001b[39m \u001b[43m        \u001b[49m\u001b[43mretry_policy\u001b[49m\u001b[43m,\u001b[49m\n\u001b[32m    164\u001b[39m \u001b[43m        \u001b[49m\u001b[43mconfigurable\u001b[49m\u001b[43m=\u001b[49m\u001b[43m{\u001b[49m\n\u001b[32m    165\u001b[39m \u001b[43m            \u001b[49m\u001b[43mCONFIG_KEY_CALL\u001b[49m\u001b[43m:\u001b[49m\u001b[43m \u001b[49m\u001b[43mpartial\u001b[49m\u001b[43m(\u001b[49m\n\u001b[32m    166\u001b[39m \u001b[43m                \u001b[49m\u001b[43m_call\u001b[49m\u001b[43m,\u001b[49m\n\u001b[32m    167\u001b[39m \u001b[43m                \u001b[49m\u001b[43mweakref\u001b[49m\u001b[43m.\u001b[49m\u001b[43mref\u001b[49m\u001b[43m(\u001b[49m\u001b[43mt\u001b[49m\u001b[43m)\u001b[49m\u001b[43m,\u001b[49m\n\u001b[32m    168\u001b[39m \u001b[43m                \u001b[49m\u001b[43mretry\u001b[49m\u001b[43m=\u001b[49m\u001b[43mretry_policy\u001b[49m\u001b[43m,\u001b[49m\n\u001b[32m    169\u001b[39m \u001b[43m                \u001b[49m\u001b[43mfutures\u001b[49m\u001b[43m=\u001b[49m\u001b[43mweakref\u001b[49m\u001b[43m.\u001b[49m\u001b[43mref\u001b[49m\u001b[43m(\u001b[49m\u001b[43mfutures\u001b[49m\u001b[43m)\u001b[49m\u001b[43m,\u001b[49m\n\u001b[32m    170\u001b[39m \u001b[43m                \u001b[49m\u001b[43mschedule_task\u001b[49m\u001b[43m=\u001b[49m\u001b[43mschedule_task\u001b[49m\u001b[43m,\u001b[49m\n\u001b[32m    171\u001b[39m \u001b[43m                \u001b[49m\u001b[43msubmit\u001b[49m\u001b[43m=\u001b[49m\u001b[38;5;28;43mself\u001b[39;49m\u001b[43m.\u001b[49m\u001b[43msubmit\u001b[49m\u001b[43m,\u001b[49m\n\u001b[32m    172\u001b[39m \u001b[43m            \u001b[49m\u001b[43m)\u001b[49m\u001b[43m,\u001b[49m\n\u001b[32m    173\u001b[39m \u001b[43m        \u001b[49m\u001b[43m}\u001b[49m\u001b[43m,\u001b[49m\n\u001b[32m    174\u001b[39m \u001b[43m    \u001b[49m\u001b[43m)\u001b[49m\n\u001b[32m    175\u001b[39m     \u001b[38;5;28mself\u001b[39m.commit(t, \u001b[38;5;28;01mNone\u001b[39;00m)\n\u001b[32m    176\u001b[39m \u001b[38;5;28;01mexcept\u001b[39;00m \u001b[38;5;167;01mException\u001b[39;00m \u001b[38;5;28;01mas\u001b[39;00m exc:\n",
            "\u001b[36mFile \u001b[39m\u001b[32mc:\\Users\\saina\\.conda\\envs\\agentic_base\\Lib\\site-packages\\langgraph\\pregel\\retry.py:40\u001b[39m, in \u001b[36mrun_with_retry\u001b[39m\u001b[34m(task, retry_policy, configurable)\u001b[39m\n\u001b[32m     38\u001b[39m     task.writes.clear()\n\u001b[32m     39\u001b[39m     \u001b[38;5;66;03m# run the task\u001b[39;00m\n\u001b[32m---> \u001b[39m\u001b[32m40\u001b[39m     \u001b[38;5;28;01mreturn\u001b[39;00m \u001b[43mtask\u001b[49m\u001b[43m.\u001b[49m\u001b[43mproc\u001b[49m\u001b[43m.\u001b[49m\u001b[43minvoke\u001b[49m\u001b[43m(\u001b[49m\u001b[43mtask\u001b[49m\u001b[43m.\u001b[49m\u001b[43minput\u001b[49m\u001b[43m,\u001b[49m\u001b[43m \u001b[49m\u001b[43mconfig\u001b[49m\u001b[43m)\u001b[49m\n\u001b[32m     41\u001b[39m \u001b[38;5;28;01mexcept\u001b[39;00m ParentCommand \u001b[38;5;28;01mas\u001b[39;00m exc:\n\u001b[32m     42\u001b[39m     ns: \u001b[38;5;28mstr\u001b[39m = config[CONF][CONFIG_KEY_CHECKPOINT_NS]\n",
            "\u001b[36mFile \u001b[39m\u001b[32mc:\\Users\\saina\\.conda\\envs\\agentic_base\\Lib\\site-packages\\langgraph\\utils\\runnable.py:623\u001b[39m, in \u001b[36mRunnableSeq.invoke\u001b[39m\u001b[34m(self, input, config, **kwargs)\u001b[39m\n\u001b[32m    621\u001b[39m     \u001b[38;5;66;03m# run in context\u001b[39;00m\n\u001b[32m    622\u001b[39m     \u001b[38;5;28;01mwith\u001b[39;00m set_config_context(config, run) \u001b[38;5;28;01mas\u001b[39;00m context:\n\u001b[32m--> \u001b[39m\u001b[32m623\u001b[39m         \u001b[38;5;28minput\u001b[39m = \u001b[43mcontext\u001b[49m\u001b[43m.\u001b[49m\u001b[43mrun\u001b[49m\u001b[43m(\u001b[49m\u001b[43mstep\u001b[49m\u001b[43m.\u001b[49m\u001b[43minvoke\u001b[49m\u001b[43m,\u001b[49m\u001b[43m \u001b[49m\u001b[38;5;28;43minput\u001b[39;49m\u001b[43m,\u001b[49m\u001b[43m \u001b[49m\u001b[43mconfig\u001b[49m\u001b[43m,\u001b[49m\u001b[43m \u001b[49m\u001b[43m*\u001b[49m\u001b[43m*\u001b[49m\u001b[43mkwargs\u001b[49m\u001b[43m)\u001b[49m\n\u001b[32m    624\u001b[39m \u001b[38;5;28;01melse\u001b[39;00m:\n\u001b[32m    625\u001b[39m     \u001b[38;5;28minput\u001b[39m = step.invoke(\u001b[38;5;28minput\u001b[39m, config)\n",
            "\u001b[36mFile \u001b[39m\u001b[32mc:\\Users\\saina\\.conda\\envs\\agentic_base\\Lib\\site-packages\\langgraph\\utils\\runnable.py:377\u001b[39m, in \u001b[36mRunnableCallable.invoke\u001b[39m\u001b[34m(self, input, config, **kwargs)\u001b[39m\n\u001b[32m    375\u001b[39m         run_manager.on_chain_end(ret)\n\u001b[32m    376\u001b[39m \u001b[38;5;28;01melse\u001b[39;00m:\n\u001b[32m--> \u001b[39m\u001b[32m377\u001b[39m     ret = \u001b[38;5;28;43mself\u001b[39;49m\u001b[43m.\u001b[49m\u001b[43mfunc\u001b[49m\u001b[43m(\u001b[49m\u001b[43m*\u001b[49m\u001b[43margs\u001b[49m\u001b[43m,\u001b[49m\u001b[43m \u001b[49m\u001b[43m*\u001b[49m\u001b[43m*\u001b[49m\u001b[43mkwargs\u001b[49m\u001b[43m)\u001b[49m\n\u001b[32m    378\u001b[39m \u001b[38;5;28;01mif\u001b[39;00m \u001b[38;5;28mself\u001b[39m.recurse \u001b[38;5;129;01mand\u001b[39;00m \u001b[38;5;28misinstance\u001b[39m(ret, Runnable):\n\u001b[32m    379\u001b[39m     \u001b[38;5;28;01mreturn\u001b[39;00m ret.invoke(\u001b[38;5;28minput\u001b[39m, config)\n",
            "\u001b[36mCell\u001b[39m\u001b[36m \u001b[39m\u001b[32mIn[122]\u001b[39m\u001b[32m, line 27\u001b[39m, in \u001b[36mfunction_4\u001b[39m\u001b[34m(state)\u001b[39m\n\u001b[32m     18\u001b[39m prompt= PromptTemplate(\n\u001b[32m     19\u001b[39m     template=template,\n\u001b[32m     20\u001b[39m     input_variable=[\u001b[33m\"\u001b[39m\u001b[33mquestion\u001b[39m\u001b[33m\"\u001b[39m,\u001b[33m\"\u001b[39m\u001b[33manswer\u001b[39m\u001b[33m\"\u001b[39m],\n\u001b[32m     21\u001b[39m     partial_variables={\u001b[33m\"\u001b[39m\u001b[33mformat_instructions\u001b[39m\u001b[33m\"\u001b[39m: parser.get_format_instructions()}\n\u001b[32m     22\u001b[39m )\n\u001b[32m     25\u001b[39m chain= prompt | model | parser\n\u001b[32m---> \u001b[39m\u001b[32m27\u001b[39m response = \u001b[43mchain\u001b[49m\u001b[43m.\u001b[49m\u001b[43minvoke\u001b[49m\u001b[43m(\u001b[49m\u001b[43m{\u001b[49m\u001b[33;43m\"\u001b[39;49m\u001b[33;43mquestion\u001b[39;49m\u001b[33;43m\"\u001b[39;49m\u001b[43m:\u001b[49m\u001b[43mquestion\u001b[49m\u001b[43m,\u001b[49m\u001b[33;43m\"\u001b[39;49m\u001b[33;43manswer\u001b[39;49m\u001b[33;43m\"\u001b[39;49m\u001b[43m:\u001b[49m\u001b[43manswer\u001b[49m\u001b[43m}\u001b[49m\u001b[43m)\u001b[49m\n\u001b[32m     29\u001b[39m \u001b[38;5;28mprint\u001b[39m(\u001b[33m\"\u001b[39m\u001b[33mParsed response:\u001b[39m\u001b[33m\"\u001b[39m, response)\n\u001b[32m     31\u001b[39m \u001b[38;5;28;01mreturn\u001b[39;00m {\u001b[33m\"\u001b[39m\u001b[33mmessages\u001b[39m\u001b[33m\"\u001b[39m: [response.Topic]}\n",
            "\u001b[36mFile \u001b[39m\u001b[32mc:\\Users\\saina\\.conda\\envs\\agentic_base\\Lib\\site-packages\\langchain_core\\runnables\\base.py:3047\u001b[39m, in \u001b[36mRunnableSequence.invoke\u001b[39m\u001b[34m(self, input, config, **kwargs)\u001b[39m\n\u001b[32m   3045\u001b[39m                 input_ = context.run(step.invoke, input_, config, **kwargs)\n\u001b[32m   3046\u001b[39m             \u001b[38;5;28;01melse\u001b[39;00m:\n\u001b[32m-> \u001b[39m\u001b[32m3047\u001b[39m                 input_ = context.run(step.invoke, input_, config)\n\u001b[32m   3048\u001b[39m \u001b[38;5;66;03m# finish the root run\u001b[39;00m\n\u001b[32m   3049\u001b[39m \u001b[38;5;28;01mexcept\u001b[39;00m \u001b[38;5;167;01mBaseException\u001b[39;00m \u001b[38;5;28;01mas\u001b[39;00m e:\n",
            "\u001b[36mFile \u001b[39m\u001b[32mc:\\Users\\saina\\.conda\\envs\\agentic_base\\Lib\\site-packages\\langchain_google_genai\\chat_models.py:1255\u001b[39m, in \u001b[36mChatGoogleGenerativeAI.invoke\u001b[39m\u001b[34m(self, input, config, code_execution, stop, **kwargs)\u001b[39m\n\u001b[32m   1250\u001b[39m     \u001b[38;5;28;01melse\u001b[39;00m:\n\u001b[32m   1251\u001b[39m         \u001b[38;5;28;01mraise\u001b[39;00m \u001b[38;5;167;01mValueError\u001b[39;00m(\n\u001b[32m   1252\u001b[39m             \u001b[33m\"\u001b[39m\u001b[33mTools are already defined.\u001b[39m\u001b[33m\"\u001b[39m \u001b[33m\"\u001b[39m\u001b[33mcode_execution tool can\u001b[39m\u001b[33m'\u001b[39m\u001b[33mt be defined\u001b[39m\u001b[33m\"\u001b[39m\n\u001b[32m   1253\u001b[39m         )\n\u001b[32m-> \u001b[39m\u001b[32m1255\u001b[39m \u001b[38;5;28;01mreturn\u001b[39;00m \u001b[38;5;28;43msuper\u001b[39;49m\u001b[43m(\u001b[49m\u001b[43m)\u001b[49m\u001b[43m.\u001b[49m\u001b[43minvoke\u001b[49m\u001b[43m(\u001b[49m\u001b[38;5;28;43minput\u001b[39;49m\u001b[43m,\u001b[49m\u001b[43m \u001b[49m\u001b[43mconfig\u001b[49m\u001b[43m,\u001b[49m\u001b[43m \u001b[49m\u001b[43mstop\u001b[49m\u001b[43m=\u001b[49m\u001b[43mstop\u001b[49m\u001b[43m,\u001b[49m\u001b[43m \u001b[49m\u001b[43m*\u001b[49m\u001b[43m*\u001b[49m\u001b[43mkwargs\u001b[49m\u001b[43m)\u001b[49m\n",
            "\u001b[36mFile \u001b[39m\u001b[32mc:\\Users\\saina\\.conda\\envs\\agentic_base\\Lib\\site-packages\\langchain_core\\language_models\\chat_models.py:372\u001b[39m, in \u001b[36mBaseChatModel.invoke\u001b[39m\u001b[34m(self, input, config, stop, **kwargs)\u001b[39m\n\u001b[32m    360\u001b[39m \u001b[38;5;129m@override\u001b[39m\n\u001b[32m    361\u001b[39m \u001b[38;5;28;01mdef\u001b[39;00m\u001b[38;5;250m \u001b[39m\u001b[34minvoke\u001b[39m(\n\u001b[32m    362\u001b[39m     \u001b[38;5;28mself\u001b[39m,\n\u001b[32m   (...)\u001b[39m\u001b[32m    367\u001b[39m     **kwargs: Any,\n\u001b[32m    368\u001b[39m ) -> BaseMessage:\n\u001b[32m    369\u001b[39m     config = ensure_config(config)\n\u001b[32m    370\u001b[39m     \u001b[38;5;28;01mreturn\u001b[39;00m cast(\n\u001b[32m    371\u001b[39m         \u001b[33m\"\u001b[39m\u001b[33mChatGeneration\u001b[39m\u001b[33m\"\u001b[39m,\n\u001b[32m--> \u001b[39m\u001b[32m372\u001b[39m         \u001b[38;5;28;43mself\u001b[39;49m\u001b[43m.\u001b[49m\u001b[43mgenerate_prompt\u001b[49m\u001b[43m(\u001b[49m\n\u001b[32m    373\u001b[39m \u001b[43m            \u001b[49m\u001b[43m[\u001b[49m\u001b[38;5;28;43mself\u001b[39;49m\u001b[43m.\u001b[49m\u001b[43m_convert_input\u001b[49m\u001b[43m(\u001b[49m\u001b[38;5;28;43minput\u001b[39;49m\u001b[43m)\u001b[49m\u001b[43m]\u001b[49m\u001b[43m,\u001b[49m\n\u001b[32m    374\u001b[39m \u001b[43m            \u001b[49m\u001b[43mstop\u001b[49m\u001b[43m=\u001b[49m\u001b[43mstop\u001b[49m\u001b[43m,\u001b[49m\n\u001b[32m    375\u001b[39m \u001b[43m            \u001b[49m\u001b[43mcallbacks\u001b[49m\u001b[43m=\u001b[49m\u001b[43mconfig\u001b[49m\u001b[43m.\u001b[49m\u001b[43mget\u001b[49m\u001b[43m(\u001b[49m\u001b[33;43m\"\u001b[39;49m\u001b[33;43mcallbacks\u001b[39;49m\u001b[33;43m\"\u001b[39;49m\u001b[43m)\u001b[49m\u001b[43m,\u001b[49m\n\u001b[32m    376\u001b[39m \u001b[43m            \u001b[49m\u001b[43mtags\u001b[49m\u001b[43m=\u001b[49m\u001b[43mconfig\u001b[49m\u001b[43m.\u001b[49m\u001b[43mget\u001b[49m\u001b[43m(\u001b[49m\u001b[33;43m\"\u001b[39;49m\u001b[33;43mtags\u001b[39;49m\u001b[33;43m\"\u001b[39;49m\u001b[43m)\u001b[49m\u001b[43m,\u001b[49m\n\u001b[32m    377\u001b[39m \u001b[43m            \u001b[49m\u001b[43mmetadata\u001b[49m\u001b[43m=\u001b[49m\u001b[43mconfig\u001b[49m\u001b[43m.\u001b[49m\u001b[43mget\u001b[49m\u001b[43m(\u001b[49m\u001b[33;43m\"\u001b[39;49m\u001b[33;43mmetadata\u001b[39;49m\u001b[33;43m\"\u001b[39;49m\u001b[43m)\u001b[49m\u001b[43m,\u001b[49m\n\u001b[32m    378\u001b[39m \u001b[43m            \u001b[49m\u001b[43mrun_name\u001b[49m\u001b[43m=\u001b[49m\u001b[43mconfig\u001b[49m\u001b[43m.\u001b[49m\u001b[43mget\u001b[49m\u001b[43m(\u001b[49m\u001b[33;43m\"\u001b[39;49m\u001b[33;43mrun_name\u001b[39;49m\u001b[33;43m\"\u001b[39;49m\u001b[43m)\u001b[49m\u001b[43m,\u001b[49m\n\u001b[32m    379\u001b[39m \u001b[43m            \u001b[49m\u001b[43mrun_id\u001b[49m\u001b[43m=\u001b[49m\u001b[43mconfig\u001b[49m\u001b[43m.\u001b[49m\u001b[43mpop\u001b[49m\u001b[43m(\u001b[49m\u001b[33;43m\"\u001b[39;49m\u001b[33;43mrun_id\u001b[39;49m\u001b[33;43m\"\u001b[39;49m\u001b[43m,\u001b[49m\u001b[43m \u001b[49m\u001b[38;5;28;43;01mNone\u001b[39;49;00m\u001b[43m)\u001b[49m\u001b[43m,\u001b[49m\n\u001b[32m    380\u001b[39m \u001b[43m            \u001b[49m\u001b[43m*\u001b[49m\u001b[43m*\u001b[49m\u001b[43mkwargs\u001b[49m\u001b[43m,\u001b[49m\n\u001b[32m    381\u001b[39m \u001b[43m        \u001b[49m\u001b[43m)\u001b[49m.generations[\u001b[32m0\u001b[39m][\u001b[32m0\u001b[39m],\n\u001b[32m    382\u001b[39m     ).message\n",
            "\u001b[36mFile \u001b[39m\u001b[32mc:\\Users\\saina\\.conda\\envs\\agentic_base\\Lib\\site-packages\\langchain_core\\language_models\\chat_models.py:957\u001b[39m, in \u001b[36mBaseChatModel.generate_prompt\u001b[39m\u001b[34m(self, prompts, stop, callbacks, **kwargs)\u001b[39m\n\u001b[32m    948\u001b[39m \u001b[38;5;129m@override\u001b[39m\n\u001b[32m    949\u001b[39m \u001b[38;5;28;01mdef\u001b[39;00m\u001b[38;5;250m \u001b[39m\u001b[34mgenerate_prompt\u001b[39m(\n\u001b[32m    950\u001b[39m     \u001b[38;5;28mself\u001b[39m,\n\u001b[32m   (...)\u001b[39m\u001b[32m    954\u001b[39m     **kwargs: Any,\n\u001b[32m    955\u001b[39m ) -> LLMResult:\n\u001b[32m    956\u001b[39m     prompt_messages = [p.to_messages() \u001b[38;5;28;01mfor\u001b[39;00m p \u001b[38;5;129;01min\u001b[39;00m prompts]\n\u001b[32m--> \u001b[39m\u001b[32m957\u001b[39m     \u001b[38;5;28;01mreturn\u001b[39;00m \u001b[38;5;28;43mself\u001b[39;49m\u001b[43m.\u001b[49m\u001b[43mgenerate\u001b[49m\u001b[43m(\u001b[49m\u001b[43mprompt_messages\u001b[49m\u001b[43m,\u001b[49m\u001b[43m \u001b[49m\u001b[43mstop\u001b[49m\u001b[43m=\u001b[49m\u001b[43mstop\u001b[49m\u001b[43m,\u001b[49m\u001b[43m \u001b[49m\u001b[43mcallbacks\u001b[49m\u001b[43m=\u001b[49m\u001b[43mcallbacks\u001b[49m\u001b[43m,\u001b[49m\u001b[43m \u001b[49m\u001b[43m*\u001b[49m\u001b[43m*\u001b[49m\u001b[43mkwargs\u001b[49m\u001b[43m)\u001b[49m\n",
            "\u001b[36mFile \u001b[39m\u001b[32mc:\\Users\\saina\\.conda\\envs\\agentic_base\\Lib\\site-packages\\langchain_core\\language_models\\chat_models.py:776\u001b[39m, in \u001b[36mBaseChatModel.generate\u001b[39m\u001b[34m(self, messages, stop, callbacks, tags, metadata, run_name, run_id, **kwargs)\u001b[39m\n\u001b[32m    773\u001b[39m \u001b[38;5;28;01mfor\u001b[39;00m i, m \u001b[38;5;129;01min\u001b[39;00m \u001b[38;5;28menumerate\u001b[39m(input_messages):\n\u001b[32m    774\u001b[39m     \u001b[38;5;28;01mtry\u001b[39;00m:\n\u001b[32m    775\u001b[39m         results.append(\n\u001b[32m--> \u001b[39m\u001b[32m776\u001b[39m             \u001b[38;5;28;43mself\u001b[39;49m\u001b[43m.\u001b[49m\u001b[43m_generate_with_cache\u001b[49m\u001b[43m(\u001b[49m\n\u001b[32m    777\u001b[39m \u001b[43m                \u001b[49m\u001b[43mm\u001b[49m\u001b[43m,\u001b[49m\n\u001b[32m    778\u001b[39m \u001b[43m                \u001b[49m\u001b[43mstop\u001b[49m\u001b[43m=\u001b[49m\u001b[43mstop\u001b[49m\u001b[43m,\u001b[49m\n\u001b[32m    779\u001b[39m \u001b[43m                \u001b[49m\u001b[43mrun_manager\u001b[49m\u001b[43m=\u001b[49m\u001b[43mrun_managers\u001b[49m\u001b[43m[\u001b[49m\u001b[43mi\u001b[49m\u001b[43m]\u001b[49m\u001b[43m \u001b[49m\u001b[38;5;28;43;01mif\u001b[39;49;00m\u001b[43m \u001b[49m\u001b[43mrun_managers\u001b[49m\u001b[43m \u001b[49m\u001b[38;5;28;43;01melse\u001b[39;49;00m\u001b[43m \u001b[49m\u001b[38;5;28;43;01mNone\u001b[39;49;00m\u001b[43m,\u001b[49m\n\u001b[32m    780\u001b[39m \u001b[43m                \u001b[49m\u001b[43m*\u001b[49m\u001b[43m*\u001b[49m\u001b[43mkwargs\u001b[49m\u001b[43m,\u001b[49m\n\u001b[32m    781\u001b[39m \u001b[43m            \u001b[49m\u001b[43m)\u001b[49m\n\u001b[32m    782\u001b[39m         )\n\u001b[32m    783\u001b[39m     \u001b[38;5;28;01mexcept\u001b[39;00m \u001b[38;5;167;01mBaseException\u001b[39;00m \u001b[38;5;28;01mas\u001b[39;00m e:\n\u001b[32m    784\u001b[39m         \u001b[38;5;28;01mif\u001b[39;00m run_managers:\n",
            "\u001b[36mFile \u001b[39m\u001b[32mc:\\Users\\saina\\.conda\\envs\\agentic_base\\Lib\\site-packages\\langchain_core\\language_models\\chat_models.py:1022\u001b[39m, in \u001b[36mBaseChatModel._generate_with_cache\u001b[39m\u001b[34m(self, messages, stop, run_manager, **kwargs)\u001b[39m\n\u001b[32m   1020\u001b[39m     result = generate_from_stream(\u001b[38;5;28miter\u001b[39m(chunks))\n\u001b[32m   1021\u001b[39m \u001b[38;5;28;01melif\u001b[39;00m inspect.signature(\u001b[38;5;28mself\u001b[39m._generate).parameters.get(\u001b[33m\"\u001b[39m\u001b[33mrun_manager\u001b[39m\u001b[33m\"\u001b[39m):\n\u001b[32m-> \u001b[39m\u001b[32m1022\u001b[39m     result = \u001b[38;5;28;43mself\u001b[39;49m\u001b[43m.\u001b[49m\u001b[43m_generate\u001b[49m\u001b[43m(\u001b[49m\n\u001b[32m   1023\u001b[39m \u001b[43m        \u001b[49m\u001b[43mmessages\u001b[49m\u001b[43m,\u001b[49m\u001b[43m \u001b[49m\u001b[43mstop\u001b[49m\u001b[43m=\u001b[49m\u001b[43mstop\u001b[49m\u001b[43m,\u001b[49m\u001b[43m \u001b[49m\u001b[43mrun_manager\u001b[49m\u001b[43m=\u001b[49m\u001b[43mrun_manager\u001b[49m\u001b[43m,\u001b[49m\u001b[43m \u001b[49m\u001b[43m*\u001b[49m\u001b[43m*\u001b[49m\u001b[43mkwargs\u001b[49m\n\u001b[32m   1024\u001b[39m \u001b[43m    \u001b[49m\u001b[43m)\u001b[49m\n\u001b[32m   1025\u001b[39m \u001b[38;5;28;01melse\u001b[39;00m:\n\u001b[32m   1026\u001b[39m     result = \u001b[38;5;28mself\u001b[39m._generate(messages, stop=stop, **kwargs)\n",
            "\u001b[36mFile \u001b[39m\u001b[32mc:\\Users\\saina\\.conda\\envs\\agentic_base\\Lib\\site-packages\\langchain_google_genai\\chat_models.py:1342\u001b[39m, in \u001b[36mChatGoogleGenerativeAI._generate\u001b[39m\u001b[34m(self, messages, stop, run_manager, tools, functions, safety_settings, tool_config, generation_config, cached_content, tool_choice, **kwargs)\u001b[39m\n\u001b[32m   1316\u001b[39m \u001b[38;5;28;01mdef\u001b[39;00m\u001b[38;5;250m \u001b[39m\u001b[34m_generate\u001b[39m(\n\u001b[32m   1317\u001b[39m     \u001b[38;5;28mself\u001b[39m,\n\u001b[32m   1318\u001b[39m     messages: List[BaseMessage],\n\u001b[32m   (...)\u001b[39m\u001b[32m   1329\u001b[39m     **kwargs: Any,\n\u001b[32m   1330\u001b[39m ) -> ChatResult:\n\u001b[32m   1331\u001b[39m     request = \u001b[38;5;28mself\u001b[39m._prepare_request(\n\u001b[32m   1332\u001b[39m         messages,\n\u001b[32m   1333\u001b[39m         stop=stop,\n\u001b[32m   (...)\u001b[39m\u001b[32m   1340\u001b[39m         tool_choice=tool_choice,\n\u001b[32m   1341\u001b[39m     )\n\u001b[32m-> \u001b[39m\u001b[32m1342\u001b[39m     response: GenerateContentResponse = \u001b[43m_chat_with_retry\u001b[49m\u001b[43m(\u001b[49m\n\u001b[32m   1343\u001b[39m \u001b[43m        \u001b[49m\u001b[43mrequest\u001b[49m\u001b[43m=\u001b[49m\u001b[43mrequest\u001b[49m\u001b[43m,\u001b[49m\n\u001b[32m   1344\u001b[39m \u001b[43m        \u001b[49m\u001b[43m*\u001b[49m\u001b[43m*\u001b[49m\u001b[43mkwargs\u001b[49m\u001b[43m,\u001b[49m\n\u001b[32m   1345\u001b[39m \u001b[43m        \u001b[49m\u001b[43mgeneration_method\u001b[49m\u001b[43m=\u001b[49m\u001b[38;5;28;43mself\u001b[39;49m\u001b[43m.\u001b[49m\u001b[43mclient\u001b[49m\u001b[43m.\u001b[49m\u001b[43mgenerate_content\u001b[49m\u001b[43m,\u001b[49m\n\u001b[32m   1346\u001b[39m \u001b[43m        \u001b[49m\u001b[43mmetadata\u001b[49m\u001b[43m=\u001b[49m\u001b[38;5;28;43mself\u001b[39;49m\u001b[43m.\u001b[49m\u001b[43mdefault_metadata\u001b[49m\u001b[43m,\u001b[49m\n\u001b[32m   1347\u001b[39m \u001b[43m    \u001b[49m\u001b[43m)\u001b[49m\n\u001b[32m   1348\u001b[39m     \u001b[38;5;28;01mreturn\u001b[39;00m _response_to_result(response)\n",
            "\u001b[36mFile \u001b[39m\u001b[32mc:\\Users\\saina\\.conda\\envs\\agentic_base\\Lib\\site-packages\\langchain_google_genai\\chat_models.py:210\u001b[39m, in \u001b[36m_chat_with_retry\u001b[39m\u001b[34m(generation_method, **kwargs)\u001b[39m\n\u001b[32m    207\u001b[39m     \u001b[38;5;28;01mexcept\u001b[39;00m \u001b[38;5;167;01mException\u001b[39;00m \u001b[38;5;28;01mas\u001b[39;00m e:\n\u001b[32m    208\u001b[39m         \u001b[38;5;28;01mraise\u001b[39;00m e\n\u001b[32m--> \u001b[39m\u001b[32m210\u001b[39m \u001b[38;5;28;01mreturn\u001b[39;00m \u001b[43m_chat_with_retry\u001b[49m\u001b[43m(\u001b[49m\u001b[43m*\u001b[49m\u001b[43m*\u001b[49m\u001b[43mkwargs\u001b[49m\u001b[43m)\u001b[49m\n",
            "\u001b[36mFile \u001b[39m\u001b[32mc:\\Users\\saina\\.conda\\envs\\agentic_base\\Lib\\site-packages\\tenacity\\__init__.py:338\u001b[39m, in \u001b[36mBaseRetrying.wraps.<locals>.wrapped_f\u001b[39m\u001b[34m(*args, **kw)\u001b[39m\n\u001b[32m    336\u001b[39m copy = \u001b[38;5;28mself\u001b[39m.copy()\n\u001b[32m    337\u001b[39m wrapped_f.statistics = copy.statistics  \u001b[38;5;66;03m# type: ignore[attr-defined]\u001b[39;00m\n\u001b[32m--> \u001b[39m\u001b[32m338\u001b[39m \u001b[38;5;28;01mreturn\u001b[39;00m \u001b[43mcopy\u001b[49m\u001b[43m(\u001b[49m\u001b[43mf\u001b[49m\u001b[43m,\u001b[49m\u001b[43m \u001b[49m\u001b[43m*\u001b[49m\u001b[43margs\u001b[49m\u001b[43m,\u001b[49m\u001b[43m \u001b[49m\u001b[43m*\u001b[49m\u001b[43m*\u001b[49m\u001b[43mkw\u001b[49m\u001b[43m)\u001b[49m\n",
            "\u001b[36mFile \u001b[39m\u001b[32mc:\\Users\\saina\\.conda\\envs\\agentic_base\\Lib\\site-packages\\tenacity\\__init__.py:477\u001b[39m, in \u001b[36mRetrying.__call__\u001b[39m\u001b[34m(self, fn, *args, **kwargs)\u001b[39m\n\u001b[32m    475\u001b[39m retry_state = RetryCallState(retry_object=\u001b[38;5;28mself\u001b[39m, fn=fn, args=args, kwargs=kwargs)\n\u001b[32m    476\u001b[39m \u001b[38;5;28;01mwhile\u001b[39;00m \u001b[38;5;28;01mTrue\u001b[39;00m:\n\u001b[32m--> \u001b[39m\u001b[32m477\u001b[39m     do = \u001b[38;5;28;43mself\u001b[39;49m\u001b[43m.\u001b[49m\u001b[43miter\u001b[49m\u001b[43m(\u001b[49m\u001b[43mretry_state\u001b[49m\u001b[43m=\u001b[49m\u001b[43mretry_state\u001b[49m\u001b[43m)\u001b[49m\n\u001b[32m    478\u001b[39m     \u001b[38;5;28;01mif\u001b[39;00m \u001b[38;5;28misinstance\u001b[39m(do, DoAttempt):\n\u001b[32m    479\u001b[39m         \u001b[38;5;28;01mtry\u001b[39;00m:\n",
            "\u001b[36mFile \u001b[39m\u001b[32mc:\\Users\\saina\\.conda\\envs\\agentic_base\\Lib\\site-packages\\tenacity\\__init__.py:378\u001b[39m, in \u001b[36mBaseRetrying.iter\u001b[39m\u001b[34m(self, retry_state)\u001b[39m\n\u001b[32m    376\u001b[39m result = \u001b[38;5;28;01mNone\u001b[39;00m\n\u001b[32m    377\u001b[39m \u001b[38;5;28;01mfor\u001b[39;00m action \u001b[38;5;129;01min\u001b[39;00m \u001b[38;5;28mself\u001b[39m.iter_state.actions:\n\u001b[32m--> \u001b[39m\u001b[32m378\u001b[39m     result = \u001b[43maction\u001b[49m\u001b[43m(\u001b[49m\u001b[43mretry_state\u001b[49m\u001b[43m)\u001b[49m\n\u001b[32m    379\u001b[39m \u001b[38;5;28;01mreturn\u001b[39;00m result\n",
            "\u001b[36mFile \u001b[39m\u001b[32mc:\\Users\\saina\\.conda\\envs\\agentic_base\\Lib\\site-packages\\tenacity\\__init__.py:420\u001b[39m, in \u001b[36mBaseRetrying._post_stop_check_actions.<locals>.exc_check\u001b[39m\u001b[34m(rs)\u001b[39m\n\u001b[32m    418\u001b[39m retry_exc = \u001b[38;5;28mself\u001b[39m.retry_error_cls(fut)\n\u001b[32m    419\u001b[39m \u001b[38;5;28;01mif\u001b[39;00m \u001b[38;5;28mself\u001b[39m.reraise:\n\u001b[32m--> \u001b[39m\u001b[32m420\u001b[39m     \u001b[38;5;28;01mraise\u001b[39;00m \u001b[43mretry_exc\u001b[49m\u001b[43m.\u001b[49m\u001b[43mreraise\u001b[49m\u001b[43m(\u001b[49m\u001b[43m)\u001b[49m\n\u001b[32m    421\u001b[39m \u001b[38;5;28;01mraise\u001b[39;00m retry_exc \u001b[38;5;28;01mfrom\u001b[39;00m\u001b[38;5;250m \u001b[39m\u001b[34;01mfut\u001b[39;00m\u001b[34;01m.\u001b[39;00m\u001b[34;01mexception\u001b[39;00m()\n",
            "\u001b[36mFile \u001b[39m\u001b[32mc:\\Users\\saina\\.conda\\envs\\agentic_base\\Lib\\site-packages\\tenacity\\__init__.py:187\u001b[39m, in \u001b[36mRetryError.reraise\u001b[39m\u001b[34m(self)\u001b[39m\n\u001b[32m    185\u001b[39m \u001b[38;5;28;01mdef\u001b[39;00m\u001b[38;5;250m \u001b[39m\u001b[34mreraise\u001b[39m(\u001b[38;5;28mself\u001b[39m) -> t.NoReturn:\n\u001b[32m    186\u001b[39m     \u001b[38;5;28;01mif\u001b[39;00m \u001b[38;5;28mself\u001b[39m.last_attempt.failed:\n\u001b[32m--> \u001b[39m\u001b[32m187\u001b[39m         \u001b[38;5;28;01mraise\u001b[39;00m \u001b[38;5;28;43mself\u001b[39;49m\u001b[43m.\u001b[49m\u001b[43mlast_attempt\u001b[49m\u001b[43m.\u001b[49m\u001b[43mresult\u001b[49m\u001b[43m(\u001b[49m\u001b[43m)\u001b[49m\n\u001b[32m    188\u001b[39m     \u001b[38;5;28;01mraise\u001b[39;00m \u001b[38;5;28mself\u001b[39m\n",
            "\u001b[36mFile \u001b[39m\u001b[32mc:\\Users\\saina\\.conda\\envs\\agentic_base\\Lib\\concurrent\\futures\\_base.py:449\u001b[39m, in \u001b[36mFuture.result\u001b[39m\u001b[34m(self, timeout)\u001b[39m\n\u001b[32m    447\u001b[39m     \u001b[38;5;28;01mraise\u001b[39;00m CancelledError()\n\u001b[32m    448\u001b[39m \u001b[38;5;28;01melif\u001b[39;00m \u001b[38;5;28mself\u001b[39m._state == FINISHED:\n\u001b[32m--> \u001b[39m\u001b[32m449\u001b[39m     \u001b[38;5;28;01mreturn\u001b[39;00m \u001b[38;5;28;43mself\u001b[39;49m\u001b[43m.\u001b[49m\u001b[43m__get_result\u001b[49m\u001b[43m(\u001b[49m\u001b[43m)\u001b[49m\n\u001b[32m    451\u001b[39m \u001b[38;5;28mself\u001b[39m._condition.wait(timeout)\n\u001b[32m    453\u001b[39m \u001b[38;5;28;01mif\u001b[39;00m \u001b[38;5;28mself\u001b[39m._state \u001b[38;5;129;01min\u001b[39;00m [CANCELLED, CANCELLED_AND_NOTIFIED]:\n",
            "\u001b[36mFile \u001b[39m\u001b[32mc:\\Users\\saina\\.conda\\envs\\agentic_base\\Lib\\concurrent\\futures\\_base.py:401\u001b[39m, in \u001b[36mFuture.__get_result\u001b[39m\u001b[34m(self)\u001b[39m\n\u001b[32m    399\u001b[39m \u001b[38;5;28;01mif\u001b[39;00m \u001b[38;5;28mself\u001b[39m._exception:\n\u001b[32m    400\u001b[39m     \u001b[38;5;28;01mtry\u001b[39;00m:\n\u001b[32m--> \u001b[39m\u001b[32m401\u001b[39m         \u001b[38;5;28;01mraise\u001b[39;00m \u001b[38;5;28mself\u001b[39m._exception\n\u001b[32m    402\u001b[39m     \u001b[38;5;28;01mfinally\u001b[39;00m:\n\u001b[32m    403\u001b[39m         \u001b[38;5;66;03m# Break a reference cycle with the exception in self._exception\u001b[39;00m\n\u001b[32m    404\u001b[39m         \u001b[38;5;28mself\u001b[39m = \u001b[38;5;28;01mNone\u001b[39;00m\n",
            "\u001b[36mFile \u001b[39m\u001b[32mc:\\Users\\saina\\.conda\\envs\\agentic_base\\Lib\\site-packages\\tenacity\\__init__.py:480\u001b[39m, in \u001b[36mRetrying.__call__\u001b[39m\u001b[34m(self, fn, *args, **kwargs)\u001b[39m\n\u001b[32m    478\u001b[39m \u001b[38;5;28;01mif\u001b[39;00m \u001b[38;5;28misinstance\u001b[39m(do, DoAttempt):\n\u001b[32m    479\u001b[39m     \u001b[38;5;28;01mtry\u001b[39;00m:\n\u001b[32m--> \u001b[39m\u001b[32m480\u001b[39m         result = \u001b[43mfn\u001b[49m\u001b[43m(\u001b[49m\u001b[43m*\u001b[49m\u001b[43margs\u001b[49m\u001b[43m,\u001b[49m\u001b[43m \u001b[49m\u001b[43m*\u001b[49m\u001b[43m*\u001b[49m\u001b[43mkwargs\u001b[49m\u001b[43m)\u001b[49m\n\u001b[32m    481\u001b[39m     \u001b[38;5;28;01mexcept\u001b[39;00m \u001b[38;5;167;01mBaseException\u001b[39;00m:  \u001b[38;5;66;03m# noqa: B902\u001b[39;00m\n\u001b[32m    482\u001b[39m         retry_state.set_exception(sys.exc_info())  \u001b[38;5;66;03m# type: ignore[arg-type]\u001b[39;00m\n",
            "\u001b[36mFile \u001b[39m\u001b[32mc:\\Users\\saina\\.conda\\envs\\agentic_base\\Lib\\site-packages\\langchain_google_genai\\chat_models.py:208\u001b[39m, in \u001b[36m_chat_with_retry.<locals>._chat_with_retry\u001b[39m\u001b[34m(**kwargs)\u001b[39m\n\u001b[32m    204\u001b[39m     \u001b[38;5;28;01mraise\u001b[39;00m ChatGoogleGenerativeAIError(\n\u001b[32m    205\u001b[39m         \u001b[33mf\u001b[39m\u001b[33m\"\u001b[39m\u001b[33mInvalid argument provided to Gemini: \u001b[39m\u001b[38;5;132;01m{\u001b[39;00me\u001b[38;5;132;01m}\u001b[39;00m\u001b[33m\"\u001b[39m\n\u001b[32m    206\u001b[39m     ) \u001b[38;5;28;01mfrom\u001b[39;00m\u001b[38;5;250m \u001b[39m\u001b[34;01me\u001b[39;00m\n\u001b[32m    207\u001b[39m \u001b[38;5;28;01mexcept\u001b[39;00m \u001b[38;5;167;01mException\u001b[39;00m \u001b[38;5;28;01mas\u001b[39;00m e:\n\u001b[32m--> \u001b[39m\u001b[32m208\u001b[39m     \u001b[38;5;28;01mraise\u001b[39;00m e\n",
            "\u001b[36mFile \u001b[39m\u001b[32mc:\\Users\\saina\\.conda\\envs\\agentic_base\\Lib\\site-packages\\langchain_google_genai\\chat_models.py:192\u001b[39m, in \u001b[36m_chat_with_retry.<locals>._chat_with_retry\u001b[39m\u001b[34m(**kwargs)\u001b[39m\n\u001b[32m    189\u001b[39m \u001b[38;5;129m@retry_decorator\u001b[39m\n\u001b[32m    190\u001b[39m \u001b[38;5;28;01mdef\u001b[39;00m\u001b[38;5;250m \u001b[39m\u001b[34m_chat_with_retry\u001b[39m(**kwargs: Any) -> Any:\n\u001b[32m    191\u001b[39m     \u001b[38;5;28;01mtry\u001b[39;00m:\n\u001b[32m--> \u001b[39m\u001b[32m192\u001b[39m         \u001b[38;5;28;01mreturn\u001b[39;00m \u001b[43mgeneration_method\u001b[49m\u001b[43m(\u001b[49m\u001b[43m*\u001b[49m\u001b[43m*\u001b[49m\u001b[43mkwargs\u001b[49m\u001b[43m)\u001b[49m\n\u001b[32m    193\u001b[39m     \u001b[38;5;66;03m# Do not retry for these errors.\u001b[39;00m\n\u001b[32m    194\u001b[39m     \u001b[38;5;28;01mexcept\u001b[39;00m google.api_core.exceptions.FailedPrecondition \u001b[38;5;28;01mas\u001b[39;00m exc:\n",
            "\u001b[36mFile \u001b[39m\u001b[32mc:\\Users\\saina\\.conda\\envs\\agentic_base\\Lib\\site-packages\\google\\ai\\generativelanguage_v1beta\\services\\generative_service\\client.py:868\u001b[39m, in \u001b[36mGenerativeServiceClient.generate_content\u001b[39m\u001b[34m(self, request, model, contents, retry, timeout, metadata)\u001b[39m\n\u001b[32m    865\u001b[39m \u001b[38;5;28mself\u001b[39m._validate_universe_domain()\n\u001b[32m    867\u001b[39m \u001b[38;5;66;03m# Send the request.\u001b[39;00m\n\u001b[32m--> \u001b[39m\u001b[32m868\u001b[39m response = \u001b[43mrpc\u001b[49m\u001b[43m(\u001b[49m\n\u001b[32m    869\u001b[39m \u001b[43m    \u001b[49m\u001b[43mrequest\u001b[49m\u001b[43m,\u001b[49m\n\u001b[32m    870\u001b[39m \u001b[43m    \u001b[49m\u001b[43mretry\u001b[49m\u001b[43m=\u001b[49m\u001b[43mretry\u001b[49m\u001b[43m,\u001b[49m\n\u001b[32m    871\u001b[39m \u001b[43m    \u001b[49m\u001b[43mtimeout\u001b[49m\u001b[43m=\u001b[49m\u001b[43mtimeout\u001b[49m\u001b[43m,\u001b[49m\n\u001b[32m    872\u001b[39m \u001b[43m    \u001b[49m\u001b[43mmetadata\u001b[49m\u001b[43m=\u001b[49m\u001b[43mmetadata\u001b[49m\u001b[43m,\u001b[49m\n\u001b[32m    873\u001b[39m \u001b[43m\u001b[49m\u001b[43m)\u001b[49m\n\u001b[32m    875\u001b[39m \u001b[38;5;66;03m# Done; return the response.\u001b[39;00m\n\u001b[32m    876\u001b[39m \u001b[38;5;28;01mreturn\u001b[39;00m response\n",
            "\u001b[36mFile \u001b[39m\u001b[32mc:\\Users\\saina\\.conda\\envs\\agentic_base\\Lib\\site-packages\\google\\api_core\\gapic_v1\\method.py:131\u001b[39m, in \u001b[36m_GapicCallable.__call__\u001b[39m\u001b[34m(self, timeout, retry, compression, *args, **kwargs)\u001b[39m\n\u001b[32m    128\u001b[39m \u001b[38;5;28;01mif\u001b[39;00m \u001b[38;5;28mself\u001b[39m._compression \u001b[38;5;129;01mis\u001b[39;00m \u001b[38;5;129;01mnot\u001b[39;00m \u001b[38;5;28;01mNone\u001b[39;00m:\n\u001b[32m    129\u001b[39m     kwargs[\u001b[33m\"\u001b[39m\u001b[33mcompression\u001b[39m\u001b[33m\"\u001b[39m] = compression\n\u001b[32m--> \u001b[39m\u001b[32m131\u001b[39m \u001b[38;5;28;01mreturn\u001b[39;00m \u001b[43mwrapped_func\u001b[49m\u001b[43m(\u001b[49m\u001b[43m*\u001b[49m\u001b[43margs\u001b[49m\u001b[43m,\u001b[49m\u001b[43m \u001b[49m\u001b[43m*\u001b[49m\u001b[43m*\u001b[49m\u001b[43mkwargs\u001b[49m\u001b[43m)\u001b[49m\n",
            "\u001b[36mFile \u001b[39m\u001b[32mc:\\Users\\saina\\.conda\\envs\\agentic_base\\Lib\\site-packages\\google\\api_core\\retry\\retry_unary.py:294\u001b[39m, in \u001b[36mRetry.__call__.<locals>.retry_wrapped_func\u001b[39m\u001b[34m(*args, **kwargs)\u001b[39m\n\u001b[32m    290\u001b[39m target = functools.partial(func, *args, **kwargs)\n\u001b[32m    291\u001b[39m sleep_generator = exponential_sleep_generator(\n\u001b[32m    292\u001b[39m     \u001b[38;5;28mself\u001b[39m._initial, \u001b[38;5;28mself\u001b[39m._maximum, multiplier=\u001b[38;5;28mself\u001b[39m._multiplier\n\u001b[32m    293\u001b[39m )\n\u001b[32m--> \u001b[39m\u001b[32m294\u001b[39m \u001b[38;5;28;01mreturn\u001b[39;00m \u001b[43mretry_target\u001b[49m\u001b[43m(\u001b[49m\n\u001b[32m    295\u001b[39m \u001b[43m    \u001b[49m\u001b[43mtarget\u001b[49m\u001b[43m,\u001b[49m\n\u001b[32m    296\u001b[39m \u001b[43m    \u001b[49m\u001b[38;5;28;43mself\u001b[39;49m\u001b[43m.\u001b[49m\u001b[43m_predicate\u001b[49m\u001b[43m,\u001b[49m\n\u001b[32m    297\u001b[39m \u001b[43m    \u001b[49m\u001b[43msleep_generator\u001b[49m\u001b[43m,\u001b[49m\n\u001b[32m    298\u001b[39m \u001b[43m    \u001b[49m\u001b[43mtimeout\u001b[49m\u001b[43m=\u001b[49m\u001b[38;5;28;43mself\u001b[39;49m\u001b[43m.\u001b[49m\u001b[43m_timeout\u001b[49m\u001b[43m,\u001b[49m\n\u001b[32m    299\u001b[39m \u001b[43m    \u001b[49m\u001b[43mon_error\u001b[49m\u001b[43m=\u001b[49m\u001b[43mon_error\u001b[49m\u001b[43m,\u001b[49m\n\u001b[32m    300\u001b[39m \u001b[43m\u001b[49m\u001b[43m)\u001b[49m\n",
            "\u001b[36mFile \u001b[39m\u001b[32mc:\\Users\\saina\\.conda\\envs\\agentic_base\\Lib\\site-packages\\google\\api_core\\retry\\retry_unary.py:156\u001b[39m, in \u001b[36mretry_target\u001b[39m\u001b[34m(target, predicate, sleep_generator, timeout, on_error, exception_factory, **kwargs)\u001b[39m\n\u001b[32m    152\u001b[39m \u001b[38;5;66;03m# pylint: disable=broad-except\u001b[39;00m\n\u001b[32m    153\u001b[39m \u001b[38;5;66;03m# This function explicitly must deal with broad exceptions.\u001b[39;00m\n\u001b[32m    154\u001b[39m \u001b[38;5;28;01mexcept\u001b[39;00m \u001b[38;5;167;01mException\u001b[39;00m \u001b[38;5;28;01mas\u001b[39;00m exc:\n\u001b[32m    155\u001b[39m     \u001b[38;5;66;03m# defer to shared logic for handling errors\u001b[39;00m\n\u001b[32m--> \u001b[39m\u001b[32m156\u001b[39m     next_sleep = \u001b[43m_retry_error_helper\u001b[49m\u001b[43m(\u001b[49m\n\u001b[32m    157\u001b[39m \u001b[43m        \u001b[49m\u001b[43mexc\u001b[49m\u001b[43m,\u001b[49m\n\u001b[32m    158\u001b[39m \u001b[43m        \u001b[49m\u001b[43mdeadline\u001b[49m\u001b[43m,\u001b[49m\n\u001b[32m    159\u001b[39m \u001b[43m        \u001b[49m\u001b[43msleep_iter\u001b[49m\u001b[43m,\u001b[49m\n\u001b[32m    160\u001b[39m \u001b[43m        \u001b[49m\u001b[43merror_list\u001b[49m\u001b[43m,\u001b[49m\n\u001b[32m    161\u001b[39m \u001b[43m        \u001b[49m\u001b[43mpredicate\u001b[49m\u001b[43m,\u001b[49m\n\u001b[32m    162\u001b[39m \u001b[43m        \u001b[49m\u001b[43mon_error\u001b[49m\u001b[43m,\u001b[49m\n\u001b[32m    163\u001b[39m \u001b[43m        \u001b[49m\u001b[43mexception_factory\u001b[49m\u001b[43m,\u001b[49m\n\u001b[32m    164\u001b[39m \u001b[43m        \u001b[49m\u001b[43mtimeout\u001b[49m\u001b[43m,\u001b[49m\n\u001b[32m    165\u001b[39m \u001b[43m    \u001b[49m\u001b[43m)\u001b[49m\n\u001b[32m    166\u001b[39m     \u001b[38;5;66;03m# if exception not raised, sleep before next attempt\u001b[39;00m\n\u001b[32m    167\u001b[39m     time.sleep(next_sleep)\n",
            "\u001b[36mFile \u001b[39m\u001b[32mc:\\Users\\saina\\.conda\\envs\\agentic_base\\Lib\\site-packages\\google\\api_core\\retry\\retry_base.py:214\u001b[39m, in \u001b[36m_retry_error_helper\u001b[39m\u001b[34m(exc, deadline, sleep_iterator, error_list, predicate_fn, on_error_fn, exc_factory_fn, original_timeout)\u001b[39m\n\u001b[32m    208\u001b[39m \u001b[38;5;28;01mif\u001b[39;00m \u001b[38;5;129;01mnot\u001b[39;00m predicate_fn(exc):\n\u001b[32m    209\u001b[39m     final_exc, source_exc = exc_factory_fn(\n\u001b[32m    210\u001b[39m         error_list,\n\u001b[32m    211\u001b[39m         RetryFailureReason.NON_RETRYABLE_ERROR,\n\u001b[32m    212\u001b[39m         original_timeout,\n\u001b[32m    213\u001b[39m     )\n\u001b[32m--> \u001b[39m\u001b[32m214\u001b[39m     \u001b[38;5;28;01mraise\u001b[39;00m final_exc \u001b[38;5;28;01mfrom\u001b[39;00m\u001b[38;5;250m \u001b[39m\u001b[34;01msource_exc\u001b[39;00m\n\u001b[32m    215\u001b[39m \u001b[38;5;28;01mif\u001b[39;00m on_error_fn \u001b[38;5;129;01mis\u001b[39;00m \u001b[38;5;129;01mnot\u001b[39;00m \u001b[38;5;28;01mNone\u001b[39;00m:\n\u001b[32m    216\u001b[39m     on_error_fn(exc)\n",
            "\u001b[36mFile \u001b[39m\u001b[32mc:\\Users\\saina\\.conda\\envs\\agentic_base\\Lib\\site-packages\\google\\api_core\\retry\\retry_unary.py:147\u001b[39m, in \u001b[36mretry_target\u001b[39m\u001b[34m(target, predicate, sleep_generator, timeout, on_error, exception_factory, **kwargs)\u001b[39m\n\u001b[32m    145\u001b[39m \u001b[38;5;28;01mwhile\u001b[39;00m \u001b[38;5;28;01mTrue\u001b[39;00m:\n\u001b[32m    146\u001b[39m     \u001b[38;5;28;01mtry\u001b[39;00m:\n\u001b[32m--> \u001b[39m\u001b[32m147\u001b[39m         result = \u001b[43mtarget\u001b[49m\u001b[43m(\u001b[49m\u001b[43m)\u001b[49m\n\u001b[32m    148\u001b[39m         \u001b[38;5;28;01mif\u001b[39;00m inspect.isawaitable(result):\n\u001b[32m    149\u001b[39m             warnings.warn(_ASYNC_RETRY_WARNING)\n",
            "\u001b[36mFile \u001b[39m\u001b[32mc:\\Users\\saina\\.conda\\envs\\agentic_base\\Lib\\site-packages\\google\\api_core\\timeout.py:130\u001b[39m, in \u001b[36mTimeToDeadlineTimeout.__call__.<locals>.func_with_timeout\u001b[39m\u001b[34m(*args, **kwargs)\u001b[39m\n\u001b[32m    126\u001b[39m         remaining_timeout = \u001b[38;5;28mself\u001b[39m._timeout\n\u001b[32m    128\u001b[39m     kwargs[\u001b[33m\"\u001b[39m\u001b[33mtimeout\u001b[39m\u001b[33m\"\u001b[39m] = remaining_timeout\n\u001b[32m--> \u001b[39m\u001b[32m130\u001b[39m \u001b[38;5;28;01mreturn\u001b[39;00m \u001b[43mfunc\u001b[49m\u001b[43m(\u001b[49m\u001b[43m*\u001b[49m\u001b[43margs\u001b[49m\u001b[43m,\u001b[49m\u001b[43m \u001b[49m\u001b[43m*\u001b[49m\u001b[43m*\u001b[49m\u001b[43mkwargs\u001b[49m\u001b[43m)\u001b[49m\n",
            "\u001b[36mFile \u001b[39m\u001b[32mc:\\Users\\saina\\.conda\\envs\\agentic_base\\Lib\\site-packages\\google\\api_core\\grpc_helpers.py:78\u001b[39m, in \u001b[36m_wrap_unary_errors.<locals>.error_remapped_callable\u001b[39m\u001b[34m(*args, **kwargs)\u001b[39m\n\u001b[32m     76\u001b[39m     \u001b[38;5;28;01mreturn\u001b[39;00m callable_(*args, **kwargs)\n\u001b[32m     77\u001b[39m \u001b[38;5;28;01mexcept\u001b[39;00m grpc.RpcError \u001b[38;5;28;01mas\u001b[39;00m exc:\n\u001b[32m---> \u001b[39m\u001b[32m78\u001b[39m     \u001b[38;5;28;01mraise\u001b[39;00m exceptions.from_grpc_error(exc) \u001b[38;5;28;01mfrom\u001b[39;00m\u001b[38;5;250m \u001b[39m\u001b[34;01mexc\u001b[39;00m\n",
            "\u001b[31mResourceExhausted\u001b[39m: 429 You exceeded your current quota, please check your plan and billing details. For more information on this error, head to: https://ai.google.dev/gemini-api/docs/rate-limits. [violations {\n  quota_metric: \"generativelanguage.googleapis.com/generate_content_free_tier_requests\"\n  quota_id: \"GenerateRequestsPerMinutePerProjectPerModel-FreeTier\"\n  quota_dimensions {\n    key: \"model\"\n    value: \"gemini-1.5-flash\"\n  }\n  quota_dimensions {\n    key: \"location\"\n    value: \"global\"\n  }\n  quota_value: 15\n}\n, links {\n  description: \"Learn more about Gemini API quotas\"\n  url: \"https://ai.google.dev/gemini-api/docs/rate-limits\"\n}\n, retry_delay {\n  seconds: 16\n}\n]",
            "During task with name 'VALIDATION' and id '4fca5323-d16a-fb61-1e15-c19af6d3d0c4'"
          ]
        }
      ],
      "source": [
        "state={\"messages\":[\"what is the net worth of Elon Musk\"]}\n",
        "app.invoke(state)"
      ]
    },
    {
      "cell_type": "markdown",
      "id": "35920de1",
      "metadata": {},
      "source": [
        "## Langgraph Agent Tutorial"
      ]
    },
    {
      "cell_type": "code",
      "execution_count": 85,
      "id": "2eeb4997",
      "metadata": {},
      "outputs": [],
      "source": [
        "class AgentState(TypedDict):\n",
        "    messages: Annotated[Sequence[BaseMessage], operator.add]"
      ]
    },
    {
      "cell_type": "code",
      "execution_count": 86,
      "id": "8b7dcfed",
      "metadata": {},
      "outputs": [],
      "source": [
        "state={\"messages\":[\"hi\"]}"
      ]
    },
    {
      "cell_type": "code",
      "execution_count": 87,
      "id": "48bb9a40",
      "metadata": {},
      "outputs": [],
      "source": [
        "state=\"hi\""
      ]
    },
    {
      "cell_type": "code",
      "execution_count": 88,
      "id": "25c90f65",
      "metadata": {},
      "outputs": [],
      "source": [
        "def function_1(state:AgentState):\n",
        "    \n",
        "    question=state[\"messages\"][-1]\n",
        "    \n",
        "    print(\"Question\",question)\n",
        "    \n",
        "    template=\"\"\"\n",
        "    Your task is to classify the given user query into one of the following categories: [USA,Not Related]. \n",
        "    Only respond with the category name and nothing else.\n",
        "\n",
        "    User query: {question}\n",
        "    {format_instructions}\n",
        "    \"\"\"\n",
        "    \n",
        "    prompt= PromptTemplate(\n",
        "        template=template,\n",
        "        input_variable=[\"question\"],\n",
        "        partial_variables={\"format_instructions\": parser.get_format_instructions()}\n",
        "    )\n",
        "    \n",
        "    \n",
        "    chain= prompt | model | parser\n",
        "    \n",
        "    response = chain.invoke({\"question\":question})\n",
        "    \n",
        "    print(\"Parsed response:\", response)\n",
        "    \n",
        "    return {\"messages\": [response.Topic]}"
      ]
    },
    {
      "cell_type": "code",
      "execution_count": 89,
      "id": "b213f879",
      "metadata": {},
      "outputs": [],
      "source": [
        "state={\"messages\":[\"what is a today weather?\"]}"
      ]
    },
    {
      "cell_type": "code",
      "execution_count": 90,
      "id": "b75862b7",
      "metadata": {},
      "outputs": [],
      "source": [
        "state={\"messages\":[\"what is a GDP of usa??\"]}"
      ]
    },
    {
      "cell_type": "code",
      "execution_count": 91,
      "id": "0d6c7ff3",
      "metadata": {},
      "outputs": [
        {
          "name": "stdout",
          "output_type": "stream",
          "text": [
            "Question what is a GDP of usa??\n",
            "Parsed response: Topic='USA' Reasoning='The query explicitly asks for the GDP of the USA.'\n"
          ]
        },
        {
          "data": {
            "text/plain": [
              "{'messages': ['USA']}"
            ]
          },
          "execution_count": 91,
          "metadata": {},
          "output_type": "execute_result"
        }
      ],
      "source": [
        "function_1(state)"
      ]
    },
    {
      "cell_type": "code",
      "execution_count": 92,
      "id": "9d9efd5e",
      "metadata": {},
      "outputs": [],
      "source": [
        "class TopicSelectionParser(BaseModel):\n",
        "    Topic:str=Field(description=\"selected topic\")\n",
        "    Reasoning:str=Field(description='Reasoning behind topic selection')"
      ]
    },
    {
      "cell_type": "code",
      "execution_count": 93,
      "id": "b77ffaa1",
      "metadata": {},
      "outputs": [],
      "source": [
        "def router(state:AgentState):\n",
        "    print(\"-> ROUTER ->\")\n",
        "    \n",
        "    last_message=state[\"messages\"][-1]\n",
        "    print(\"last_message:\", last_message)\n",
        "    \n",
        "    if \"usa\" in last_message.lower():\n",
        "        return \"RAG Call\"\n",
        "    else:\n",
        "        return \"LLM Call\""
      ]
    },
    {
      "cell_type": "markdown",
      "id": "1370290f",
      "metadata": {},
      "source": [
        "workflow.add_conditional_edges(\n",
        "    \"Supervisor\",\n",
        "    router,\n",
        "    {\n",
        "        \"RAG Call\": \"RAG\"(function_2),\n",
        "        \"LLM Call\": \"LLM\"(function_3),\n",
        "    }\n",
        ")"
      ]
    },
    {
      "cell_type": "code",
      "execution_count": 94,
      "id": "39ea58c6",
      "metadata": {},
      "outputs": [],
      "source": [
        "def format_docs(docs):\n",
        "    return \"\\n\\n\".join(doc.page_content for doc in docs)"
      ]
    },
    {
      "cell_type": "code",
      "execution_count": 95,
      "id": "2be8b78d",
      "metadata": {},
      "outputs": [],
      "source": [
        "# RAG Function\n",
        "def function_2(state:AgentState):\n",
        "    print(\"-> RAG Call ->\")\n",
        "    \n",
        "    question = state[\"messages\"][0]\n",
        "    \n",
        "    prompt=PromptTemplate(\n",
        "        template=\"\"\"You are an assistant for question-answering tasks. Use the following pieces of retrieved context to answer the question. If you don't know the answer, just say that you don't know. Use three sentences maximum and keep the answer concise.\\nQuestion: {question} \\nContext: {context} \\nAnswer:\"\"\",\n",
        "        \n",
        "        input_variables=['context', 'question']\n",
        "    )\n",
        "    \n",
        "    rag_chain = (\n",
        "        {\"context\": retriever | format_docs, \"question\": RunnablePassthrough()}\n",
        "        | prompt\n",
        "        | model\n",
        "        | StrOutputParser()\n",
        "    )\n",
        "    result = rag_chain.invoke(question)\n",
        "    return  {\"messages\": [result]}"
      ]
    },
    {
      "cell_type": "code",
      "execution_count": 96,
      "id": "bcf5722e",
      "metadata": {},
      "outputs": [],
      "source": [
        "# LLM Function\n",
        "def function_3(state:AgentState):\n",
        "    print(\"-> LLM Call ->\")\n",
        "    question = state[\"messages\"][0]\n",
        "    \n",
        "    # Normal LLM call\n",
        "    complete_query = \"Anwer the follow question with you knowledge of the real world. Following is the user question: \" + question\n",
        "    response = model.invoke(complete_query)\n",
        "    return {\"messages\": [response.content]}"
      ]
    },
    {
      "cell_type": "code",
      "execution_count": 97,
      "id": "842b2768",
      "metadata": {},
      "outputs": [],
      "source": [
        "from langgraph.graph import StateGraph,END"
      ]
    },
    {
      "cell_type": "code",
      "execution_count": 98,
      "id": "5fa25634",
      "metadata": {},
      "outputs": [],
      "source": [
        "workflow=StateGraph(AgentState)"
      ]
    },
    {
      "cell_type": "code",
      "execution_count": 99,
      "id": "d2f4e5fd",
      "metadata": {},
      "outputs": [
        {
          "data": {
            "text/plain": [
              "<langgraph.graph.state.StateGraph at 0x28b893c8310>"
            ]
          },
          "execution_count": 99,
          "metadata": {},
          "output_type": "execute_result"
        }
      ],
      "source": [
        "workflow.add_node(\"Supervisor\",function_1)"
      ]
    },
    {
      "cell_type": "code",
      "execution_count": 100,
      "id": "85165bcc",
      "metadata": {},
      "outputs": [
        {
          "data": {
            "text/plain": [
              "<langgraph.graph.state.StateGraph at 0x28b893c8310>"
            ]
          },
          "execution_count": 100,
          "metadata": {},
          "output_type": "execute_result"
        }
      ],
      "source": [
        "workflow.add_node(\"RAG\",function_2)"
      ]
    },
    {
      "cell_type": "code",
      "execution_count": 101,
      "id": "118b392f",
      "metadata": {},
      "outputs": [
        {
          "data": {
            "text/plain": [
              "<langgraph.graph.state.StateGraph at 0x28b893c8310>"
            ]
          },
          "execution_count": 101,
          "metadata": {},
          "output_type": "execute_result"
        }
      ],
      "source": [
        "workflow.add_node(\"LLM\",function_3)"
      ]
    },
    {
      "cell_type": "code",
      "execution_count": 102,
      "id": "2a35422c",
      "metadata": {},
      "outputs": [
        {
          "data": {
            "text/plain": [
              "<langgraph.graph.state.StateGraph at 0x28b893c8310>"
            ]
          },
          "execution_count": 102,
          "metadata": {},
          "output_type": "execute_result"
        }
      ],
      "source": [
        "workflow.set_entry_point(\"Supervisor\")"
      ]
    },
    {
      "cell_type": "code",
      "execution_count": 103,
      "id": "a94d4a78",
      "metadata": {},
      "outputs": [
        {
          "data": {
            "text/plain": [
              "<langgraph.graph.state.StateGraph at 0x28b893c8310>"
            ]
          },
          "execution_count": 103,
          "metadata": {},
          "output_type": "execute_result"
        }
      ],
      "source": [
        "workflow.add_conditional_edges(\n",
        "    \"Supervisor\",\n",
        "    router,\n",
        "    {\n",
        "        \"RAG Call\": \"RAG\",\n",
        "        \"LLM Call\": \"LLM\",\n",
        "    }\n",
        ")"
      ]
    },
    {
      "cell_type": "code",
      "execution_count": 104,
      "id": "e44b1f46",
      "metadata": {},
      "outputs": [
        {
          "data": {
            "text/plain": [
              "<langgraph.graph.state.StateGraph at 0x28b893c8310>"
            ]
          },
          "execution_count": 104,
          "metadata": {},
          "output_type": "execute_result"
        }
      ],
      "source": [
        "workflow.add_edge(\"RAG\",END)\n",
        "workflow.add_edge(\"LLM\",END)"
      ]
    },
    {
      "cell_type": "code",
      "execution_count": 105,
      "id": "c0c6a338",
      "metadata": {},
      "outputs": [],
      "source": [
        "app=workflow.compile()"
      ]
    },
    {
      "cell_type": "code",
      "execution_count": 106,
      "id": "0d49bf14",
      "metadata": {},
      "outputs": [],
      "source": [
        "state={\"messages\":[\"hi\"]}"
      ]
    },
    {
      "cell_type": "code",
      "execution_count": 107,
      "id": "db6aaee4",
      "metadata": {},
      "outputs": [
        {
          "name": "stdout",
          "output_type": "stream",
          "text": [
            "Question hi\n",
            "Parsed response: Topic='Not Related' Reasoning=\"The query 'hi' is a greeting and does not relate to the USA.\"\n",
            "-> ROUTER ->\n",
            "last_message: Not Related\n",
            "-> LLM Call ->\n"
          ]
        },
        {
          "data": {
            "text/plain": [
              "{'messages': ['hi', 'Not Related', 'Hi there!']}"
            ]
          },
          "execution_count": 107,
          "metadata": {},
          "output_type": "execute_result"
        }
      ],
      "source": [
        "app.invoke(state)"
      ]
    },
    {
      "cell_type": "code",
      "execution_count": 108,
      "id": "9b69cbab",
      "metadata": {},
      "outputs": [],
      "source": [
        "state={\"messages\":[\"what is a gdp of usa?\"]}"
      ]
    },
    {
      "cell_type": "code",
      "execution_count": 110,
      "id": "8081aa4e",
      "metadata": {},
      "outputs": [
        {
          "name": "stdout",
          "output_type": "stream",
          "text": [
            "Question what is a gdp of usa?\n",
            "Parsed response: Topic='USA' Reasoning='The query explicitly asks for the GDP of the USA.'\n",
            "-> ROUTER ->\n",
            "last_message: USA\n",
            "-> RAG Call ->\n"
          ]
        },
        {
          "data": {
            "text/plain": [
              "{'messages': ['what is a gdp of usa?',\n",
              "  'USA',\n",
              "  'The nominal GDP of the USA is approximately $28 trillion USD as of 2024.  This represents about 25% of the global economy.  It holds the #1 ranking worldwide by nominal GDP.']}"
            ]
          },
          "execution_count": 110,
          "metadata": {},
          "output_type": "execute_result"
        }
      ],
      "source": [
        "app.invoke(state)"
      ]
    },
    {
      "cell_type": "code",
      "execution_count": 111,
      "id": "e6a7c184",
      "metadata": {},
      "outputs": [],
      "source": [
        "state={\"messages\":[\"can you tell me the industrial growth of world's most powerful economy?\"]}"
      ]
    },
    {
      "cell_type": "code",
      "execution_count": 112,
      "id": "52467649",
      "metadata": {},
      "outputs": [],
      "source": [
        "state={\"messages\":[\"can you tell me the industrial growth of world's poor economy?\"]}"
      ]
    },
    {
      "cell_type": "code",
      "execution_count": 113,
      "id": "9c979457",
      "metadata": {},
      "outputs": [
        {
          "name": "stdout",
          "output_type": "stream",
          "text": [
            "Question can you tell me the industrial growth of world's poor economy?\n",
            "Parsed response: Topic='Not Related' Reasoning=\"The query asks about the industrial growth of the world's poor economies, which is a global issue not specific to the USA.\"\n",
            "-> ROUTER ->\n",
            "last_message: Not Related\n",
            "-> LLM Call ->\n"
          ]
        }
      ],
      "source": [
        "result=app.invoke(state)"
      ]
    },
    {
      "cell_type": "code",
      "execution_count": 114,
      "id": "137599cf",
      "metadata": {},
      "outputs": [
        {
          "data": {
            "text/plain": [
              "'There\\'s no single, easily quantifiable answer to \"the industrial growth of the world\\'s poor economies.\"  The term \"poor economies\" itself is broad and encompasses a vast range of nations with vastly different levels of development, industrial bases, and growth trajectories.  Furthermore, data collection in many of these regions is unreliable or incomplete.\\n\\nHowever, we can make some general observations:\\n\\n* **Uneven Growth:** Industrial growth in poorer economies is highly uneven. Some countries have experienced significant industrialization, often driven by specific sectors like textiles, garments, or resource extraction.  Others remain largely agrarian, with minimal industrial development.  Success stories often involve strategic government policies, foreign investment, and access to global markets.\\n\\n* **Challenges to Industrialization:** Many poor economies face significant hurdles to industrial growth, including:\\n    * **Lack of Infrastructure:** Inadequate transportation, energy, and communication networks hinder industrial development.\\n    * **Limited Access to Capital:**  Securing funding for investment in factories, equipment, and technology is difficult.\\n    * **Skills Gaps:**  A lack of skilled labor limits the ability to adopt advanced technologies and improve productivity.\\n    * **Political Instability and Corruption:**  Uncertainty and corruption deter investment and hinder economic growth.\\n    * **Dependence on Commodity Exports:** Many poor economies rely heavily on exporting raw materials, making them vulnerable to price fluctuations and limiting value-added production.\\n    * **Climate Change:**  The impacts of climate change disproportionately affect poor economies, further hindering development.\\n\\n* **Shifting Global Landscape:** Globalization has both positive and negative impacts.  While it offers opportunities for participation in global value chains, it can also lead to exploitation and dependence on developed nations.\\n\\n* **Measuring Industrial Growth:**  Even with reliable data, measuring industrial growth is complex.  It involves considering various factors like manufacturing output, employment in the industrial sector, and technological advancements.  Different metrics will yield different results.\\n\\n\\nIn summary, while some poor economies have witnessed industrial growth, it\\'s far from uniform.  The overall picture is complex, characterized by significant disparities, ongoing challenges, and a highly variable future trajectory depending on numerous internal and external factors.  To get a more precise answer, one would need to specify particular countries or regions and define \"industrial growth\" more precisely (e.g., growth in manufacturing output, employment in the industrial sector, etc.).'"
            ]
          },
          "execution_count": 114,
          "metadata": {},
          "output_type": "execute_result"
        }
      ],
      "source": [
        "result[\"messages\"][-1]"
      ]
    },
    {
      "cell_type": "markdown",
      "id": "e7a2a55e",
      "metadata": {},
      "source": [
        "## ReAct Agent using Langgraph with Multiple tools"
      ]
    },
    {
      "cell_type": "code",
      "execution_count": 115,
      "id": "3a467430",
      "metadata": {},
      "outputs": [],
      "source": [
        "from dotenv import load_dotenv\n",
        "load_dotenv()\n",
        "import os\n",
        "os.environ['GROQ_API_KEY'] = os.getenv(\"GROQ_API_KEY\")"
      ]
    },
    {
      "cell_type": "code",
      "execution_count": 116,
      "id": "b8ca8d26",
      "metadata": {},
      "outputs": [],
      "source": [
        "model=\"deepseek-r1-distill-llama-70b\""
      ]
    },
    {
      "cell_type": "markdown",
      "id": "dc5f3469",
      "metadata": {},
      "source": [
        "> Advanced reasoning model with Chain of thought"
      ]
    },
    {
      "cell_type": "markdown",
      "id": "78e1328d",
      "metadata": {},
      "source": [
        "### Load the model"
      ]
    },
    {
      "cell_type": "code",
      "execution_count": 117,
      "id": "3d2368f9",
      "metadata": {},
      "outputs": [],
      "source": [
        "from langchain_groq import ChatGroq\n",
        "llm = ChatGroq(model_name=model)"
      ]
    },
    {
      "cell_type": "code",
      "execution_count": 118,
      "id": "4ccd842e",
      "metadata": {},
      "outputs": [
        {
          "data": {
            "text/plain": [
              "AIMessage(content='<think>\\n\\n</think>\\n\\nHello! How can I assist you today? 😊', additional_kwargs={}, response_metadata={'token_usage': {'completion_tokens': 16, 'prompt_tokens': 4, 'total_tokens': 20, 'completion_time': 0.086264148, 'prompt_time': 5.7009e-05, 'queue_time': 0.056542881, 'total_time': 0.086321157}, 'model_name': 'deepseek-r1-distill-llama-70b', 'system_fingerprint': 'fp_1bbe7845ec', 'finish_reason': 'stop', 'logprobs': None}, id='run--e31b652a-0743-41ee-8951-fd72c22767dd-0', usage_metadata={'input_tokens': 4, 'output_tokens': 16, 'total_tokens': 20})"
            ]
          },
          "execution_count": 118,
          "metadata": {},
          "output_type": "execute_result"
        }
      ],
      "source": [
        "llm.invoke(\"hi\")"
      ]
    },
    {
      "cell_type": "code",
      "execution_count": 119,
      "id": "4fbeff7d",
      "metadata": {},
      "outputs": [
        {
          "name": "stdout",
          "output_type": "stream",
          "text": [
            "<think>\n",
            "\n",
            "</think>\n",
            "\n",
            "Hello! How can I assist you today? 😊\n"
          ]
        }
      ],
      "source": [
        "print(llm.invoke(\"hi\").content)"
      ]
    },
    {
      "cell_type": "code",
      "execution_count": 120,
      "id": "4e24f2bf",
      "metadata": {},
      "outputs": [],
      "source": [
        "# import operator\n",
        "# from typing import List\n",
        "# from langgraph.graph.message import add_messages\n",
        "# from pydantic import BaseModel , Field\n",
        "# from typing import TypedDict, Annotated, Sequence\n",
        "# from langchain_core.messages import BaseMessage\n",
        "# from langchain_core.output_parsers import StrOutputParser\n",
        "# from langchain_core.prompts import ChatPromptTemplate, PromptTemplate\n",
        "\n",
        "from langchain_core.tools import tool\n",
        "from langchain_core.messages import HumanMessage, AIMessage\n",
        "from langgraph.graph import StateGraph,MessagesState,START,END\n",
        "from langgraph.prebuilt import ToolNode"
      ]
    },
    {
      "cell_type": "code",
      "execution_count": 121,
      "id": "059952f9",
      "metadata": {},
      "outputs": [],
      "source": [
        "def call_model(state: MessagesState):\n",
        "    messages = state['messages']\n",
        "    response = llm.invoke(messages)\n",
        "    return {\"messages\": [response]}"
      ]
    },
    {
      "cell_type": "code",
      "execution_count": 122,
      "id": "9fd1a7b5",
      "metadata": {},
      "outputs": [
        {
          "data": {
            "text/plain": [
              "{'messages': [AIMessage(content=\"<think>\\n\\n</think>\\n\\nHello! I'm just a virtual assistant, so I don't have feelings, but I'm here and ready to help you with whatever you need. How are you doing? 😊\", additional_kwargs={}, response_metadata={'token_usage': {'completion_tokens': 42, 'prompt_tokens': 9, 'total_tokens': 51, 'completion_time': 0.211081382, 'prompt_time': 0.000201307, 'queue_time': 0.057544522, 'total_time': 0.211282689}, 'model_name': 'deepseek-r1-distill-llama-70b', 'system_fingerprint': 'fp_1bbe7845ec', 'finish_reason': 'stop', 'logprobs': None}, id='run--09f4317a-1a80-4bd6-9c90-0837a5914057-0', usage_metadata={'input_tokens': 9, 'output_tokens': 42, 'total_tokens': 51})]}"
            ]
          },
          "execution_count": 122,
          "metadata": {},
          "output_type": "execute_result"
        }
      ],
      "source": [
        "state={\"messages\":[\"hi hello how are you?\"]}\n",
        "call_model(state)"
      ]
    },
    {
      "cell_type": "code",
      "execution_count": null,
      "id": "a354d3a0",
      "metadata": {},
      "outputs": [],
      "source": [
        "# from langchain_core.messages import AnyMessage\n",
        "# # class MessagesState(TypedDict):\n",
        "# #     messages: Annotated[list[AnyMessage], add_messages]\n",
        "\n",
        "\n",
        "# class AgentState(TypedDict):\n",
        "#     messages: Annotated[Sequence[BaseMessage], operator.add]"
      ]
    },
    {
      "cell_type": "markdown",
      "id": "3727b873",
      "metadata": {},
      "source": [
        "### Design a simple workflow without tool calling/"
      ]
    },
    {
      "cell_type": "code",
      "execution_count": 123,
      "id": "965efac3",
      "metadata": {},
      "outputs": [],
      "source": [
        "workflow=StateGraph(MessagesState)"
      ]
    },
    {
      "cell_type": "code",
      "execution_count": 124,
      "id": "44399e00",
      "metadata": {},
      "outputs": [
        {
          "data": {
            "text/plain": [
              "<langgraph.graph.state.StateGraph at 0x28b89483990>"
            ]
          },
          "execution_count": 124,
          "metadata": {},
          "output_type": "execute_result"
        }
      ],
      "source": [
        "workflow.add_node(\"mybot\",call_model)"
      ]
    },
    {
      "cell_type": "code",
      "execution_count": 125,
      "id": "6d5afc3e",
      "metadata": {},
      "outputs": [
        {
          "data": {
            "text/plain": [
              "<langgraph.graph.state.StateGraph at 0x28b89483990>"
            ]
          },
          "execution_count": 125,
          "metadata": {},
          "output_type": "execute_result"
        }
      ],
      "source": [
        "workflow.add_edge(START,\"mybot\")"
      ]
    },
    {
      "cell_type": "code",
      "execution_count": 126,
      "id": "9b8a8460",
      "metadata": {},
      "outputs": [
        {
          "data": {
            "text/plain": [
              "<langgraph.graph.state.StateGraph at 0x28b89483990>"
            ]
          },
          "execution_count": 126,
          "metadata": {},
          "output_type": "execute_result"
        }
      ],
      "source": [
        "workflow.add_edge(\"mybot\",END)"
      ]
    },
    {
      "cell_type": "code",
      "execution_count": 127,
      "id": "279168c9",
      "metadata": {},
      "outputs": [],
      "source": [
        "app=workflow.compile()"
      ]
    },
    {
      "cell_type": "code",
      "execution_count": 128,
      "id": "e10acd1f",
      "metadata": {},
      "outputs": [
        {
          "data": {
            "image/png": "[encoded data removed]",
            "text/plain": [
              "<IPython.core.display.Image object>"
            ]
          },
          "metadata": {},
          "output_type": "display_data"
        }
      ],
      "source": [
        "from IPython.display import Image, display\n",
        "display(Image(app.get_graph().draw_mermaid_png()))"
      ]
    },
    {
      "cell_type": "code",
      "execution_count": 129,
      "id": "3d8654d9",
      "metadata": {},
      "outputs": [],
      "source": [
        "input={\"messages\":[\"hi hello how are you?\"]}"
      ]
    },
    {
      "cell_type": "code",
      "execution_count": 130,
      "id": "d8be0db0",
      "metadata": {},
      "outputs": [
        {
          "data": {
            "text/plain": [
              "{'messages': [HumanMessage(content='hi hello how are you?', additional_kwargs={}, response_metadata={}, id='dea5852d-13de-43e7-8b3c-076c9f081757'),\n",
              "  AIMessage(content=\"<think>\\n\\n</think>\\n\\nHello! I'm just a virtual assistant, so I don't have feelings, but I'm here and ready to help you with whatever you need. How are you doing? 😊\", additional_kwargs={}, response_metadata={'token_usage': {'completion_tokens': 42, 'prompt_tokens': 9, 'total_tokens': 51, 'completion_time': 0.224766455, 'prompt_time': 0.000198757, 'queue_time': 0.057345373, 'total_time': 0.224965212}, 'model_name': 'deepseek-r1-distill-llama-70b', 'system_fingerprint': 'fp_1bbe7845ec', 'finish_reason': 'stop', 'logprobs': None}, id='run--135d36e9-297d-423f-b82d-c72c518941e6-0', usage_metadata={'input_tokens': 9, 'output_tokens': 42, 'total_tokens': 51})]}"
            ]
          },
          "execution_count": 130,
          "metadata": {},
          "output_type": "execute_result"
        }
      ],
      "source": [
        "app.invoke(input)"
      ]
    },
    {
      "cell_type": "code",
      "execution_count": 131,
      "id": "cbc547a6",
      "metadata": {},
      "outputs": [
        {
          "name": "stdout",
          "output_type": "stream",
          "text": [
            "Output from mybot Node\n",
            "_______\n",
            "{'messages': [AIMessage(content=\"<think>\\n\\n</think>\\n\\nHello! I'm just a virtual assistant, so I don't have feelings, but I'm here and ready to help you with whatever you need. How are you doing? 😊\", additional_kwargs={}, response_metadata={'token_usage': {'completion_tokens': 42, 'prompt_tokens': 9, 'total_tokens': 51, 'completion_time': 0.203039575, 'prompt_time': 0.000454873, 'queue_time': 0.057552045999999996, 'total_time': 0.203494448}, 'model_name': 'deepseek-r1-distill-llama-70b', 'system_fingerprint': 'fp_1bbe7845ec', 'finish_reason': 'stop', 'logprobs': None}, id='run--b471116e-c875-4848-9893-733c01c10fd5-0', usage_metadata={'input_tokens': 9, 'output_tokens': 42, 'total_tokens': 51})]}\n",
            "\n",
            "\n"
          ]
        }
      ],
      "source": [
        "for output in app.stream(input):\n",
        "    for key,value in output.items():\n",
        "        print(f\"Output from {key} Node\")\n",
        "        print(\"_______\")\n",
        "        print(value)\n",
        "        print(\"\\n\")"
      ]
    },
    {
      "cell_type": "markdown",
      "id": "a50558e3",
      "metadata": {},
      "source": [
        "### this is a workflow with tool calling"
      ]
    },
    {
      "cell_type": "code",
      "execution_count": 166,
      "id": "7d7a690c",
      "metadata": {},
      "outputs": [],
      "source": [
        "@tool\n",
        "def search(query:str):\n",
        "    \"\"\"this is my custom tool for searching a weather\"\"\"\n",
        "    if \"delhi\" in query.lower():\n",
        "        return \"the temp is 45 degree and sunny\"\n",
        "    return \"the temp is 25 degree and cloudy\""
      ]
    },
    {
      "cell_type": "markdown",
      "id": "c3fffdb9",
      "metadata": {},
      "source": [
        "### testing a tool"
      ]
    },
    {
      "cell_type": "code",
      "execution_count": 167,
      "id": "9ace4dfa",
      "metadata": {},
      "outputs": [
        {
          "data": {
            "text/plain": [
              "'the temp is 25 degree and cloudy'"
            ]
          },
          "execution_count": 167,
          "metadata": {},
          "output_type": "execute_result"
        }
      ],
      "source": [
        "search.invoke(\"what is a tempurature in kashmir?\")"
      ]
    },
    {
      "cell_type": "code",
      "execution_count": 168,
      "id": "c66650f2",
      "metadata": {},
      "outputs": [
        {
          "data": {
            "text/plain": [
              "False"
            ]
          },
          "execution_count": 168,
          "metadata": {},
          "output_type": "execute_result"
        }
      ],
      "source": [
        "\"delhi\" in \"What is a temperature in Kashmir?\""
      ]
    },
    {
      "cell_type": "code",
      "execution_count": 169,
      "id": "b8eefa44",
      "metadata": {},
      "outputs": [
        {
          "data": {
            "text/plain": [
              "StructuredTool(name='search', description='this is my custom tool for searching a weather', args_schema=<class 'langchain_core.utils.pydantic.search'>, func=<function search at 0x0000028B8958AFC0>)"
            ]
          },
          "execution_count": 169,
          "metadata": {},
          "output_type": "execute_result"
        }
      ],
      "source": [
        "search"
      ]
    },
    {
      "cell_type": "code",
      "execution_count": 170,
      "id": "011d100f",
      "metadata": {},
      "outputs": [
        {
          "data": {
            "text/plain": [
              "AIMessage(content=\"<think>\\nOkay, so I need to figure out what the weather in Delhi is like. I'm not exactly sure where to start, but I'll try to break it down step by step. First, I know Delhi is a city in India, so maybe the climate there is similar to other parts of India, but I'm not certain. I think India has a monsoon season, so maybe Delhi experiences that too.\\n\\nI remember hearing that Delhi has really hot summers. I think the summer months might be from April to June, but I'm not sure about the exact temperatures. It must get pretty hot, maybe even over 40 degrees Celsius sometimes. Then, I think there's a monsoon season, which brings a lot of rain. That probably happens around July to September. I wonder how much rainfall they get during that time.\\n\\nAfter the monsoon, the weather might cool down a bit. So, maybe October to November is autumn or fall, where it's more pleasant, not too hot and not too cold. Then comes winter, from December to February. I've heard that Delhi can get quite chilly in the winter, especially in January. I think temperatures can drop below 10 degrees Celsius, maybe even lower. There's also fog during the winters, which might cause some issues with transportation.\\n\\nI'm not sure about the spring season. Maybe it's a short period, perhaps in March, where the weather starts to warm up again after winter. The temperatures might be mild, making it a nice time to be outside.\\n\\nI also remember hearing about air pollution in Delhi, especially during the winter months. The AQI (Air Quality Index) can be very poor, which is a health concern. I'm not entirely sure what causes the pollution, but I think it's a mix of vehicle emissions, industrial activity, and maybe even crop burning in nearby areas.\\n\\nI should consider checking a reliable source to confirm the exact seasons and temperature ranges. Maybe looking up the average temperatures for each month would give a clearer picture. Also, understanding the factors that influence Delhi's climate, like its inland location and the surrounding geography, could help explain why the seasons are so distinct.\\n\\nI'm a bit confused about the monsoon season's impact. Does it bring consistent rain throughout the season, or are there periods of heavy rain followed by dry spells? Also, how does the monsoon affect daily life in Delhi? I imagine the rains could cause flooding or traffic issues, but I'm not certain.\\n\\nAnother thing I'm curious about is the variation in temperature throughout the day during different seasons. For example, in summer, how much does the temperature drop at night? And in winter, how cold does it get in the mornings versus the afternoons?\\n\\nI think it would be helpful to look at annual climate data for Delhi, including average rainfall, temperature highs and lows, and any extreme weather events. This would provide a more comprehensive understanding of the city's weather patterns.\\n\\nI should also consider the impact of climate change on Delhi's weather. Are the summers getting hotter? Is the monsoon season becoming more unpredictable? Understanding these aspects could offer insights into how the weather might change in the future.\\n\\nOverall, I need to gather information on the seasonal breakdown, temperature ranges, rainfall distribution, and any notable weather-related issues like pollution or fog. This will help me describe the weather in Delhi accurately.\\n</think>\\n\\nDelhi, the capital of India, experiences a diverse climate with distinct seasons, influenced by its inland location and regional geography. Here's a detailed overview of Delhi's weather:\\n\\n1. **Seasonal Breakdown**:\\n   - **Summer (April to June)**: Characterized by high temperatures, often exceeding 40°C, with May being the hottest month.\\n   - **Monsoon (July to September)**: Brings significant rainfall, with July and August being the wettest months. The rains can be intense, sometimes leading to flooding and traffic disruptions.\\n   - **Autumn (October to November)**: A transitional period with pleasant weather, mild temperatures, and lower humidity.\\n   - **Winter (December to February)**: Cool to chilly, with temperatures sometimes dropping below 10°C. January is the coldest month, with dense fog affecting visibility and transportation.\\n\\n2. **Spring (March)**: A brief period of mild temperatures before the onset of summer, making it a pleasant time for outdoor activities.\\n\\n3. **Climate Factors**:\\n   - Delhi's climate is influenced by its inland position, leading to extreme temperature variations between summer and winter.\\n   - The monsoon season is crucial for agriculture but can cause urban flooding due to heavy rainfall.\\n\\n4. **Air Quality**:\\n   - Notable for poor air quality, especially in winter, due to factors like vehicle emissions, industrial activity, and crop burning in nearby regions. The Air Quality Index often reaches hazardous levels.\\n\\n5. **Daily Temperature Variation**:\\n   - Summers see significant diurnal variation, with nights being much cooler than days.\\n   - Winters have colder mornings and relatively warmer afternoons.\\n\\n6. **Impact of Climate Change**:\\n   - Observations suggest rising summer temperatures and more unpredictable monsoon patterns, indicating potential future climate shifts.\\n\\nIn summary, Delhi's weather is marked by hot summers, a rainy monsoon, a mild autumn, and a cool winter, with significant air quality issues in winter. Understanding these patterns provides insight into the city's climate and its future trends.\", additional_kwargs={}, response_metadata={'token_usage': {'completion_tokens': 1104, 'prompt_tokens': 11, 'total_tokens': 1115, 'completion_time': 4.884057374, 'prompt_time': 0.000312686, 'queue_time': 0.054146914, 'total_time': 4.88437006}, 'model_name': 'deepseek-r1-distill-llama-70b', 'system_fingerprint': 'fp_1bbe7845ec', 'finish_reason': 'stop', 'logprobs': None}, id='run--c404ff25-50d5-4734-930b-cd241cae80b3-0', usage_metadata={'input_tokens': 11, 'output_tokens': 1104, 'total_tokens': 1115})"
            ]
          },
          "execution_count": 170,
          "metadata": {},
          "output_type": "execute_result"
        }
      ],
      "source": [
        "llm.invoke(\"what is a weather in delhi?\")"
      ]
    },
    {
      "cell_type": "markdown",
      "id": "ac1d8d91",
      "metadata": {},
      "source": [
        "### Binding a tool to the LLM\n",
        "\n",
        "### Special Note: use some good for agentic workflow since opensource model might not give you the correct output"
      ]
    },
    {
      "cell_type": "code",
      "execution_count": 171,
      "id": "530b8a51",
      "metadata": {},
      "outputs": [],
      "source": [
        "tools=[search]"
      ]
    },
    {
      "cell_type": "code",
      "execution_count": 172,
      "id": "b6f80339",
      "metadata": {},
      "outputs": [],
      "source": [
        "llm_with_tool=llm.bind_tools(tools)"
      ]
    },
    {
      "cell_type": "markdown",
      "id": "03c0014d",
      "metadata": {},
      "source": [
        "### testig my llm_with_tool"
      ]
    },
    {
      "cell_type": "code",
      "execution_count": 173,
      "id": "1f13fe6c",
      "metadata": {},
      "outputs": [],
      "source": [
        "response=llm_with_tool.invoke(\"what is a weather is delhi?\")"
      ]
    },
    {
      "cell_type": "code",
      "execution_count": 174,
      "id": "d54a1e7a",
      "metadata": {},
      "outputs": [
        {
          "data": {
            "text/plain": [
              "AIMessage(content='', additional_kwargs={'tool_calls': [{'id': '8hhhffgyt', 'function': {'arguments': '{\"query\":\"weather in Delhi\"}', 'name': 'search'}, 'type': 'function'}]}, response_metadata={'token_usage': {'completion_tokens': 91, 'prompt_tokens': 133, 'total_tokens': 224, 'completion_time': 0.429744112, 'prompt_time': 0.008945821, 'queue_time': 0.052231799, 'total_time': 0.438689933}, 'model_name': 'deepseek-r1-distill-llama-70b', 'system_fingerprint': 'fp_1bbe7845ec', 'finish_reason': 'tool_calls', 'logprobs': None}, id='run--bdf2d013-75b2-47a5-937b-37040fa2fb98-0', tool_calls=[{'name': 'search', 'args': {'query': 'weather in Delhi'}, 'id': '8hhhffgyt', 'type': 'tool_call'}], usage_metadata={'input_tokens': 133, 'output_tokens': 91, 'total_tokens': 224})"
            ]
          },
          "execution_count": 174,
          "metadata": {},
          "output_type": "execute_result"
        }
      ],
      "source": [
        "response"
      ]
    },
    {
      "cell_type": "code",
      "execution_count": 175,
      "id": "137a0b46",
      "metadata": {},
      "outputs": [
        {
          "data": {
            "text/plain": [
              "''"
            ]
          },
          "execution_count": 175,
          "metadata": {},
          "output_type": "execute_result"
        }
      ],
      "source": [
        "response.content"
      ]
    },
    {
      "cell_type": "code",
      "execution_count": 176,
      "id": "f7bf5415",
      "metadata": {},
      "outputs": [
        {
          "data": {
            "text/plain": [
              "[{'name': 'search',\n",
              "  'args': {'query': 'weather in Delhi'},\n",
              "  'id': '8hhhffgyt',\n",
              "  'type': 'tool_call'}]"
            ]
          },
          "execution_count": 176,
          "metadata": {},
          "output_type": "execute_result"
        }
      ],
      "source": [
        "response.tool_calls"
      ]
    },
    {
      "cell_type": "code",
      "execution_count": 177,
      "id": "26757959",
      "metadata": {},
      "outputs": [],
      "source": [
        "def call_model(state:MessagesState):\n",
        "    question=state[\"messages\"]\n",
        "    response=llm_with_tool.invoke(question)\n",
        "    return {\"messages\":[response]}"
      ]
    },
    {
      "cell_type": "markdown",
      "id": "6fcf8d65",
      "metadata": {},
      "source": [
        "### Testing code"
      ]
    },
    {
      "cell_type": "code",
      "execution_count": 178,
      "id": "3a8b51ed",
      "metadata": {},
      "outputs": [],
      "source": [
        "input={\"messages\":[\"what is a weather in delhi?\"]}"
      ]
    },
    {
      "cell_type": "code",
      "execution_count": 179,
      "id": "11f4ac99",
      "metadata": {},
      "outputs": [],
      "source": [
        "response=call_model(input)"
      ]
    },
    {
      "cell_type": "code",
      "execution_count": 180,
      "id": "9516c0a9",
      "metadata": {},
      "outputs": [
        {
          "data": {
            "text/plain": [
              "''"
            ]
          },
          "execution_count": 180,
          "metadata": {},
          "output_type": "execute_result"
        }
      ],
      "source": [
        "response[\"messages\"][-1].content"
      ]
    },
    {
      "cell_type": "code",
      "execution_count": 181,
      "id": "065b2105",
      "metadata": {},
      "outputs": [
        {
          "data": {
            "text/plain": [
              "[{'name': 'search',\n",
              "  'args': {'query': 'weather in Delhi'},\n",
              "  'id': 'r1g8s26bk',\n",
              "  'type': 'tool_call'}]"
            ]
          },
          "execution_count": 181,
          "metadata": {},
          "output_type": "execute_result"
        }
      ],
      "source": [
        "response[\"messages\"][-1].tool_calls"
      ]
    },
    {
      "cell_type": "markdown",
      "id": "d916dfd1",
      "metadata": {},
      "source": [
        "### here my router function\n",
        "\n",
        "#### now whatever will come from call_model router funtion will redirect this to the appropriate tool"
      ]
    },
    {
      "cell_type": "code",
      "execution_count": 182,
      "id": "3ffa9bdb",
      "metadata": {},
      "outputs": [],
      "source": [
        "# def router_function(state:MessagesState):\n",
        "#     message=state[\"messages\"]\n",
        "#     last_message=message[-1]\n",
        "#     if last_message.tool_calls:\n",
        "#         return \"tools\"\n",
        "#     return END\n",
        "\n",
        "def router_function(state: MessagesState):\n",
        "    last_message = state[\"messages\"][-1]\n",
        "    \n",
        "    # If the message contains a tool call → go to tools\n",
        "    if last_message.tool_calls:\n",
        "        return \"tools\"\n",
        "    \n",
        "    # If it has final content → end\n",
        "    if last_message.content and not last_message.tool_calls:\n",
        "        return END\n",
        "\n",
        "    # Fallback\n",
        "    return END\n"
      ]
    },
    {
      "cell_type": "code",
      "execution_count": 183,
      "id": "9d342bbb",
      "metadata": {},
      "outputs": [
        {
          "data": {
            "text/plain": [
              "[StructuredTool(name='search', description='this is my custom tool for searching a weather', args_schema=<class 'langchain_core.utils.pydantic.search'>, func=<function search at 0x0000028B8958AFC0>)]"
            ]
          },
          "execution_count": 183,
          "metadata": {},
          "output_type": "execute_result"
        }
      ],
      "source": [
        "tools"
      ]
    },
    {
      "cell_type": "code",
      "execution_count": 184,
      "id": "1c8f7c43",
      "metadata": {},
      "outputs": [],
      "source": [
        "\n",
        "tool_node=ToolNode(tools)"
      ]
    },
    {
      "cell_type": "code",
      "execution_count": 185,
      "id": "95cb5c38",
      "metadata": {},
      "outputs": [
        {
          "data": {
            "text/plain": [
              "tools(tags=None, recurse=True, explode_args=False, func_accepts_config=True, func_accepts={'store': ('__pregel_store', None)}, tools_by_name={'search': StructuredTool(name='search', description='this is my custom tool for searching a weather', args_schema=<class 'langchain_core.utils.pydantic.search'>, func=<function search at 0x0000028B8958AFC0>)}, tool_to_state_args={'search': {}}, tool_to_store_arg={'search': None}, handle_tool_errors=True, messages_key='messages')"
            ]
          },
          "execution_count": 185,
          "metadata": {},
          "output_type": "execute_result"
        }
      ],
      "source": [
        "tool_node"
      ]
    },
    {
      "cell_type": "code",
      "execution_count": 186,
      "id": "01183dff",
      "metadata": {},
      "outputs": [],
      "source": [
        "workflow2=StateGraph(MessagesState)"
      ]
    },
    {
      "cell_type": "code",
      "execution_count": 187,
      "id": "5adc902d",
      "metadata": {},
      "outputs": [
        {
          "data": {
            "text/plain": [
              "<langgraph.graph.state.StateGraph at 0x28b890bd050>"
            ]
          },
          "execution_count": 187,
          "metadata": {},
          "output_type": "execute_result"
        }
      ],
      "source": [
        "workflow2.add_node(\"llmwithtool\",call_model)\n",
        "\n",
        "workflow2.add_node(\"mytools\",tool_node)\n",
        "\n",
        "workflow2.add_edge(START,\"llmwithtool\")\n",
        "\n",
        "workflow2.add_conditional_edges(\"llmwithtool\",\n",
        "                                router_function,\n",
        "                                {\"tools\":\"mytools\",\n",
        "                                 END:END})"
      ]
    },
    {
      "cell_type": "code",
      "execution_count": 188,
      "id": "5119a429",
      "metadata": {},
      "outputs": [],
      "source": [
        "app2=workflow2.compile()"
      ]
    },
    {
      "cell_type": "code",
      "execution_count": 189,
      "id": "c560449f",
      "metadata": {},
      "outputs": [
        {
          "data": {
            "image/png": "[encoded data removed]",
            "text/plain": [
              "<IPython.core.display.Image object>"
            ]
          },
          "metadata": {},
          "output_type": "display_data"
        }
      ],
      "source": [
        "from IPython.display import Image, display\n",
        "display(Image(app2.get_graph().draw_mermaid_png()))"
      ]
    },
    {
      "cell_type": "code",
      "execution_count": 190,
      "id": "e484cabd",
      "metadata": {},
      "outputs": [],
      "source": [
        "response=app2.invoke({\"messages\":[\"what is a weather in bengraluru?\"]})"
      ]
    },
    {
      "cell_type": "code",
      "execution_count": 191,
      "id": "9adbd3a3",
      "metadata": {},
      "outputs": [
        {
          "data": {
            "text/plain": [
              "'the temp is 25 degree and cloudy'"
            ]
          },
          "execution_count": 191,
          "metadata": {},
          "output_type": "execute_result"
        }
      ],
      "source": [
        "response[\"messages\"][-1].content"
      ]
    },
    {
      "cell_type": "code",
      "execution_count": 192,
      "id": "94dd9f09",
      "metadata": {},
      "outputs": [
        {
          "data": {
            "text/plain": [
              "{'messages': [HumanMessage(content='what is a weather in delhi?', additional_kwargs={}, response_metadata={}, id='2b016b2b-db4d-4c04-aace-905141f254b8'),\n",
              "  AIMessage(content='', additional_kwargs={'tool_calls': [{'id': 'xzvsaxm1c', 'function': {'arguments': '{\"query\":\"weather in Delhi\"}', 'name': 'search'}, 'type': 'function'}]}, response_metadata={'token_usage': {'completion_tokens': 162, 'prompt_tokens': 133, 'total_tokens': 295, 'completion_time': 0.707019253, 'prompt_time': 0.014652949, 'queue_time': 0.054244861000000005, 'total_time': 0.721672202}, 'model_name': 'deepseek-r1-distill-llama-70b', 'system_fingerprint': 'fp_1bbe7845ec', 'finish_reason': 'tool_calls', 'logprobs': None}, id='run--d865ff2b-7bb1-4830-a829-22cbdc5a9299-0', tool_calls=[{'name': 'search', 'args': {'query': 'weather in Delhi'}, 'id': 'xzvsaxm1c', 'type': 'tool_call'}], usage_metadata={'input_tokens': 133, 'output_tokens': 162, 'total_tokens': 295}),\n",
              "  ToolMessage(content='the temp is 45 degree and sunny', name='search', id='052eaafa-6280-4d02-b4e0-c3639104b989', tool_call_id='xzvsaxm1c')]}"
            ]
          },
          "execution_count": 192,
          "metadata": {},
          "output_type": "execute_result"
        }
      ],
      "source": [
        "app2.invoke({\"messages\":[\"what is a weather in delhi?\"]})"
      ]
    },
    {
      "cell_type": "markdown",
      "id": "11b37e9f",
      "metadata": {},
      "source": [
        "### use good resoning based model"
      ]
    },
    {
      "cell_type": "code",
      "execution_count": 193,
      "id": "50333057",
      "metadata": {},
      "outputs": [
        {
          "data": {
            "text/plain": [
              "{'messages': [HumanMessage(content='hi how are you?', additional_kwargs={}, response_metadata={}, id='c783bbf9-1564-4b8e-aed0-5094d79728fd'),\n",
              "  AIMessage(content='', additional_kwargs={'tool_calls': [{'id': '2epgj3mpt', 'function': {'arguments': '{\"query\":\"weather in Tokyo\"}', 'name': 'search'}, 'type': 'function'}]}, response_metadata={'token_usage': {'completion_tokens': 218, 'prompt_tokens': 130, 'total_tokens': 348, 'completion_time': 0.999828091, 'prompt_time': 0.014856975, 'queue_time': 0.05226332499999999, 'total_time': 1.014685066}, 'model_name': 'deepseek-r1-distill-llama-70b', 'system_fingerprint': 'fp_1bbe7845ec', 'finish_reason': 'tool_calls', 'logprobs': None}, id='run--a68e28dd-278c-4c70-9d46-89844e2e7f2f-0', tool_calls=[{'name': 'search', 'args': {'query': 'weather in Tokyo'}, 'id': '2epgj3mpt', 'type': 'tool_call'}], usage_metadata={'input_tokens': 130, 'output_tokens': 218, 'total_tokens': 348}),\n",
              "  ToolMessage(content='the temp is 25 degree and cloudy', name='search', id='7787e45a-c094-4703-b4c2-f3e86d61dd82', tool_call_id='2epgj3mpt')]}"
            ]
          },
          "execution_count": 193,
          "metadata": {},
          "output_type": "execute_result"
        }
      ],
      "source": [
        "app2.invoke({\"messages\":[\"hi how are you?\"]})"
      ]
    },
    {
      "cell_type": "code",
      "execution_count": 194,
      "id": "35538245",
      "metadata": {},
      "outputs": [
        {
          "name": "stderr",
          "output_type": "stream",
          "text": [
            "Adding an edge to a graph that has already been compiled. This will not be reflected in the compiled graph.\n"
          ]
        },
        {
          "data": {
            "text/plain": [
              "<langgraph.graph.state.StateGraph at 0x28b890bd050>"
            ]
          },
          "execution_count": 194,
          "metadata": {},
          "output_type": "execute_result"
        }
      ],
      "source": [
        "workflow2.add_edge(\"mytools\",\"llmwithtool\")"
      ]
    },
    {
      "cell_type": "code",
      "execution_count": 195,
      "id": "15c96c3e",
      "metadata": {},
      "outputs": [],
      "source": [
        "app3=workflow2.compile()"
      ]
    },
    {
      "cell_type": "code",
      "execution_count": 196,
      "id": "07768724",
      "metadata": {},
      "outputs": [
        {
          "data": {
            "image/png": "[encoded data removed]",
            "text/plain": [
              "<IPython.core.display.Image object>"
            ]
          },
          "metadata": {},
          "output_type": "display_data"
        }
      ],
      "source": [
        "from IPython.display import Image, display\n",
        "display(Image(app3.get_graph().draw_mermaid_png()))"
      ]
    },
    {
      "cell_type": "code",
      "execution_count": 197,
      "id": "dc945533",
      "metadata": {},
      "outputs": [
        {
          "name": "stdout",
          "output_type": "stream",
          "text": [
            "here is output from llmwithtool\n",
            "_______\n",
            "{'messages': [AIMessage(content='', additional_kwargs={'tool_calls': [{'id': 'yj1by5z3n', 'function': {'arguments': '{\"query\":\"weather in New Delhi\"}', 'name': 'search'}, 'type': 'function'}]}, response_metadata={'token_usage': {'completion_tokens': 173, 'prompt_tokens': 134, 'total_tokens': 307, 'completion_time': 0.785341994, 'prompt_time': 0.015464317, 'queue_time': 0.057919593, 'total_time': 0.800806311}, 'model_name': 'deepseek-r1-distill-llama-70b', 'system_fingerprint': 'fp_1bbe7845ec', 'finish_reason': 'tool_calls', 'logprobs': None}, id='run--0d2d071a-213f-48a8-bae3-145aaefa01cd-0', tool_calls=[{'name': 'search', 'args': {'query': 'weather in New Delhi'}, 'id': 'yj1by5z3n', 'type': 'tool_call'}], usage_metadata={'input_tokens': 134, 'output_tokens': 173, 'total_tokens': 307})]}\n",
            "\n",
            "\n",
            "here is output from mytools\n",
            "_______\n",
            "{'messages': [ToolMessage(content='the temp is 45 degree and sunny', name='search', id='bc46c4d3-8a0e-4323-b88e-cfb1222c1286', tool_call_id='yj1by5z3n')]}\n",
            "\n",
            "\n",
            "here is output from llmwithtool\n",
            "_______\n",
            "{'messages': [AIMessage(content='The weather in New Delhi is currently **45 degrees** and sunny.', additional_kwargs={}, response_metadata={'token_usage': {'completion_tokens': 189, 'prompt_tokens': 195, 'total_tokens': 384, 'completion_time': 0.877894489, 'prompt_time': 0.016306675, 'queue_time': 0.05488951500000001, 'total_time': 0.894201164}, 'model_name': 'deepseek-r1-distill-llama-70b', 'system_fingerprint': 'fp_1bbe7845ec', 'finish_reason': 'stop', 'logprobs': None}, id='run--035c647c-cfa3-4393-9e07-d61515e0b965-0', usage_metadata={'input_tokens': 195, 'output_tokens': 189, 'total_tokens': 384})]}\n",
            "\n",
            "\n"
          ]
        }
      ],
      "source": [
        "for output in app3.stream({\"messages\":[\"what is a weather in new delhi?\"]}):\n",
        "    for key,value in output.items():\n",
        "        print(f\"here is output from {key}\")\n",
        "        print(\"_______\")\n",
        "        print(value)\n",
        "        print(\"\\n\")\n",
        "    "
      ]
    },
    {
      "cell_type": "markdown",
      "id": "98e728fb",
      "metadata": {
        "id": "98e728fb"
      },
      "source": [
        "# Last"
      ]
    },
    {
      "cell_type": "code",
      "execution_count": null,
      "id": "27668149",
      "metadata": {
        "id": "27668149"
      },
      "outputs": [],
      "source": []
    }
  ],
  "metadata": {
    "colab": {
      "provenance": [],
      "toc_visible": true
    },
    "kernelspec": {
      "display_name": "agentic_base",
      "language": "python",
      "name": "python3"
    },
    "language_info": {
      "codemirror_mode": {
        "name": "ipython",
        "version": 3
      },
      "file_extension": ".py",
      "mimetype": "text/x-python",
      "name": "python",
      "nbconvert_exporter": "python",
      "pygments_lexer": "ipython3",
      "version": "3.11.13"
    }
  },
  "nbformat": 4,
  "nbformat_minor": 5
}
