{
 "cells": [
  {
   "cell_type": "markdown",
   "id": "7e93ba2a",
   "metadata": {},
   "source": [
    "# Pydantic"
   ]
  },
  {
   "cell_type": "markdown",
   "id": "e9ea31f5",
   "metadata": {},
   "source": [
    "## data classes"
   ]
  },
  {
   "cell_type": "code",
   "execution_count": 21,
   "id": "ac357e9d",
   "metadata": {},
   "outputs": [],
   "source": [
    "from dataclasses import dataclass\n",
    "\n",
    "@dataclass\n",
    "class Person():\n",
    "    name:str\n",
    "    age:int\n",
    "    city:str"
   ]
  },
  {
   "cell_type": "markdown",
   "id": "55163e46",
   "metadata": {},
   "source": [
    "In Python, `dataclasses` (introduced in Python 3.7) are a way to simplify class creation when the class is mainly used to store data. A `dataclass` automatically generates special methods like `__init__`, `__repr__`, `__eq__`, and more, reducing boilerplate code.\n",
    "\n",
    "---\n",
    "\n",
    "### ✅ Use of `@dataclass`\n",
    "\n",
    "The `@dataclass` decorator helps to:\n",
    "\n",
    "* Auto-generate constructor `__init__()`\n",
    "* Auto-generate string representation `__repr__()`\n",
    "* Auto-generate comparison methods like `__eq__()`, `__lt__()`, etc.\n",
    "* Support default values, type annotations, and immutability (`frozen=True`)\n",
    "* Easily convert to and from dictionaries using `asdict()` and `astuple()`\n",
    "\n",
    "---\n",
    "\n",
    "### 🆚 Comparison: With and Without `@dataclass`\n",
    "\n",
    "#### 🔴 Without `dataclass`\n",
    "\n",
    "```python\n",
    "class Person:\n",
    "    def __init__(self, name: str, age: int):\n",
    "        self.name = name\n",
    "        self.age = age\n",
    "\n",
    "    def __repr__(self):\n",
    "        return f\"Person(name={self.name}, age={self.age})\"\n",
    "\n",
    "    def __eq__(self, other):\n",
    "        return self.name == other.name and self.age == other.age\n",
    "```\n",
    "\n",
    "You must manually write:\n",
    "\n",
    "* `__init__` method\n",
    "* `__repr__` for debugging\n",
    "* `__eq__` to compare objects\n",
    "\n",
    "---\n",
    "\n",
    "#### ✅ With `dataclass`\n",
    "\n",
    "```python\n",
    "from dataclasses import dataclass\n",
    "\n",
    "@dataclass\n",
    "class Person:\n",
    "    name: str\n",
    "    age: int\n",
    "```\n",
    "\n",
    "You get all the above (`__init__`, `__repr__`, `__eq__`) **automatically**!\n",
    "\n",
    "---\n",
    "\n",
    "### ✅ Example: Using the `dataclass`\n",
    "\n",
    "```python\n",
    "from dataclasses import dataclass\n",
    "\n",
    "@dataclass\n",
    "class Product:\n",
    "    id: int\n",
    "    name: str\n",
    "    price: float = 0.0  # default value\n",
    "\n",
    "p1 = Product(1, \"Laptop\", 999.99)\n",
    "p2 = Product(1, \"Laptop\", 999.99)\n",
    "\n",
    "print(p1)           # Product(id=1, name='Laptop', price=999.99)\n",
    "print(p1 == p2)     # True\n",
    "```\n",
    "\n",
    "---\n",
    "\n",
    "### ✨ Bonus Features\n",
    "\n",
    "* **Default values**:\n",
    "\n",
    "  ```python\n",
    "  @dataclass\n",
    "  class User:\n",
    "      name: str\n",
    "      is_active: bool = True\n",
    "  ```\n",
    "* **Immutability**:\n",
    "\n",
    "  ```python\n",
    "  @dataclass(frozen=True)\n",
    "  class ImmutablePoint:\n",
    "      x: int\n",
    "      y: int\n",
    "  ```\n",
    "* **Conversion**:\n",
    "\n",
    "  ```python\n",
    "  from dataclasses import asdict\n",
    "  asdict(p1)  # {'id': 1, 'name': 'Laptop', 'price': 999.99}\n",
    "  ```\n",
    "\n",
    "---\n",
    "\n",
    "### 🧠 Summary Table\n",
    "\n",
    "| Feature           | Without `@dataclass` | With `@dataclass`  |\n",
    "| ----------------- | -------------------- | ------------------ |\n",
    "| Auto `__init__()` | ❌                    | ✅                  |\n",
    "| Auto `__repr__()` | ❌                    | ✅                  |\n",
    "| Auto `__eq__()`   | ❌                    | ✅                  |\n",
    "| Less boilerplate  | ❌                    | ✅                  |\n",
    "| Type safety       | Optional             | ✅ with annotations |\n",
    "| Dict conversion   | Manual               | ✅ (`asdict()`)     |\n",
    "\n",
    "---\n",
    "\n",
    "Let me know if you want to compare `dataclass` with `NamedTuple`, `attrs`, or `pydantic` next.\n"
   ]
  },
  {
   "cell_type": "code",
   "execution_count": 22,
   "id": "d9286c21",
   "metadata": {},
   "outputs": [
    {
     "name": "stdout",
     "output_type": "stream",
     "text": [
      "Person(name='Krish', age=35, city='Bangalore')\n"
     ]
    }
   ],
   "source": [
    "person=Person(name=\"Krish\",age=35,city=\"Bangalore\")\n",
    "print(person)"
   ]
  },
  {
   "cell_type": "code",
   "execution_count": 23,
   "id": "8c41bb6d",
   "metadata": {},
   "outputs": [
    {
     "name": "stdout",
     "output_type": "stream",
     "text": [
      "Person(name='Krish', age=35, city=35)\n"
     ]
    }
   ],
   "source": [
    "person=Person(name=\"Krish\",age=35,city=35)\n",
    "print(person)"
   ]
  },
  {
   "cell_type": "markdown",
   "id": "94dc1864",
   "metadata": {},
   "source": [
    "Strict type checking was not performed by \"dataclasses\""
   ]
  },
  {
   "cell_type": "markdown",
   "id": "e4363d82",
   "metadata": {},
   "source": [
    "## Pydantic"
   ]
  },
  {
   "cell_type": "code",
   "execution_count": 24,
   "id": "d3e31062",
   "metadata": {},
   "outputs": [],
   "source": [
    "from pydantic import BaseModel"
   ]
  },
  {
   "cell_type": "code",
   "execution_count": 25,
   "id": "6e9c229a",
   "metadata": {},
   "outputs": [
    {
     "name": "stdout",
     "output_type": "stream",
     "text": [
      "name='Krish' age=35 city='Bangalore'\n"
     ]
    }
   ],
   "source": [
    "class Person1(BaseModel):\n",
    "    name:str\n",
    "    age:int\n",
    "    city:str\n",
    "\n",
    "person=Person1(name=\"Krish\",age=35,city=\"Bangalore\")\n",
    "print(person)"
   ]
  },
  {
   "cell_type": "code",
   "execution_count": 26,
   "id": "d4a496e9",
   "metadata": {},
   "outputs": [],
   "source": [
    "# person1=Person1(name=\"Krish\",age=35,city=35)\n",
    "# print(person1)"
   ]
  },
  {
   "cell_type": "markdown",
   "id": "6161c2e0",
   "metadata": {},
   "source": [
    "---------------------------------------------------------------------------\n",
    "ValidationError                           Traceback (most recent call last)\n",
    "Cell In[6], line 1\n",
    "----> 1 person1=Person1(name=\"Krish\",age=35,city=35)\n",
    "      2 print(person1)\n",
    "\n",
    "File c:\\Users\\saina\\.conda\\envs\\agentic_2_base\\Lib\\site-packages\\pydantic\\main.py:253, in BaseModel.__init__(self, **data)\n",
    "    251 # `__tracebackhide__` tells pytest and some other tools to omit this function from tracebacks\n",
    "    252 __tracebackhide__ = True\n",
    "--> 253 validated_self = self.__pydantic_validator__.validate_python(data, self_instance=self)\n",
    "    254 if self is not validated_self:\n",
    "    255     warnings.warn(\n",
    "    256         'A custom validator is returning a value other than `self`.\\n'\n",
    "    257         \"Returning anything other than `self` from a top level model validator isn't supported when validating via `__init__`.\\n\"\n",
    "    258         'See the `model_validator` docs (https://docs.pydantic.dev/latest/concepts/validators/#model-validators) for more details.',\n",
    "    259         stacklevel=2,\n",
    "    260     )\n",
    "\n",
    "ValidationError: 1 validation error for Person1\n",
    "city\n",
    "  Input should be a valid string [type=string_type, input_value=35, input_type=int]\n",
    "    For further information visit https://errors.pydantic.dev/2.11/v/string_type"
   ]
  },
  {
   "cell_type": "markdown",
   "id": "897724d2",
   "metadata": {},
   "source": [
    "pydantic does strict type checking"
   ]
  },
  {
   "cell_type": "code",
   "execution_count": 27,
   "id": "2c2fbecd",
   "metadata": {},
   "outputs": [
    {
     "name": "stdout",
     "output_type": "stream",
     "text": [
      "name='Krish' age=35 city='35'\n"
     ]
    }
   ],
   "source": [
    "person2=Person1(name=\"Krish\",age=35,city=\"35\")\n",
    "print(person2)"
   ]
  },
  {
   "cell_type": "markdown",
   "id": "d1502411",
   "metadata": {},
   "source": [
    "As \"35\" is string, Pydantic accepted 35 into city"
   ]
  },
  {
   "cell_type": "markdown",
   "id": "c6f7c749",
   "metadata": {},
   "source": [
    "## Model with Optional Fields"
   ]
  },
  {
   "cell_type": "code",
   "execution_count": 28,
   "id": "3f4cc801",
   "metadata": {},
   "outputs": [],
   "source": [
    "from typing import Optional\n",
    "class Employee(BaseModel):\n",
    "    id:int\n",
    "    name:str\n",
    "    department:str\n",
    "    salary:Optional[float] = None #Optional with default value\n",
    "    is_active:Optional[bool] = True #Optional with default value"
   ]
  },
  {
   "cell_type": "code",
   "execution_count": 29,
   "id": "62307795",
   "metadata": {},
   "outputs": [
    {
     "name": "stdout",
     "output_type": "stream",
     "text": [
      "id=1 name='John' department='CS' salary=None is_active=True\n"
     ]
    }
   ],
   "source": [
    "emp1=Employee(id=1,name=\"John\",department=\"CS\")\n",
    "print(emp1)"
   ]
  },
  {
   "cell_type": "markdown",
   "id": "dceff0c7",
   "metadata": {},
   "source": [
    "Default values are taken in above instance"
   ]
  },
  {
   "cell_type": "code",
   "execution_count": 30,
   "id": "06904437",
   "metadata": {},
   "outputs": [
    {
     "name": "stdout",
     "output_type": "stream",
     "text": [
      "id=2 name='Krish' department='CS' salary=30000.0 is_active=True\n"
     ]
    }
   ],
   "source": [
    "emp2=Employee(id=2,name=\"Krish\",department=\"CS\",salary=\"30000\")\n",
    "print(emp2)"
   ]
  },
  {
   "cell_type": "markdown",
   "id": "86970e66",
   "metadata": {},
   "source": [
    "feasible type casting is able to done by pydantic"
   ]
  },
  {
   "cell_type": "markdown",
   "id": "dbb36748",
   "metadata": {},
   "source": [
    "Definition:\n",
    "- Optional[type]: Indicates the field can be None\n",
    "\n",
    "- Default value (= None or = True): Makes the field optional\n",
    "\n",
    "- Required fields must still be provided\n",
    "\n",
    "- Pydantic validates types even for optional fields when values are provided"
   ]
  },
  {
   "cell_type": "code",
   "execution_count": 31,
   "id": "e42ef9d3",
   "metadata": {},
   "outputs": [
    {
     "name": "stdout",
     "output_type": "stream",
     "text": [
      "id=2 name='Krish' department='CS' salary=30000.0 is_active=True\n"
     ]
    }
   ],
   "source": [
    "emp3=Employee(id=2,name=\"Krish\",department=\"CS\",salary=\"30000\",is_active=1)\n",
    "print(emp3)"
   ]
  },
  {
   "cell_type": "code",
   "execution_count": 32,
   "id": "c28742eb",
   "metadata": {},
   "outputs": [],
   "source": [
    "from typing import List\n",
    "\n",
    "class Classroom(BaseModel):\n",
    "    room_number:str\n",
    "    students: List[str] #List of strings\n",
    "    capacity:int"
   ]
  },
  {
   "cell_type": "markdown",
   "id": "f0bfe0f2",
   "metadata": {},
   "source": [
    "we can give data structures like list in data type of variables in pydantic"
   ]
  },
  {
   "cell_type": "code",
   "execution_count": 33,
   "id": "47b2844e",
   "metadata": {},
   "outputs": [
    {
     "name": "stdout",
     "output_type": "stream",
     "text": [
      "room_number='A101' students=['Alice', 'Bob', 'Charlie'] capacity=30\n"
     ]
    }
   ],
   "source": [
    "# Create a classroom\n",
    "classroom = Classroom(\n",
    "    room_number=\"A101\",\n",
    "    students=(\"Alice\", \"Bob\", \"Charlie\"),\n",
    "    capacity=30\n",
    ")\n",
    "print(classroom)"
   ]
  },
  {
   "cell_type": "markdown",
   "id": "27236920",
   "metadata": {},
   "source": [
    "tuple converted to list by type casting."
   ]
  },
  {
   "cell_type": "code",
   "execution_count": 34,
   "id": "334fa327",
   "metadata": {},
   "outputs": [
    {
     "data": {
      "text/plain": [
       "['Alice', 'Bob', 'Charlie']"
      ]
     },
     "execution_count": 34,
     "metadata": {},
     "output_type": "execute_result"
    }
   ],
   "source": [
    "list((\"Alice\", \"Bob\", \"Charlie\"))"
   ]
  },
  {
   "cell_type": "code",
   "execution_count": 35,
   "id": "3ed660c0",
   "metadata": {},
   "outputs": [],
   "source": [
    "# # Create a classroom\n",
    "# classroom1 = Classroom(\n",
    "#     room_number=\"A101\",\n",
    "#     students=(\"Alice\", 123, \"Charlie\"),\n",
    "#     capacity=30\n",
    "# )\n",
    "# print(classroom1)"
   ]
  },
  {
   "cell_type": "markdown",
   "id": "2d505a4f",
   "metadata": {},
   "source": [
    "---------------------------------------------------------------------------\n",
    "ValidationError                           Traceback (most recent call last)\n",
    "Cell In[14], line 2\n",
    "      1 # Create a classroom\n",
    "----> 2 classroom1 = Classroom(\n",
    "      3     room_number=\"A101\",\n",
    "      4     students=(\"Alice\", 123, \"Charlie\"),\n",
    "      5     capacity=30\n",
    "      6 )\n",
    "      7 print(classroom1)\n",
    "\n",
    "File c:\\Users\\saina\\.conda\\envs\\agentic_2_base\\Lib\\site-packages\\pydantic\\main.py:253, in BaseModel.__init__(self, **data)\n",
    "    251 # `__tracebackhide__` tells pytest and some other tools to omit this function from tracebacks\n",
    "    252 __tracebackhide__ = True\n",
    "--> 253 validated_self = self.__pydantic_validator__.validate_python(data, self_instance=self)\n",
    "    254 if self is not validated_self:\n",
    "    255     warnings.warn(\n",
    "    256         'A custom validator is returning a value other than `self`.\\n'\n",
    "    257         \"Returning anything other than `self` from a top level model validator isn't supported when validating via `__init__`.\\n\"\n",
    "    258         'See the `model_validator` docs (https://docs.pydantic.dev/latest/concepts/validators/#model-validators) for more details.',\n",
    "    259         stacklevel=2,\n",
    "    260     )\n",
    "\n",
    "ValidationError: 1 validation error for Classroom\n",
    "students.1\n",
    "  Input should be a valid string [type=string_type, input_value=123, input_type=int]\n",
    "    For further information visit https://errors.pydantic.dev/2.11/v/string_type"
   ]
  },
  {
   "cell_type": "markdown",
   "id": "4cb00db3",
   "metadata": {},
   "source": [
    "list of strings only are accepted. So validation error"
   ]
  },
  {
   "cell_type": "code",
   "execution_count": 36,
   "id": "bc433632",
   "metadata": {},
   "outputs": [
    {
     "name": "stdout",
     "output_type": "stream",
     "text": [
      "1 validation error for Classroom\n",
      "students.1\n",
      "  Input should be a valid string [type=string_type, input_value=123, input_type=int]\n",
      "    For further information visit https://errors.pydantic.dev/2.11/v/string_type\n"
     ]
    }
   ],
   "source": [
    "try:\n",
    "    invalid_val=Classroom(room_number=\"A1\",students=[\"Krish\",123],capacity=30)\n",
    "\n",
    "except Exception as e:\n",
    "    print(e)"
   ]
  },
  {
   "cell_type": "markdown",
   "id": "b4849c06",
   "metadata": {},
   "source": [
    "use try except block to print the concise error and does not stop the execution of notebook"
   ]
  },
  {
   "cell_type": "code",
   "execution_count": 37,
   "id": "29d65f95",
   "metadata": {},
   "outputs": [],
   "source": [
    "from typing import List\n",
    "from pydantic import BaseModel\n",
    "\n",
    "class Classroom(BaseModel):\n",
    "    room_number:str\n",
    "    students: List[float] #List of floats\n",
    "    capacity:int"
   ]
  },
  {
   "cell_type": "code",
   "execution_count": 38,
   "id": "dc23ac29",
   "metadata": {},
   "outputs": [
    {
     "name": "stdout",
     "output_type": "stream",
     "text": [
      "room_number='201' students=[1.0, 2.0, 3.0] capacity=3\n"
     ]
    }
   ],
   "source": [
    "class1 = Classroom(room_number=\"201\",students = [1,2,3], capacity = 3)\n",
    "print(class1)"
   ]
  },
  {
   "cell_type": "code",
   "execution_count": 39,
   "id": "30572153",
   "metadata": {},
   "outputs": [],
   "source": [
    "from typing import List\n",
    "from pydantic import BaseModel\n",
    "\n",
    "class Classroom(BaseModel):\n",
    "    room_number:str\n",
    "    students: List[str] #List of floats\n",
    "    capacity:int"
   ]
  },
  {
   "cell_type": "code",
   "execution_count": null,
   "id": "1966a136",
   "metadata": {},
   "outputs": [
    {
     "ename": "ValidationError",
     "evalue": "3 validation errors for Classroom\nstudents.0\n  Input should be a valid string [type=string_type, input_value=1, input_type=int]\n    For further information visit https://errors.pydantic.dev/2.11/v/string_type\nstudents.1\n  Input should be a valid string [type=string_type, input_value=2, input_type=int]\n    For further information visit https://errors.pydantic.dev/2.11/v/string_type\nstudents.2\n  Input should be a valid string [type=string_type, input_value=3, input_type=int]\n    For further information visit https://errors.pydantic.dev/2.11/v/string_type",
     "output_type": "error",
     "traceback": [
      "\u001b[31m---------------------------------------------------------------------------\u001b[39m",
      "\u001b[31mValidationError\u001b[39m                           Traceback (most recent call last)",
      "\u001b[36mCell\u001b[39m\u001b[36m \u001b[39m\u001b[32mIn[40]\u001b[39m\u001b[32m, line 1\u001b[39m\n\u001b[32m----> \u001b[39m\u001b[32m1\u001b[39m class1 = \u001b[43mClassroom\u001b[49m\u001b[43m(\u001b[49m\u001b[43mroom_number\u001b[49m\u001b[43m=\u001b[49m\u001b[33;43m\"\u001b[39;49m\u001b[33;43m201\u001b[39;49m\u001b[33;43m\"\u001b[39;49m\u001b[43m,\u001b[49m\u001b[43mstudents\u001b[49m\u001b[43m \u001b[49m\u001b[43m=\u001b[49m\u001b[43m \u001b[49m\u001b[43m[\u001b[49m\u001b[32;43m1\u001b[39;49m\u001b[43m,\u001b[49m\u001b[32;43m2\u001b[39;49m\u001b[43m,\u001b[49m\u001b[32;43m3\u001b[39;49m\u001b[43m]\u001b[49m\u001b[43m,\u001b[49m\u001b[43m \u001b[49m\u001b[43mcapacity\u001b[49m\u001b[43m \u001b[49m\u001b[43m=\u001b[49m\u001b[43m \u001b[49m\u001b[32;43m3\u001b[39;49m\u001b[43m)\u001b[49m\n\u001b[32m      2\u001b[39m \u001b[38;5;28mprint\u001b[39m(class1)\n",
      "\u001b[36mFile \u001b[39m\u001b[32mc:\\Users\\saina\\.conda\\envs\\agentic_2_base\\Lib\\site-packages\\pydantic\\main.py:253\u001b[39m, in \u001b[36mBaseModel.__init__\u001b[39m\u001b[34m(self, **data)\u001b[39m\n\u001b[32m    251\u001b[39m \u001b[38;5;66;03m# `__tracebackhide__` tells pytest and some other tools to omit this function from tracebacks\u001b[39;00m\n\u001b[32m    252\u001b[39m __tracebackhide__ = \u001b[38;5;28;01mTrue\u001b[39;00m\n\u001b[32m--> \u001b[39m\u001b[32m253\u001b[39m validated_self = \u001b[38;5;28;43mself\u001b[39;49m\u001b[43m.\u001b[49m\u001b[43m__pydantic_validator__\u001b[49m\u001b[43m.\u001b[49m\u001b[43mvalidate_python\u001b[49m\u001b[43m(\u001b[49m\u001b[43mdata\u001b[49m\u001b[43m,\u001b[49m\u001b[43m \u001b[49m\u001b[43mself_instance\u001b[49m\u001b[43m=\u001b[49m\u001b[38;5;28;43mself\u001b[39;49m\u001b[43m)\u001b[49m\n\u001b[32m    254\u001b[39m \u001b[38;5;28;01mif\u001b[39;00m \u001b[38;5;28mself\u001b[39m \u001b[38;5;129;01mis\u001b[39;00m \u001b[38;5;129;01mnot\u001b[39;00m validated_self:\n\u001b[32m    255\u001b[39m     warnings.warn(\n\u001b[32m    256\u001b[39m         \u001b[33m'\u001b[39m\u001b[33mA custom validator is returning a value other than `self`.\u001b[39m\u001b[38;5;130;01m\\n\u001b[39;00m\u001b[33m'\u001b[39m\n\u001b[32m    257\u001b[39m         \u001b[33m\"\u001b[39m\u001b[33mReturning anything other than `self` from a top level model validator isn\u001b[39m\u001b[33m'\u001b[39m\u001b[33mt supported when validating via `__init__`.\u001b[39m\u001b[38;5;130;01m\\n\u001b[39;00m\u001b[33m\"\u001b[39m\n\u001b[32m    258\u001b[39m         \u001b[33m'\u001b[39m\u001b[33mSee the `model_validator` docs (https://docs.pydantic.dev/latest/concepts/validators/#model-validators) for more details.\u001b[39m\u001b[33m'\u001b[39m,\n\u001b[32m    259\u001b[39m         stacklevel=\u001b[32m2\u001b[39m,\n\u001b[32m    260\u001b[39m     )\n",
      "\u001b[31mValidationError\u001b[39m: 3 validation errors for Classroom\nstudents.0\n  Input should be a valid string [type=string_type, input_value=1, input_type=int]\n    For further information visit https://errors.pydantic.dev/2.11/v/string_type\nstudents.1\n  Input should be a valid string [type=string_type, input_value=2, input_type=int]\n    For further information visit https://errors.pydantic.dev/2.11/v/string_type\nstudents.2\n  Input should be a valid string [type=string_type, input_value=3, input_type=int]\n    For further information visit https://errors.pydantic.dev/2.11/v/string_type"
     ]
    }
   ],
   "source": [
    "# class1 = Classroom(room_number=\"201\",students = [1,2,3], capacity = 3)\n",
    "# print(class1)"
   ]
  },
  {
   "cell_type": "markdown",
   "id": "762687d2",
   "metadata": {},
   "source": [
    "---------------------------------------------------------------------------\n",
    "ValidationError                           Traceback (most recent call last)\n",
    "Cell In[40], line 1\n",
    "----> 1 class1 = Classroom(room_number=\"201\",students = [1,2,3], capacity = 3)\n",
    "      2 print(class1)\n",
    "\n",
    "File c:\\Users\\saina\\.conda\\envs\\agentic_2_base\\Lib\\site-packages\\pydantic\\main.py:253, in BaseModel.__init__(self, **data)\n",
    "    251 # `__tracebackhide__` tells pytest and some other tools to omit this function from tracebacks\n",
    "    252 __tracebackhide__ = True\n",
    "--> 253 validated_self = self.__pydantic_validator__.validate_python(data, self_instance=self)\n",
    "    254 if self is not validated_self:\n",
    "    255     warnings.warn(\n",
    "    256         'A custom validator is returning a value other than `self`.\\n'\n",
    "    257         \"Returning anything other than `self` from a top level model validator isn't supported when validating via `__init__`.\\n\"\n",
    "    258         'See the `model_validator` docs (https://docs.pydantic.dev/latest/concepts/validators/#model-validators) for more details.',\n",
    "    259         stacklevel=2,\n",
    "    260     )\n",
    "\n",
    "ValidationError: 3 validation errors for Classroom\n",
    "students.0\n",
    "  Input should be a valid string [type=string_type, input_value=1, input_type=int]\n",
    "    For further information visit https://errors.pydantic.dev/2.11/v/string_type\n",
    "students.1\n",
    "  Input should be a valid string [type=string_type, input_value=2, input_type=int]\n",
    "    For further information visit https://errors.pydantic.dev/2.11/v/string_type\n",
    "students.2\n",
    "  Input should be a valid string [type=string_type, input_value=3, input_type=int]\n",
    "    For further information visit https://errors.pydantic.dev/2.11/v/string_type"
   ]
  },
  {
   "cell_type": "markdown",
   "id": "a8ac9290",
   "metadata": {},
   "source": [
    "Great question!\n",
    "\n",
    "You're getting a **validation error** because **Pydantic does not automatically cast `List[int]` to `List[str]`** — i.e., it won’t convert `[1, 2, 3]` into `[\"1\", \"2\", \"3\"]` automatically for a field typed as `List[str]`.\n",
    "\n",
    "---\n",
    "\n",
    "### ⚠️ Here's the error you'll get:\n",
    "\n",
    "```python\n",
    "ValidationError: 1 validation error for Classroom\n",
    "students -> 0\n",
    "  str type expected (type=type_error.str)\n",
    "```\n",
    "\n",
    "This means:\n",
    "Pydantic expected each item in `students` to be a **string**, but found an **integer** at index 0.\n",
    "\n",
    "---\n",
    "\n",
    "### ❓Why doesn't Pydantic cast `List[int]` → `List[str]`?\n",
    "\n",
    "Because **element-wise coercion in collections is not automatic**.\n",
    "This is to avoid silently introducing bugs — especially when the difference between types matters (e.g., `\"10\"` vs `10` in business logic).\n",
    "\n",
    "---\n",
    "\n",
    "### ✅ How to fix it\n",
    "\n",
    "#### ✅ Option 1: Pass strings correctly\n",
    "\n",
    "```python\n",
    "class1 = Classroom(room_number=\"201\", students=[\"1\", \"2\", \"3\"], capacity=3)\n",
    "```\n",
    "\n",
    "#### ✅ Option 2: Use a custom validator if you still want automatic casting\n",
    "\n",
    "```python\n",
    "from pydantic import BaseModel, field_validator\n",
    "from typing import List\n",
    "\n",
    "class Classroom(BaseModel):\n",
    "    room_number: str\n",
    "    students: List[str]\n",
    "    capacity: int\n",
    "\n",
    "    @field_validator(\"students\", mode=\"before\")\n",
    "    @classmethod\n",
    "    def cast_all_to_str(cls, v):\n",
    "        return [str(i) for i in v]\n",
    "\n",
    "class1 = Classroom(room_number=\"201\", students=[1, 2, 3], capacity=3)\n",
    "print(class1)\n",
    "```\n",
    "\n",
    "---\n",
    "\n",
    "### ✅ Output:\n",
    "\n",
    "```python\n",
    "room_number='201' students=['1', '2', '3'] capacity=3\n",
    "```\n",
    "\n",
    "---\n",
    "\n",
    "### 🧠 Summary\n",
    "\n",
    "| Behavior                       | Default in Pydantic |\n",
    "| ------------------------------ | ------------------- |\n",
    "| Cast `int` → `str`             | ✅ Yes               |\n",
    "| Cast `List[int]` → `List[str]` | ❌ No                |\n",
    "\n",
    "> You must handle element-wise coercion explicitly with a validator.\n",
    "\n",
    "Let me know if you want reusable casting utilities for nested lists or dictionaries!\n"
   ]
  },
  {
   "cell_type": "markdown",
   "id": "8d212b50",
   "metadata": {},
   "source": [
    "## Model with Nested Models"
   ]
  },
  {
   "cell_type": "code",
   "execution_count": 41,
   "id": "6ebf38c2",
   "metadata": {},
   "outputs": [],
   "source": [
    "from pydantic import BaseModel\n",
    "\n",
    "class Address(BaseModel):\n",
    "    street:str\n",
    "    city:str\n",
    "    zip_code:str\n",
    "\n",
    "class Customer(BaseModel):\n",
    "    customer_id:int\n",
    "    name:str\n",
    "    address:Address  ## Nested Model"
   ]
  },
  {
   "cell_type": "code",
   "execution_count": 42,
   "id": "9d577d07",
   "metadata": {},
   "outputs": [
    {
     "name": "stdout",
     "output_type": "stream",
     "text": [
      "customer_id=1 name='Krish' address=Address(street='Main street', city='Boston', zip_code='02108')\n"
     ]
    }
   ],
   "source": [
    "customer=Customer(customer_id=1,name=\"Krish\",\n",
    "                  address={\"street\":\"Main street\",\"city\":\"Boston\",\"zip_code\":\"02108\"})\n",
    "\n",
    "print(customer)"
   ]
  },
  {
   "cell_type": "code",
   "execution_count": 43,
   "id": "b13dd3b9",
   "metadata": {},
   "outputs": [],
   "source": [
    "# customer=Customer(customer_id=1,name=\"Krish\",\n",
    "#                   address=[\"Main street\",\"Boston\",\"02108\"])\n",
    "\n",
    "# print(customer)"
   ]
  },
  {
   "cell_type": "markdown",
   "id": "ccc2e83d",
   "metadata": {},
   "source": [
    "In nested model, dictionary should be used while instantiating."
   ]
  },
  {
   "cell_type": "code",
   "execution_count": 44,
   "id": "9a7beffe",
   "metadata": {},
   "outputs": [],
   "source": [
    "# customer=Customer(customer_id=1,name=\"Krish\",\n",
    "#                   address={\"street\":\"Main street\",\"city\":123,\"zip_code\":\"02108\"})\n",
    "\n",
    "# print(customer)"
   ]
  },
  {
   "cell_type": "markdown",
   "id": "c513f6c2",
   "metadata": {},
   "source": [
    "---------------------------------------------------------------------------\n",
    "ValidationError                           Traceback (most recent call last)\n",
    "Cell In[18], line 1\n",
    "----> 1 customer=Customer(customer_id=1,name=\"Krish\",\n",
    "      2                   address={\"street\":\"Main street\",\"city\":123,\"zip_code\":\"02108\"})\n",
    "      4 print(customer)\n",
    "\n",
    "File c:\\Users\\saina\\.conda\\envs\\agentic_2_base\\Lib\\site-packages\\pydantic\\main.py:253, in BaseModel.__init__(self, **data)\n",
    "    251 # `__tracebackhide__` tells pytest and some other tools to omit this function from tracebacks\n",
    "    252 __tracebackhide__ = True\n",
    "--> 253 validated_self = self.__pydantic_validator__.validate_python(data, self_instance=self)\n",
    "    254 if self is not validated_self:\n",
    "    255     warnings.warn(\n",
    "    256         'A custom validator is returning a value other than `self`.\\n'\n",
    "    257         \"Returning anything other than `self` from a top level model validator isn't supported when validating via `__init__`.\\n\"\n",
    "    258         'See the `model_validator` docs (https://docs.pydantic.dev/latest/concepts/validators/#model-validators) for more details.',\n",
    "    259         stacklevel=2,\n",
    "    260     )\n",
    "\n",
    "ValidationError: 1 validation error for Customer\n",
    "address.city\n",
    "  Input should be a valid string [type=string_type, input_value=123, input_type=int]\n",
    "    For further information visit https://errors.pydantic.dev/2.11/v/string_type"
   ]
  },
  {
   "cell_type": "markdown",
   "id": "57e06cdd",
   "metadata": {},
   "source": [
    "## Pydantic Fields: Customization and Constraints"
   ]
  },
  {
   "cell_type": "markdown",
   "id": "e0215881",
   "metadata": {},
   "source": [
    "\n",
    "The Field function in Pydantic enhances model fields beyond basic type hints by allowing you to specify validation rules, default values, aliases, and more. Here's a comprehensive tutorial with examples."
   ]
  },
  {
   "cell_type": "code",
   "execution_count": 45,
   "id": "b4751b14",
   "metadata": {},
   "outputs": [],
   "source": [
    "from pydantic import BaseModel,Field\n",
    "\n",
    "class Item(BaseModel):\n",
    "    name:str=Field(min_length=2,max_length=50)\n",
    "    price:float=Field(gt=0,le=10000)  ## greater than 0 and less than or equal to 1000\n",
    "    quantity:int=Field(ge=0)"
   ]
  },
  {
   "cell_type": "code",
   "execution_count": 46,
   "id": "d2bdad33",
   "metadata": {},
   "outputs": [],
   "source": [
    "# item=Item(name=\"Book\", price=100000,quantity=10)\n",
    "# print(item)"
   ]
  },
  {
   "cell_type": "markdown",
   "id": "aed53c7f",
   "metadata": {},
   "source": [
    "---------------------------------------------------------------------------\n",
    "ValidationError                           Traceback (most recent call last)\n",
    "Cell In[20], line 1\n",
    "----> 1 item=Item(name=\"Book\", price=100000,quantity=10)\n",
    "      2 print(item)\n",
    "\n",
    "File c:\\Users\\saina\\.conda\\envs\\agentic_2_base\\Lib\\site-packages\\pydantic\\main.py:253, in BaseModel.__init__(self, **data)\n",
    "    251 # `__tracebackhide__` tells pytest and some other tools to omit this function from tracebacks\n",
    "    252 __tracebackhide__ = True\n",
    "--> 253 validated_self = self.__pydantic_validator__.validate_python(data, self_instance=self)\n",
    "    254 if self is not validated_self:\n",
    "    255     warnings.warn(\n",
    "    256         'A custom validator is returning a value other than `self`.\\n'\n",
    "    257         \"Returning anything other than `self` from a top level model validator isn't supported when validating via `__init__`.\\n\"\n",
    "    258         'See the `model_validator` docs (https://docs.pydantic.dev/latest/concepts/validators/#model-validators) for more details.',\n",
    "    259         stacklevel=2,\n",
    "    260     )\n",
    "\n",
    "ValidationError: 1 validation error for Item\n",
    "price\n",
    "  Input should be less than or equal to 10000 [type=less_than_equal, input_value=100000, input_type=int]\n",
    "    For further information visit https://errors.pydantic.dev/2.11/v/less_than_equal"
   ]
  },
  {
   "cell_type": "markdown",
   "id": "d22883b5",
   "metadata": {},
   "source": [
    "field is used for condition based input data validation"
   ]
  },
  {
   "cell_type": "code",
   "execution_count": 47,
   "id": "e39c5101",
   "metadata": {},
   "outputs": [],
   "source": [
    "class User(BaseModel):\n",
    "    username:str=Field(description=\"Unique username for the user\")\n",
    "    age:int=Field(default=18,description=\"User age default to 18 \")\n",
    "    email:str= Field(default_factory=lambda: \"user@example.com\",description=\"Default email address\")"
   ]
  },
  {
   "cell_type": "code",
   "execution_count": 48,
   "id": "eda3226b",
   "metadata": {},
   "outputs": [
    {
     "name": "stdout",
     "output_type": "stream",
     "text": [
      "username='alice' age=18 email='user@example.com'\n"
     ]
    }
   ],
   "source": [
    "# Examples\n",
    "user1 = User(username=\"alice\")\n",
    "print(user1)"
   ]
  },
  {
   "cell_type": "markdown",
   "id": "871aa907",
   "metadata": {},
   "source": [
    "default factory is dynamic way of creating the default values, Can use datetime now in it."
   ]
  },
  {
   "cell_type": "markdown",
   "id": "c9b1a3f4",
   "metadata": {},
   "source": [
    "To dynamically set the `email` field based on the `username` (like `alice@example.com`), you **cannot use `default_factory` alone**, because `default_factory` **doesn’t have access to other field values**.\n",
    "\n",
    "Instead, use a **`@model_validator`** or `@root_validator` (for older Pydantic v1), which gives access to the entire model so you can compute one field based on another.\n",
    "\n",
    "---\n",
    "\n",
    "### ✅ Pydantic v2 Solution (Recommended)\n",
    "\n",
    "```python\n",
    "from pydantic import BaseModel, Field, model_validator\n",
    "\n",
    "class User(BaseModel):\n",
    "    username: str = Field(description=\"Unique username for the user\")\n",
    "    age: int = Field(default=18, description=\"User age defaults to 18\")\n",
    "    email: str = Field(default=None, description=\"Email will default to username@example.com\")\n",
    "\n",
    "    @model_validator(mode=\"after\")\n",
    "    def set_email_if_missing(self) -> 'User':\n",
    "        if self.email is None:\n",
    "            self.email = f\"{self.username}@example.com\"\n",
    "        return self\n",
    "\n",
    "# Example\n",
    "user1 = User(username=\"alice\")\n",
    "print(user1)\n",
    "```\n",
    "\n",
    "---\n",
    "\n",
    "### ✅ Output\n",
    "\n",
    "```python\n",
    "username='alice' age=18 email='alice@example.com'\n",
    "```\n",
    "\n",
    "---\n",
    "\n",
    "### 🔎 How It Works\n",
    "\n",
    "* `@model_validator(mode=\"after\")`: This hook runs **after** all fields are parsed and validated.\n",
    "* We check if `email` is missing (`None`), and if so, we compute it using `username`.\n",
    "\n",
    "---\n",
    "\n",
    "### ⚠️ Alternative (Pydantic v1)\n",
    "\n",
    "If you're using Pydantic **v1**, use `@root_validator(pre=False)` instead:\n",
    "\n",
    "```python\n",
    "from pydantic import BaseModel, Field, root_validator\n",
    "\n",
    "class User(BaseModel):\n",
    "    username: str = Field(...)\n",
    "    age: int = Field(default=18)\n",
    "    email: str = None\n",
    "\n",
    "    @root_validator\n",
    "    def set_email(cls, values):\n",
    "        if not values.get('email'):\n",
    "            values['email'] = f\"{values['username']}@example.com\"\n",
    "        return values\n",
    "```\n",
    "\n",
    "---\n",
    "\n",
    "Let me know your Pydantic version if you’re unsure, and I’ll tailor the code to that.\n"
   ]
  },
  {
   "cell_type": "code",
   "execution_count": null,
   "id": "2b05ed10",
   "metadata": {},
   "outputs": [],
   "source": []
  },
  {
   "cell_type": "markdown",
   "id": "3ae61672",
   "metadata": {},
   "source": [
    "## Schema from pydantic"
   ]
  },
  {
   "cell_type": "code",
   "execution_count": 49,
   "id": "a3ca49a5",
   "metadata": {},
   "outputs": [
    {
     "data": {
      "text/plain": [
       "{'properties': {'username': {'description': 'Unique username for the user',\n",
       "   'title': 'Username',\n",
       "   'type': 'string'},\n",
       "  'age': {'default': 18,\n",
       "   'description': 'User age default to 18 ',\n",
       "   'title': 'Age',\n",
       "   'type': 'integer'},\n",
       "  'email': {'description': 'Default email address',\n",
       "   'title': 'Email',\n",
       "   'type': 'string'}},\n",
       " 'required': ['username'],\n",
       " 'title': 'User',\n",
       " 'type': 'object'}"
      ]
     },
     "execution_count": 49,
     "metadata": {},
     "output_type": "execute_result"
    }
   ],
   "source": [
    "User.model_json_schema()"
   ]
  },
  {
   "cell_type": "markdown",
   "id": "c503b631",
   "metadata": {},
   "source": [
    "## What is Serialisation in pydantic"
   ]
  },
  {
   "cell_type": "markdown",
   "id": "d9b5fe14",
   "metadata": {},
   "source": [
    "In **Pydantic**, **serialization** refers to **converting a Pydantic model (Python object) into a data format that can be easily stored or transferred**, such as **JSON, dictionaries, or strings**.\n",
    "\n",
    "### ✅ In simpler terms:\n",
    "\n",
    "**Serialization = Model → JSON or dict**\n",
    "\n",
    "---\n",
    "\n",
    "### 🔧 Common Use-Cases for Serialization:\n",
    "\n",
    "* Sending data over an API (JSON format)\n",
    "* Saving model data to a file or database\n",
    "* Logging structured data\n",
    "\n",
    "---\n",
    "\n",
    "### 🧠 How it works in Pydantic:\n",
    "\n",
    "Suppose you have a model:\n",
    "\n",
    "```python\n",
    "from pydantic import BaseModel\n",
    "\n",
    "class User(BaseModel):\n",
    "    id: int\n",
    "    name: str\n",
    "    email: str\n",
    "```\n",
    "\n",
    "#### ➤ `dict()` — serialize to Python dictionary:\n",
    "\n",
    "```python\n",
    "user = User(id=1, name=\"Alice\", email=\"alice@example.com\")\n",
    "user_dict = user.dict()\n",
    "print(user_dict)\n",
    "```\n",
    "\n",
    "Output:\n",
    "\n",
    "```python\n",
    "{'id': 1, 'name': 'Alice', 'email': 'alice@example.com'}\n",
    "```\n",
    "\n",
    "#### ➤ `json()` — serialize to JSON string:\n",
    "\n",
    "```python\n",
    "user_json = user.json()\n",
    "print(user_json)\n",
    "```\n",
    "\n",
    "Output:\n",
    "\n",
    "```json\n",
    "{\"id\": 1, \"name\": \"Alice\", \"email\": \"alice@example.com\"}\n",
    "```\n",
    "\n",
    "---\n",
    "\n",
    "### 🔄 Related Term: **Deserialization**\n",
    "\n",
    "The reverse — converting from JSON or dict back to a Pydantic model:\n",
    "\n",
    "```python\n",
    "user_data = {'id': 1, 'name': 'Alice', 'email': 'alice@example.com'}\n",
    "user = User(**user_data)\n",
    "```\n",
    "\n",
    "---\n",
    "\n",
    "### 💡 Bonus: Custom Serialization\n",
    "\n",
    "You can customize serialization using:\n",
    "\n",
    "* `Config` class with `json_encoders`\n",
    "* `model.dict(include=..., exclude=...)` to include/exclude fields\n",
    "* Aliases and field customization with `Field(..., alias=...)`\n",
    "\n",
    "---\n",
    "\n",
    "Let me know if you'd like to see examples with nested models, custom field names, or datetime handling!\n"
   ]
  },
  {
   "cell_type": "markdown",
   "id": "9c79bfdc",
   "metadata": {},
   "source": [
    "## Pydantic Crash course by CampusX\n",
    "`https://github.com/campusx-official/pydantic-crash-course`"
   ]
  },
  {
   "cell_type": "markdown",
   "id": "95cb2d6d",
   "metadata": {},
   "source": [
    "## Extra"
   ]
  },
  {
   "cell_type": "markdown",
   "id": "1a64c35e",
   "metadata": {},
   "source": [
    "class Item(BaseModel):\n",
    "    id: str \n",
    "    email: str \n",
    "\n",
    "\n",
    "Is it possible to use id as a part in default factory of email? such that email default values is like id+\"@gmail.com\""
   ]
  },
  {
   "cell_type": "markdown",
   "id": "f59592eb",
   "metadata": {},
   "source": [
    "✅ **Yes, it’s possible** — but **not directly inside `Field(default_factory=...)`** because at the time `default_factory` runs, **other fields like `id` may not be initialized yet**.\n",
    "\n",
    "However, Pydantic provides a clean way to do this using a **`model_post_init`** method in **Pydantic v2**, or a **`@root_validator`** in **Pydantic v1**.\n",
    "\n",
    "---\n",
    "\n",
    "### ✅ Pydantic v2: Use `model_post_init`\n",
    "\n",
    "```python\n",
    "from pydantic import BaseModel, Field\n",
    "from uuid import uuid4\n",
    "\n",
    "class Item(BaseModel):\n",
    "    id: str = Field(default_factory=lambda: str(uuid4()))\n",
    "    email: str | None = None\n",
    "\n",
    "    def model_post_init(self, __context):\n",
    "        if self.email is None:\n",
    "            self.email = f\"{self.id}@gmail.com\"\n",
    "```\n",
    "\n",
    "---\n",
    "\n",
    "### ✅ Pydantic v1: Use `@root_validator`\n",
    "\n",
    "```python\n",
    "from pydantic import BaseModel, Field, root_validator\n",
    "from uuid import uuid4\n",
    "\n",
    "class Item(BaseModel):\n",
    "    id: str = Field(default_factory=lambda: str(uuid4()))\n",
    "    email: str | None = None\n",
    "\n",
    "    @root_validator(pre=False)\n",
    "    def set_email(cls, values):\n",
    "        if values.get('email') is None:\n",
    "            values['email'] = f\"{values['id']}@gmail.com\"\n",
    "        return values\n",
    "```\n",
    "\n",
    "---\n",
    "\n",
    "### 🧪 Example usage:\n",
    "\n",
    "```python\n",
    "item = Item()\n",
    "print(item.id)      # e.g., \"8d3e8d72-1f75-43a4-9e1e-7b9e457dca8a\"\n",
    "print(item.email)   # e.g., \"8d3e8d72-1f75-43a4-9e1e-7b9e457dca8a@gmail.com\"\n",
    "```\n",
    "\n",
    "---\n",
    "\n",
    "### 🧠 Why `Field(default_factory=...)` won't work here?\n",
    "\n",
    "Because it doesn't **know about other fields** during execution — it just calls the function when no value is passed.\n",
    "\n",
    "So for **dependent default values**, always use:\n",
    "\n",
    "* `model_post_init` (Pydantic v2)\n",
    "* `root_validator` (Pydantic v1)\n",
    "\n",
    "---\n",
    "\n",
    "Let me know your Pydantic version if you need a custom solution for your codebase!\n"
   ]
  },
  {
   "cell_type": "markdown",
   "id": "4e37a4a5",
   "metadata": {},
   "source": [
    "## Difference between Field and field_validator"
   ]
  },
  {
   "cell_type": "markdown",
   "id": "fd86175f",
   "metadata": {},
   "source": [
    "Great question! `Field` and `field_validator` in **Pydantic** serve **very different purposes**, though they both help you control and validate data.\n",
    "\n",
    "---\n",
    "\n",
    "### 🆚 `Field` vs `field_validator` — Core Differences\n",
    "\n",
    "| Feature                       | `Field(...)`                                                                       | `@field_validator(...)`                                      |\n",
    "| ----------------------------- | ---------------------------------------------------------------------------------- | ------------------------------------------------------------ |\n",
    "| **Purpose**                   | Declare **defaults**, **metadata**, and **constraints**                            | Implement **custom logic** to validate or transform          |\n",
    "| **Used for**                  | - Default values<br>- Descriptions<br>- Ranges (gt, lt)<br>- Aliases<br>- UI hints | - Conditional rules<br>- Data formatting<br>- Complex checks |\n",
    "| **When it runs**              | During model schema parsing                                                        | During/after field value assignment (based on `mode`)        |\n",
    "| **Declarative or imperative** | Declarative (like saying \"must be > 0\")                                            | Imperative (like writing Python logic)                       |\n",
    "| **Return required?**          | ❌ No return value needed                                                           | ✅ Must return the (possibly modified) value or raise error   |\n",
    "\n",
    "---\n",
    "\n",
    "### 🔹 `Field(...)` – For Defaults, Constraints, and Metadata\n",
    "\n",
    "```python\n",
    "from pydantic import BaseModel, Field\n",
    "\n",
    "class User(BaseModel):\n",
    "    age: int = Field(..., gt=0, lt=100, description=\"Age must be between 1 and 99\")\n",
    "    name: str = Field(default=\"Anonymous\", max_length=20)\n",
    "```\n",
    "\n",
    "✔️ It adds:\n",
    "\n",
    "* Validation rules (e.g., `gt`, `lt`, `max_length`)\n",
    "* Default values (`default`, `default_factory`)\n",
    "* Schema metadata (`description`, `title`, `example`)\n",
    "\n",
    "---\n",
    "\n",
    "### 🔹 `@field_validator(...)` – For Custom Validation Logic\n",
    "\n",
    "```python\n",
    "from pydantic import BaseModel, Field, field_validator\n",
    "\n",
    "class User(BaseModel):\n",
    "    name: str\n",
    "    email: str\n",
    "\n",
    "    @field_validator('email')\n",
    "    @classmethod\n",
    "    def check_email(cls, v):\n",
    "        if not v.endswith('@gmail.com'):\n",
    "            raise ValueError(\"Email must be a gmail.com address\")\n",
    "        return v\n",
    "```\n",
    "\n",
    "✔️ It allows:\n",
    "\n",
    "* Any Python logic\n",
    "* Value transformation (like `.upper()`, formatting)\n",
    "* Cross-field or deep validation (via `@model_validator` or `@root_validator`)\n",
    "\n",
    "---\n",
    "\n",
    "### 🧪 Example with Both\n",
    "\n",
    "```python\n",
    "from pydantic import BaseModel, Field, field_validator\n",
    "\n",
    "class Product(BaseModel):\n",
    "    name: str\n",
    "    price: float = Field(gt=0, description=\"Price must be positive\")\n",
    "\n",
    "    @field_validator('name')\n",
    "    @classmethod\n",
    "    def strip_name(cls, value):\n",
    "        return value.strip().title()\n",
    "```\n",
    "\n",
    "* `Field(gt=0)` ensures `price > 0`\n",
    "* `@field_validator` formats `name` before storing\n",
    "\n",
    "---\n",
    "\n",
    "### ✅ Summary\n",
    "\n",
    "| Aspect                                 | `Field`                         | `@field_validator` |\n",
    "| -------------------------------------- | ------------------------------- | ------------------ |\n",
    "| Controls defaults?                     | ✅ Yes                           | ❌ No               |\n",
    "| Adds metadata for OpenAPI/docs?        | ✅ Yes                           | ❌ No               |\n",
    "| Applies static validation constraints? | ✅ Yes (like `gt`, `max_length`) | ✅ If custom logic  |\n",
    "| Good for dynamic validation?           | ❌                               | ✅ Yes              |\n",
    "| Required to return value?              | ❌                               | ✅ Yes              |\n",
    "| Runs on model creation?                | ✅                               | ✅                  |\n",
    "\n",
    "---\n",
    "\n",
    "Let me know if you want to explore how to **combine both** or use them in **Pydantic v2 with Annotated types**.\n"
   ]
  },
  {
   "cell_type": "markdown",
   "id": "b2576d67",
   "metadata": {},
   "source": [
    "## Difference between field validator and model validator from pydantic? and any other validators present in it"
   ]
  },
  {
   "cell_type": "markdown",
   "id": "e634e774",
   "metadata": {},
   "source": [
    "Excellent question, Sainadh! Let’s break down the difference between **`field_validator`**, **`model_validator`**, and other available **validators in Pydantic v2**, along with when and why to use each.\n",
    "\n",
    "---\n",
    "\n",
    "### ✅ 1. `field_validator` – Validate or transform a **single field**\n",
    "\n",
    "#### 🔹 Purpose:\n",
    "\n",
    "Used to validate or transform the value of **one specific field** (before or after parsing).\n",
    "\n",
    "#### 🔹 Syntax:\n",
    "\n",
    "```python\n",
    "@field_validator('field_name', mode='before' or 'after')\n",
    "@classmethod\n",
    "def validator_name(cls, value): ...\n",
    "```\n",
    "\n",
    "#### 🔹 When to use:\n",
    "\n",
    "* Format or clean field values (`.strip()`, `.upper()`)\n",
    "* Enforce field-specific rules (e.g., `email must end with @gmail.com`)\n",
    "* Normalize types (e.g., convert strings to int)\n",
    "\n",
    "#### 🔹 Example:\n",
    "\n",
    "```python\n",
    "from pydantic import BaseModel, field_validator\n",
    "\n",
    "class User(BaseModel):\n",
    "    name: str\n",
    "\n",
    "    @field_validator('name')\n",
    "    @classmethod\n",
    "    def validate_name(cls, v):\n",
    "        return v.title()\n",
    "```\n",
    "\n",
    "---\n",
    "\n",
    "### ✅ 2. `model_validator` – Validate across **the entire model**\n",
    "\n",
    "#### 🔹 Purpose:\n",
    "\n",
    "Used to validate the model as a whole — **after all fields are parsed**, and useful when validation **depends on multiple fields**.\n",
    "\n",
    "#### 🔹 Syntax:\n",
    "\n",
    "```python\n",
    "@model_validator(mode='before' or 'after')\n",
    "@classmethod\n",
    "def validate_model(cls, data): ...\n",
    "```\n",
    "\n",
    "#### 🔹 When to use:\n",
    "\n",
    "* Validate relationships between fields (e.g., `start_date < end_date`)\n",
    "* Conditionally require a field (`if x is True, y must be provided`)\n",
    "* Post-process entire object\n",
    "\n",
    "#### 🔹 Example:\n",
    "\n",
    "```python\n",
    "from pydantic import BaseModel, model_validator\n",
    "\n",
    "class Booking(BaseModel):\n",
    "    start: int\n",
    "    end: int\n",
    "\n",
    "    @model_validator(mode='after')\n",
    "    @classmethod\n",
    "    def check_duration(cls, model):\n",
    "        if model.end <= model.start:\n",
    "            raise ValueError('End must be after start')\n",
    "        return model\n",
    "```\n",
    "\n",
    "---\n",
    "\n",
    "### ✅ Other Validators in Pydantic v2\n",
    "\n",
    "| Validator                            | Purpose                                                           |\n",
    "| ------------------------------------ | ----------------------------------------------------------------- |\n",
    "| `@field_validator`                   | Validate or transform **one field**                               |\n",
    "| `@model_validator`                   | Validate the **entire model** (cross-field logic)                 |\n",
    "| `@field_serializer`                  | Custom **serialization logic** for a field                        |\n",
    "| `@model_serializer`                  | Custom **serialization** for the entire model                     |\n",
    "| `@computed_field`                    | Define **derived read-only fields**                               |\n",
    "| `@root_validator` (deprecated in v2) | Old way to validate models in v1 (replaced by `@model_validator`) |\n",
    "\n",
    "---\n",
    "\n",
    "### 🧠 Summary Table\n",
    "\n",
    "| Feature                      | `field_validator`   | `model_validator`              |\n",
    "| ---------------------------- | ------------------- | ------------------------------ |\n",
    "| Validates one field?         | ✅ Yes               | ❌                              |\n",
    "| Uses multiple fields?        | ❌                   | ✅ Yes                          |\n",
    "| Transform values?            | ✅ Yes               | ✅ Yes                          |\n",
    "| Before parsing?              | ✅ (`mode='before'`) | ✅ (`mode='before'`)            |\n",
    "| After parsing?               | ✅ (`mode='after'`)  | ✅ (`mode='after'`)             |\n",
    "| Replaces `@validator` in v1? | ✅ Yes               | ✅ (replaces `@root_validator`) |\n",
    "\n",
    "---\n",
    "\n",
    "### 🚨 Notes:\n",
    "\n",
    "* Use `mode='before'` to validate **raw input** (before parsing/coercion).\n",
    "* Use `mode='after'` to validate **parsed values** (after type enforcement).\n",
    "* You must return the value (`field_validator`) or model (`model_validator`).\n",
    "\n",
    "---\n",
    "\n",
    "Let me know if you want:\n",
    "\n",
    "* A cheatsheet of **all decorators in Pydantic v2**\n",
    "* Examples of combining `Annotated` with `Field` and `field_validator`\n",
    "* How these work with **FastAPI** or **custom error messages**\n"
   ]
  },
  {
   "cell_type": "markdown",
   "id": "2eb261e0",
   "metadata": {},
   "source": [
    "## What is computed field?"
   ]
  },
  {
   "cell_type": "markdown",
   "id": "8ceb4570",
   "metadata": {},
   "source": [
    "Great choice, Sainadh! In **Pydantic v2**, a `@computed_field` is used to **define a read-only, derived field** — one that **is not passed during model creation**, but is **computed from other fields**.\n",
    "\n",
    "---\n",
    "\n",
    "### 🔹 What is a `@computed_field`?\n",
    "\n",
    "It’s like a **property** that gets **included in `.model_dump()` and `.json()`**, and can even show up in OpenAPI docs (if used with FastAPI).\n",
    "\n",
    "---\n",
    "\n",
    "### ✅ Use Case\n",
    "\n",
    "* Calculate `full_name` from `first_name + last_name`\n",
    "* Compute `total_price = quantity * unit_price`\n",
    "* Convert `datetime` into a `formatted_str`\n",
    "\n",
    "---\n",
    "\n",
    "### ✅ Syntax\n",
    "\n",
    "```python\n",
    "from pydantic import BaseModel, computed_field\n",
    "\n",
    "class Model(BaseModel):\n",
    "    ...\n",
    "\n",
    "    @computed_field\n",
    "    @property\n",
    "    def field_name(self) -> ReturnType:\n",
    "        return ...\n",
    "```\n",
    "\n",
    "> You must annotate the return type. Otherwise, Pydantic will raise an error.\n",
    "\n",
    "---\n",
    "\n",
    "### 🧪 Example: Full Name from First & Last\n",
    "\n",
    "```python\n",
    "from pydantic import BaseModel, computed_field\n",
    "\n",
    "class Person(BaseModel):\n",
    "    first_name: str\n",
    "    last_name: str\n",
    "\n",
    "    @computed_field\n",
    "    @property\n",
    "    def full_name(self) -> str:\n",
    "        return f\"{self.first_name} {self.last_name}\"\n",
    "```\n",
    "\n",
    "#### Usage:\n",
    "\n",
    "```python\n",
    "p = Person(first_name=\"Sainadh\", last_name=\"Bahadursha\")\n",
    "print(p.full_name)  # Sainadh Bahadursha\n",
    "print(p.model_dump())  # includes full_name!\n",
    "```\n",
    "\n",
    "---\n",
    "\n",
    "### 🧪 Example: Total Cost\n",
    "\n",
    "```python\n",
    "class Item(BaseModel):\n",
    "    name: str\n",
    "    unit_price: float\n",
    "    quantity: int\n",
    "\n",
    "    @computed_field\n",
    "    @property\n",
    "    def total(self) -> float:\n",
    "        return self.unit_price * self.quantity\n",
    "```\n",
    "\n",
    "---\n",
    "\n",
    "### 🧠 Key Rules\n",
    "\n",
    "| Rule                       | Explanation                            |\n",
    "| -------------------------- | -------------------------------------- |\n",
    "| Must return annotated type | Required: `-> str`, `-> float`, etc.   |\n",
    "| Must be a `@property`      | It's always accessed like an attribute |\n",
    "| Included in `model_dump()` | Even though it’s not part of input     |\n",
    "| Read-only                  | Cannot be passed during model creation |\n",
    "\n",
    "---\n",
    "\n",
    "### ⚠️ Cannot assign it!\n",
    "\n",
    "```python\n",
    "p = Person(first_name=\"Sainadh\", last_name=\"Bahadursha\", full_name=\"Wrong\")  # ❌ Error\n",
    "```\n",
    "\n",
    "It’s **computed only**, not assignable.\n",
    "\n",
    "---\n",
    "\n",
    "### ✅ Summary\n",
    "\n",
    "| Feature                      | `@computed_field` |\n",
    "| ---------------------------- | ----------------- |\n",
    "| Read-only field?             | ✅ Yes             |\n",
    "| Included in `.model_dump()`? | ✅ Yes             |\n",
    "| Accept user input?           | ❌ No              |\n",
    "| Used for?                    | Derived fields    |\n",
    "| Pydantic v2 only?            | ✅ Yes (new in v2) |\n",
    "\n",
    "---\n",
    "\n",
    "Let me know if you want examples of `computed_field` used with `datetime`, nested models, or how to make it show in **FastAPI** Swagger docs!\n"
   ]
  },
  {
   "cell_type": "markdown",
   "id": "2f208ea7",
   "metadata": {},
   "source": [
    "In **Pydantic v2**, serialization is more customizable with two new features:\n",
    "\n",
    "#### ✅ `@field_serializer`\n",
    "\n",
    "Used to **customize how a single field** is serialized (i.e., converted to JSON or dict).\n",
    "\n",
    "#### ✅ `@model_serializer`\n",
    "\n",
    "Used to **customize how the entire model** is serialized.\n",
    "\n",
    "These are useful when you want to:\n",
    "\n",
    "* Format fields in a specific way for output\n",
    "* Hide or transform data when exporting\n",
    "* Implement custom JSON encodings\n",
    "\n",
    "---\n",
    "\n",
    "### 🔹 1. `@field_serializer` — Per Field Customization\n",
    "\n",
    "#### 🧠 Purpose:\n",
    "\n",
    "Customize how **a particular field** is serialized (e.g., hiding, masking, formatting dates, etc.)\n",
    "\n",
    "#### ✅ Example: Masking an email field\n",
    "\n",
    "```python\n",
    "from pydantic import BaseModel, Field, field_serializer\n",
    "\n",
    "class User(BaseModel):\n",
    "    username: str\n",
    "    email: str\n",
    "\n",
    "    @field_serializer('email')\n",
    "    def mask_email(self, email):\n",
    "        user, domain = email.split('@')\n",
    "        return f\"{user[0]}***@{domain}\"\n",
    "\n",
    "u = User(username=\"alice\", email=\"alice@example.com\")\n",
    "print(u.model_dump())   # {'username': 'alice', 'email': 'a***@example.com'}\n",
    "```\n",
    "\n",
    "---\n",
    "\n",
    "### 🔹 2. `@model_serializer` — Full Model Customization\n",
    "\n",
    "#### 🧠 Purpose:\n",
    "\n",
    "Customize how the **entire model** is converted to a dictionary or JSON.\n",
    "\n",
    "#### ✅ Example: Convert model to camelCase keys\n",
    "\n",
    "```python\n",
    "from pydantic import BaseModel, model_serializer\n",
    "\n",
    "def to_camel(string: str) -> str:\n",
    "    parts = string.split('_')\n",
    "    return parts[0] + ''.join(word.capitalize() for word in parts[1:])\n",
    "\n",
    "class Product(BaseModel):\n",
    "    product_name: str\n",
    "    in_stock: bool\n",
    "\n",
    "    @model_serializer(mode='wrap')\n",
    "    def camel_case_serializer(self, handler):\n",
    "        data = handler(self)\n",
    "        return {to_camel(k): v for k, v in data.items()}\n",
    "\n",
    "p = Product(product_name=\"Phone\", in_stock=True)\n",
    "print(p.model_dump())  # {'productName': 'Phone', 'inStock': True}\n",
    "```\n",
    "\n",
    "---\n",
    "\n",
    "#### 🔄 Comparison Table\n",
    "\n",
    "| Feature       | `@field_serializer`             | `@model_serializer`                  |\n",
    "| ------------- | ------------------------------- | ------------------------------------ |\n",
    "| Scope         | Single field                    | Entire model                         |\n",
    "| Use Case      | Formatting, masking, converting | Renaming keys, flattening, reshaping |\n",
    "| Mode          | Default is `'plain'`            | `'plain'` or `'wrap'`                |\n",
    "| Output Format | Controls just one field         | Controls the full dict/JSON          |\n",
    "\n",
    "---\n",
    "\n",
    "#### 🧪 Bonus: Combine Both\n",
    "\n",
    "```python\n",
    "class Employee(BaseModel):\n",
    "    first_name: str\n",
    "    last_name: str\n",
    "    salary: float\n",
    "\n",
    "    @field_serializer(\"salary\")\n",
    "    def mask_salary(self, value):\n",
    "        return \"Confidential\"\n",
    "\n",
    "    @model_serializer(mode=\"wrap\")\n",
    "    def serialize_full_name(self, handler):\n",
    "        data = handler(self)\n",
    "        data[\"full_name\"] = f\"{self.first_name} {self.last_name}\"\n",
    "        del data[\"first_name\"]\n",
    "        del data[\"last_name\"]\n",
    "        return data\n",
    "\n",
    "e = Employee(first_name=\"John\", last_name=\"Doe\", salary=100000)\n",
    "print(e.model_dump())\n",
    "# {'salary': 'Confidential', 'full_name': 'John Doe'}\n",
    "```\n",
    "\n",
    "---\n",
    "\n",
    "#### 🔚 Summary\n",
    "\n",
    "| Decorator           | Purpose                                | Use When…                            |\n",
    "| ------------------- | -------------------------------------- | ------------------------------------ |\n",
    "| `@field_serializer` | You want to modify just **one field**  | e.g., mask email, format timestamp   |\n",
    "| `@model_serializer` | You want to modify the **whole model** | e.g., rename keys, flatten structure |\n",
    "\n",
    "---\n",
    "\n",
    "Let me know if you want real-world use cases like hiding sensitive fields in API responses or converting nested models to flat ones.\n"
   ]
  }
 ],
 "metadata": {
  "kernelspec": {
   "display_name": "agentic_2_base",
   "language": "python",
   "name": "python3"
  },
  "language_info": {
   "codemirror_mode": {
    "name": "ipython",
    "version": 3
   },
   "file_extension": ".py",
   "mimetype": "text/x-python",
   "name": "python",
   "nbconvert_exporter": "python",
   "pygments_lexer": "ipython3",
   "version": "3.11.13"
  }
 },
 "nbformat": 4,
 "nbformat_minor": 5
}
